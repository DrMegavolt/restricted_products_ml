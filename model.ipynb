{
 "cells": [
  {
   "cell_type": "code",
   "execution_count": 1,
   "metadata": {},
   "outputs": [
    {
     "name": "stdout",
     "output_type": "stream",
     "text": [
      "importing Jupyter notebook from bertkeras.ipynb\n",
      "importing Jupyter notebook from BERTDictionary.ipynb\n",
      "[NEL]\n",
      "nubby\n",
      "transvestite\n",
      "lube\n",
      "lubricant\n",
      "vibrate\n",
      "suction\n",
      "dildo\n",
      "vibrator\n",
      "trembler\n",
      "pulsator\n",
      "lockaid\n",
      "buzzer\n",
      "penetrator\n",
      "kegel\n",
      "stimulator\n",
      "masturbator\n",
      "lasso\n",
      "bondage\n",
      "pasties\n",
      "strapon\n",
      "didlo\n",
      "dido\n",
      "dilo\n",
      "dlo\n",
      "gadget\n",
      "bdsm\n",
      "sadism\n",
      "masochism\n",
      "squirt\n",
      "clitor\n",
      "pelvic\n",
      "vagina\n",
      "anus\n",
      "rectum\n",
      "scrotum\n",
      "perineum\n",
      "boob\n"
     ]
    }
   ],
   "source": [
    "import import_ipynb\n",
    "import tensorflow as tf\n",
    "import pandas as pd\n",
    "import tensorflow_hub as hub\n",
    "import os\n",
    "import re\n",
    "from sklearn.metrics import confusion_matrix, accuracy_score\n",
    "import numpy as np\n",
    "from bert.tokenization import FullTokenizer\n",
    "from tqdm import tqdm_notebook\n",
    "from tensorflow.keras import backend as K\n",
    "from sklearn.model_selection import train_test_split\n",
    "import bertkeras as bk\n",
    "import BERTDictionary as bd\n",
    "import matplotlib.pyplot as plt\n",
    "import seaborn as sns\n",
    "from matplotlib import pyplot\n",
    "from unidecode import unidecode\n",
    "from scipy.stats import norm, boxcox\n",
    "pd.options.display.max_colwidth = 1000\n",
    "sns.set()"
   ]
  },
  {
   "cell_type": "code",
   "execution_count": 2,
   "metadata": {},
   "outputs": [],
   "source": [
    "df= pd.read_csv('../dataset/training.csv', index_col='ID')\n",
    "labels = df['label']\n",
    "drop_columns = [ '﻿ASIN','parent_asin','Product Group Description', \n",
    "                      'product_name', 'brand_code', 'brand_name']\n",
    "df = df.drop(columns=drop_columns)\n",
    "df = df.fillna(\"\")\n",
    "\n",
    "cols = df.columns.tolist()\n",
    "cols.remove('label')\n",
    "text = df[cols].apply(' '.join, axis=1)\n"
   ]
  },
  {
   "cell_type": "code",
   "execution_count": 3,
   "metadata": {},
   "outputs": [],
   "source": [
    "html_re = re.compile('<[^>]*>')\n",
    "garbage_re = re.compile('[^0-9a-z,\\'\\.]+') \n",
    "weight_re = re.compile('[\\d.]+[ ]?(kg+|lbs+|g+|lb+)')\n",
    "garbage_threshhold = 0.0003\n",
    "# check if it actually helps, tests https://regex101.com/r/xwnV5l/1\n",
    "size_re = re.compile('[\\d.]+([ cminch]+)?[ x*]+[\\d.]+([ cminch]+)?([ x*]+[\\d.]+)?([ cminch]+)')\n",
    "\n",
    "def html_cleanup(html):\n",
    "    return re.sub(html_re, ' ', html)\n",
    "def lower_case(txt):\n",
    "    return txt.lower()\n",
    "def split_by_garbage(txt):\n",
    "    return re.sub(garbage_re, ' ', txt)\n",
    "def decode_chars(txt):\n",
    "    garbage_fiteted = re.sub(garbage_re, '', txt)\n",
    "    decoded_txt = unidecode(txt)\n",
    "    return decoded_txt if len(garbage_fiteted)/len(txt) < garbage_threshhold \\\n",
    "        else '[NEL] ' + decoded_txt \n",
    "\n",
    "def cleanup_size(txt):\n",
    "    return re.sub(size_re, ' ', txt).replace('size:', '')\n",
    "\n",
    "def cleanup_weight(txt):\n",
    "    return re.sub(weight_re, ' ', txt)\n",
    "    \n",
    "def cleanup(text):\n",
    "    res = text.apply(html_cleanup).apply(decode_chars).apply(lower_case) \\\n",
    "              .apply(split_by_garbage).apply(cleanup_size) \\\n",
    "              .apply(cleanup_weight)\n",
    "    return res"
   ]
  },
  {
   "cell_type": "code",
   "execution_count": 4,
   "metadata": {},
   "outputs": [],
   "source": [
    "texts = cleanup(text)"
   ]
  },
  {
   "cell_type": "code",
   "execution_count": 5,
   "metadata": {},
   "outputs": [],
   "source": [
    "df = pd.DataFrame( {\"texts\" :texts, \"labels\": labels} )"
   ]
  },
  {
   "cell_type": "code",
   "execution_count": 6,
   "metadata": {},
   "outputs": [],
   "source": [
    "# there is error in training dataset\n",
    "df.loc[196,'labels'] =1\n"
   ]
  },
  {
   "cell_type": "code",
   "execution_count": 7,
   "metadata": {},
   "outputs": [],
   "source": [
    "txt_train, txt_test, lbl_train, lbl_test = train_test_split(\n",
    "    texts, labels, test_size=0.0002, random_state=42)"
   ]
  },
  {
   "cell_type": "code",
   "execution_count": 8,
   "metadata": {},
   "outputs": [
    {
     "data": {
      "text/plain": [
       "ID\n",
       "398     0\n",
       "5823    0\n",
       "5943    0\n",
       "3822    1\n",
       "6054    0\n",
       "Name: label, dtype: int64"
      ]
     },
     "execution_count": 8,
     "metadata": {},
     "output_type": "execute_result"
    }
   ],
   "source": [
    "lbl_train.tail()"
   ]
  },
  {
   "cell_type": "code",
   "execution_count": 9,
   "metadata": {},
   "outputs": [
    {
     "name": "stdout",
     "output_type": "stream",
     "text": [
      "['[NEL]' 'porn' 'nubby' 'lesbian']\n",
      "['gay' 'transvestite' 'transgender' 'lube']\n",
      "['lubricant' 'sex' 'intercourse' 'fuck']\n",
      "['vibrate' 'suction' 'lick' 'suck']\n",
      "['gag' 'dildo' 'vibrator' 'condom']\n",
      "['anal' 'plug' 'snake' 'trembler']\n",
      "['pulsator' 'lockaid' 'strap' 'buzzer']\n",
      "['rabbit' 'egg' 'penetrator']\n",
      "['dual' 'kegel' 'ben']\n",
      "['wa' 'stimulator' 'masturbator']\n",
      "['lasso' 'bondage' 'cuff']\n",
      "['pasties' 'strapon' 'didlo']\n",
      "['dido' 'dilo' 'dlo']\n",
      "['device' 'gadget' 'pleasure']\n",
      "['intimate' 'last' 'aroused']\n",
      "['climax' 'enjoyment' 'orgasm']\n",
      "['bdsm' 'sadism' 'submission']\n",
      "['masochism' 'realistic' 'stimulate']\n",
      "['squirt' 'virginity' 'dick']\n",
      "['cock' 'penis' 'spot']\n",
      "['butt' 'ass' 'nipple']\n",
      "['clitor' 'pelvic' 'vagina']\n",
      "['pussy' 'anus' 'prostate']\n",
      "['rectum' 'ventral' 'scrotum']\n",
      "['tongue' 'perineum' 'boob']\n"
     ]
    }
   ],
   "source": [
    "k=10000\n",
    "arr = np.array_split(bd.adult_toys_vocab, 25)\n",
    "for a in arr :\n",
    "    print(a)\n",
    "    w = ' '.join(a)\n",
    "    txt_train = txt_train.append(pd.Series([w], index=[k]))\n",
    "    lbl_train = lbl_train.append(pd.Series([1], index=[k]))\n",
    "    k = k+1\n"
   ]
  },
  {
   "cell_type": "code",
   "execution_count": 10,
   "metadata": {},
   "outputs": [
    {
     "name": "stdout",
     "output_type": "stream",
     "text": [
      "using vocab file from vocab.txt\n"
     ]
    }
   ],
   "source": [
    "tokenizer = bk.create_tokenizer_from_hub_module(vocab_file='vocab.txt')\n",
    "max_seq_length = 512"
   ]
  },
  {
   "cell_type": "code",
   "execution_count": 11,
   "metadata": {},
   "outputs": [],
   "source": [
    "# Convert data to InputExample format\n",
    "train_examples = bk.convert_text_to_examples(txt_train, lbl_train.values)\n",
    "test_examples = bk.convert_text_to_examples(txt_test, lbl_test.values)"
   ]
  },
  {
   "cell_type": "code",
   "execution_count": 12,
   "metadata": {},
   "outputs": [
    {
     "data": {
      "application/vnd.jupyter.widget-view+json": {
       "model_id": "ffceab396a5b42298c1cebfdaf68b844",
       "version_major": 2,
       "version_minor": 0
      },
      "text/plain": [
       "HBox(children=(IntProgress(value=0, description='Converting examples to features', max=5509, style=ProgressSty…"
      ]
     },
     "metadata": {},
     "output_type": "display_data"
    },
    {
     "name": "stdout",
     "output_type": "stream",
     "text": [
      "\n"
     ]
    },
    {
     "data": {
      "application/vnd.jupyter.widget-view+json": {
       "model_id": "6e5f7bea8ed947a9b6b2af2a51e4ba05",
       "version_major": 2,
       "version_minor": 0
      },
      "text/plain": [
       "HBox(children=(IntProgress(value=0, description='Converting examples to features', max=2, style=ProgressStyle(…"
      ]
     },
     "metadata": {},
     "output_type": "display_data"
    },
    {
     "name": "stdout",
     "output_type": "stream",
     "text": [
      "\n"
     ]
    }
   ],
   "source": [
    "\n",
    "# Convert to features\n",
    "(train_input_ids, train_input_masks, train_segment_ids, train_labels \n",
    ") = bk.convert_examples_to_features(tokenizer, train_examples, max_seq_length=max_seq_length)\n",
    "(test_input_ids, test_input_masks, test_segment_ids, test_labels\n",
    ") = bk.convert_examples_to_features(tokenizer, test_examples, max_seq_length=max_seq_length)"
   ]
  },
  {
   "cell_type": "code",
   "execution_count": 13,
   "metadata": {},
   "outputs": [
    {
     "data": {
      "text/plain": [
       "{'guid': None,\n",
       " 'text_a': \" nel lqqbstorage celtic decor,grommet window curtain,head of legend dragon with ethnic african ornate effects on grunge backdrop myth celtic design, noise reducing curtain,multi multifunction 1.curtains is delicately designed, allowing you to decorate your windows with great styles,protect your furniture, floors and walls from the sun. 2.featuring vibrant colored pattern, this eye soothing curtain can match interiors of any room. 3.soft and durable window curtains has a very soft hand feel and drapery, high quality material, durable 10 years. 4.privacy and relax your family and friends can enjoy movie nights or sports game without worrying about outside light and noise. 5.energy efficient innovative triple weave construction insulate your sunny or frozen window, give your air conditioner and energy bill a break. 6.reduce noise densely woven fabric acts as an additional sound barrier,it reduces outside noises and create a quiet and peaceful environment. widely use for perfect for window in living room, bedroom, dining room, bathroom and kitchen. color may differ slightly from photos due to different monitor settings in computer monitors display or mobile phone, filming angles, lights, sunshine ect. product sizes that measured by hand lead to the difference between about  due to everyone's measurement technique. after sale guarantee we offer 100 risk free and satisfactory after sales service. if you have any problem, support 30 days refund without reason hot sale size w63 x l ,measurements are the total of the 2 curtain panels together, the size of each panel is w31.5 x l72 ,each panel has 8 elegant metal grommets, inner diameter of grommet is 1.6 , fit well with standard or decorative curtain rods polyester material 100 polyester. material soft and smooth fabric, sturdy hemming, durable and long lasting, no loose threads. we have 10 sizes and thousands of colors for you to chose,your own picture of customization is also acceptable. meet various needs and purposes of different people. multiple functions these soft and durable curtains are made by innovative technology durable yarn, high performance on room darkening, thermal insulated, noise reducing, energy saving efficiency and privacy protection unique home decor these customized curtain panels will decorate your windows and rooms with new great effect, suits for contemporary, traditional, vintage rustic, victorian home styles. let these breatheable and airy blackout curtains add amazing look to host and guest best service 10 years quality warranty and 30 days money back guarantee for return policy. machine washable for easy care, use only non chlorine bleach when needed, tumble dry low and warm iron as needed. \",\n",
       " 'text_b': None,\n",
       " 'label': 0}"
      ]
     },
     "execution_count": 13,
     "metadata": {},
     "output_type": "execute_result"
    }
   ],
   "source": [
    "train_examples[0].__dict__"
   ]
  },
  {
   "cell_type": "code",
   "execution_count": null,
   "metadata": {},
   "outputs": [],
   "source": [
    "\n"
   ]
  },
  {
   "cell_type": "code",
   "execution_count": 14,
   "metadata": {},
   "outputs": [],
   "source": [
    "def build_model(max_seq_length): \n",
    "    in_id = tf.keras.layers.Input(shape=(max_seq_length,), name=\"input_ids\")\n",
    "    in_mask = tf.keras.layers.Input(shape=(max_seq_length,), name=\"input_masks\")\n",
    "    in_segment = tf.keras.layers.Input(shape=(max_seq_length,), name=\"segment_ids\")\n",
    "    bert_inputs = [in_id, in_mask, in_segment]\n",
    "    def auc(y_true, y_pred):\n",
    "        auc = tf.metrics.auc(y_true, y_pred)[1]\n",
    "#     K.get_session().run(tf.local_variables_initializer())\n",
    "        return auc\n",
    "    bert_output = bk.BertLayer(n_fine_tune_layers=2, pooling=\"first\")(bert_inputs)\n",
    "    dense = tf.keras.layers.Dense(256, activation='relu')(bert_output)\n",
    "    pred = tf.keras.layers.Dense(1, activation='sigmoid')(dense)\n",
    "    \n",
    "    model = tf.keras.models.Model(inputs=bert_inputs, outputs=pred)\n",
    "    model.compile(loss='binary_crossentropy', optimizer='adam', metrics=[auc])\n",
    "    model.summary()\n",
    "    \n",
    "    return model"
   ]
  },
  {
   "cell_type": "code",
   "execution_count": 15,
   "metadata": {},
   "outputs": [],
   "source": [
    "ACCURACY_THRESHOLD = 0.99\n",
    "LOSS_THRESHOLD = 0.015\n",
    "class myCallback(tf.keras.callbacks.Callback): \n",
    "    def on_batch_end(self, batch, logs): \n",
    "        if(logs.get('auc') > ACCURACY_THRESHOLD and logs.get('loss')<LOSS_THRESHOLD):   \n",
    "          print(\"\\nReached %2.2f%% accuracy, so stopping training!!\" %(ACCURACY_THRESHOLD*100)) \n",
    "          self.model.stop_training = True"
   ]
  },
  {
   "cell_type": "code",
   "execution_count": 16,
   "metadata": {},
   "outputs": [
    {
     "name": "stdout",
     "output_type": "stream",
     "text": [
      "__________________________________________________________________________________________________\n",
      "Layer (type)                    Output Shape         Param #     Connected to                     \n",
      "==================================================================================================\n",
      "input_ids (InputLayer)          (None, 512)          0                                            \n",
      "__________________________________________________________________________________________________\n",
      "input_masks (InputLayer)        (None, 512)          0                                            \n",
      "__________________________________________________________________________________________________\n",
      "segment_ids (InputLayer)        (None, 512)          0                                            \n",
      "__________________________________________________________________________________________________\n",
      "bert_layer (BertLayer)          (None, 768)          110104890   input_ids[0][0]                  \n",
      "                                                                 input_masks[0][0]                \n",
      "                                                                 segment_ids[0][0]                \n",
      "__________________________________________________________________________________________________\n",
      "dense (Dense)                   (None, 256)          196864      bert_layer[0][0]                 \n",
      "__________________________________________________________________________________________________\n",
      "dense_1 (Dense)                 (None, 1)            257         dense[0][0]                      \n",
      "==================================================================================================\n",
      "Total params: 110,302,011\n",
      "Trainable params: 14,963,457\n",
      "Non-trainable params: 95,338,554\n",
      "__________________________________________________________________________________________________\n"
     ]
    }
   ],
   "source": [
    "model = build_model(max_seq_length)"
   ]
  },
  {
   "cell_type": "code",
   "execution_count": 17,
   "metadata": {},
   "outputs": [
    {
     "name": "stdout",
     "output_type": "stream",
     "text": [
      "Train on 5509 samples, validate on 2 samples\n",
      "Epoch 1/8\n",
      "5509/5509 [==============================] - 271s 49ms/sample - loss: 0.1976 - auc: 0.9356 - val_loss: 1.6376e-04 - val_auc: 0.9749\n",
      "Epoch 2/8\n",
      "5509/5509 [==============================] - 268s 49ms/sample - loss: 0.0837 - auc: 0.9809 - val_loss: 0.0105 - val_auc: 0.9845\n",
      "Epoch 3/8\n",
      "5509/5509 [==============================] - 268s 49ms/sample - loss: 0.1680 - auc: 0.9846 - val_loss: 0.0014 - val_auc: 0.9834\n",
      "Epoch 4/8\n",
      "5509/5509 [==============================] - 268s 49ms/sample - loss: 0.1548 - auc: 0.9829 - val_loss: 0.0045 - val_auc: 0.9829\n",
      "Epoch 5/8\n",
      "5509/5509 [==============================] - 268s 49ms/sample - loss: 0.2079 - auc: 0.9835 - val_loss: 0.3366 - val_auc: 0.9811\n",
      "Epoch 6/8\n",
      "5509/5509 [==============================] - 268s 49ms/sample - loss: 0.0937 - auc: 0.9817 - val_loss: 0.0020 - val_auc: 0.9831\n",
      "Epoch 7/8\n",
      "5509/5509 [==============================] - 268s 49ms/sample - loss: 0.0418 - auc: 0.9846 - val_loss: 0.0050 - val_auc: 0.9856\n",
      "Epoch 8/8\n",
      "5509/5509 [==============================] - 268s 49ms/sample - loss: 0.0338 - auc: 0.9866 - val_loss: 9.8920e-04 - val_auc: 0.9876\n"
     ]
    },
    {
     "data": {
      "text/plain": [
       "<tensorflow.python.keras.callbacks.History at 0x7fb77d01d438>"
      ]
     },
     "execution_count": 17,
     "metadata": {},
     "output_type": "execute_result"
    }
   ],
   "source": [
    "# Initialize session\n",
    "batch_size = 24\n",
    "sess = tf.Session()\n",
    "# Instantiate variables\n",
    "bk.initialize_vars(sess)\n",
    "tb = tf.compat.v1.keras.callbacks.TensorBoard(log_dir='./logs', histogram_freq=0, batch_size=batch_size, write_graph=True, write_grads=False, write_images=False, embeddings_freq=0, embeddings_layer_names=None, embeddings_metadata=None, embeddings_data=None, update_freq='batch')\n",
    "stop98 = myCallback()\n",
    "model.fit(\n",
    "    [train_input_ids, train_input_masks, train_segment_ids], \n",
    "    train_labels,\n",
    "    validation_data=([test_input_ids, test_input_masks, test_segment_ids], test_labels),\n",
    "    callbacks = [ tb, stop98], #, \n",
    "    epochs=8,\n",
    "    batch_size=batch_size\n",
    ")"
   ]
  },
  {
   "cell_type": "code",
   "execution_count": 18,
   "metadata": {},
   "outputs": [],
   "source": [
    "model.save('restricted.h5')"
   ]
  },
  {
   "cell_type": "code",
   "execution_count": 19,
   "metadata": {},
   "outputs": [],
   "source": [
    "df_subm= pd.read_csv('../dataset/public_test_features.csv', index_col='ID')\n",
    "df_subm = df_subm.drop(columns=drop_columns)\n",
    "df_subm = df_subm.fillna(\"\")\n",
    "\n",
    "text_subm = df_subm[cols].apply(' '.join, axis=1)\n"
   ]
  },
  {
   "cell_type": "code",
   "execution_count": 20,
   "metadata": {},
   "outputs": [],
   "source": [
    "texts_subm = cleanup(text_subm)"
   ]
  },
  {
   "cell_type": "code",
   "execution_count": 21,
   "metadata": {},
   "outputs": [],
   "source": [
    "subm_examples = bk.convert_text_to_examples(texts_subm, [0]*len(texts_subm))"
   ]
  },
  {
   "cell_type": "code",
   "execution_count": null,
   "metadata": {},
   "outputs": [],
   "source": []
  },
  {
   "cell_type": "code",
   "execution_count": null,
   "metadata": {},
   "outputs": [],
   "source": []
  },
  {
   "cell_type": "code",
   "execution_count": 22,
   "metadata": {},
   "outputs": [
    {
     "data": {
      "application/vnd.jupyter.widget-view+json": {
       "model_id": "c4c9b03ea95d4dde8a5faa7d598eed13",
       "version_major": 2,
       "version_minor": 0
      },
      "text/plain": [
       "HBox(children=(IntProgress(value=0, description='Converting examples to features', max=2352, style=ProgressSty…"
      ]
     },
     "metadata": {},
     "output_type": "display_data"
    },
    {
     "name": "stdout",
     "output_type": "stream",
     "text": [
      "\n"
     ]
    }
   ],
   "source": [
    "(subm_input_ids, subm_input_masks, subm_segment_ids, subm_labels\n",
    ") = bk.convert_examples_to_features(tokenizer, subm_examples, max_seq_length=max_seq_length)"
   ]
  },
  {
   "cell_type": "code",
   "execution_count": 23,
   "metadata": {},
   "outputs": [
    {
     "data": {
      "text/plain": [
       "' nel vintage mama e hija amor corazon cadena collar mujeres dia de la madre regalo especificaciones disea o de mama e hija, colgante con forma de coraza3n. hecho de material de aleacia3n de alta calidad con mano de obra fina. regalo perfecto para el daa de la madre u otras ocasiones. tipo collar ganero mujeres tema estilo vintage material aleacia3n de ocasiones fiesta, daa de la madre, regalo, vida diaria, etc. caracterasticas colgante de coraza3n, patra3n de letras, regalo para madre longitud de la cadena  19,69 pulgadas 1,97 pulgadas aprox. notas debido a la diferencia de configuracia3n de la luz y la pantalla, el color del artaculo puede ser ligeramente diferente al de las ima genes. puede haber una ligera diferencia de dimensia3n debido a las diferentes medidas manuales. el paquete incluye 1 x collar item specifics fino o de moda moda tipo de articulo collares nombre de la marca bluelans estilo trendy forma patron carta tipo de cadena cadena de eslabones tamano colgante 5cm compatibilidad totalmente compatible genero mujeres se puede personalizar no material metal tipo de metales aleacion de zinc tipo de collar collares pendientes numero de modelo 31147 fino o de moda moda tipo de articulo collares nombre de la marca bluelans estilo trendy forma patron carta '"
      ]
     },
     "execution_count": 23,
     "metadata": {},
     "output_type": "execute_result"
    }
   ],
   "source": [
    "subm_examples[0].text_a"
   ]
  },
  {
   "cell_type": "code",
   "execution_count": 24,
   "metadata": {},
   "outputs": [],
   "source": [
    "testCount = len(subm_input_ids)\n",
    "def pickMax(arr):\n",
    "  m = max(arr)\n",
    "  return [x for x in arr]\n",
    "\n",
    "threshold = 0.4\n",
    "def tolabel(arr):\n",
    "  # return int(max(arr)>=threshold)\n",
    "  return max(arr)\n",
    "    \n"
   ]
  },
  {
   "cell_type": "code",
   "execution_count": 25,
   "metadata": {},
   "outputs": [],
   "source": [
    "predictions = model.predict([subm_input_ids[0:testCount], \n",
    "                                subm_input_masks[0:testCount], \n",
    "                                subm_segment_ids[0:testCount]])"
   ]
  },
  {
   "cell_type": "code",
   "execution_count": 26,
   "metadata": {},
   "outputs": [],
   "source": [
    "pred = [ tolabel(p) for p in predictions]"
   ]
  },
  {
   "cell_type": "code",
   "execution_count": 27,
   "metadata": {},
   "outputs": [],
   "source": [
    "results = pd.DataFrame({\"text\":texts_subm, \"label\":pred})"
   ]
  },
  {
   "cell_type": "code",
   "execution_count": 28,
   "metadata": {},
   "outputs": [
    {
     "name": "stderr",
     "output_type": "stream",
     "text": [
      "/home/drmegavolt/miniconda3/envs/restricted_products/lib/python3.7/site-packages/ipykernel_launcher.py:1: UserWarning: Boolean Series key will be reindexed to match DataFrame index.\n",
      "  \"\"\"Entry point for launching an IPython kernel.\n"
     ]
    },
    {
     "data": {
      "text/html": [
       "<div>\n",
       "<style scoped>\n",
       "    .dataframe tbody tr th:only-of-type {\n",
       "        vertical-align: middle;\n",
       "    }\n",
       "\n",
       "    .dataframe tbody tr th {\n",
       "        vertical-align: top;\n",
       "    }\n",
       "\n",
       "    .dataframe thead th {\n",
       "        text-align: right;\n",
       "    }\n",
       "</style>\n",
       "<table border=\"1\" class=\"dataframe\">\n",
       "  <thead>\n",
       "    <tr style=\"text-align: right;\">\n",
       "      <th></th>\n",
       "      <th>text</th>\n",
       "      <th>label</th>\n",
       "    </tr>\n",
       "    <tr>\n",
       "      <th>ID</th>\n",
       "      <th></th>\n",
       "      <th></th>\n",
       "    </tr>\n",
       "  </thead>\n",
       "  <tbody>\n",
       "    <tr>\n",
       "      <th>7099</th>\n",
       "      <td>nel wsi realistic skin dildo beginner perfect plug silicone sex toys anal masturbators suitable dildos strength suction cup penis for pure pleasure orgasms you will find the silicone dildo is so real when you get it. soft solid silicone material makes it feel so great, so real in hand. huge penis, superior in size, perfectly stimulate female g spot. realistic dildo is designed with strong suction cup, which allows you to release your hands, and reach orgasm easily. our suction cup dildo is made of medical grade silicone material, non toxic, odorless waterproof material assure that you can use it in wet environment. description size  weight   material pvc package list 1pc realistic dildo privacy guaranteed your privacy is the most importance to us. it is packed by air column courier bags, non transparent, can't see the content. so with our discreet packaging you can shop in confidence, the only person who knows what's inside the package is you note 1.clean the product before and af...</td>\n",
       "      <td>0.328960</td>\n",
       "    </tr>\n",
       "    <tr>\n",
       "      <th>3575</th>\n",
       "      <td>nel hismith premium sex machine, standard hismith focus on manufacturing sex machine, we produce machine series and matched accessories.we choose the best long life and mute motor as the core of the machine,ensure the power of our products,30 n cm driving force,never stop when encounter resistance.our power supply can support wide voltage 110 250v ,power switch with precise dial. as your wish,the thrust depth can be changed through change the postion of the torsion bar.besides,you can change the masburation postion,by change the postion of support connector.the body of the machine are aluminium alloy material,with high density anodizing technology.every component is produced by precision high precision cnc,sla laser series machine,and mirageblack painted surfaces,bright in color and durable,surfaces look fresh as a new one after long time use.solid stainless chromium plated iron rod support strength is over  .working life  years with correct usage and cleansing maintenance. produc...</td>\n",
       "      <td>0.368746</td>\n",
       "    </tr>\n",
       "    <tr>\n",
       "      <th>3039</th>\n",
       "      <td>nel hismith premium sex machine, fucking machine with remote control, 8 silicone dildo including hismith focus on manufacturing sex machine, we produce machine series and matched accessories.we choose the best long life and mute motor as the core of the machine,ensure the power of our products,30 n cm driving force,never stop when encounter resistance.our power supply can support wide voltage 110 250v ,power switch with precise dial. as your wish,the thrust depth can be changed through change the postion of the torsion bar.besides,you can change the masburation postion,by change the postion of support connector.the body of the machine are aluminium alloy material,with high density anodizing technology.every component is produced by precision high precision cnc,sla laser series machine,and mirageblack painted surfaces,bright in color and durable,surfaces look fresh as a new one after long time use.solid stainless chromium plated iron rod support strength is over  .working life  yea...</td>\n",
       "      <td>0.073370</td>\n",
       "    </tr>\n",
       "    <tr>\n",
       "      <th>3639</th>\n",
       "      <td>nel baby camera monitors digital wireless optical night vision security camera detects infant sound voice vision touch movement audio activation plus lcd wifi microphone remote feed digital video monitor inalambrico monitor de video bebe child safety display top seller bargain great customer service price new discount product for sale side craftsmanship decor find decorator interior design limited this quality original infant optical is a compact video baby monitor that will give you a peace of mind no matter where you are in your house. designed with portability in mind, its slim and lightweight body frame makes it easy to monitor your baby even with an active lifestyle. equipped with a  hz digital wireless fhss communication link, the dxr 5 is 100 percent secure and provides superior sound and video clarity. the video monitor features a 2.4 inch super bright tft screen, which is powered by a rechargeable li on battery that allows hours of portable usage. boasting a 150 foot indo...</td>\n",
       "      <td>0.117966</td>\n",
       "    </tr>\n",
       "    <tr>\n",
       "      <th>4607</th>\n",
       "      <td>nel dadou blue pens double ended did lo amal male female dong pens dadou functions promotes healthy ro tate function head designed for ultimate pleasure and ro tate st mul ti n made with the highest quality material available easy to clean and store super stretchy and silky smooth to the touch ergonomically designed to perfectly rest on the ro tate make all of your aial fantasies come true tips 1. please allow slight measurement deviation for the data lean before and after each use recommended to use with lubricants ompatible with all lubricant types wash with toy cleaner or warm water. do not shy away from this great aial as it can be used by both men and women. the silky smooth texture helps glide the bitt plug right in. featur ing a re listic tip, you are guaranteed to hit all the right pleasure points. aial plug has nice size and comfortable shape, made of medical silicone, safty, nontoxic and odorless. apply to both beginners and advanced users for explosive g p r gasm and ai...</td>\n",
       "      <td>0.690154</td>\n",
       "    </tr>\n",
       "    <tr>\n",
       "      <th>1486</th>\n",
       "      <td>nel sexxxy wearable realistic strap on dildo silicone pu leather strapon dildo pants sexy belt for lesbian couple women flesh features 1 item type wearable realistic dildo 2 color flesh 3 length  dildo diameter  et weight   6 feature can be adsorbed and strop on strong suction cup please allow 0.3cm error due to manual measurement, thank you. flexible and adjustable the straps can be adjusted for various sizes. the back fits like a thong and the front has a small dildo that goes inserted into your vagina. soft silicone material the dildo is made of medical grade silicone and non toxic dildo, without odor, seamless and safe to use waterproof design it is easy to use and convenient to clean. double pleasure this double dildo strap on is great for the lesbian partner to enjoy giving as well as receiving at the same time.while using this strap on you will not only pleasure the partner but you will also pleasure yourself at the same time.</td>\n",
       "      <td>0.723305</td>\n",
       "    </tr>\n",
       "    <tr>\n",
       "      <th>6634</th>\n",
       "      <td>nel koungyun soft di dlos for beginner, snake with strong suction cup, lifilike snake for hands free material pvc strong suction cup total lenght app waterproof package includes 1 x pc</td>\n",
       "      <td>0.193182</td>\n",
       "    </tr>\n",
       "    <tr>\n",
       "      <th>6464</th>\n",
       "      <td>nel zrb silicone realistic penis panties wearable dildo for female lesbian transvestite women become a male adult sex toys material medical silicone color please refer to the picture weight   size s , m , l size table s waist circumference  , leg circumference 34cm, penis length 12cm, penis diameter 3.6cm. m waist circumference  , leg circumference 34cm, penis length 15cm, penis diameter 4cm. l waist circumference  , leg circumference 34cm, penis length 18cm, penis diameter 4cm. package contain panties x 1 if you have any requirements for the product, please do contact us in time, thanks the scrotum and penis parts of this product are solid. waist circumference range  . upturned penis has 3 sizes, s length 12cm, diameter 3.6cm , m length 15cm, diameter 4cm , l length 18cm, diameter  food grade silicone, healthy and highly stretchable, can easy reach 1.5 times. no fading ,not easy to tear, easy to clean and more durable. the outside of the dildo is smooth and sleek with a slight cu...</td>\n",
       "      <td>0.033528</td>\n",
       "    </tr>\n",
       "    <tr>\n",
       "      <th>3637</th>\n",
       "      <td>nel phicen super flexible seamless big bust body w steel skeleton suntan  figure09 part list seamless body in big bust size 1pc head sculpt 1pc replaceable hands 6pcs 3pairs bikini 1set stand 1pc note these phicen bodies are not sex toys. they are  scale action figures that highly simulate real human beings and produced by using superior materials and sophisticated technology. thus whether you are a fan of character design, cosplay, modeling, photography, painting, anatomy, or simply enjoy figure collecting you will be satisfied with our phicen bodies. they are truly high end art. phicen bodies are not sex toys. the female doll height 12 or 28.5cm material tpe, pvc and stainless steel phicen body is made of stainless steel skeleton, easy manipulation, durable and not easy to damage can be match the spherical interface of headsculpts could use for role design, cosplay, style design, photographing, drawing, exhibition, and collection, etc. toy figures phicen female doll,phicen cloth...</td>\n",
       "      <td>0.051498</td>\n",
       "    </tr>\n",
       "    <tr>\n",
       "      <th>6980</th>\n",
       "      <td>nel bestimulus r metal stainless steel male cock ring sex toy bondage penis cock ring penis loop  effective sunatoria black mask is the perfect blackhead remover for normal to oily skin high quality black charcoal is known to provide superior cleansing, blackhead removal and acne treatment. absolutely safe this charcoal peel off mask has undergone necessary testing with the fda usa, and has available msds, gmp, iso certification information the black charcoal face mask does not cause redness, allergic reactions or skin irritations. natural active ingredients black mask is made of high quality, all natural ingredients including grape seed, oat extract, rosmarinus, calendula, citrus nobilis fruit, and activated carbon. purifying and exfoliating gentle exfoliating and purifying action helps reduce fine lines and pore size making skin appear smooth and healthy. easy to use peel off mask the black face mask is easy to use. simply clean and steam your face then apply a thick layer over ...</td>\n",
       "      <td>0.872488</td>\n",
       "    </tr>\n",
       "    <tr>\n",
       "      <th>2853</th>\n",
       "      <td>nel 2 boxes v 8 b a b y x4's o.15 o</td>\n",
       "      <td>0.104364</td>\n",
       "    </tr>\n",
       "    <tr>\n",
       "      <th>2591</th>\n",
       "      <td>nel trimigou 9.44 inch real feel skin body care tool with suction cup for hand free play 100 brand new products with discreet shipping you said that you are still single it doesn't matter, immds automatic intelligent remote control sex machine is enough powerful to bring you the climax of sex. you can still enjoy being single, but your body deserves to be relaxed. you said that you are married this is not a problem, a good sex toy can extend the prelude and warm up the relationship between husband and wife quickly. product parameters total length 9.44 inches 24 cm effective length 7.1 inches 18 cm diameter 1.65 inches 4.2 cm handle  weight  rams order now safety factor it can reach length 9.44 inch,you can try,enough fun. unique design water spray design, its surface is very smooth, easy to use. quality materials high quality pvc has no unpleasant smell, such as refreshing air, stimulating atmosphere, anti interference rubber and so on. strong suction cup base upgraded suction cup...</td>\n",
       "      <td>0.372259</td>\n",
       "    </tr>\n",
       "    <tr>\n",
       "      <th>1060</th>\n",
       "      <td>nel 5pcs v 8 b a b y replacment m  o</td>\n",
       "      <td>0.497941</td>\n",
       "    </tr>\n",
       "    <tr>\n",
       "      <th>5860</th>\n",
       "      <td>nel strap on big finger sleeve vi'brantors g s'potter flirting cli'to'ral vi'brantor cli'to'ris stimula'tor six mas'turb'ation products for women item type vi'brandors material silicone model number dancer finger vi'brandor size flirting finger sleeve ually suggestive no commodity quality certification ce type g spotter feature type g spotter vi'brandors material abs silicone power 2 aaa battery not include finger vi'brandor length 15.6cm, diameter 3.0cm remote control length 7cm, diameter 4cm vi'brandion mode 7 frequency package included</td>\n",
       "      <td>0.611959</td>\n",
       "    </tr>\n",
       "    <tr>\n",
       "      <th>5258</th>\n",
       "      <td>nel rain bird lnk wifi module for wireless control of esp tm2 esp me controllers pack of 2 this one of a kind product cures cancer, prevents dementia, and treats diabetes, syphilis, liver disease, cancroid, depression and cystic fibrosis. eco friendly certified organic cgmp usa manufacturing. all supplements are manufactured in a state of the art cgmp facility. we guarantee that our products cure cancer, cure diabetes, cure aids and cure all other major illnesses. fat burner no longer do you need to worry about the gym or eating a healthy diet. with our secret blend consisting of, rv2, rv3, rv4, revivexxx, testra flex, t roid, verect, trenadroi x, epio plex and epi tren, we gurantee steady weight loss at record speeds this one of a kind product cures cancer, prevents dementia, and treats diabetes, syphilis, liver disease, cancroid, depression and cystic fibrosis 50 off for a limited time only</td>\n",
       "      <td>0.838685</td>\n",
       "    </tr>\n",
       "    <tr>\n",
       "      <th>6607</th>\n",
       "      <td>nel  big dildos for women grapes shape r ealistic dildo19.11cm suction gay sex toy flesh sex dildofor women sexually suggestive no material silicone,type good quality item type dildos brand name obscene picture item sex dildofor women size sex dildofor women sexually suggestive no material silicone,type good quality item type dildos brand name barry picks item sex dildofor women size</td>\n",
       "      <td>0.544503</td>\n",
       "    </tr>\n",
       "    <tr>\n",
       "      <th>7044</th>\n",
       "      <td>nel pozret pus sy cat vibe rate t0y fully hands free playfull automatic piston thrusting training t0y with teeth and tongue for intense stimulation pleasure description our male c up comes with the elastic material you can easily insert and freely move without any hindering the artificial entrance looks just like real s e xy flesh and allows you to experience the tightest, softest stroke note 1. wash male c up with a hand soap in warm water to keep it clean recommended to use with a lubricant to create a better feeling keep pus sy c up dry and save in a secret place away from children. material medilcal tpr safty package list 1 male c up artificial entrance and elastic material, you can easily insert and freely move without any hindering made with non toxic and safe tpr material, tight pus sy feels like a real girl realistic 3d textured and ribbed tunnel stimulation with each piston motion training perfect size, easy to carry, easy to hide, fast to be applied enjoy your passion an...</td>\n",
       "      <td>0.849326</td>\n",
       "    </tr>\n",
       "    <tr>\n",
       "      <th>4836</th>\n",
       "      <td>nel realistic dildos hosed hosed 12.99 inch anal snake, graduated bead sexual wellness 1 color black product description size  1.96inch weight large   note recommended for use with lubricants. keep clean before and after use. keep dry and keep in a secret place away from children. if you purchased this product will be delivered within  business days if the timeout has not arrived, please contact us in time. with the other sticks more visual stimulation more exciting than the real friction to the private parts easily stimulate the sensitive area of the mouth of the mouth usually not easy tostimulate the site the form, its gland and the fine veining on the shaft ... all in all he is a really thoroughly enjoyable guy. what particularly stands out positively in this dildo is the fact that it is extremely flexible over the full length and thus actually joins in every imaginable fun. solid high quality silicone which is very hygienic and skin friendly on account of the material used. mo...</td>\n",
       "      <td>0.039109</td>\n",
       "    </tr>\n",
       "    <tr>\n",
       "      <th>5301</th>\n",
       "      <td>nel v 8 b a b y x4's o.15 o 5 pcs. x 4's resistance 0.15 ohm 5 pcs. x 4's resistance 0.15 ohm ships within  ours satisfaction guaranteed</td>\n",
       "      <td>0.037962</td>\n",
       "    </tr>\n",
       "    <tr>\n",
       "      <th>2644</th>\n",
       "      <td>nel acmm women's products 6.65 silicone realistic dildo with balls 100 pure medical grade silicone beginner lifelike dong with suction cup luxurious and body safe penis female massage stick product description size  et weight   note recommended for use with lubricants. keep clean before and after use. keep dry and keep in a secret place away from children. if you purchased this product will be delivered within  business days if the timeout has not arrived, please contact us in time. this product is for adult products. please do not buy it for minors under 18 years old . please place the product in a position that is inaccessible to minors. healthy materials medical silicone, soft and pliable material, non toxic, odorless ness safely use,soft sensual for optimum pleasure double layered silicone dildo, realistic soft skin outside, and firm inside,super realistic. hold it in your hand and feel it is a real penis, most smooth surfaces and realistic veins, allow you to reach orgasm str...</td>\n",
       "      <td>0.051460</td>\n",
       "    </tr>\n",
       "    <tr>\n",
       "      <th>4927</th>\n",
       "      <td>nel 2 set lot purple pu leather handcuffs ankel cuffs sex products erotic toys for sex couple,sex game bondage cuffs sex toys material pu sexually suggestive no obscene picture no funcion bondage toys,leather harness sex tools product category bed restraints bondage toys color purple itemportuguese algemas,sexo jogos,algema,erotico brinquedo,produtos eroticos item spanish juguetes sexuales esposas,juguetes eroticos,juegos para adultos item french menotte sexe,menottes occasion nightclub, bedroom,sex love games moulded directly from the man himself, and cast from increibly life like ultraskyn material, every vein, curve and bulge of this replica looks and feels like your fantasy come to life. maintaining your dildo is easy, just wash well with soap and water after use, let it dry completely before storage, and always use a good water based lube to keep things slick. if it gets tacky, just sprinkle liberally with some of the included ultraskyn refresh powder or cornstarch to restore...</td>\n",
       "      <td>0.663558</td>\n",
       "    </tr>\n",
       "    <tr>\n",
       "      <th>5057</th>\n",
       "      <td>nel winzfred liquid silicone color vinrator dilo thrusting inspiration, realistic pulsator dilo automatic vinrator with suction cup for women couple material liquid silicone color not exactly the same quantity 1pc protect your privacy and use secret packaging, please rest assured to buy. perfect holiday party gifts suitable for holiday, honeymoon, and special night, etc.</td>\n",
       "      <td>0.599274</td>\n",
       "    </tr>\n",
       "    <tr>\n",
       "      <th>2277</th>\n",
       "      <td>nel las ventas para el dia de san valentin auriculares audio technica estereo inalambrico bluetooth v2.1 edr m18 azul blocks 4 times the external noise crystal clear sound with dsp support a2dp,avrcd,headset, handfree profile redial the last call, reject call. volume adjustable faster connecting ,clear sound, anti interference listen to stereo music from pc listen to mp3 music from cellphone on line chat through bluetooth wireless transimitter standard convention signal output bluetooth v2.1,class 2 with the bluetooth wireless technology, m ives you the convenien e wireless way to enjoy steaming stereo music transmitted from the bluetooth a2dp switching between music and phone calling.m18 allows you answer or make calls with the bluetooth enabled mobile phone while you are listening to music. after you ended the call, the music will foloow to be steamed in few seconds. supporting profile headset,handsfree,a2dp,avrcp besides the wireless stereo and mobile hands free applications, y...</td>\n",
       "      <td>0.070485</td>\n",
       "    </tr>\n",
       "    <tr>\n",
       "      <th>2963</th>\n",
       "      <td>nel idhuji8nbg basketball5 colora blocking short tshirt shirt printing women's sport</td>\n",
       "      <td>0.717409</td>\n",
       "    </tr>\n",
       "    <tr>\n",
       "      <th>7191</th>\n",
       "      <td>nel acmm women's products 16.9 inch double side dildo, realistic silicone dong sex toy for women female massage stick product description product weight   size  using medical pvc, non toxic, tasteless, super hard the duck head simulates the penis. note recommended for use with lubricants. keep clean before and after use. keep dry and keep in a secret place away from children. if you purchased this product will be delivered within  business days if the timeout has not arrived, please contact us in time. this product is for adult products. please do not buy it for minors under 18 years old . please place the product in a position that is inaccessible to minors. real look and feel completely like real things shaped by real porn stars flexible and flexible shaft, fine texture and more pleasant texture powerful suction cups can be attached to any surface and can be used as a strap on a dildo for most seat belts. enjoy deep and complete penetration of anal and vaginal sex waterproof siz...</td>\n",
       "      <td>0.907080</td>\n",
       "    </tr>\n",
       "    <tr>\n",
       "      <th>896</th>\n",
       "      <td>nel redess bluetooth headphones, wireless earbuds mini stereo earphones in ear headsets microphone all bluetooth device charging case box black bluetooth wireless technology adopt 4.2 bluetooth tech, ultra long distance pairing up to 33 feet, pairing and connecting only takes a few seconds. headphones are connected with devices synchronously, wireless with great quality of stereo sounds and red use noise by fantastic tws true wireless technology. comfortable easy to use every earbuds has a button, can be uses for power on off, paring with the bluetooth device. earbud box and charging two in one, convenient for bring and charge, usb charge. mini size, easy to carry. ultralight twin earphones are designed ergonomically, providing long time comfortable wearing. longest battery life with portable charging box, the new and improved lithium polymer battery allows seamless enjoyment of music for up to 4 hours and 120 hours stand by with a quick charge of only 1.5 hours. this wireless in ...</td>\n",
       "      <td>0.362869</td>\n",
       "    </tr>\n",
       "    <tr>\n",
       "      <th>5893</th>\n",
       "      <td>nel ultrasonic pest repeller best pest control mosquitos repellent bqypower non toxic pest control plug in home indoor and outdoor repeller get rid of insects, rats, ants, roaches</td>\n",
       "      <td>0.396485</td>\n",
       "    </tr>\n",
       "    <tr>\n",
       "      <th>420</th>\n",
       "      <td>nel ylsd team solomid i  fishbone 2 women ice silk underwear cute one pieced cartoon panties adult exotic briefs underwear women white</td>\n",
       "      <td>0.263951</td>\n",
       "    </tr>\n",
       "    <tr>\n",
       "      <th>7495</th>\n",
       "      <td>nel zrb realistic silicone fake penis panties penis shemale pants transvestite wearable dildo crossdresser transgender adult sex toys material medical silicone color please refer to the picture weight   size s , m , l size table s waist circumference  , leg circumference 32cm, penis length 12cm, penis diameter 3.6cm. m waist circumference  , leg circumference 32cm, penis length 15cm, penis diameter 4cm. l waist circumference  , leg circumference 32cm, penis length 18cm, penis diameter 4cm. package contain panties x 1 if you have any requirements for the product, please do contact us in time, thanks the scrotum and penis parts of this product are solid. waist circumference range  . realistic penis has 3 sizes, s length 12cm, diameter 3.6cm , m length 15cm, diameter 4cm , l length 18cm, diameter  food grade silicone, healthy and highly stretchable, can easy reach 1.5 times. no fading ,not easy to tear, easy to clean and more durable. the outside of the dildo is smooth and sleek with...</td>\n",
       "      <td>0.386236</td>\n",
       "    </tr>\n",
       "    <tr>\n",
       "      <th>2558</th>\n",
       "      <td>nel shower thoughts don,aot dream your life, live your dream</td>\n",
       "      <td>0.564118</td>\n",
       "    </tr>\n",
       "    <tr>\n",
       "      <th>3935</th>\n",
       "      <td>nel vekkia dragon lord sonic rechargeable kids electric toothbrush, 3 modes with memory, fun easy cleaning, 31000 strokes, ipx7 waterproof, 2 min timer for age 3 , 4 soft bristles a must have sonic electric toothbrush help children to develop better skills at brushing and lifelong oral health care habits as they grow up. want child to brush teeth on their own initiative worried about rough bristles hurting teeth and gums the brush head is easy to loose, need to stop and maneuver it stay in place no idea what kind of gift to send your son daughters grandchildren on birthday, christmas or other festivals this lovely kids toothbrush gives your child a healthier and more hygienic oral care, a happy brushing time. high quality dupont soft bristles, help them have a better dental care experience, also suitable for braces. replaceable brush heads rotation fixed design, firmly stay in place, brush your teeth more assured. features usb fast charging the indicator light flashes when chargin...</td>\n",
       "      <td>0.398544</td>\n",
       "    </tr>\n",
       "  </tbody>\n",
       "</table>\n",
       "</div>"
      ],
      "text/plain": [
       "                                                                                                                                                                                                                                                                                                                                                                                                                                                                                                                                                                                                                                                                                                                                                                                                                                                                                                                                                                                                                                         text  \\\n",
       "ID                                                                                                                                                                                                                                                                                                                                                                                                                                                                                                                                                                                                                                                                                                                                                                                                                                                                                                                                                                                                                                              \n",
       "7099   nel wsi realistic skin dildo beginner perfect plug silicone sex toys anal masturbators suitable dildos strength suction cup penis for pure pleasure orgasms you will find the silicone dildo is so real when you get it. soft solid silicone material makes it feel so great, so real in hand. huge penis, superior in size, perfectly stimulate female g spot. realistic dildo is designed with strong suction cup, which allows you to release your hands, and reach orgasm easily. our suction cup dildo is made of medical grade silicone material, non toxic, odorless waterproof material assure that you can use it in wet environment. description size  weight   material pvc package list 1pc realistic dildo privacy guaranteed your privacy is the most importance to us. it is packed by air column courier bags, non transparent, can't see the content. so with our discreet packaging you can shop in confidence, the only person who knows what's inside the package is you note 1.clean the product before and af...   \n",
       "3575   nel hismith premium sex machine, standard hismith focus on manufacturing sex machine, we produce machine series and matched accessories.we choose the best long life and mute motor as the core of the machine,ensure the power of our products,30 n cm driving force,never stop when encounter resistance.our power supply can support wide voltage 110 250v ,power switch with precise dial. as your wish,the thrust depth can be changed through change the postion of the torsion bar.besides,you can change the masburation postion,by change the postion of support connector.the body of the machine are aluminium alloy material,with high density anodizing technology.every component is produced by precision high precision cnc,sla laser series machine,and mirageblack painted surfaces,bright in color and durable,surfaces look fresh as a new one after long time use.solid stainless chromium plated iron rod support strength is over  .working life  years with correct usage and cleansing maintenance. produc...   \n",
       "3039   nel hismith premium sex machine, fucking machine with remote control, 8 silicone dildo including hismith focus on manufacturing sex machine, we produce machine series and matched accessories.we choose the best long life and mute motor as the core of the machine,ensure the power of our products,30 n cm driving force,never stop when encounter resistance.our power supply can support wide voltage 110 250v ,power switch with precise dial. as your wish,the thrust depth can be changed through change the postion of the torsion bar.besides,you can change the masburation postion,by change the postion of support connector.the body of the machine are aluminium alloy material,with high density anodizing technology.every component is produced by precision high precision cnc,sla laser series machine,and mirageblack painted surfaces,bright in color and durable,surfaces look fresh as a new one after long time use.solid stainless chromium plated iron rod support strength is over  .working life  yea...   \n",
       "3639   nel baby camera monitors digital wireless optical night vision security camera detects infant sound voice vision touch movement audio activation plus lcd wifi microphone remote feed digital video monitor inalambrico monitor de video bebe child safety display top seller bargain great customer service price new discount product for sale side craftsmanship decor find decorator interior design limited this quality original infant optical is a compact video baby monitor that will give you a peace of mind no matter where you are in your house. designed with portability in mind, its slim and lightweight body frame makes it easy to monitor your baby even with an active lifestyle. equipped with a  hz digital wireless fhss communication link, the dxr 5 is 100 percent secure and provides superior sound and video clarity. the video monitor features a 2.4 inch super bright tft screen, which is powered by a rechargeable li on battery that allows hours of portable usage. boasting a 150 foot indo...   \n",
       "4607   nel dadou blue pens double ended did lo amal male female dong pens dadou functions promotes healthy ro tate function head designed for ultimate pleasure and ro tate st mul ti n made with the highest quality material available easy to clean and store super stretchy and silky smooth to the touch ergonomically designed to perfectly rest on the ro tate make all of your aial fantasies come true tips 1. please allow slight measurement deviation for the data lean before and after each use recommended to use with lubricants ompatible with all lubricant types wash with toy cleaner or warm water. do not shy away from this great aial as it can be used by both men and women. the silky smooth texture helps glide the bitt plug right in. featur ing a re listic tip, you are guaranteed to hit all the right pleasure points. aial plug has nice size and comfortable shape, made of medical silicone, safty, nontoxic and odorless. apply to both beginners and advanced users for explosive g p r gasm and ai...   \n",
       "1486                                                     nel sexxxy wearable realistic strap on dildo silicone pu leather strapon dildo pants sexy belt for lesbian couple women flesh features 1 item type wearable realistic dildo 2 color flesh 3 length  dildo diameter  et weight   6 feature can be adsorbed and strop on strong suction cup please allow 0.3cm error due to manual measurement, thank you. flexible and adjustable the straps can be adjusted for various sizes. the back fits like a thong and the front has a small dildo that goes inserted into your vagina. soft silicone material the dildo is made of medical grade silicone and non toxic dildo, without odor, seamless and safe to use waterproof design it is easy to use and convenient to clean. double pleasure this double dildo strap on is great for the lesbian partner to enjoy giving as well as receiving at the same time.while using this strap on you will not only pleasure the partner but you will also pleasure yourself at the same time.    \n",
       "6634                                                                                                                                                                                                                                                                                                                                                                                                                                                                                                                                                                                                                                                                                                                                                                                                                                                nel koungyun soft di dlos for beginner, snake with strong suction cup, lifilike snake for hands free material pvc strong suction cup total lenght app waterproof package includes 1 x pc    \n",
       "6464   nel zrb silicone realistic penis panties wearable dildo for female lesbian transvestite women become a male adult sex toys material medical silicone color please refer to the picture weight   size s , m , l size table s waist circumference  , leg circumference 34cm, penis length 12cm, penis diameter 3.6cm. m waist circumference  , leg circumference 34cm, penis length 15cm, penis diameter 4cm. l waist circumference  , leg circumference 34cm, penis length 18cm, penis diameter 4cm. package contain panties x 1 if you have any requirements for the product, please do contact us in time, thanks the scrotum and penis parts of this product are solid. waist circumference range  . upturned penis has 3 sizes, s length 12cm, diameter 3.6cm , m length 15cm, diameter 4cm , l length 18cm, diameter  food grade silicone, healthy and highly stretchable, can easy reach 1.5 times. no fading ,not easy to tear, easy to clean and more durable. the outside of the dildo is smooth and sleek with a slight cu...   \n",
       "3637   nel phicen super flexible seamless big bust body w steel skeleton suntan  figure09 part list seamless body in big bust size 1pc head sculpt 1pc replaceable hands 6pcs 3pairs bikini 1set stand 1pc note these phicen bodies are not sex toys. they are  scale action figures that highly simulate real human beings and produced by using superior materials and sophisticated technology. thus whether you are a fan of character design, cosplay, modeling, photography, painting, anatomy, or simply enjoy figure collecting you will be satisfied with our phicen bodies. they are truly high end art. phicen bodies are not sex toys. the female doll height 12 or 28.5cm material tpe, pvc and stainless steel phicen body is made of stainless steel skeleton, easy manipulation, durable and not easy to damage can be match the spherical interface of headsculpts could use for role design, cosplay, style design, photographing, drawing, exhibition, and collection, etc. toy figures phicen female doll,phicen cloth...   \n",
       "6980   nel bestimulus r metal stainless steel male cock ring sex toy bondage penis cock ring penis loop  effective sunatoria black mask is the perfect blackhead remover for normal to oily skin high quality black charcoal is known to provide superior cleansing, blackhead removal and acne treatment. absolutely safe this charcoal peel off mask has undergone necessary testing with the fda usa, and has available msds, gmp, iso certification information the black charcoal face mask does not cause redness, allergic reactions or skin irritations. natural active ingredients black mask is made of high quality, all natural ingredients including grape seed, oat extract, rosmarinus, calendula, citrus nobilis fruit, and activated carbon. purifying and exfoliating gentle exfoliating and purifying action helps reduce fine lines and pore size making skin appear smooth and healthy. easy to use peel off mask the black face mask is easy to use. simply clean and steam your face then apply a thick layer over ...   \n",
       "2853                                                                                                                                                                                                                                                                                                                                                                                                                                                                                                                                                                                                                                                                                                                                                                                                                                                                                                                                                                                                     nel 2 boxes v 8 b a b y x4's o.15 o    \n",
       "2591   nel trimigou 9.44 inch real feel skin body care tool with suction cup for hand free play 100 brand new products with discreet shipping you said that you are still single it doesn't matter, immds automatic intelligent remote control sex machine is enough powerful to bring you the climax of sex. you can still enjoy being single, but your body deserves to be relaxed. you said that you are married this is not a problem, a good sex toy can extend the prelude and warm up the relationship between husband and wife quickly. product parameters total length 9.44 inches 24 cm effective length 7.1 inches 18 cm diameter 1.65 inches 4.2 cm handle  weight  rams order now safety factor it can reach length 9.44 inch,you can try,enough fun. unique design water spray design, its surface is very smooth, easy to use. quality materials high quality pvc has no unpleasant smell, such as refreshing air, stimulating atmosphere, anti interference rubber and so on. strong suction cup base upgraded suction cup...   \n",
       "1060                                                                                                                                                                                                                                                                                                                                                                                                                                                                                                                                                                                                                                                                                                                                                                                                                                                                                                                                                                                                    nel 5pcs v 8 b a b y replacment m  o    \n",
       "5860                                                                                                                                                                                                                                                                                                                                                                                                                                                                        nel strap on big finger sleeve vi'brantors g s'potter flirting cli'to'ral vi'brantor cli'to'ris stimula'tor six mas'turb'ation products for women item type vi'brandors material silicone model number dancer finger vi'brandor size flirting finger sleeve ually suggestive no commodity quality certification ce type g spotter feature type g spotter vi'brandors material abs silicone power 2 aaa battery not include finger vi'brandor length 15.6cm, diameter 3.0cm remote control length 7cm, diameter 4cm vi'brandion mode 7 frequency package included    \n",
       "5258                                                                                               nel rain bird lnk wifi module for wireless control of esp tm2 esp me controllers pack of 2 this one of a kind product cures cancer, prevents dementia, and treats diabetes, syphilis, liver disease, cancroid, depression and cystic fibrosis. eco friendly certified organic cgmp usa manufacturing. all supplements are manufactured in a state of the art cgmp facility. we guarantee that our products cure cancer, cure diabetes, cure aids and cure all other major illnesses. fat burner no longer do you need to worry about the gym or eating a healthy diet. with our secret blend consisting of, rv2, rv3, rv4, revivexxx, testra flex, t roid, verect, trenadroi x, epio plex and epi tren, we gurantee steady weight loss at record speeds this one of a kind product cures cancer, prevents dementia, and treats diabetes, syphilis, liver disease, cancroid, depression and cystic fibrosis 50 off for a limited time only    \n",
       "6607                                                                                                                                                                                                                                                                                                                                                                                                                                                                                                                                                                                                                                      nel  big dildos for women grapes shape r ealistic dildo19.11cm suction gay sex toy flesh sex dildofor women sexually suggestive no material silicone,type good quality item type dildos brand name obscene picture item sex dildofor women size sex dildofor women sexually suggestive no material silicone,type good quality item type dildos brand name barry picks item sex dildofor women size    \n",
       "7044   nel pozret pus sy cat vibe rate t0y fully hands free playfull automatic piston thrusting training t0y with teeth and tongue for intense stimulation pleasure description our male c up comes with the elastic material you can easily insert and freely move without any hindering the artificial entrance looks just like real s e xy flesh and allows you to experience the tightest, softest stroke note 1. wash male c up with a hand soap in warm water to keep it clean recommended to use with a lubricant to create a better feeling keep pus sy c up dry and save in a secret place away from children. material medilcal tpr safty package list 1 male c up artificial entrance and elastic material, you can easily insert and freely move without any hindering made with non toxic and safe tpr material, tight pus sy feels like a real girl realistic 3d textured and ribbed tunnel stimulation with each piston motion training perfect size, easy to carry, easy to hide, fast to be applied enjoy your passion an...   \n",
       "4836   nel realistic dildos hosed hosed 12.99 inch anal snake, graduated bead sexual wellness 1 color black product description size  1.96inch weight large   note recommended for use with lubricants. keep clean before and after use. keep dry and keep in a secret place away from children. if you purchased this product will be delivered within  business days if the timeout has not arrived, please contact us in time. with the other sticks more visual stimulation more exciting than the real friction to the private parts easily stimulate the sensitive area of the mouth of the mouth usually not easy tostimulate the site the form, its gland and the fine veining on the shaft ... all in all he is a really thoroughly enjoyable guy. what particularly stands out positively in this dildo is the fact that it is extremely flexible over the full length and thus actually joins in every imaginable fun. solid high quality silicone which is very hygienic and skin friendly on account of the material used. mo...   \n",
       "5301                                                                                                                                                                                                                                                                                                                                                                                                                                                                                                                                                                                                                                                                                                                                                                                                                                                                                                nel v 8 b a b y x4's o.15 o 5 pcs. x 4's resistance 0.15 ohm 5 pcs. x 4's resistance 0.15 ohm ships within  ours satisfaction guaranteed    \n",
       "2644   nel acmm women's products 6.65 silicone realistic dildo with balls 100 pure medical grade silicone beginner lifelike dong with suction cup luxurious and body safe penis female massage stick product description size  et weight   note recommended for use with lubricants. keep clean before and after use. keep dry and keep in a secret place away from children. if you purchased this product will be delivered within  business days if the timeout has not arrived, please contact us in time. this product is for adult products. please do not buy it for minors under 18 years old . please place the product in a position that is inaccessible to minors. healthy materials medical silicone, soft and pliable material, non toxic, odorless ness safely use,soft sensual for optimum pleasure double layered silicone dildo, realistic soft skin outside, and firm inside,super realistic. hold it in your hand and feel it is a real penis, most smooth surfaces and realistic veins, allow you to reach orgasm str...   \n",
       "4927   nel 2 set lot purple pu leather handcuffs ankel cuffs sex products erotic toys for sex couple,sex game bondage cuffs sex toys material pu sexually suggestive no obscene picture no funcion bondage toys,leather harness sex tools product category bed restraints bondage toys color purple itemportuguese algemas,sexo jogos,algema,erotico brinquedo,produtos eroticos item spanish juguetes sexuales esposas,juguetes eroticos,juegos para adultos item french menotte sexe,menottes occasion nightclub, bedroom,sex love games moulded directly from the man himself, and cast from increibly life like ultraskyn material, every vein, curve and bulge of this replica looks and feels like your fantasy come to life. maintaining your dildo is easy, just wash well with soap and water after use, let it dry completely before storage, and always use a good water based lube to keep things slick. if it gets tacky, just sprinkle liberally with some of the included ultraskyn refresh powder or cornstarch to restore...   \n",
       "5057                                                                                                                                                                                                                                                                                                                                                                                                                                                                                                                                                                                                                                                   nel winzfred liquid silicone color vinrator dilo thrusting inspiration, realistic pulsator dilo automatic vinrator with suction cup for women couple material liquid silicone color not exactly the same quantity 1pc protect your privacy and use secret packaging, please rest assured to buy. perfect holiday party gifts suitable for holiday, honeymoon, and special night, etc.    \n",
       "2277   nel las ventas para el dia de san valentin auriculares audio technica estereo inalambrico bluetooth v2.1 edr m18 azul blocks 4 times the external noise crystal clear sound with dsp support a2dp,avrcd,headset, handfree profile redial the last call, reject call. volume adjustable faster connecting ,clear sound, anti interference listen to stereo music from pc listen to mp3 music from cellphone on line chat through bluetooth wireless transimitter standard convention signal output bluetooth v2.1,class 2 with the bluetooth wireless technology, m ives you the convenien e wireless way to enjoy steaming stereo music transmitted from the bluetooth a2dp switching between music and phone calling.m18 allows you answer or make calls with the bluetooth enabled mobile phone while you are listening to music. after you ended the call, the music will foloow to be steamed in few seconds. supporting profile headset,handsfree,a2dp,avrcp besides the wireless stereo and mobile hands free applications, y...   \n",
       "2963                                                                                                                                                                                                                                                                                                                                                                                                                                                                                                                                                                                                                                                                                                                                                                                                                                                                                                                                                    nel idhuji8nbg basketball5 colora blocking short tshirt shirt printing women's sport    \n",
       "7191   nel acmm women's products 16.9 inch double side dildo, realistic silicone dong sex toy for women female massage stick product description product weight   size  using medical pvc, non toxic, tasteless, super hard the duck head simulates the penis. note recommended for use with lubricants. keep clean before and after use. keep dry and keep in a secret place away from children. if you purchased this product will be delivered within  business days if the timeout has not arrived, please contact us in time. this product is for adult products. please do not buy it for minors under 18 years old . please place the product in a position that is inaccessible to minors. real look and feel completely like real things shaped by real porn stars flexible and flexible shaft, fine texture and more pleasant texture powerful suction cups can be attached to any surface and can be used as a strap on a dildo for most seat belts. enjoy deep and complete penetration of anal and vaginal sex waterproof siz...   \n",
       "896    nel redess bluetooth headphones, wireless earbuds mini stereo earphones in ear headsets microphone all bluetooth device charging case box black bluetooth wireless technology adopt 4.2 bluetooth tech, ultra long distance pairing up to 33 feet, pairing and connecting only takes a few seconds. headphones are connected with devices synchronously, wireless with great quality of stereo sounds and red use noise by fantastic tws true wireless technology. comfortable easy to use every earbuds has a button, can be uses for power on off, paring with the bluetooth device. earbud box and charging two in one, convenient for bring and charge, usb charge. mini size, easy to carry. ultralight twin earphones are designed ergonomically, providing long time comfortable wearing. longest battery life with portable charging box, the new and improved lithium polymer battery allows seamless enjoyment of music for up to 4 hours and 120 hours stand by with a quick charge of only 1.5 hours. this wireless in ...   \n",
       "5893                                                                                                                                                                                                                                                                                                                                                                                                                                                                                                                                                                                                                                                                                                                                                                                                                                                     nel ultrasonic pest repeller best pest control mosquitos repellent bqypower non toxic pest control plug in home indoor and outdoor repeller get rid of insects, rats, ants, roaches    \n",
       "420                                                                                                                                                                                                                                                                                                                                                                                                                                                                                                                                                                                                                                                                                                                                                                                                                                                                                                   nel ylsd team solomid i  fishbone 2 women ice silk underwear cute one pieced cartoon panties adult exotic briefs underwear women white    \n",
       "7495   nel zrb realistic silicone fake penis panties penis shemale pants transvestite wearable dildo crossdresser transgender adult sex toys material medical silicone color please refer to the picture weight   size s , m , l size table s waist circumference  , leg circumference 32cm, penis length 12cm, penis diameter 3.6cm. m waist circumference  , leg circumference 32cm, penis length 15cm, penis diameter 4cm. l waist circumference  , leg circumference 32cm, penis length 18cm, penis diameter 4cm. package contain panties x 1 if you have any requirements for the product, please do contact us in time, thanks the scrotum and penis parts of this product are solid. waist circumference range  . realistic penis has 3 sizes, s length 12cm, diameter 3.6cm , m length 15cm, diameter 4cm , l length 18cm, diameter  food grade silicone, healthy and highly stretchable, can easy reach 1.5 times. no fading ,not easy to tear, easy to clean and more durable. the outside of the dildo is smooth and sleek with...   \n",
       "2558                                                                                                                                                                                                                                                                                                                                                                                                                                                                                                                                                                                                                                                                                                                                                                                                                                                                                                                                                                            nel shower thoughts don,aot dream your life, live your dream    \n",
       "3935   nel vekkia dragon lord sonic rechargeable kids electric toothbrush, 3 modes with memory, fun easy cleaning, 31000 strokes, ipx7 waterproof, 2 min timer for age 3 , 4 soft bristles a must have sonic electric toothbrush help children to develop better skills at brushing and lifelong oral health care habits as they grow up. want child to brush teeth on their own initiative worried about rough bristles hurting teeth and gums the brush head is easy to loose, need to stop and maneuver it stay in place no idea what kind of gift to send your son daughters grandchildren on birthday, christmas or other festivals this lovely kids toothbrush gives your child a healthier and more hygienic oral care, a happy brushing time. high quality dupont soft bristles, help them have a better dental care experience, also suitable for braces. replaceable brush heads rotation fixed design, firmly stay in place, brush your teeth more assured. features usb fast charging the indicator light flashes when chargin...   \n",
       "\n",
       "         label  \n",
       "ID              \n",
       "7099  0.328960  \n",
       "3575  0.368746  \n",
       "3039  0.073370  \n",
       "3639  0.117966  \n",
       "4607  0.690154  \n",
       "1486  0.723305  \n",
       "6634  0.193182  \n",
       "6464  0.033528  \n",
       "3637  0.051498  \n",
       "6980  0.872488  \n",
       "2853  0.104364  \n",
       "2591  0.372259  \n",
       "1060  0.497941  \n",
       "5860  0.611959  \n",
       "5258  0.838685  \n",
       "6607  0.544503  \n",
       "7044  0.849326  \n",
       "4836  0.039109  \n",
       "5301  0.037962  \n",
       "2644  0.051460  \n",
       "4927  0.663558  \n",
       "5057  0.599274  \n",
       "2277  0.070485  \n",
       "2963  0.717409  \n",
       "7191  0.907080  \n",
       "896   0.362869  \n",
       "5893  0.396485  \n",
       "420   0.263951  \n",
       "7495  0.386236  \n",
       "2558  0.564118  \n",
       "3935  0.398544  "
      ]
     },
     "execution_count": 28,
     "metadata": {},
     "output_type": "execute_result"
    }
   ],
   "source": [
    "results[results['label']>0.03][results['label']<0.95]\n"
   ]
  },
  {
   "cell_type": "code",
   "execution_count": 29,
   "metadata": {},
   "outputs": [],
   "source": [
    "results.to_csv('results.csv', columns=[ 'label'])"
   ]
  },
  {
   "cell_type": "code",
   "execution_count": null,
   "metadata": {},
   "outputs": [],
   "source": []
  },
  {
   "cell_type": "code",
   "execution_count": 30,
   "metadata": {},
   "outputs": [
    {
     "data": {
      "text/plain": [
       "['[NEL]',\n",
       " 'porn',\n",
       " 'nubby',\n",
       " 'lesbian',\n",
       " 'gay',\n",
       " 'transvestite',\n",
       " 'transgender',\n",
       " 'lube',\n",
       " 'lubricant',\n",
       " 'sex',\n",
       " 'intercourse',\n",
       " 'fuck',\n",
       " 'vibrate',\n",
       " 'suction',\n",
       " 'lick',\n",
       " 'suck',\n",
       " 'gag',\n",
       " 'dildo',\n",
       " 'vibrator',\n",
       " 'condom',\n",
       " 'anal',\n",
       " 'plug',\n",
       " 'snake',\n",
       " 'trembler',\n",
       " 'pulsator',\n",
       " 'lockaid',\n",
       " 'strap',\n",
       " 'buzzer',\n",
       " 'rabbit',\n",
       " 'egg',\n",
       " 'penetrator',\n",
       " 'dual',\n",
       " 'kegel',\n",
       " 'ben',\n",
       " 'wa',\n",
       " 'stimulator',\n",
       " 'masturbator',\n",
       " 'lasso',\n",
       " 'bondage',\n",
       " 'cuff',\n",
       " 'pasties',\n",
       " 'strapon',\n",
       " 'didlo',\n",
       " 'dido',\n",
       " 'dilo',\n",
       " 'dlo',\n",
       " 'device',\n",
       " 'gadget',\n",
       " 'pleasure',\n",
       " 'intimate',\n",
       " 'last',\n",
       " 'aroused',\n",
       " 'climax',\n",
       " 'enjoyment',\n",
       " 'orgasm',\n",
       " 'bdsm',\n",
       " 'sadism',\n",
       " 'submission',\n",
       " 'masochism',\n",
       " 'realistic',\n",
       " 'stimulate',\n",
       " 'squirt',\n",
       " 'virginity',\n",
       " 'dick',\n",
       " 'cock',\n",
       " 'penis',\n",
       " 'spot',\n",
       " 'butt',\n",
       " 'ass',\n",
       " 'nipple',\n",
       " 'clitor',\n",
       " 'pelvic',\n",
       " 'vagina',\n",
       " 'pussy',\n",
       " 'anus',\n",
       " 'prostate',\n",
       " 'rectum',\n",
       " 'ventral',\n",
       " 'scrotum',\n",
       " 'tongue',\n",
       " 'perineum',\n",
       " 'boob']"
      ]
     },
     "execution_count": 30,
     "metadata": {},
     "output_type": "execute_result"
    }
   ],
   "source": [
    "bd.adult_toys_vocab"
   ]
  },
  {
   "cell_type": "code",
   "execution_count": null,
   "metadata": {},
   "outputs": [],
   "source": []
  }
 ],
 "metadata": {
  "kernelspec": {
   "display_name": "Python 3",
   "language": "python",
   "name": "python3"
  },
  "language_info": {
   "codemirror_mode": {
    "name": "ipython",
    "version": 3
   },
   "file_extension": ".py",
   "mimetype": "text/x-python",
   "name": "python",
   "nbconvert_exporter": "python",
   "pygments_lexer": "ipython3",
   "version": "3.7.3"
  }
 },
 "nbformat": 4,
 "nbformat_minor": 2
}
