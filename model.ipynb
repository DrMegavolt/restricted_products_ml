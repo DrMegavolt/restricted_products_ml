{
 "cells": [
  {
   "cell_type": "markdown",
   "metadata": {},
   "source": [
    "#### Base Approach  ~0.94\n",
    "1. Join all columns that have text\n",
    "1. Clean html tags\n",
    "1. Replace non english letters with equivalent Å -> A\n",
    "1. lowercase\n",
    "1. Google BERT Base model with 256 tokens and fine tuned 2 layers + Dense 256 layer on top\n",
    "\n",
    "#### More thorrow cleunup + BERT Custom dictionary ~0.99\n",
    "1. Remove weight references like 600g\n",
    "1. Remove size references (150cm x 16cm) but keep words like length, diameter etc.\n",
    "1. Fix incorrect labels in train dataset (I only found 1, but there are more)\n",
    "1. Read \"Start & Run an Adult Boutique\" book and write all adult toys related words into bert Dictionary file \n",
    "https://books.google.ca/books?id=LMQhCgAAQBAJ&pg=PT157&lpg=PT157&dq=adult+toys+vocabulary&source=bl&ots=OneH8Cmfa2&sig=ACfU3U3_8mllbStNXxpfJ6WLhrTK3IdiFQ&hl=en&sa=X&redir_esc=y#v=onepage&q=adult%20toys%20vocabulary&f=false\n",
    "\n",
    "\n",
    "####  Minor tweaks ~0.999\n",
    "\n",
    "1. Add some common intentional misspellings like \"didlo\"\n",
    "1. Add training samples based on those words with label 1 to force BERT pay higher attention\n",
    "1. Count Å -> A replacements and add special custom word \"nel\" if there are too many of those. Usually this means people are trying to cheat and hide real word. (not sure if it helps)\n",
    "1. Train 3 top BERT layers instead of 2 (although usually does not converge, some luck required)\n",
    "1. Increase number of token from 256 to 512 to catch more words\n",
    "1. using AUC metric instead of accuracy"
   ]
  },
  {
   "cell_type": "code",
   "execution_count": 1,
   "metadata": {},
   "outputs": [
    {
     "name": "stdout",
     "output_type": "stream",
     "text": [
      "importing Jupyter notebook from bertkeras.ipynb\n",
      "importing Jupyter notebook from BERTDictionary.ipynb\n",
      "[NEL]\n",
      "nel\n",
      "nubby\n",
      "transvestite\n",
      "lube\n",
      "lubricant\n",
      "vibrate\n",
      "suction\n",
      "dildo\n",
      "vibrator\n",
      "trembler\n",
      "pulsator\n",
      "lockaid\n",
      "buzzer\n",
      "penetrator\n",
      "kegel\n",
      "stimulator\n",
      "masturbator\n",
      "lasso\n",
      "bondage\n",
      "pasties\n",
      "strapon\n",
      "didlo\n",
      "dido\n",
      "dilo\n",
      "dlo\n",
      "gadget\n",
      "bdsm\n",
      "sadism\n",
      "masochism\n",
      "squirt\n",
      "clitor\n",
      "pelvic\n",
      "vagina\n",
      "anus\n",
      "rectum\n",
      "scrotum\n",
      "perineum\n",
      "boob\n"
     ]
    }
   ],
   "source": [
    "import import_ipynb\n",
    "import tensorflow as tf\n",
    "import pandas as pd\n",
    "import tensorflow_hub as hub\n",
    "import os\n",
    "import re\n",
    "from sklearn.metrics import confusion_matrix, accuracy_score\n",
    "import numpy as np\n",
    "from bert.tokenization import FullTokenizer\n",
    "from tqdm import tqdm_notebook\n",
    "from tensorflow.keras import backend as K\n",
    "from sklearn.model_selection import train_test_split\n",
    "import bertkeras as bk\n",
    "import BERTDictionary as bd\n",
    "import matplotlib.pyplot as plt\n",
    "import seaborn as sns\n",
    "from matplotlib import pyplot\n",
    "from unidecode import unidecode\n",
    "from scipy.stats import norm, boxcox\n",
    "pd.options.display.max_colwidth = 1000\n",
    "sns.set()"
   ]
  },
  {
   "cell_type": "code",
   "execution_count": 2,
   "metadata": {},
   "outputs": [],
   "source": [
    "df= pd.read_csv('../dataset/training.csv', index_col='ID')\n",
    "labels = df['label']\n",
    "drop_columns = [ '﻿ASIN','parent_asin','Product Group Description', \n",
    "                      'product_name', 'brand_code', 'brand_name']\n",
    "df = df.drop(columns=drop_columns)\n",
    "df = df.fillna(\"\")\n",
    "\n",
    "cols = df.columns.tolist()\n",
    "cols.remove('label')\n",
    "text = df[cols].apply(' '.join, axis=1)\n"
   ]
  },
  {
   "cell_type": "code",
   "execution_count": 3,
   "metadata": {},
   "outputs": [],
   "source": [
    "html_re = re.compile('<[^>]*>')\n",
    "garbage_re = re.compile('[^0-9a-z,\\'\\.]+') \n",
    "weight_re = re.compile('[\\d.]+[ ]?(kg+|lbs+|g+|lb+)')\n",
    "\n",
    "\n",
    "# check if it actually helps, tests https://regex101.com/r/xwnV5l/1\n",
    "size_re = re.compile('[\\d.]+([ cminch]+)?[ x*]+[\\d.]+([ cminch]+)?([ x*]+[\\d.]+)?([ cminch]+)')\n",
    "\n",
    "# play around with garbage_threshhold \n",
    "garbage_threshhold = 0.003\n",
    "def html_cleanup(html):\n",
    "    return re.sub(html_re, ' ', html)\n",
    "def lower_case(txt):\n",
    "    return txt.lower()\n",
    "def split_by_garbage(txt):\n",
    "    return re.sub(garbage_re, ' ', txt)\n",
    "def decode_chars(txt):\n",
    "    garbage_fiteted = re.sub(garbage_re, '', txt)\n",
    "    decoded_txt = unidecode(txt)\n",
    "    return decoded_txt if len(garbage_fiteted)/len(txt) < garbage_threshhold \\\n",
    "        else '[NEL] ' + decoded_txt \n",
    "\n",
    "def cleanup_size(txt):\n",
    "    return re.sub(size_re, ' ', txt).replace('size:', '')\n",
    "\n",
    "def cleanup_weight(txt):\n",
    "    return re.sub(weight_re, ' ', txt)\n",
    "    \n",
    "def cleanup(text):\n",
    "    res = text.apply(html_cleanup).apply(decode_chars).apply(lower_case) \\\n",
    "              .apply(split_by_garbage).apply(cleanup_size) \\\n",
    "              .apply(cleanup_weight)\n",
    "    return res"
   ]
  },
  {
   "cell_type": "code",
   "execution_count": 4,
   "metadata": {},
   "outputs": [],
   "source": [
    "texts = cleanup(text)"
   ]
  },
  {
   "cell_type": "code",
   "execution_count": 5,
   "metadata": {},
   "outputs": [],
   "source": [
    "df = pd.DataFrame( {\"texts\" :texts, \"labels\": labels} )"
   ]
  },
  {
   "cell_type": "code",
   "execution_count": 6,
   "metadata": {},
   "outputs": [],
   "source": [
    "# there is error in training dataset\n",
    "df.loc[196,'labels'] =1\n"
   ]
  },
  {
   "cell_type": "code",
   "execution_count": 7,
   "metadata": {},
   "outputs": [],
   "source": [
    "txt_train, txt_test, lbl_train, lbl_test = train_test_split(\n",
    "    texts, labels, test_size=0.0002, random_state=42)"
   ]
  },
  {
   "cell_type": "code",
   "execution_count": null,
   "metadata": {},
   "outputs": [],
   "source": []
  },
  {
   "cell_type": "code",
   "execution_count": 8,
   "metadata": {},
   "outputs": [
    {
     "name": "stdout",
     "output_type": "stream",
     "text": [
      "['[NEL]' 'nel' 'porn' 'nubby']\n",
      "['lesbian' 'gay' 'transvestite' 'transgender']\n",
      "['lube' 'lubricant' 'sex' 'intercourse']\n",
      "['fuck' 'vibrate' 'suction' 'lick']\n",
      "['suck' 'gag' 'dildo' 'vibrator']\n",
      "['condom' 'anal' 'plug' 'snake']\n",
      "['trembler' 'pulsator' 'lockaid' 'strap']\n",
      "['buzzer' 'rabbit' 'egg' 'penetrator']\n",
      "['dual' 'kegel' 'ben']\n",
      "['wa' 'stimulator' 'masturbator']\n",
      "['lasso' 'bondage' 'cuff']\n",
      "['pasties' 'strapon' 'didlo']\n",
      "['dido' 'dilo' 'dlo']\n",
      "['device' 'gadget' 'pleasure']\n",
      "['intimate' 'last' 'aroused']\n",
      "['climax' 'enjoyment' 'orgasm']\n",
      "['bdsm' 'sadism' 'submission']\n",
      "['masochism' 'realistic' 'stimulate']\n",
      "['squirt' 'virginity' 'dick']\n",
      "['cock' 'penis' 'spot']\n",
      "['butt' 'ass' 'nipple']\n",
      "['clitor' 'pelvic' 'vagina']\n",
      "['pussy' 'anus' 'prostate']\n",
      "['rectum' 'ventral' 'scrotum']\n",
      "['tongue' 'perineum' 'boob']\n"
     ]
    }
   ],
   "source": [
    "k=10000\n",
    "arr = np.array_split(bd.adult_toys_vocab, 25)\n",
    "for a in arr :\n",
    "    print(a)\n",
    "    w = ' '.join(a)\n",
    "    txt_train = txt_train.append(pd.Series([w], index=[k]))\n",
    "    lbl_train = lbl_train.append(pd.Series([1], index=[k]))\n",
    "    k = k+1\n"
   ]
  },
  {
   "cell_type": "code",
   "execution_count": 9,
   "metadata": {},
   "outputs": [
    {
     "name": "stdout",
     "output_type": "stream",
     "text": [
      "using vocab file from vocab.txt\n"
     ]
    }
   ],
   "source": [
    "tokenizer = bk.create_tokenizer_from_hub_module(vocab_file='vocab.txt')\n",
    "max_seq_length = 512"
   ]
  },
  {
   "cell_type": "code",
   "execution_count": 10,
   "metadata": {},
   "outputs": [],
   "source": [
    "# Convert data to InputExample format\n",
    "train_examples = bk.convert_text_to_examples(txt_train, lbl_train.values)\n",
    "test_examples = bk.convert_text_to_examples(txt_test, lbl_test.values)"
   ]
  },
  {
   "cell_type": "code",
   "execution_count": 11,
   "metadata": {},
   "outputs": [
    {
     "data": {
      "application/vnd.jupyter.widget-view+json": {
       "model_id": "2a47f0e1934149039d93bc6b78fa41da",
       "version_major": 2,
       "version_minor": 0
      },
      "text/plain": [
       "HBox(children=(IntProgress(value=0, description='Converting examples to features', max=5509, style=ProgressSty…"
      ]
     },
     "metadata": {},
     "output_type": "display_data"
    },
    {
     "name": "stdout",
     "output_type": "stream",
     "text": [
      "\n"
     ]
    },
    {
     "data": {
      "application/vnd.jupyter.widget-view+json": {
       "model_id": "bf70886148644e36b04a28d1a68edc69",
       "version_major": 2,
       "version_minor": 0
      },
      "text/plain": [
       "HBox(children=(IntProgress(value=0, description='Converting examples to features', max=2, style=ProgressStyle(…"
      ]
     },
     "metadata": {},
     "output_type": "display_data"
    },
    {
     "name": "stdout",
     "output_type": "stream",
     "text": [
      "\n"
     ]
    }
   ],
   "source": [
    "\n",
    "# Convert to features\n",
    "(train_input_ids, train_input_masks, train_segment_ids, train_labels \n",
    ") = bk.convert_examples_to_features(tokenizer, train_examples, max_seq_length=max_seq_length)\n",
    "(test_input_ids, test_input_masks, test_segment_ids, test_labels\n",
    ") = bk.convert_examples_to_features(tokenizer, test_examples, max_seq_length=max_seq_length)"
   ]
  },
  {
   "cell_type": "code",
   "execution_count": 12,
   "metadata": {},
   "outputs": [
    {
     "data": {
      "text/plain": [
       "{'guid': None,\n",
       " 'text_a': \" nel lqqbstorage celtic decor,grommet window curtain,head of legend dragon with ethnic african ornate effects on grunge backdrop myth celtic design, noise reducing curtain,multi multifunction 1.curtains is delicately designed, allowing you to decorate your windows with great styles,protect your furniture, floors and walls from the sun. 2.featuring vibrant colored pattern, this eye soothing curtain can match interiors of any room. 3.soft and durable window curtains has a very soft hand feel and drapery, high quality material, durable 10 years. 4.privacy and relax your family and friends can enjoy movie nights or sports game without worrying about outside light and noise. 5.energy efficient innovative triple weave construction insulate your sunny or frozen window, give your air conditioner and energy bill a break. 6.reduce noise densely woven fabric acts as an additional sound barrier,it reduces outside noises and create a quiet and peaceful environment. widely use for perfect for window in living room, bedroom, dining room, bathroom and kitchen. color may differ slightly from photos due to different monitor settings in computer monitors display or mobile phone, filming angles, lights, sunshine ect. product sizes that measured by hand lead to the difference between about  due to everyone's measurement technique. after sale guarantee we offer 100 risk free and satisfactory after sales service. if you have any problem, support 30 days refund without reason hot sale size w63 x l ,measurements are the total of the 2 curtain panels together, the size of each panel is w31.5 x l72 ,each panel has 8 elegant metal grommets, inner diameter of grommet is 1.6 , fit well with standard or decorative curtain rods polyester material 100 polyester. material soft and smooth fabric, sturdy hemming, durable and long lasting, no loose threads. we have 10 sizes and thousands of colors for you to chose,your own picture of customization is also acceptable. meet various needs and purposes of different people. multiple functions these soft and durable curtains are made by innovative technology durable yarn, high performance on room darkening, thermal insulated, noise reducing, energy saving efficiency and privacy protection unique home decor these customized curtain panels will decorate your windows and rooms with new great effect, suits for contemporary, traditional, vintage rustic, victorian home styles. let these breatheable and airy blackout curtains add amazing look to host and guest best service 10 years quality warranty and 30 days money back guarantee for return policy. machine washable for easy care, use only non chlorine bleach when needed, tumble dry low and warm iron as needed. \",\n",
       " 'text_b': None,\n",
       " 'label': 0}"
      ]
     },
     "execution_count": 12,
     "metadata": {},
     "output_type": "execute_result"
    }
   ],
   "source": [
    "train_examples[0].__dict__"
   ]
  },
  {
   "cell_type": "code",
   "execution_count": null,
   "metadata": {},
   "outputs": [],
   "source": [
    "\n"
   ]
  },
  {
   "cell_type": "code",
   "execution_count": 13,
   "metadata": {},
   "outputs": [],
   "source": [
    "def build_model(max_seq_length): \n",
    "    in_id = tf.keras.layers.Input(shape=(max_seq_length,), name=\"input_ids\")\n",
    "    in_mask = tf.keras.layers.Input(shape=(max_seq_length,), name=\"input_masks\")\n",
    "    in_segment = tf.keras.layers.Input(shape=(max_seq_length,), name=\"segment_ids\")\n",
    "    bert_inputs = [in_id, in_mask, in_segment]\n",
    "    def auc(y_true, y_pred):\n",
    "        auc = tf.metrics.auc(y_true, y_pred)[1]\n",
    "#     K.get_session().run(tf.local_variables_initializer())\n",
    "        return auc\n",
    "    bert_output = bk.BertLayer(n_fine_tune_layers=2, pooling=\"first\")(bert_inputs)\n",
    "    dense = tf.keras.layers.Dense(256, activation='relu')(bert_output)\n",
    "    pred = tf.keras.layers.Dense(1, activation='sigmoid')(dense)\n",
    "    \n",
    "    model = tf.keras.models.Model(inputs=bert_inputs, outputs=pred)\n",
    "    model.compile(loss='binary_crossentropy', optimizer='adam', metrics=[auc])\n",
    "    model.summary()\n",
    "    \n",
    "    return model"
   ]
  },
  {
   "cell_type": "code",
   "execution_count": 14,
   "metadata": {},
   "outputs": [],
   "source": [
    "METRIC_THRESHOLD = 0.99\n",
    "LOSS_THRESHOLD = 0.015\n",
    "class myCallback(tf.keras.callbacks.Callback): \n",
    "    def on_batch_end(self, batch, logs): \n",
    "        if(logs.get('auc') > METRIC_THRESHOLD and logs.get('loss')<LOSS_THRESHOLD):   \n",
    "          print(\"\\nReached %2.2f%% auc, so stopping training!!\" %(METRIC_THRESHOLD*100)) \n",
    "          self.model.stop_training = True"
   ]
  },
  {
   "cell_type": "code",
   "execution_count": 15,
   "metadata": {},
   "outputs": [
    {
     "name": "stdout",
     "output_type": "stream",
     "text": [
      "__________________________________________________________________________________________________\n",
      "Layer (type)                    Output Shape         Param #     Connected to                     \n",
      "==================================================================================================\n",
      "input_ids (InputLayer)          (None, 512)          0                                            \n",
      "__________________________________________________________________________________________________\n",
      "input_masks (InputLayer)        (None, 512)          0                                            \n",
      "__________________________________________________________________________________________________\n",
      "segment_ids (InputLayer)        (None, 512)          0                                            \n",
      "__________________________________________________________________________________________________\n",
      "bert_layer (BertLayer)          (None, 768)          110104890   input_ids[0][0]                  \n",
      "                                                                 input_masks[0][0]                \n",
      "                                                                 segment_ids[0][0]                \n",
      "__________________________________________________________________________________________________\n",
      "dense (Dense)                   (None, 256)          196864      bert_layer[0][0]                 \n",
      "__________________________________________________________________________________________________\n",
      "dense_1 (Dense)                 (None, 1)            257         dense[0][0]                      \n",
      "==================================================================================================\n",
      "Total params: 110,302,011\n",
      "Trainable params: 14,963,457\n",
      "Non-trainable params: 95,338,554\n",
      "__________________________________________________________________________________________________\n"
     ]
    }
   ],
   "source": [
    "model = build_model(max_seq_length)"
   ]
  },
  {
   "cell_type": "code",
   "execution_count": 16,
   "metadata": {},
   "outputs": [
    {
     "name": "stdout",
     "output_type": "stream",
     "text": [
      "Train on 5509 samples, validate on 2 samples\n",
      "Epoch 1/8\n",
      "5509/5509 [==============================] - 270s 49ms/sample - loss: 0.2650 - auc: 0.9036 - val_loss: 0.0146 - val_auc: 0.9624\n",
      "Epoch 2/8\n",
      "5509/5509 [==============================] - 267s 49ms/sample - loss: 0.1538 - auc: 0.9683 - val_loss: 0.0016 - val_auc: 0.9705\n",
      "Epoch 3/8\n",
      "5509/5509 [==============================] - 268s 49ms/sample - loss: 0.1140 - auc: 0.9727 - val_loss: 0.0025 - val_auc: 0.9756\n",
      "Epoch 4/8\n",
      "5509/5509 [==============================] - 268s 49ms/sample - loss: 0.0660 - auc: 0.9788 - val_loss: 0.0592 - val_auc: 0.9810\n",
      "Epoch 5/8\n",
      "5509/5509 [==============================] - 267s 49ms/sample - loss: 0.0538 - auc: 0.9829 - val_loss: 0.0705 - val_auc: 0.9842\n",
      "Epoch 6/8\n",
      "5509/5509 [==============================] - 267s 49ms/sample - loss: 0.0599 - auc: 0.9851 - val_loss: 0.0016 - val_auc: 0.9861\n",
      "Epoch 7/8\n",
      "5509/5509 [==============================] - 268s 49ms/sample - loss: 0.0463 - auc: 0.9870 - val_loss: 2.3628e-04 - val_auc: 0.9877\n",
      "Epoch 8/8\n",
      "5509/5509 [==============================] - 267s 49ms/sample - loss: 0.0495 - auc: 0.9882 - val_loss: 0.0020 - val_auc: 0.9886\n"
     ]
    },
    {
     "data": {
      "text/plain": [
       "<tensorflow.python.keras.callbacks.History at 0x7f1d3d6a5278>"
      ]
     },
     "execution_count": 16,
     "metadata": {},
     "output_type": "execute_result"
    }
   ],
   "source": [
    "# Initialize session\n",
    "batch_size = 24\n",
    "sess = tf.Session()\n",
    "# Instantiate variables\n",
    "bk.initialize_vars(sess)\n",
    "tb = tf.compat.v1.keras.callbacks.TensorBoard(log_dir='./logs', histogram_freq=0, batch_size=batch_size, write_graph=True, write_grads=False, write_images=False, embeddings_freq=0, embeddings_layer_names=None, embeddings_metadata=None, embeddings_data=None, update_freq='batch')\n",
    "stop98 = myCallback()\n",
    "model.fit(\n",
    "    [train_input_ids, train_input_masks, train_segment_ids], \n",
    "    train_labels,\n",
    "    validation_data=([test_input_ids, test_input_masks, test_segment_ids], test_labels),\n",
    "    callbacks = [ tb, stop98], #, \n",
    "    epochs=8,\n",
    "    batch_size=batch_size\n",
    ")"
   ]
  },
  {
   "cell_type": "code",
   "execution_count": 17,
   "metadata": {},
   "outputs": [],
   "source": [
    "model.save('restricted.h5')"
   ]
  },
  {
   "cell_type": "code",
   "execution_count": 18,
   "metadata": {},
   "outputs": [],
   "source": [
    "df_subm= pd.read_csv('../dataset/public_test_features.csv', index_col='ID')\n",
    "df_subm = df_subm.drop(columns=drop_columns)\n",
    "df_subm = df_subm.fillna(\"\")\n",
    "\n",
    "text_subm = df_subm[cols].apply(' '.join, axis=1)\n"
   ]
  },
  {
   "cell_type": "code",
   "execution_count": 19,
   "metadata": {},
   "outputs": [],
   "source": [
    "texts_subm = cleanup(text_subm)"
   ]
  },
  {
   "cell_type": "code",
   "execution_count": 20,
   "metadata": {},
   "outputs": [],
   "source": [
    "subm_examples = bk.convert_text_to_examples(texts_subm, [0]*len(texts_subm))"
   ]
  },
  {
   "cell_type": "code",
   "execution_count": null,
   "metadata": {},
   "outputs": [],
   "source": []
  },
  {
   "cell_type": "code",
   "execution_count": null,
   "metadata": {},
   "outputs": [],
   "source": []
  },
  {
   "cell_type": "code",
   "execution_count": 21,
   "metadata": {},
   "outputs": [
    {
     "data": {
      "application/vnd.jupyter.widget-view+json": {
       "model_id": "c2eeec595cfd410eb7f5ce75aaeeb0c6",
       "version_major": 2,
       "version_minor": 0
      },
      "text/plain": [
       "HBox(children=(IntProgress(value=0, description='Converting examples to features', max=2352, style=ProgressSty…"
      ]
     },
     "metadata": {},
     "output_type": "display_data"
    },
    {
     "name": "stdout",
     "output_type": "stream",
     "text": [
      "\n"
     ]
    }
   ],
   "source": [
    "(subm_input_ids, subm_input_masks, subm_segment_ids, subm_labels\n",
    ") = bk.convert_examples_to_features(tokenizer, subm_examples, max_seq_length=max_seq_length)"
   ]
  },
  {
   "cell_type": "code",
   "execution_count": 22,
   "metadata": {},
   "outputs": [
    {
     "data": {
      "text/plain": [
       "' nel vintage mama e hija amor corazon cadena collar mujeres dia de la madre regalo especificaciones disea o de mama e hija, colgante con forma de coraza3n. hecho de material de aleacia3n de alta calidad con mano de obra fina. regalo perfecto para el daa de la madre u otras ocasiones. tipo collar ganero mujeres tema estilo vintage material aleacia3n de ocasiones fiesta, daa de la madre, regalo, vida diaria, etc. caracterasticas colgante de coraza3n, patra3n de letras, regalo para madre longitud de la cadena  19,69 pulgadas 1,97 pulgadas aprox. notas debido a la diferencia de configuracia3n de la luz y la pantalla, el color del artaculo puede ser ligeramente diferente al de las ima genes. puede haber una ligera diferencia de dimensia3n debido a las diferentes medidas manuales. el paquete incluye 1 x collar item specifics fino o de moda moda tipo de articulo collares nombre de la marca bluelans estilo trendy forma patron carta tipo de cadena cadena de eslabones tamano colgante 5cm compatibilidad totalmente compatible genero mujeres se puede personalizar no material metal tipo de metales aleacion de zinc tipo de collar collares pendientes numero de modelo 31147 fino o de moda moda tipo de articulo collares nombre de la marca bluelans estilo trendy forma patron carta '"
      ]
     },
     "execution_count": 22,
     "metadata": {},
     "output_type": "execute_result"
    }
   ],
   "source": [
    "subm_examples[0].text_a"
   ]
  },
  {
   "cell_type": "code",
   "execution_count": 23,
   "metadata": {},
   "outputs": [],
   "source": [
    "testCount = len(subm_input_ids)\n",
    "def pickMax(arr):\n",
    "  m = max(arr)\n",
    "  return [x for x in arr]\n",
    "\n",
    "threshold = 0.4\n",
    "def tolabel(arr):\n",
    "  # return int(max(arr)>=threshold)\n",
    "  return max(arr)\n",
    "    \n"
   ]
  },
  {
   "cell_type": "code",
   "execution_count": 24,
   "metadata": {},
   "outputs": [],
   "source": [
    "predictions = model.predict([subm_input_ids[0:testCount], \n",
    "                                subm_input_masks[0:testCount], \n",
    "                                subm_segment_ids[0:testCount]])"
   ]
  },
  {
   "cell_type": "code",
   "execution_count": 25,
   "metadata": {},
   "outputs": [],
   "source": [
    "pred = [ tolabel(p) for p in predictions]"
   ]
  },
  {
   "cell_type": "code",
   "execution_count": 26,
   "metadata": {},
   "outputs": [],
   "source": [
    "results = pd.DataFrame({\"text\":texts_subm, \"label\":pred})"
   ]
  },
  {
   "cell_type": "code",
   "execution_count": 27,
   "metadata": {},
   "outputs": [
    {
     "name": "stderr",
     "output_type": "stream",
     "text": [
      "/home/drmegavolt/miniconda3/envs/restricted_products/lib/python3.7/site-packages/ipykernel_launcher.py:1: UserWarning: Boolean Series key will be reindexed to match DataFrame index.\n",
      "  \"\"\"Entry point for launching an IPython kernel.\n"
     ]
    },
    {
     "data": {
      "text/html": [
       "<div>\n",
       "<style scoped>\n",
       "    .dataframe tbody tr th:only-of-type {\n",
       "        vertical-align: middle;\n",
       "    }\n",
       "\n",
       "    .dataframe tbody tr th {\n",
       "        vertical-align: top;\n",
       "    }\n",
       "\n",
       "    .dataframe thead th {\n",
       "        text-align: right;\n",
       "    }\n",
       "</style>\n",
       "<table border=\"1\" class=\"dataframe\">\n",
       "  <thead>\n",
       "    <tr style=\"text-align: right;\">\n",
       "      <th></th>\n",
       "      <th>text</th>\n",
       "      <th>label</th>\n",
       "    </tr>\n",
       "    <tr>\n",
       "      <th>ID</th>\n",
       "      <th></th>\n",
       "      <th></th>\n",
       "    </tr>\n",
       "  </thead>\n",
       "  <tbody>\n",
       "    <tr>\n",
       "      <th>2195</th>\n",
       "      <td>nel achunlan men's long sleeve cotton hoodie aeoeaae e educated drug dealer nurse life 8 sweatshirtnavy sizing inch s chest 18 length 24.5 m chest 20 length 25.5 l chest 21.5 length 26.5 xl chest 24 length 28 xxl chest 26 length 28.7 orders are shipped usps and could take  days not including processing time otton machine wash without fade unique design, short sleeve printed image logo on front custom tshirt with your favorite picture, logo and image</td>\n",
       "      <td>0.038470</td>\n",
       "    </tr>\n",
       "    <tr>\n",
       "      <th>1681</th>\n",
       "      <td>nel mary kay mk signaturei  waterproof mascara,black.33 fl. oz. featuring smart wiper technology body scrubs mary kay mk,skin care products for women,skin care for women,skin care for men,body scrubs for women</td>\n",
       "      <td>0.036399</td>\n",
       "    </tr>\n",
       "    <tr>\n",
       "      <th>3575</th>\n",
       "      <td>nel hismith premium sex machine, standard hismith focus on manufacturing sex machine, we produce machine series and matched accessories.we choose the best long life and mute motor as the core of the machine,ensure the power of our products,30 n cm driving force,never stop when encounter resistance.our power supply can support wide voltage 110 250v ,power switch with precise dial. as your wish,the thrust depth can be changed through change the postion of the torsion bar.besides,you can change the masburation postion,by change the postion of support connector.the body of the machine are aluminium alloy material,with high density anodizing technology.every component is produced by precision high precision cnc,sla laser series machine,and mirageblack painted surfaces,bright in color and durable,surfaces look fresh as a new one after long time use.solid stainless chromium plated iron rod support strength is over  .working life  years with correct usage and cleansing maintenance. produc...</td>\n",
       "      <td>0.046861</td>\n",
       "    </tr>\n",
       "    <tr>\n",
       "      <th>3039</th>\n",
       "      <td>nel hismith premium sex machine, fucking machine with remote control, 8 silicone dildo including hismith focus on manufacturing sex machine, we produce machine series and matched accessories.we choose the best long life and mute motor as the core of the machine,ensure the power of our products,30 n cm driving force,never stop when encounter resistance.our power supply can support wide voltage 110 250v ,power switch with precise dial. as your wish,the thrust depth can be changed through change the postion of the torsion bar.besides,you can change the masburation postion,by change the postion of support connector.the body of the machine are aluminium alloy material,with high density anodizing technology.every component is produced by precision high precision cnc,sla laser series machine,and mirageblack painted surfaces,bright in color and durable,surfaces look fresh as a new one after long time use.solid stainless chromium plated iron rod support strength is over  .working life  yea...</td>\n",
       "      <td>0.038187</td>\n",
       "    </tr>\n",
       "    <tr>\n",
       "      <th>4607</th>\n",
       "      <td>nel dadou blue pens double ended did lo amal male female dong pens dadou functions promotes healthy ro tate function head designed for ultimate pleasure and ro tate st mul ti n made with the highest quality material available easy to clean and store super stretchy and silky smooth to the touch ergonomically designed to perfectly rest on the ro tate make all of your aial fantasies come true tips 1. please allow slight measurement deviation for the data lean before and after each use recommended to use with lubricants ompatible with all lubricant types wash with toy cleaner or warm water. do not shy away from this great aial as it can be used by both men and women. the silky smooth texture helps glide the bitt plug right in. featur ing a re listic tip, you are guaranteed to hit all the right pleasure points. aial plug has nice size and comfortable shape, made of medical silicone, safty, nontoxic and odorless. apply to both beginners and advanced users for explosive g p r gasm and ai...</td>\n",
       "      <td>0.935076</td>\n",
       "    </tr>\n",
       "    <tr>\n",
       "      <th>4246</th>\n",
       "      <td>nel k anger vocc wire c o i l 1.5ohm 5pcs 5 x kanger vocc coil 1.5ohm</td>\n",
       "      <td>0.035374</td>\n",
       "    </tr>\n",
       "    <tr>\n",
       "      <th>4815</th>\n",
       "      <td>nel arenaeurt mama like the one i get toddler baby boy girl cartoon bodysuit playsuit outfits casual clothes it would be a great wonderful gift for your honey baby material 100 cotton imported 100 cotton new in fashion cute stylish design,your baby will love it</td>\n",
       "      <td>0.036609</td>\n",
       "    </tr>\n",
       "    <tr>\n",
       "      <th>1225</th>\n",
       "      <td>nel miquelrius school agenda  bound dia pagina floral</td>\n",
       "      <td>0.038410</td>\n",
       "    </tr>\n",
       "    <tr>\n",
       "      <th>6071</th>\n",
       "      <td>nel external usb3.0 blu ray burner drive usb c aluminum portable cd dvd bd burner writer 3d 6x blu ray disc playback super fast transmission for windows mac os laptop pc computer silver the tpfeel external slim aluminum blu ray drive is designed to help you quickly read and burner cds, dvds and bluray discs bd . usb interface usb3.0 usb type c dimension  w x d x h weight 14oz note 1.player software on your computer must support blu ray format when playing blu ray discs. 2.remove cable and restart computer in case the drive is not recognized. wait for  seconds of loading time after inserted a drive. 3.this blu ray drive could not be used in the tablets, like surface series due to low voltage condition in some tablets . avoid using usb hub between drive and computer. 4.we strongly recommend using professional software to play this product, such as nero. wiondows powerdvd anydvd ,mac os mac blu ray player player software is not included. readable format cd vcd,cd rom,cd r,cd rw dvd d...</td>\n",
       "      <td>0.031890</td>\n",
       "    </tr>\n",
       "    <tr>\n",
       "      <th>6464</th>\n",
       "      <td>nel zrb silicone realistic penis panties wearable dildo for female lesbian transvestite women become a male adult sex toys material medical silicone color please refer to the picture weight   size s , m , l size table s waist circumference  , leg circumference 34cm, penis length 12cm, penis diameter 3.6cm. m waist circumference  , leg circumference 34cm, penis length 15cm, penis diameter 4cm. l waist circumference  , leg circumference 34cm, penis length 18cm, penis diameter 4cm. package contain panties x 1 if you have any requirements for the product, please do contact us in time, thanks the scrotum and penis parts of this product are solid. waist circumference range  . upturned penis has 3 sizes, s length 12cm, diameter 3.6cm , m length 15cm, diameter 4cm , l length 18cm, diameter  food grade silicone, healthy and highly stretchable, can easy reach 1.5 times. no fading ,not easy to tear, easy to clean and more durable. the outside of the dildo is smooth and sleek with a slight cu...</td>\n",
       "      <td>0.042992</td>\n",
       "    </tr>\n",
       "    <tr>\n",
       "      <th>1241</th>\n",
       "      <td>nel esdfj shirt vib rator adult toys vib rators new unique brushes design for better c litoris stimulation plus g spot vib rator powerful dual motors sexegg toy for women,as picture</td>\n",
       "      <td>0.337663</td>\n",
       "    </tr>\n",
       "    <tr>\n",
       "      <th>1561</th>\n",
       "      <td>nel sekslife 100 high quality wireless g spotter waterproof rotating thrusting multi speed wand vibrant for women 10 speeds rechargeable waterproof discreet package</td>\n",
       "      <td>0.548581</td>\n",
       "    </tr>\n",
       "    <tr>\n",
       "      <th>678</th>\n",
       "      <td>nel leather whip spank kit torture punish discipline trainer kit color red product information length 38cm material leather, metal, acrylic color red, black dear friends we have a very good quality for our product, please buy our product with confidence we provide you with private shipping, so there is no one knows what you bought. if you want to know any more features about this item, please kindly let us know by leaving messages or sending emails, and we may you have a nice day thank you so much for reading this. best regards it's good to put your partner at ease when you're just about to xxx her. it's a great way to spice up your relationship. she will enjoy it very much. she needs a master what are you waiting for</td>\n",
       "      <td>0.268187</td>\n",
       "    </tr>\n",
       "    <tr>\n",
       "      <th>7517</th>\n",
       "      <td>nel waterproof remote control double massa ger vib rat or vag nalne balls toy</td>\n",
       "      <td>0.177978</td>\n",
       "    </tr>\n",
       "    <tr>\n",
       "      <th>900</th>\n",
       "      <td>nel virginity cage penis lock anti masturbate bird cage stainless steel cage lock diameter rings o   age inside diameter 33mm, length 60mm easy to put on due to the plug in system the penis cage is mounted and set up very quickly with 5 included penis rings the penis cage can be perfectly adjusted to the penis. tips for cleaning some mild soap or a special toy cleaner and plenty of water is enough. immediately its pores are clean and ready for the next use. breathable quality the hollow out design allows your penis breathe freely even in the restraint. nontoxic, can be safely used. the smooth surface will not hurt your body. comfortable, sturdy and not easy to fall off, bringing all round care.hypoallergenic and durable different sizes available 38mm , 41mm , 44mm , 47mm , 50mm , choose the suitable inner diameter, perfect and comfortably attach to your penis, suitable for most people. hand buffing, more sleek, more comfortable and safe. very firm cage, lock your man up</td>\n",
       "      <td>0.033732</td>\n",
       "    </tr>\n",
       "    <tr>\n",
       "      <th>3646</th>\n",
       "      <td>nel 16mg direct 3d lifelike realistic silicone male toys for men clean with soap and warm water before and after each use. full length about 100cm leg length 75 cm waist 62 cm hip 81 cm thigh circumference 40cm calf circumference 27cm feet long 18 cm foot width 8 cm best gift for your partner characteristic life size,realistic,soft and flexible,2 entrances give you a different experience,sexy love easy to clean.100 quality assurance. healthy material made of medical grade silicone tpe,soft touch and non toxic,odorless and safe to human body solid skeleton metal alloy skeleton,flexible joints with solid skeleton, no fracture, no deformation,available to create postures that you like delivery 100 private, perfect lower body</td>\n",
       "      <td>0.406132</td>\n",
       "    </tr>\n",
       "    <tr>\n",
       "      <th>2202</th>\n",
       "      <td>nel esdfj shirt woman wireless vib rator c litoral stimulator vib rator egg waterproof quietly sexegg toys for women adult sexegg machine sexegg products,pink</td>\n",
       "      <td>0.752078</td>\n",
       "    </tr>\n",
       "    <tr>\n",
       "      <th>310</th>\n",
       "      <td>nel kmjhc tshirt aircraft cup se xy automatic penis en largement vibrator s for men electric penis pump male penile erection training penis ex tend se x toys shop,black oanzka product description discreet package six toys for women.color black and white,battery brand name kmjhc vibrators,item type name electric penis pump,material male penile erection training se x toys for men,commodity quality certification this model number package discreet packaging,s xually suggestive</td>\n",
       "      <td>0.078458</td>\n",
       "    </tr>\n",
       "    <tr>\n",
       "      <th>6662</th>\n",
       "      <td>nel chongshan mountain frequency heating vibrador wireless remote wearable invisible privacy comfortable funny toys for women,with heating charging type usb charging product function 10 frequencies product material silica gel maximum noise 30 decibels waterproof or not waterproof product weight   product size  whole body waterproof can be used in bathroom or swimming pool 10 frequency switching with different intensity medical silica gel, safe and reassuring this is a very good gift for your girlfriend. intelligent heating 48 degrees, warmer fun</td>\n",
       "      <td>0.127664</td>\n",
       "    </tr>\n",
       "    <tr>\n",
       "      <th>5560</th>\n",
       "      <td>nel aaoee einothi eadiaaaeuiue ioca einothi, iadee, edueuy, oedaoaiey d.28 aaoee kitchen products</td>\n",
       "      <td>0.044361</td>\n",
       "    </tr>\n",
       "    <tr>\n",
       "      <th>5563</th>\n",
       "      <td>nel koungyun soft di dlos hands free flexible toys for women men beginners styuty material pvc environmentally friendly materials manual operation mode total lenght app package includes 1 x pc</td>\n",
       "      <td>0.086181</td>\n",
       "    </tr>\n",
       "    <tr>\n",
       "      <th>2591</th>\n",
       "      <td>nel trimigou 9.44 inch real feel skin body care tool with suction cup for hand free play 100 brand new products with discreet shipping you said that you are still single it doesn't matter, immds automatic intelligent remote control sex machine is enough powerful to bring you the climax of sex. you can still enjoy being single, but your body deserves to be relaxed. you said that you are married this is not a problem, a good sex toy can extend the prelude and warm up the relationship between husband and wife quickly. product parameters total length 9.44 inches 24 cm effective length 7.1 inches 18 cm diameter 1.65 inches 4.2 cm handle  weight  rams order now safety factor it can reach length 9.44 inch,you can try,enough fun. unique design water spray design, its surface is very smooth, easy to use. quality materials high quality pvc has no unpleasant smell, such as refreshing air, stimulating atmosphere, anti interference rubber and so on. strong suction cup base upgraded suction cup...</td>\n",
       "      <td>0.035428</td>\n",
       "    </tr>\n",
       "    <tr>\n",
       "      <th>6988</th>\n",
       "      <td>nel goulx t s mini g spot dolphin jump egg vibrador waterproof wireless pocket vibradors adult sexc erotic toys for female weight  ,commodity quality certification 3c, ce model number 0023 color red blue orange green,type bullet material plastic,size l12 d2.5 cm item type vibrador</td>\n",
       "      <td>0.058895</td>\n",
       "    </tr>\n",
       "    <tr>\n",
       "      <th>4836</th>\n",
       "      <td>nel realistic dildos hosed hosed 12.99 inch anal snake, graduated bead sexual wellness 1 color black product description size  1.96inch weight large   note recommended for use with lubricants. keep clean before and after use. keep dry and keep in a secret place away from children. if you purchased this product will be delivered within  business days if the timeout has not arrived, please contact us in time. with the other sticks more visual stimulation more exciting than the real friction to the private parts easily stimulate the sensitive area of the mouth of the mouth usually not easy tostimulate the site the form, its gland and the fine veining on the shaft ... all in all he is a really thoroughly enjoyable guy. what particularly stands out positively in this dildo is the fact that it is extremely flexible over the full length and thus actually joins in every imaginable fun. solid high quality silicone which is very hygienic and skin friendly on account of the material used. mo...</td>\n",
       "      <td>0.116183</td>\n",
       "    </tr>\n",
       "    <tr>\n",
       "      <th>922</th>\n",
       "      <td>nel sept women's spa koke jorge resurrecaon merodio t shirt pink</td>\n",
       "      <td>0.045485</td>\n",
       "    </tr>\n",
       "    <tr>\n",
       "      <th>7761</th>\n",
       "      <td>nel light up passion multispeed silver v ibrating love egg bullets waterproof vibrators jump v ibrating eggs for women for bedroom adult play random color say goodbye to embarrassing sex, it's time you feel like and perform like superman in the bedroom boost your confidence and finally enjoy sex and pleasure the way it was meant to be enjoyed. privacy of the product the product has been strictly packaged and shipped confidentially reat for player or beginners,soft, pleasurable</td>\n",
       "      <td>0.405821</td>\n",
       "    </tr>\n",
       "    <tr>\n",
       "      <th>6101</th>\n",
       "      <td>nel fgsjej high end fashion ultra light reading glasses female hd old fashioned anti blue light old fashioned glasses color pink gold, size 2.0x our latest news in the store our philosophy is to provide value for money, durability of goods, easy return and refund policy after sales customer service 24 hour, customer satisfaction, 100 satisfaction guarantee, if you are satisfied with our project and customer service, please leave a good feedback comment if you are not satisfied with any of the circumstances, please contact us through the amazon mail system and give us an opportunity to make up for any potential errors, we will do our best to resolve any issues i hope you have a pleasant shopping experience. sincere seller to avoid damage, never clean your reading glasses with paper towels or clothing or alcohol, and also avoid using household detergents or soaps. while a few mild soaps don't harm lenses, today's extra strength soaps are powerful enough to slowly disintegrate lens c...</td>\n",
       "      <td>0.040244</td>\n",
       "    </tr>\n",
       "    <tr>\n",
       "      <th>4414</th>\n",
       "      <td>nel sekslife 100 high quality silent rotating thrusting rabbit viborators for women 7 multi frequency modes discreet package</td>\n",
       "      <td>0.090290</td>\n",
       "    </tr>\n",
       "    <tr>\n",
       "      <th>6252</th>\n",
       "      <td>nel popular wireless remote wearable viberate famale toy strongest therapuetic muti speed electric mass age wand with heating fuction neck,shoulder,back,foot and muscle ache recovery by fashion 1958 popular wireless remote wearable viberate famale toy strongest therapuetic muti speed electric mass age wand with heating fuction neck,shoulder,back,foot and muscle ache recovery by fashion 1958</td>\n",
       "      <td>0.038319</td>\n",
       "    </tr>\n",
       "    <tr>\n",
       "      <th>4927</th>\n",
       "      <td>nel 2 set lot purple pu leather handcuffs ankel cuffs sex products erotic toys for sex couple,sex game bondage cuffs sex toys material pu sexually suggestive no obscene picture no funcion bondage toys,leather harness sex tools product category bed restraints bondage toys color purple itemportuguese algemas,sexo jogos,algema,erotico brinquedo,produtos eroticos item spanish juguetes sexuales esposas,juguetes eroticos,juegos para adultos item french menotte sexe,menottes occasion nightclub, bedroom,sex love games moulded directly from the man himself, and cast from increibly life like ultraskyn material, every vein, curve and bulge of this replica looks and feels like your fantasy come to life. maintaining your dildo is easy, just wash well with soap and water after use, let it dry completely before storage, and always use a good water based lube to keep things slick. if it gets tacky, just sprinkle liberally with some of the included ultraskyn refresh powder or cornstarch to restore...</td>\n",
       "      <td>0.031815</td>\n",
       "    </tr>\n",
       "    <tr>\n",
       "      <th>5585</th>\n",
       "      <td>nel super soft skin feeling 12 speed g s'potter vi'brantor for women silicone waterproof toy female fun six toys for women item type vi'brandors material silicone commodity quality certification 3c model number r 155 ually suggestive no type g spotter product name vi'brandor item type six toys for women color as shown size  arging method usb charging item type vi'brandors material silicone commodity quality certification 3c serect packaging chargingi  susb charging</td>\n",
       "      <td>0.920810</td>\n",
       "    </tr>\n",
       "    <tr>\n",
       "      <th>5303</th>\n",
       "      <td>nel zrb painted silicone realistic penis panties wearable dildo for female lesbian, transvestite pants crossdresser cosplay adult sex toys material medical silicone color please refer to the picture weight   size s , m , l size table s waist circumference  , leg circumference 32cm, penis length 12cm, penis diameter 3.6cm. m waist circumference  , leg circumference 32cm, penis length 15cm, penis diameter 4cm. l waist circumference  , leg circumference 32cm, penis length 18cm, penis diameter 4cm. package contain panties x 1 if you have any requirements for the product, please do contact us in time, thanks the scrotum and penis parts of this product are solid. waist circumference range  . upturned penis has 3 sizes, s length 12cm, diameter 3.6cm , m length 15cm, diameter 4cm , l length 18cm, diameter  food grade silicone, healthy and highly stretchable, can easy reach 1.5 times. no fading ,not easy to tear, easy to clean and more durable. the outside of the dildo is smooth and sleek ...</td>\n",
       "      <td>0.042779</td>\n",
       "    </tr>\n",
       "    <tr>\n",
       "      <th>6911</th>\n",
       "      <td>nel reusable for male time delay pennis sleeve soft cock rings intimate toys waterproof,soft and comfortable,easy clean,easy to use,give you more fun on your sex time wide 1.5cm feature 1 reusable items name tpe penis rings condom thickness thick feature 2 waterproof material tpe inner rings 2cm colors clear blue black item type condoms fragrance rubber functions 1 time delay functions 2 penis enlargement sexually suggestive no size normal size packaging privacy package no sex word chastity device,suppress your desire,waterproof,reusable,help you to be a gentleman waterproof,soft and comfortable,easy clean,easy to use,give you more fun on your sex time packaging privacy package no sex word occasion roleplay and scenes,function sex aid cover erectile dysfunction</td>\n",
       "      <td>0.052304</td>\n",
       "    </tr>\n",
       "    <tr>\n",
       "      <th>2209</th>\n",
       "      <td>nel mutmi tstimulator toy g for vibration silicone spot, six woman finger shake using women size  tem x type vi brar tor certification ce quality material silicone commodity type package color box pink rechargeable power usb colors wine red vibration waterproof waterproof speeds functions 20 size  tem x type vi brar tor certification ce quality material silicone commodity type package color box pink rechargeable power usb colors wine red vibration waterproof waterproof speeds functions 20</td>\n",
       "      <td>0.948043</td>\n",
       "    </tr>\n",
       "    <tr>\n",
       "      <th>6182</th>\n",
       "      <td>nel waterproof vibra tion coc kring 38935 only sold in yuejun store us unit weight   product volume  aterial silicone abs product name silicone lock ring control type touch body size  olor purple black made of high quality silicone , 100 waterproof, soft, non poisonous and odourless. safe to use. strong vibration, crisp and trembling every inch of skin inside and outside attack, pleasure from the inside out firm lock essence, let you fight longer the noise is very low, about 45 decibels, almost silent, making you intoxicated with bliss</td>\n",
       "      <td>0.193694</td>\n",
       "    </tr>\n",
       "    <tr>\n",
       "      <th>2429</th>\n",
       "      <td>nel free shipping wyin w ultiple co2 regulator connector 1 to 2 multi way wyin w onector regulador de co2 multiple del 1 al 2 de multiples vias conector multiple regulador de co2 es de 1 a 2 multi way conector regulador de co2. puede utilizar un sistema de co2 para pecera porque conector del regulador de co2. feature one piece design, beautiful and convenient. each connector has independent needle valve. you can adjust output independently and do not worry about uneven output. with professional check valve co2 bubble counter, adjust more quickly. safe and accurate, it is suitable for co2 system.product attributes material aluminium alloycolor as picture showedquantity 1 pcspackage include  to 2 multi way co2 regulator connector note 1.due to the light and screen difference, the item's color may be slightly different from the pictures. please understand. make sure you don't mind before you bid.2.please allow  differences due to manual measurement. new sent with tracking service con...</td>\n",
       "      <td>0.037003</td>\n",
       "    </tr>\n",
       "    <tr>\n",
       "      <th>2668</th>\n",
       "      <td>nel stimulating cage lock virginity cage male chastity cage stainless steel cage lock diameter rings o   due to the plug in system the penis cage is mounted and set up very quickly with 5 included penis rings the penis cage can be perfectly adjusted to the penis. some mild soap or a special toy cleaner and plenty of water is enough. immediately its pores are clean and ready for the next use. breathable quality the hollow out design allows your penis breathe freely even in the restraint. whether you have a bondage experience, handing over control to your partner, which can increase the stimulation of sexual life. nontoxic, can be safely used. the smooth surface will not hurt your body. comfortable, sturdy and not easy to fall off, bringing all round care.hypoallergenic and durable. hand buffing, more sleek, more comfortable and safe. very firm cage, lock your man up</td>\n",
       "      <td>0.098449</td>\n",
       "    </tr>\n",
       "    <tr>\n",
       "      <th>35</th>\n",
       "      <td>nel 1pcs 'xoxo' ass spanking paddle pu leather whipsexy flogger adult game fetishsex toy for couple kinky pat clap slap round and sleek design, available in a variety of sizes for most adults item type adult games model number gn 282411001 size 1pcs sexually suggestive no material pu leather obscene picture no color as picture type sex paddle properties sex products for couples item sex toys for adults function pu leather flogger user women and men place of origin china mainland ergonomic design easy to insert with the tapered tip. not easy to cause sliding with the narrow end of the insertable part, which ensures the stability. excelent soft and comfortable super soft material and special emulational design excite your partner easily and bring you both a difference expenrience. discreet packing after sales warranty everything is designed for your maximum comfort reat for all size men and beginners to advanced. discreet packaging ensures your privacy. butt plug is smooth,mellow an...</td>\n",
       "      <td>0.037437</td>\n",
       "    </tr>\n",
       "    <tr>\n",
       "      <th>5843</th>\n",
       "      <td>nel sayif 20 speeds jumping toys for women magic wand funny toys for woman toys exciting vibrador rivacy privacye,cn1078c red function 20 kinds of privacy toy frequency,commodity quality certification this,privacyually suggestive no brand name sayif, waterproof yes,obscene picture no material silicone,power by usb charging model number funny toys,</td>\n",
       "      <td>0.064665</td>\n",
       "    </tr>\n",
       "    <tr>\n",
       "      <th>3601</th>\n",
       "      <td>nel 18cm silicone realistic penis female lesbian wearable dildo fake penis panties lifelike curved penis waistline  adult sex toys with a straight erect penis, increase the pleasure. material medical silicone color please refer to the picture weight   penis length 18cm penis diameter 4cm waist circumference  leg circumference 40cm package contain panties x 1 if you have any requirements for the product, please do contact us in time, thanks the scrotum and penis parts of this product are solid. the private parts look realistic. waist circumference range  . curved penis sizes length 18cm, diameter 4cm. food grade silicone, healthy and highly stretchable, can easy reach 1.5 times. no fading ,not easy to tear, easy to clean and more durable. the outside of the dildo is smooth and sleek with a slight curve at the tip which is intended to reach her g spot or rub against his prostate. realistic appearance design in skin, full enjoyments in vision. super thin edge design ,perfectly matchi...</td>\n",
       "      <td>0.034782</td>\n",
       "    </tr>\n",
       "    <tr>\n",
       "      <th>5893</th>\n",
       "      <td>nel ultrasonic pest repeller best pest control mosquitos repellent bqypower non toxic pest control plug in home indoor and outdoor repeller get rid of insects, rats, ants, roaches</td>\n",
       "      <td>0.032550</td>\n",
       "    </tr>\n",
       "    <tr>\n",
       "      <th>6937</th>\n",
       "      <td>nel relax toy hollow watch belt type universal vibration hollow watch belt type three head plug for men and women material silica gel dermis net weight   note better effect to use it with lubricant. please clean it up before you enjoy wash with soap and water after use, let it dry completely before storage. keep it dry and save in a secret place, away from children. if you have any questions, please do not hesitate to contact us. we will try our best to solve your problem within 24 hours. if you are not satisfied click on the store name xbwsir and you will find a lot of interesting products. tpe material,flexible,durable,no smell soft, easy to bend, guaranteed to bring you happiness you can use it in the bedroom, bathroom or anywhere else it is easy to use and clean with warm water and soap packaged and shipping ultra discreet, no label signs.</td>\n",
       "      <td>0.039836</td>\n",
       "    </tr>\n",
       "    <tr>\n",
       "      <th>7495</th>\n",
       "      <td>nel zrb realistic silicone fake penis panties penis shemale pants transvestite wearable dildo crossdresser transgender adult sex toys material medical silicone color please refer to the picture weight   size s , m , l size table s waist circumference  , leg circumference 32cm, penis length 12cm, penis diameter 3.6cm. m waist circumference  , leg circumference 32cm, penis length 15cm, penis diameter 4cm. l waist circumference  , leg circumference 32cm, penis length 18cm, penis diameter 4cm. package contain panties x 1 if you have any requirements for the product, please do contact us in time, thanks the scrotum and penis parts of this product are solid. waist circumference range  . realistic penis has 3 sizes, s length 12cm, diameter 3.6cm , m length 15cm, diameter 4cm , l length 18cm, diameter  food grade silicone, healthy and highly stretchable, can easy reach 1.5 times. no fading ,not easy to tear, easy to clean and more durable. the outside of the dildo is smooth and sleek with...</td>\n",
       "      <td>0.803772</td>\n",
       "    </tr>\n",
       "    <tr>\n",
       "      <th>6936</th>\n",
       "      <td>nel 2 pcs set silicone kegel ball smart vaginalne trainer exercise vaginalne tightening love ben wa ball vi ibrator toys for woman specifications style vaginalne exercise ball material silicone color rose red size as the picture package included 1 set vaginalne exercise ball each ball is equipped with a silicone string to easily take out the ball after use the entire nova ball is made of body safe silicone which is 100 waterproof according to the kegel exercis e theory, we designed these kegel exercise courses especially to help those who want to tighten their vaginalne mucles after giving birth effective kegel exercise helps to strengthen a woman' s pc muscle pubococcygeus muscle , improving vaginalne health while bringing benefits and satisfaction discreet packing after sales warranty discreet packing ensures your privacy. after sales service supports 15 day refundment and 1 year warranty. please contact us if you have any questions.</td>\n",
       "      <td>0.909087</td>\n",
       "    </tr>\n",
       "    <tr>\n",
       "      <th>3935</th>\n",
       "      <td>nel vekkia dragon lord sonic rechargeable kids electric toothbrush, 3 modes with memory, fun easy cleaning, 31000 strokes, ipx7 waterproof, 2 min timer for age 3 , 4 soft bristles a must have sonic electric toothbrush help children to develop better skills at brushing and lifelong oral health care habits as they grow up. want child to brush teeth on their own initiative worried about rough bristles hurting teeth and gums the brush head is easy to loose, need to stop and maneuver it stay in place no idea what kind of gift to send your son daughters grandchildren on birthday, christmas or other festivals this lovely kids toothbrush gives your child a healthier and more hygienic oral care, a happy brushing time. high quality dupont soft bristles, help them have a better dental care experience, also suitable for braces. replaceable brush heads rotation fixed design, firmly stay in place, brush your teeth more assured. features usb fast charging the indicator light flashes when chargin...</td>\n",
       "      <td>0.039346</td>\n",
       "    </tr>\n",
       "    <tr>\n",
       "      <th>3660</th>\n",
       "      <td>nel aqsex 158cm body massage half body pvc silicone relaxation doll toy mariah</td>\n",
       "      <td>0.095541</td>\n",
       "    </tr>\n",
       "    <tr>\n",
       "      <th>1599</th>\n",
       "      <td>nel tasens rings 264 for men stainless steel urthral dilators urethral plug penis urethra sound tube stretchingerotic gag material metal model number tasens rtocatherin1754 a great gift to your loved one suitable size to fit your bag , convenient to carry to anywhere. discreet packing ensures your privacy.</td>\n",
       "      <td>0.370006</td>\n",
       "    </tr>\n",
       "  </tbody>\n",
       "</table>\n",
       "</div>"
      ],
      "text/plain": [
       "                                                                                                                                                                                                                                                                                                                                                                                                                                                                                                                                                                                                                                                                                                                                                                                                                                                                                                                                                                                                                                         text  \\\n",
       "ID                                                                                                                                                                                                                                                                                                                                                                                                                                                                                                                                                                                                                                                                                                                                                                                                                                                                                                                                                                                                                                              \n",
       "2195                                                                                                                                                                                                                                                                                                                                                                                                                                                                                                                                                                   nel achunlan men's long sleeve cotton hoodie aeoeaae e educated drug dealer nurse life 8 sweatshirtnavy sizing inch s chest 18 length 24.5 m chest 20 length 25.5 l chest 21.5 length 26.5 xl chest 24 length 28 xxl chest 26 length 28.7 orders are shipped usps and could take  days not including processing time otton machine wash without fade unique design, short sleeve printed image logo on front custom tshirt with your favorite picture, logo and image    \n",
       "1681                                                                                                                                                                                                                                                                                                                                                                                                                                                                                                                                                                                                                                                                                                                                                                                                                        nel mary kay mk signaturei  waterproof mascara,black.33 fl. oz. featuring smart wiper technology body scrubs mary kay mk,skin care products for women,skin care for women,skin care for men,body scrubs for women   \n",
       "3575   nel hismith premium sex machine, standard hismith focus on manufacturing sex machine, we produce machine series and matched accessories.we choose the best long life and mute motor as the core of the machine,ensure the power of our products,30 n cm driving force,never stop when encounter resistance.our power supply can support wide voltage 110 250v ,power switch with precise dial. as your wish,the thrust depth can be changed through change the postion of the torsion bar.besides,you can change the masburation postion,by change the postion of support connector.the body of the machine are aluminium alloy material,with high density anodizing technology.every component is produced by precision high precision cnc,sla laser series machine,and mirageblack painted surfaces,bright in color and durable,surfaces look fresh as a new one after long time use.solid stainless chromium plated iron rod support strength is over  .working life  years with correct usage and cleansing maintenance. produc...   \n",
       "3039   nel hismith premium sex machine, fucking machine with remote control, 8 silicone dildo including hismith focus on manufacturing sex machine, we produce machine series and matched accessories.we choose the best long life and mute motor as the core of the machine,ensure the power of our products,30 n cm driving force,never stop when encounter resistance.our power supply can support wide voltage 110 250v ,power switch with precise dial. as your wish,the thrust depth can be changed through change the postion of the torsion bar.besides,you can change the masburation postion,by change the postion of support connector.the body of the machine are aluminium alloy material,with high density anodizing technology.every component is produced by precision high precision cnc,sla laser series machine,and mirageblack painted surfaces,bright in color and durable,surfaces look fresh as a new one after long time use.solid stainless chromium plated iron rod support strength is over  .working life  yea...   \n",
       "4607   nel dadou blue pens double ended did lo amal male female dong pens dadou functions promotes healthy ro tate function head designed for ultimate pleasure and ro tate st mul ti n made with the highest quality material available easy to clean and store super stretchy and silky smooth to the touch ergonomically designed to perfectly rest on the ro tate make all of your aial fantasies come true tips 1. please allow slight measurement deviation for the data lean before and after each use recommended to use with lubricants ompatible with all lubricant types wash with toy cleaner or warm water. do not shy away from this great aial as it can be used by both men and women. the silky smooth texture helps glide the bitt plug right in. featur ing a re listic tip, you are guaranteed to hit all the right pleasure points. aial plug has nice size and comfortable shape, made of medical silicone, safty, nontoxic and odorless. apply to both beginners and advanced users for explosive g p r gasm and ai...   \n",
       "4246                                                                                                                                                                                                                                                                                                                                                                                                                                                                                                                                                                                                                                                                                                                                                                                                                                                                                                                                                                   nel k anger vocc wire c o i l 1.5ohm 5pcs 5 x kanger vocc coil 1.5ohm    \n",
       "4815                                                                                                                                                                                                                                                                                                                                                                                                                                                                                                                                                                                                                                                                                                                                                                   nel arenaeurt mama like the one i get toddler baby boy girl cartoon bodysuit playsuit outfits casual clothes it would be a great wonderful gift for your honey baby material 100 cotton imported 100 cotton new in fashion cute stylish design,your baby will love it    \n",
       "1225                                                                                                                                                                                                                                                                                                                                                                                                                                                                                                                                                                                                                                                                                                                                                                                                                                                                                                                                                                                   nel miquelrius school agenda  bound dia pagina floral    \n",
       "6071   nel external usb3.0 blu ray burner drive usb c aluminum portable cd dvd bd burner writer 3d 6x blu ray disc playback super fast transmission for windows mac os laptop pc computer silver the tpfeel external slim aluminum blu ray drive is designed to help you quickly read and burner cds, dvds and bluray discs bd . usb interface usb3.0 usb type c dimension  w x d x h weight 14oz note 1.player software on your computer must support blu ray format when playing blu ray discs. 2.remove cable and restart computer in case the drive is not recognized. wait for  seconds of loading time after inserted a drive. 3.this blu ray drive could not be used in the tablets, like surface series due to low voltage condition in some tablets . avoid using usb hub between drive and computer. 4.we strongly recommend using professional software to play this product, such as nero. wiondows powerdvd anydvd ,mac os mac blu ray player player software is not included. readable format cd vcd,cd rom,cd r,cd rw dvd d...   \n",
       "6464   nel zrb silicone realistic penis panties wearable dildo for female lesbian transvestite women become a male adult sex toys material medical silicone color please refer to the picture weight   size s , m , l size table s waist circumference  , leg circumference 34cm, penis length 12cm, penis diameter 3.6cm. m waist circumference  , leg circumference 34cm, penis length 15cm, penis diameter 4cm. l waist circumference  , leg circumference 34cm, penis length 18cm, penis diameter 4cm. package contain panties x 1 if you have any requirements for the product, please do contact us in time, thanks the scrotum and penis parts of this product are solid. waist circumference range  . upturned penis has 3 sizes, s length 12cm, diameter 3.6cm , m length 15cm, diameter 4cm , l length 18cm, diameter  food grade silicone, healthy and highly stretchable, can easy reach 1.5 times. no fading ,not easy to tear, easy to clean and more durable. the outside of the dildo is smooth and sleek with a slight cu...   \n",
       "1241                                                                                                                                                                                                                                                                                                                                                                                                                                                                                                                                                                                                                                                                                                                                                                                                                                                   nel esdfj shirt vib rator adult toys vib rators new unique brushes design for better c litoris stimulation plus g spot vib rator powerful dual motors sexegg toy for women,as picture    \n",
       "1561                                                                                                                                                                                                                                                                                                                                                                                                                                                                                                                                                                                                                                                                                                                                                                                                                                                                    nel sekslife 100 high quality wireless g spotter waterproof rotating thrusting multi speed wand vibrant for women 10 speeds rechargeable waterproof discreet package    \n",
       "678                                                                                                                                                                                                                                                                                  nel leather whip spank kit torture punish discipline trainer kit color red product information length 38cm material leather, metal, acrylic color red, black dear friends we have a very good quality for our product, please buy our product with confidence we provide you with private shipping, so there is no one knows what you bought. if you want to know any more features about this item, please kindly let us know by leaving messages or sending emails, and we may you have a nice day thank you so much for reading this. best regards it's good to put your partner at ease when you're just about to xxx her. it's a great way to spice up your relationship. she will enjoy it very much. she needs a master what are you waiting for    \n",
       "7517                                                                                                                                                                                                                                                                                                                                                                                                                                                                                                                                                                                                                                                                                                                                                                                                                                                                                                                                                           nel waterproof remote control double massa ger vib rat or vag nalne balls toy    \n",
       "900                 nel virginity cage penis lock anti masturbate bird cage stainless steel cage lock diameter rings o   age inside diameter 33mm, length 60mm easy to put on due to the plug in system the penis cage is mounted and set up very quickly with 5 included penis rings the penis cage can be perfectly adjusted to the penis. tips for cleaning some mild soap or a special toy cleaner and plenty of water is enough. immediately its pores are clean and ready for the next use. breathable quality the hollow out design allows your penis breathe freely even in the restraint. nontoxic, can be safely used. the smooth surface will not hurt your body. comfortable, sturdy and not easy to fall off, bringing all round care.hypoallergenic and durable different sizes available 38mm , 41mm , 44mm , 47mm , 50mm , choose the suitable inner diameter, perfect and comfortably attach to your penis, suitable for most people. hand buffing, more sleek, more comfortable and safe. very firm cage, lock your man up    \n",
       "3646                                                                                                                                                                                                                                                                             nel 16mg direct 3d lifelike realistic silicone male toys for men clean with soap and warm water before and after each use. full length about 100cm leg length 75 cm waist 62 cm hip 81 cm thigh circumference 40cm calf circumference 27cm feet long 18 cm foot width 8 cm best gift for your partner characteristic life size,realistic,soft and flexible,2 entrances give you a different experience,sexy love easy to clean.100 quality assurance. healthy material made of medical grade silicone tpe,soft touch and non toxic,odorless and safe to human body solid skeleton metal alloy skeleton,flexible joints with solid skeleton, no fracture, no deformation,available to create postures that you like delivery 100 private, perfect lower body    \n",
       "2202                                                                                                                                                                                                                                                                                                                                                                                                                                                                                                                                                                                                                                                                                                                                                                                                                                                                          nel esdfj shirt woman wireless vib rator c litoral stimulator vib rator egg waterproof quietly sexegg toys for women adult sexegg machine sexegg products,pink    \n",
       "310                                                                                                                                                                                                                                                                                                                                                                                                                                                                                                                                            nel kmjhc tshirt aircraft cup se xy automatic penis en largement vibrator s for men electric penis pump male penile erection training penis ex tend se x toys shop,black oanzka product description discreet package six toys for women.color black and white,battery brand name kmjhc vibrators,item type name electric penis pump,material male penile erection training se x toys for men,commodity quality certification this model number package discreet packaging,s xually suggestive    \n",
       "6662                                                                                                                                                                                                                                                                                                                                                                                                                                                                 nel chongshan mountain frequency heating vibrador wireless remote wearable invisible privacy comfortable funny toys for women,with heating charging type usb charging product function 10 frequencies product material silica gel maximum noise 30 decibels waterproof or not waterproof product weight   product size  whole body waterproof can be used in bathroom or swimming pool 10 frequency switching with different intensity medical silica gel, safe and reassuring this is a very good gift for your girlfriend. intelligent heating 48 degrees, warmer fun    \n",
       "5560                                                                                                                                                                                                                                                                                                                                                                                                                                                                                                                                                                                                                                                                                                                                                                                                                                                                                                                                       nel aaoee einothi eadiaaaeuiue ioca einothi, iadee, edueuy, oedaoaiey d.28 aaoee kitchen products    \n",
       "5563                                                                                                                                                                                                                                                                                                                                                                                                                                                                                                                                                                                                                                                                                                                                                                                                                                        nel koungyun soft di dlos hands free flexible toys for women men beginners styuty material pvc environmentally friendly materials manual operation mode total lenght app package includes 1 x pc    \n",
       "2591   nel trimigou 9.44 inch real feel skin body care tool with suction cup for hand free play 100 brand new products with discreet shipping you said that you are still single it doesn't matter, immds automatic intelligent remote control sex machine is enough powerful to bring you the climax of sex. you can still enjoy being single, but your body deserves to be relaxed. you said that you are married this is not a problem, a good sex toy can extend the prelude and warm up the relationship between husband and wife quickly. product parameters total length 9.44 inches 24 cm effective length 7.1 inches 18 cm diameter 1.65 inches 4.2 cm handle  weight  rams order now safety factor it can reach length 9.44 inch,you can try,enough fun. unique design water spray design, its surface is very smooth, easy to use. quality materials high quality pvc has no unpleasant smell, such as refreshing air, stimulating atmosphere, anti interference rubber and so on. strong suction cup base upgraded suction cup...   \n",
       "6988                                                                                                                                                                                                                                                                                                                                                                                                                                                                                                                                                                                                                                                                                                                                               nel goulx t s mini g spot dolphin jump egg vibrador waterproof wireless pocket vibradors adult sexc erotic toys for female weight  ,commodity quality certification 3c, ce model number 0023 color red blue orange green,type bullet material plastic,size l12 d2.5 cm item type vibrador    \n",
       "4836   nel realistic dildos hosed hosed 12.99 inch anal snake, graduated bead sexual wellness 1 color black product description size  1.96inch weight large   note recommended for use with lubricants. keep clean before and after use. keep dry and keep in a secret place away from children. if you purchased this product will be delivered within  business days if the timeout has not arrived, please contact us in time. with the other sticks more visual stimulation more exciting than the real friction to the private parts easily stimulate the sensitive area of the mouth of the mouth usually not easy tostimulate the site the form, its gland and the fine veining on the shaft ... all in all he is a really thoroughly enjoyable guy. what particularly stands out positively in this dildo is the fact that it is extremely flexible over the full length and thus actually joins in every imaginable fun. solid high quality silicone which is very hygienic and skin friendly on account of the material used. mo...   \n",
       "922                                                                                                                                                                                                                                                                                                                                                                                                                                                                                                                                                                                                                                                                                                                                                                                                                                                                                                                                                                         nel sept women's spa koke jorge resurrecaon merodio t shirt pink    \n",
       "7761                                                                                                                                                                                                                                                                                                                                                                                                                                                                                                                                       nel light up passion multispeed silver v ibrating love egg bullets waterproof vibrators jump v ibrating eggs for women for bedroom adult play random color say goodbye to embarrassing sex, it's time you feel like and perform like superman in the bedroom boost your confidence and finally enjoy sex and pleasure the way it was meant to be enjoyed. privacy of the product the product has been strictly packaged and shipped confidentially reat for player or beginners,soft, pleasurable    \n",
       "6101   nel fgsjej high end fashion ultra light reading glasses female hd old fashioned anti blue light old fashioned glasses color pink gold, size 2.0x our latest news in the store our philosophy is to provide value for money, durability of goods, easy return and refund policy after sales customer service 24 hour, customer satisfaction, 100 satisfaction guarantee, if you are satisfied with our project and customer service, please leave a good feedback comment if you are not satisfied with any of the circumstances, please contact us through the amazon mail system and give us an opportunity to make up for any potential errors, we will do our best to resolve any issues i hope you have a pleasant shopping experience. sincere seller to avoid damage, never clean your reading glasses with paper towels or clothing or alcohol, and also avoid using household detergents or soaps. while a few mild soaps don't harm lenses, today's extra strength soaps are powerful enough to slowly disintegrate lens c...   \n",
       "4414                                                                                                                                                                                                                                                                                                                                                                                                                                                                                                                                                                                                                                                                                                                                                                                                                                                                                                            nel sekslife 100 high quality silent rotating thrusting rabbit viborators for women 7 multi frequency modes discreet package    \n",
       "6252                                                                                                                                                                                                                                                                                                                                                                                                                                                                                                                                                                                                                               nel popular wireless remote wearable viberate famale toy strongest therapuetic muti speed electric mass age wand with heating fuction neck,shoulder,back,foot and muscle ache recovery by fashion 1958 popular wireless remote wearable viberate famale toy strongest therapuetic muti speed electric mass age wand with heating fuction neck,shoulder,back,foot and muscle ache recovery by fashion 1958    \n",
       "4927   nel 2 set lot purple pu leather handcuffs ankel cuffs sex products erotic toys for sex couple,sex game bondage cuffs sex toys material pu sexually suggestive no obscene picture no funcion bondage toys,leather harness sex tools product category bed restraints bondage toys color purple itemportuguese algemas,sexo jogos,algema,erotico brinquedo,produtos eroticos item spanish juguetes sexuales esposas,juguetes eroticos,juegos para adultos item french menotte sexe,menottes occasion nightclub, bedroom,sex love games moulded directly from the man himself, and cast from increibly life like ultraskyn material, every vein, curve and bulge of this replica looks and feels like your fantasy come to life. maintaining your dildo is easy, just wash well with soap and water after use, let it dry completely before storage, and always use a good water based lube to keep things slick. if it gets tacky, just sprinkle liberally with some of the included ultraskyn refresh powder or cornstarch to restore...   \n",
       "5585                                                                                                                                                                                                                                                                                                                                                                                                                                                                                                                                                   nel super soft skin feeling 12 speed g s'potter vi'brantor for women silicone waterproof toy female fun six toys for women item type vi'brandors material silicone commodity quality certification 3c model number r 155 ually suggestive no type g spotter product name vi'brandor item type six toys for women color as shown size  arging method usb charging item type vi'brandors material silicone commodity quality certification 3c serect packaging chargingi  susb charging    \n",
       "5303   nel zrb painted silicone realistic penis panties wearable dildo for female lesbian, transvestite pants crossdresser cosplay adult sex toys material medical silicone color please refer to the picture weight   size s , m , l size table s waist circumference  , leg circumference 32cm, penis length 12cm, penis diameter 3.6cm. m waist circumference  , leg circumference 32cm, penis length 15cm, penis diameter 4cm. l waist circumference  , leg circumference 32cm, penis length 18cm, penis diameter 4cm. package contain panties x 1 if you have any requirements for the product, please do contact us in time, thanks the scrotum and penis parts of this product are solid. waist circumference range  . upturned penis has 3 sizes, s length 12cm, diameter 3.6cm , m length 15cm, diameter 4cm , l length 18cm, diameter  food grade silicone, healthy and highly stretchable, can easy reach 1.5 times. no fading ,not easy to tear, easy to clean and more durable. the outside of the dildo is smooth and sleek ...   \n",
       "6911                                                                                                                                                                                                                                     nel reusable for male time delay pennis sleeve soft cock rings intimate toys waterproof,soft and comfortable,easy clean,easy to use,give you more fun on your sex time wide 1.5cm feature 1 reusable items name tpe penis rings condom thickness thick feature 2 waterproof material tpe inner rings 2cm colors clear blue black item type condoms fragrance rubber functions 1 time delay functions 2 penis enlargement sexually suggestive no size normal size packaging privacy package no sex word chastity device,suppress your desire,waterproof,reusable,help you to be a gentleman waterproof,soft and comfortable,easy clean,easy to use,give you more fun on your sex time packaging privacy package no sex word occasion roleplay and scenes,function sex aid cover erectile dysfunction    \n",
       "2209                                                                                                                                                                                                                                                                                                                                                                                                                                                                                                                           nel mutmi tstimulator toy g for vibration silicone spot, six woman finger shake using women size  tem x type vi brar tor certification ce quality material silicone commodity type package color box pink rechargeable power usb colors wine red vibration waterproof waterproof speeds functions 20 size  tem x type vi brar tor certification ce quality material silicone commodity type package color box pink rechargeable power usb colors wine red vibration waterproof waterproof speeds functions 20    \n",
       "6182                                                                                                                                                                                                                                                                                                                                                                                                                                                                           nel waterproof vibra tion coc kring 38935 only sold in yuejun store us unit weight   product volume  aterial silicone abs product name silicone lock ring control type touch body size  olor purple black made of high quality silicone , 100 waterproof, soft, non poisonous and odourless. safe to use. strong vibration, crisp and trembling every inch of skin inside and outside attack, pleasure from the inside out firm lock essence, let you fight longer the noise is very low, about 45 decibels, almost silent, making you intoxicated with bliss    \n",
       "2429   nel free shipping wyin w ultiple co2 regulator connector 1 to 2 multi way wyin w onector regulador de co2 multiple del 1 al 2 de multiples vias conector multiple regulador de co2 es de 1 a 2 multi way conector regulador de co2. puede utilizar un sistema de co2 para pecera porque conector del regulador de co2. feature one piece design, beautiful and convenient. each connector has independent needle valve. you can adjust output independently and do not worry about uneven output. with professional check valve co2 bubble counter, adjust more quickly. safe and accurate, it is suitable for co2 system.product attributes material aluminium alloycolor as picture showedquantity 1 pcspackage include  to 2 multi way co2 regulator connector note 1.due to the light and screen difference, the item's color may be slightly different from the pictures. please understand. make sure you don't mind before you bid.2.please allow  differences due to manual measurement. new sent with tracking service con...   \n",
       "2668                                                                                                                           nel stimulating cage lock virginity cage male chastity cage stainless steel cage lock diameter rings o   due to the plug in system the penis cage is mounted and set up very quickly with 5 included penis rings the penis cage can be perfectly adjusted to the penis. some mild soap or a special toy cleaner and plenty of water is enough. immediately its pores are clean and ready for the next use. breathable quality the hollow out design allows your penis breathe freely even in the restraint. whether you have a bondage experience, handing over control to your partner, which can increase the stimulation of sexual life. nontoxic, can be safely used. the smooth surface will not hurt your body. comfortable, sturdy and not easy to fall off, bringing all round care.hypoallergenic and durable. hand buffing, more sleek, more comfortable and safe. very firm cage, lock your man up    \n",
       "35     nel 1pcs 'xoxo' ass spanking paddle pu leather whipsexy flogger adult game fetishsex toy for couple kinky pat clap slap round and sleek design, available in a variety of sizes for most adults item type adult games model number gn 282411001 size 1pcs sexually suggestive no material pu leather obscene picture no color as picture type sex paddle properties sex products for couples item sex toys for adults function pu leather flogger user women and men place of origin china mainland ergonomic design easy to insert with the tapered tip. not easy to cause sliding with the narrow end of the insertable part, which ensures the stability. excelent soft and comfortable super soft material and special emulational design excite your partner easily and bring you both a difference expenrience. discreet packing after sales warranty everything is designed for your maximum comfort reat for all size men and beginners to advanced. discreet packaging ensures your privacy. butt plug is smooth,mellow an...   \n",
       "5843                                                                                                                                                                                                                                                                                                                                                                                                                                                                                                                                                                                                                                                                           nel sayif 20 speeds jumping toys for women magic wand funny toys for woman toys exciting vibrador rivacy privacye,cn1078c red function 20 kinds of privacy toy frequency,commodity quality certification this,privacyually suggestive no brand name sayif, waterproof yes,obscene picture no material silicone,power by usb charging model number funny toys,    \n",
       "3601   nel 18cm silicone realistic penis female lesbian wearable dildo fake penis panties lifelike curved penis waistline  adult sex toys with a straight erect penis, increase the pleasure. material medical silicone color please refer to the picture weight   penis length 18cm penis diameter 4cm waist circumference  leg circumference 40cm package contain panties x 1 if you have any requirements for the product, please do contact us in time, thanks the scrotum and penis parts of this product are solid. the private parts look realistic. waist circumference range  . curved penis sizes length 18cm, diameter 4cm. food grade silicone, healthy and highly stretchable, can easy reach 1.5 times. no fading ,not easy to tear, easy to clean and more durable. the outside of the dildo is smooth and sleek with a slight curve at the tip which is intended to reach her g spot or rub against his prostate. realistic appearance design in skin, full enjoyments in vision. super thin edge design ,perfectly matchi...   \n",
       "5893                                                                                                                                                                                                                                                                                                                                                                                                                                                                                                                                                                                                                                                                                                                                                                                                                                                     nel ultrasonic pest repeller best pest control mosquitos repellent bqypower non toxic pest control plug in home indoor and outdoor repeller get rid of insects, rats, ants, roaches    \n",
       "6937                                                                                                                                                 nel relax toy hollow watch belt type universal vibration hollow watch belt type three head plug for men and women material silica gel dermis net weight   note better effect to use it with lubricant. please clean it up before you enjoy wash with soap and water after use, let it dry completely before storage. keep it dry and save in a secret place, away from children. if you have any questions, please do not hesitate to contact us. we will try our best to solve your problem within 24 hours. if you are not satisfied click on the store name xbwsir and you will find a lot of interesting products. tpe material,flexible,durable,no smell soft, easy to bend, guaranteed to bring you happiness you can use it in the bedroom, bathroom or anywhere else it is easy to use and clean with warm water and soap packaged and shipping ultra discreet, no label signs.    \n",
       "7495   nel zrb realistic silicone fake penis panties penis shemale pants transvestite wearable dildo crossdresser transgender adult sex toys material medical silicone color please refer to the picture weight   size s , m , l size table s waist circumference  , leg circumference 32cm, penis length 12cm, penis diameter 3.6cm. m waist circumference  , leg circumference 32cm, penis length 15cm, penis diameter 4cm. l waist circumference  , leg circumference 32cm, penis length 18cm, penis diameter 4cm. package contain panties x 1 if you have any requirements for the product, please do contact us in time, thanks the scrotum and penis parts of this product are solid. waist circumference range  . realistic penis has 3 sizes, s length 12cm, diameter 3.6cm , m length 15cm, diameter 4cm , l length 18cm, diameter  food grade silicone, healthy and highly stretchable, can easy reach 1.5 times. no fading ,not easy to tear, easy to clean and more durable. the outside of the dildo is smooth and sleek with...   \n",
       "6936                                                   nel 2 pcs set silicone kegel ball smart vaginalne trainer exercise vaginalne tightening love ben wa ball vi ibrator toys for woman specifications style vaginalne exercise ball material silicone color rose red size as the picture package included 1 set vaginalne exercise ball each ball is equipped with a silicone string to easily take out the ball after use the entire nova ball is made of body safe silicone which is 100 waterproof according to the kegel exercis e theory, we designed these kegel exercise courses especially to help those who want to tighten their vaginalne mucles after giving birth effective kegel exercise helps to strengthen a woman' s pc muscle pubococcygeus muscle , improving vaginalne health while bringing benefits and satisfaction discreet packing after sales warranty discreet packing ensures your privacy. after sales service supports 15 day refundment and 1 year warranty. please contact us if you have any questions.    \n",
       "3935   nel vekkia dragon lord sonic rechargeable kids electric toothbrush, 3 modes with memory, fun easy cleaning, 31000 strokes, ipx7 waterproof, 2 min timer for age 3 , 4 soft bristles a must have sonic electric toothbrush help children to develop better skills at brushing and lifelong oral health care habits as they grow up. want child to brush teeth on their own initiative worried about rough bristles hurting teeth and gums the brush head is easy to loose, need to stop and maneuver it stay in place no idea what kind of gift to send your son daughters grandchildren on birthday, christmas or other festivals this lovely kids toothbrush gives your child a healthier and more hygienic oral care, a happy brushing time. high quality dupont soft bristles, help them have a better dental care experience, also suitable for braces. replaceable brush heads rotation fixed design, firmly stay in place, brush your teeth more assured. features usb fast charging the indicator light flashes when chargin...   \n",
       "3660                                                                                                                                                                                                                                                                                                                                                                                                                                                                                                                                                                                                                                                                                                                                                                                                                                                                                                                                                          nel aqsex 158cm body massage half body pvc silicone relaxation doll toy mariah    \n",
       "1599                                                                                                                                                                                                                                                                                                                                                                                                                                                                                                                                                                                                                                                                                                                     nel tasens rings 264 for men stainless steel urthral dilators urethral plug penis urethra sound tube stretchingerotic gag material metal model number tasens rtocatherin1754 a great gift to your loved one suitable size to fit your bag , convenient to carry to anywhere. discreet packing ensures your privacy.    \n",
       "\n",
       "         label  \n",
       "ID              \n",
       "2195  0.038470  \n",
       "1681  0.036399  \n",
       "3575  0.046861  \n",
       "3039  0.038187  \n",
       "4607  0.935076  \n",
       "4246  0.035374  \n",
       "4815  0.036609  \n",
       "1225  0.038410  \n",
       "6071  0.031890  \n",
       "6464  0.042992  \n",
       "1241  0.337663  \n",
       "1561  0.548581  \n",
       "678   0.268187  \n",
       "7517  0.177978  \n",
       "900   0.033732  \n",
       "3646  0.406132  \n",
       "2202  0.752078  \n",
       "310   0.078458  \n",
       "6662  0.127664  \n",
       "5560  0.044361  \n",
       "5563  0.086181  \n",
       "2591  0.035428  \n",
       "6988  0.058895  \n",
       "4836  0.116183  \n",
       "922   0.045485  \n",
       "7761  0.405821  \n",
       "6101  0.040244  \n",
       "4414  0.090290  \n",
       "6252  0.038319  \n",
       "4927  0.031815  \n",
       "5585  0.920810  \n",
       "5303  0.042779  \n",
       "6911  0.052304  \n",
       "2209  0.948043  \n",
       "6182  0.193694  \n",
       "2429  0.037003  \n",
       "2668  0.098449  \n",
       "35    0.037437  \n",
       "5843  0.064665  \n",
       "3601  0.034782  \n",
       "5893  0.032550  \n",
       "6937  0.039836  \n",
       "7495  0.803772  \n",
       "6936  0.909087  \n",
       "3935  0.039346  \n",
       "3660  0.095541  \n",
       "1599  0.370006  "
      ]
     },
     "execution_count": 27,
     "metadata": {},
     "output_type": "execute_result"
    }
   ],
   "source": [
    "results[results['label']>0.03][results['label']<0.95]\n"
   ]
  },
  {
   "cell_type": "code",
   "execution_count": 28,
   "metadata": {},
   "outputs": [],
   "source": [
    "results.to_csv('results.csv', columns=[ 'label'])"
   ]
  },
  {
   "cell_type": "code",
   "execution_count": null,
   "metadata": {},
   "outputs": [],
   "source": []
  },
  {
   "cell_type": "code",
   "execution_count": null,
   "metadata": {},
   "outputs": [],
   "source": []
  },
  {
   "cell_type": "code",
   "execution_count": null,
   "metadata": {},
   "outputs": [],
   "source": []
  }
 ],
 "metadata": {
  "kernelspec": {
   "display_name": "Python 3",
   "language": "python",
   "name": "python3"
  },
  "language_info": {
   "codemirror_mode": {
    "name": "ipython",
    "version": 3
   },
   "file_extension": ".py",
   "mimetype": "text/x-python",
   "name": "python",
   "nbconvert_exporter": "python",
   "pygments_lexer": "ipython3",
   "version": "3.7.3"
  }
 },
 "nbformat": 4,
 "nbformat_minor": 2
}
