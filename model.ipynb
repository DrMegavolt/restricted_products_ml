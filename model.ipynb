{
 "cells": [
  {
   "cell_type": "markdown",
   "metadata": {},
   "source": [
    "#### Base Approach  ~0.94\n",
    "1. Join all columns that have text\n",
    "1. Clean html tags\n",
    "1. Replace non english letters with equivalent Å -> A\n",
    "1. lowercase\n",
    "1. Google BERT Base model with 256 tokens and fine tuned 2 layers + Dense 256 layer on top\n",
    "\n",
    "#### More thorrow cleunup ~0.98\n",
    "1. Remove weight references like 600g\n",
    "1. Remove size references (150cm x 16cm) but keep words like length, diameter etc.\n",
    "1. Fix incorrect labels in train dataset (I only found 1, but there are more)\n",
    "\n",
    "#### BERT Custom dictionary ~0.99+\n",
    "1. Read \"Start & Run an Adult Boutique\" book and write all adult toys related words into bert Dictionary file \n",
    "https://books.google.ca/books?id=LMQhCgAAQBAJ&pg=PT157&lpg=PT157&dq=adult+toys+vocabulary&source=bl&ots=OneH8Cmfa2&sig=ACfU3U3_8mllbStNXxpfJ6WLhrTK3IdiFQ&hl=en&sa=X&redir_esc=y#v=onepage&q=adult%20toys%20vocabulary&f=false\n",
    "1. Add some common intentional misspellings like \"didlo\"\n",
    "1. Add training samples based on those words with label 1 to force BERT pay higher attention to those words\n",
    "1. Count Å -> A replacements and add special custom word \"nel\" if there are too many of those. Usually this means people are trying to cheat and hide real word\n",
    "1. Train 3 top BERT layers instead of 2 (although usually does not converge)\n",
    "1. Increase number of token from 256 to 512 to catch more words"
   ]
  },
  {
   "cell_type": "code",
   "execution_count": 1,
   "metadata": {},
   "outputs": [
    {
     "name": "stdout",
     "output_type": "stream",
     "text": [
      "importing Jupyter notebook from bertkeras.ipynb\n",
      "importing Jupyter notebook from BERTDictionary.ipynb\n",
      "[NEL]\n",
      "nel\n",
      "nubby\n",
      "transvestite\n",
      "lube\n",
      "lubricant\n",
      "vibrate\n",
      "suction\n",
      "dildo\n",
      "vibrator\n",
      "trembler\n",
      "pulsator\n",
      "lockaid\n",
      "buzzer\n",
      "penetrator\n",
      "kegel\n",
      "stimulator\n",
      "masturbator\n",
      "lasso\n",
      "bondage\n",
      "pasties\n",
      "strapon\n",
      "didlo\n",
      "dido\n",
      "dilo\n",
      "dlo\n",
      "gadget\n",
      "bdsm\n",
      "sadism\n",
      "masochism\n",
      "squirt\n",
      "clitor\n",
      "pelvic\n",
      "vagina\n",
      "anus\n",
      "rectum\n",
      "scrotum\n",
      "perineum\n",
      "boob\n"
     ]
    }
   ],
   "source": [
    "import import_ipynb\n",
    "import tensorflow as tf\n",
    "import pandas as pd\n",
    "import tensorflow_hub as hub\n",
    "import os\n",
    "import re\n",
    "from sklearn.metrics import confusion_matrix, accuracy_score\n",
    "import numpy as np\n",
    "from bert.tokenization import FullTokenizer\n",
    "from tqdm import tqdm_notebook\n",
    "from tensorflow.keras import backend as K\n",
    "from sklearn.model_selection import train_test_split\n",
    "import bertkeras as bk\n",
    "import BERTDictionary as bd\n",
    "import matplotlib.pyplot as plt\n",
    "import seaborn as sns\n",
    "from matplotlib import pyplot\n",
    "from unidecode import unidecode\n",
    "from scipy.stats import norm, boxcox\n",
    "pd.options.display.max_colwidth = 1000\n",
    "sns.set()"
   ]
  },
  {
   "cell_type": "code",
   "execution_count": 2,
   "metadata": {},
   "outputs": [],
   "source": [
    "df= pd.read_csv('../dataset/training.csv', index_col='ID')\n",
    "labels = df['label']\n",
    "drop_columns = [ '﻿ASIN','parent_asin','Product Group Description', \n",
    "                      'product_name', 'brand_code', 'brand_name']\n",
    "df = df.drop(columns=drop_columns)\n",
    "df = df.fillna(\"\")\n",
    "\n",
    "cols = df.columns.tolist()\n",
    "cols.remove('label')\n",
    "text = df[cols].apply(' '.join, axis=1)\n"
   ]
  },
  {
   "cell_type": "code",
   "execution_count": 3,
   "metadata": {},
   "outputs": [],
   "source": [
    "html_re = re.compile('<[^>]*>')\n",
    "garbage_re = re.compile('[^0-9a-z,\\'\\.]+') \n",
    "weight_re = re.compile('[\\d.]+[ ]?(kg+|lbs+|g+|lb+)')\n",
    "\n",
    "\n",
    "# check if it actually helps, tests https://regex101.com/r/xwnV5l/1\n",
    "size_re = re.compile('[\\d.]+([ cminch]+)?[ x*]+[\\d.]+([ cminch]+)?([ x*]+[\\d.]+)?([ cminch]+)')\n",
    "\n",
    "# play around with garbage_threshhold \n",
    "garbage_threshhold = 0.0003\n",
    "def html_cleanup(html):\n",
    "    return re.sub(html_re, ' ', html)\n",
    "def lower_case(txt):\n",
    "    return txt.lower()\n",
    "def split_by_garbage(txt):\n",
    "    return re.sub(garbage_re, ' ', txt)\n",
    "def decode_chars(txt):\n",
    "    garbage_fiteted = re.sub(garbage_re, '', txt)\n",
    "    decoded_txt = unidecode(txt)\n",
    "    return decoded_txt if len(garbage_fiteted)/len(txt) < garbage_threshhold \\\n",
    "        else '[NEL] ' + decoded_txt \n",
    "\n",
    "def cleanup_size(txt):\n",
    "    return re.sub(size_re, ' ', txt).replace('size:', '')\n",
    "\n",
    "def cleanup_weight(txt):\n",
    "    return re.sub(weight_re, ' ', txt)\n",
    "    \n",
    "def cleanup(text):\n",
    "    res = text.apply(html_cleanup).apply(decode_chars).apply(lower_case) \\\n",
    "              .apply(split_by_garbage).apply(cleanup_size) \\\n",
    "              .apply(cleanup_weight)\n",
    "    return res"
   ]
  },
  {
   "cell_type": "code",
   "execution_count": 4,
   "metadata": {},
   "outputs": [],
   "source": [
    "texts = cleanup(text)"
   ]
  },
  {
   "cell_type": "code",
   "execution_count": 5,
   "metadata": {},
   "outputs": [],
   "source": [
    "df = pd.DataFrame( {\"texts\" :texts, \"labels\": labels} )"
   ]
  },
  {
   "cell_type": "code",
   "execution_count": 6,
   "metadata": {},
   "outputs": [],
   "source": [
    "# there is error in training dataset\n",
    "df.loc[196,'labels'] =1\n"
   ]
  },
  {
   "cell_type": "code",
   "execution_count": 7,
   "metadata": {},
   "outputs": [],
   "source": [
    "txt_train, txt_test, lbl_train, lbl_test = train_test_split(\n",
    "    texts, labels, test_size=0.0002, random_state=42)"
   ]
  },
  {
   "cell_type": "code",
   "execution_count": null,
   "metadata": {},
   "outputs": [],
   "source": []
  },
  {
   "cell_type": "code",
   "execution_count": 8,
   "metadata": {},
   "outputs": [
    {
     "name": "stdout",
     "output_type": "stream",
     "text": [
      "['[NEL]' 'nel' 'porn' 'nubby']\n",
      "['lesbian' 'gay' 'transvestite' 'transgender']\n",
      "['lube' 'lubricant' 'sex' 'intercourse']\n",
      "['fuck' 'vibrate' 'suction' 'lick']\n",
      "['suck' 'gag' 'dildo' 'vibrator']\n",
      "['condom' 'anal' 'plug' 'snake']\n",
      "['trembler' 'pulsator' 'lockaid' 'strap']\n",
      "['buzzer' 'rabbit' 'egg' 'penetrator']\n",
      "['dual' 'kegel' 'ben']\n",
      "['wa' 'stimulator' 'masturbator']\n",
      "['lasso' 'bondage' 'cuff']\n",
      "['pasties' 'strapon' 'didlo']\n",
      "['dido' 'dilo' 'dlo']\n",
      "['device' 'gadget' 'pleasure']\n",
      "['intimate' 'last' 'aroused']\n",
      "['climax' 'enjoyment' 'orgasm']\n",
      "['bdsm' 'sadism' 'submission']\n",
      "['masochism' 'realistic' 'stimulate']\n",
      "['squirt' 'virginity' 'dick']\n",
      "['cock' 'penis' 'spot']\n",
      "['butt' 'ass' 'nipple']\n",
      "['clitor' 'pelvic' 'vagina']\n",
      "['pussy' 'anus' 'prostate']\n",
      "['rectum' 'ventral' 'scrotum']\n",
      "['tongue' 'perineum' 'boob']\n"
     ]
    }
   ],
   "source": [
    "k=10000\n",
    "arr = np.array_split(bd.adult_toys_vocab, 25)\n",
    "for a in arr :\n",
    "    print(a)\n",
    "    w = ' '.join(a)\n",
    "    txt_train = txt_train.append(pd.Series([w], index=[k]))\n",
    "    lbl_train = lbl_train.append(pd.Series([1], index=[k]))\n",
    "    k = k+1\n"
   ]
  },
  {
   "cell_type": "code",
   "execution_count": 9,
   "metadata": {},
   "outputs": [
    {
     "name": "stdout",
     "output_type": "stream",
     "text": [
      "using vocab file from vocab.txt\n"
     ]
    }
   ],
   "source": [
    "tokenizer = bk.create_tokenizer_from_hub_module(vocab_file='vocab.txt')\n",
    "max_seq_length = 512"
   ]
  },
  {
   "cell_type": "code",
   "execution_count": 10,
   "metadata": {},
   "outputs": [],
   "source": [
    "# Convert data to InputExample format\n",
    "train_examples = bk.convert_text_to_examples(txt_train, lbl_train.values)\n",
    "test_examples = bk.convert_text_to_examples(txt_test, lbl_test.values)"
   ]
  },
  {
   "cell_type": "code",
   "execution_count": 11,
   "metadata": {},
   "outputs": [
    {
     "data": {
      "application/vnd.jupyter.widget-view+json": {
       "model_id": "ee819751ea3f4b94a5012ea9b956c856",
       "version_major": 2,
       "version_minor": 0
      },
      "text/plain": [
       "HBox(children=(IntProgress(value=0, description='Converting examples to features', max=5509, style=ProgressSty…"
      ]
     },
     "metadata": {},
     "output_type": "display_data"
    },
    {
     "name": "stdout",
     "output_type": "stream",
     "text": [
      "\n"
     ]
    },
    {
     "data": {
      "application/vnd.jupyter.widget-view+json": {
       "model_id": "8b3a27cf96054e3e9debada88f08fb5e",
       "version_major": 2,
       "version_minor": 0
      },
      "text/plain": [
       "HBox(children=(IntProgress(value=0, description='Converting examples to features', max=2, style=ProgressStyle(…"
      ]
     },
     "metadata": {},
     "output_type": "display_data"
    },
    {
     "name": "stdout",
     "output_type": "stream",
     "text": [
      "\n"
     ]
    }
   ],
   "source": [
    "\n",
    "# Convert to features\n",
    "(train_input_ids, train_input_masks, train_segment_ids, train_labels \n",
    ") = bk.convert_examples_to_features(tokenizer, train_examples, max_seq_length=max_seq_length)\n",
    "(test_input_ids, test_input_masks, test_segment_ids, test_labels\n",
    ") = bk.convert_examples_to_features(tokenizer, test_examples, max_seq_length=max_seq_length)"
   ]
  },
  {
   "cell_type": "code",
   "execution_count": 12,
   "metadata": {},
   "outputs": [
    {
     "data": {
      "text/plain": [
       "{'guid': None,\n",
       " 'text_a': \" nel lqqbstorage celtic decor,grommet window curtain,head of legend dragon with ethnic african ornate effects on grunge backdrop myth celtic design, noise reducing curtain,multi multifunction 1.curtains is delicately designed, allowing you to decorate your windows with great styles,protect your furniture, floors and walls from the sun. 2.featuring vibrant colored pattern, this eye soothing curtain can match interiors of any room. 3.soft and durable window curtains has a very soft hand feel and drapery, high quality material, durable 10 years. 4.privacy and relax your family and friends can enjoy movie nights or sports game without worrying about outside light and noise. 5.energy efficient innovative triple weave construction insulate your sunny or frozen window, give your air conditioner and energy bill a break. 6.reduce noise densely woven fabric acts as an additional sound barrier,it reduces outside noises and create a quiet and peaceful environment. widely use for perfect for window in living room, bedroom, dining room, bathroom and kitchen. color may differ slightly from photos due to different monitor settings in computer monitors display or mobile phone, filming angles, lights, sunshine ect. product sizes that measured by hand lead to the difference between about  due to everyone's measurement technique. after sale guarantee we offer 100 risk free and satisfactory after sales service. if you have any problem, support 30 days refund without reason hot sale size w63 x l ,measurements are the total of the 2 curtain panels together, the size of each panel is w31.5 x l72 ,each panel has 8 elegant metal grommets, inner diameter of grommet is 1.6 , fit well with standard or decorative curtain rods polyester material 100 polyester. material soft and smooth fabric, sturdy hemming, durable and long lasting, no loose threads. we have 10 sizes and thousands of colors for you to chose,your own picture of customization is also acceptable. meet various needs and purposes of different people. multiple functions these soft and durable curtains are made by innovative technology durable yarn, high performance on room darkening, thermal insulated, noise reducing, energy saving efficiency and privacy protection unique home decor these customized curtain panels will decorate your windows and rooms with new great effect, suits for contemporary, traditional, vintage rustic, victorian home styles. let these breatheable and airy blackout curtains add amazing look to host and guest best service 10 years quality warranty and 30 days money back guarantee for return policy. machine washable for easy care, use only non chlorine bleach when needed, tumble dry low and warm iron as needed. \",\n",
       " 'text_b': None,\n",
       " 'label': 0}"
      ]
     },
     "execution_count": 12,
     "metadata": {},
     "output_type": "execute_result"
    }
   ],
   "source": [
    "train_examples[0].__dict__"
   ]
  },
  {
   "cell_type": "code",
   "execution_count": null,
   "metadata": {},
   "outputs": [],
   "source": [
    "\n"
   ]
  },
  {
   "cell_type": "code",
   "execution_count": 18,
   "metadata": {},
   "outputs": [],
   "source": [
    "def build_model(max_seq_length): \n",
    "    in_id = tf.keras.layers.Input(shape=(max_seq_length,), name=\"input_ids\")\n",
    "    in_mask = tf.keras.layers.Input(shape=(max_seq_length,), name=\"input_masks\")\n",
    "    in_segment = tf.keras.layers.Input(shape=(max_seq_length,), name=\"segment_ids\")\n",
    "    bert_inputs = [in_id, in_mask, in_segment]\n",
    "    def auc(y_true, y_pred):\n",
    "        auc = tf.metrics.auc(y_true, y_pred)[1]\n",
    "#     K.get_session().run(tf.local_variables_initializer())\n",
    "        return auc\n",
    "    bert_output = bk.BertLayer(n_fine_tune_layers=2, pooling=\"first\")(bert_inputs)\n",
    "    dense = tf.keras.layers.Dense(256, activation='relu')(bert_output)\n",
    "    pred = tf.keras.layers.Dense(1, activation='sigmoid')(dense)\n",
    "    \n",
    "    model = tf.keras.models.Model(inputs=bert_inputs, outputs=pred)\n",
    "    model.compile(loss='binary_crossentropy', optimizer='adam', metrics=[auc])\n",
    "    model.summary()\n",
    "    \n",
    "    return model"
   ]
  },
  {
   "cell_type": "code",
   "execution_count": 19,
   "metadata": {},
   "outputs": [],
   "source": [
    "METRIC_THRESHOLD = 0.99\n",
    "LOSS_THRESHOLD = 0.015\n",
    "class myCallback(tf.keras.callbacks.Callback): \n",
    "    def on_batch_end(self, batch, logs): \n",
    "        if(logs.get('auc') > METRIC_THRESHOLD and logs.get('loss')<LOSS_THRESHOLD):   \n",
    "          print(\"\\nReached %2.2f%% auc, so stopping training!!\" %(METRIC_THRESHOLD*100)) \n",
    "          self.model.stop_training = True"
   ]
  },
  {
   "cell_type": "code",
   "execution_count": 20,
   "metadata": {},
   "outputs": [
    {
     "name": "stdout",
     "output_type": "stream",
     "text": [
      "__________________________________________________________________________________________________\n",
      "Layer (type)                    Output Shape         Param #     Connected to                     \n",
      "==================================================================================================\n",
      "input_ids (InputLayer)          (None, 512)          0                                            \n",
      "__________________________________________________________________________________________________\n",
      "input_masks (InputLayer)        (None, 512)          0                                            \n",
      "__________________________________________________________________________________________________\n",
      "segment_ids (InputLayer)        (None, 512)          0                                            \n",
      "__________________________________________________________________________________________________\n",
      "bert_layer_1 (BertLayer)        (None, 768)          110104890   input_ids[0][0]                  \n",
      "                                                                 input_masks[0][0]                \n",
      "                                                                 segment_ids[0][0]                \n",
      "__________________________________________________________________________________________________\n",
      "dense_2 (Dense)                 (None, 256)          196864      bert_layer_1[0][0]               \n",
      "__________________________________________________________________________________________________\n",
      "dense_3 (Dense)                 (None, 1)            257         dense_2[0][0]                    \n",
      "==================================================================================================\n",
      "Total params: 110,302,011\n",
      "Trainable params: 14,963,457\n",
      "Non-trainable params: 95,338,554\n",
      "__________________________________________________________________________________________________\n"
     ]
    }
   ],
   "source": [
    "model = build_model(max_seq_length)"
   ]
  },
  {
   "cell_type": "code",
   "execution_count": 21,
   "metadata": {},
   "outputs": [
    {
     "name": "stdout",
     "output_type": "stream",
     "text": [
      "Train on 5509 samples, validate on 2 samples\n",
      "Epoch 1/8\n",
      "5509/5509 [==============================] - 271s 49ms/sample - loss: 0.2331 - auc: 0.8213 - val_loss: 0.0038 - val_auc: 0.9677\n",
      "Epoch 2/8\n",
      "5509/5509 [==============================] - 268s 49ms/sample - loss: 0.1972 - auc: 0.9762 - val_loss: 0.0276 - val_auc: 0.9734\n",
      "Epoch 3/8\n",
      "5509/5509 [==============================] - 268s 49ms/sample - loss: 0.0796 - auc: 0.9780 - val_loss: 0.0021 - val_auc: 0.9815\n",
      "Epoch 4/8\n",
      "5509/5509 [==============================] - 268s 49ms/sample - loss: 0.0409 - auc: 0.9847 - val_loss: 0.0023 - val_auc: 0.9869\n",
      "Epoch 5/8\n",
      "5509/5509 [==============================] - 268s 49ms/sample - loss: 0.0316 - auc: 0.9884 - val_loss: 0.0314 - val_auc: 0.9899\n",
      "Epoch 6/8\n",
      " 744/5509 [===>..........................] - ETA: 3:51 - loss: 0.0311 - auc: 0.9900\n",
      "Reached 99.00% auc, so stopping training!!\n",
      " 768/5509 [===>..........................] - ETA: 3:50 - loss: 0.0303 - auc: 0.9900"
     ]
    },
    {
     "data": {
      "text/plain": [
       "<tensorflow.python.keras.callbacks.History at 0x7f223e9a41d0>"
      ]
     },
     "execution_count": 21,
     "metadata": {},
     "output_type": "execute_result"
    }
   ],
   "source": [
    "# Initialize session\n",
    "batch_size = 24\n",
    "sess = tf.Session()\n",
    "# Instantiate variables\n",
    "bk.initialize_vars(sess)\n",
    "tb = tf.compat.v1.keras.callbacks.TensorBoard(log_dir='./logs', histogram_freq=0, batch_size=batch_size, write_graph=True, write_grads=False, write_images=False, embeddings_freq=0, embeddings_layer_names=None, embeddings_metadata=None, embeddings_data=None, update_freq='batch')\n",
    "stop98 = myCallback()\n",
    "model.fit(\n",
    "    [train_input_ids, train_input_masks, train_segment_ids], \n",
    "    train_labels,\n",
    "    validation_data=([test_input_ids, test_input_masks, test_segment_ids], test_labels),\n",
    "    callbacks = [ tb, stop98], #, \n",
    "    epochs=8,\n",
    "    batch_size=batch_size\n",
    ")"
   ]
  },
  {
   "cell_type": "code",
   "execution_count": 22,
   "metadata": {},
   "outputs": [],
   "source": [
    "model.save('restricted.h5')"
   ]
  },
  {
   "cell_type": "code",
   "execution_count": 23,
   "metadata": {},
   "outputs": [],
   "source": [
    "df_subm= pd.read_csv('../dataset/public_test_features.csv', index_col='ID')\n",
    "df_subm = df_subm.drop(columns=drop_columns)\n",
    "df_subm = df_subm.fillna(\"\")\n",
    "\n",
    "text_subm = df_subm[cols].apply(' '.join, axis=1)\n"
   ]
  },
  {
   "cell_type": "code",
   "execution_count": 24,
   "metadata": {},
   "outputs": [],
   "source": [
    "texts_subm = cleanup(text_subm)"
   ]
  },
  {
   "cell_type": "code",
   "execution_count": 25,
   "metadata": {},
   "outputs": [],
   "source": [
    "subm_examples = bk.convert_text_to_examples(texts_subm, [0]*len(texts_subm))"
   ]
  },
  {
   "cell_type": "code",
   "execution_count": null,
   "metadata": {},
   "outputs": [],
   "source": []
  },
  {
   "cell_type": "code",
   "execution_count": null,
   "metadata": {},
   "outputs": [],
   "source": []
  },
  {
   "cell_type": "code",
   "execution_count": 26,
   "metadata": {},
   "outputs": [
    {
     "data": {
      "application/vnd.jupyter.widget-view+json": {
       "model_id": "04dd8de67a3d47a78a0f1e6a5987b917",
       "version_major": 2,
       "version_minor": 0
      },
      "text/plain": [
       "HBox(children=(IntProgress(value=0, description='Converting examples to features', max=2352, style=ProgressSty…"
      ]
     },
     "metadata": {},
     "output_type": "display_data"
    },
    {
     "name": "stdout",
     "output_type": "stream",
     "text": [
      "\n"
     ]
    }
   ],
   "source": [
    "(subm_input_ids, subm_input_masks, subm_segment_ids, subm_labels\n",
    ") = bk.convert_examples_to_features(tokenizer, subm_examples, max_seq_length=max_seq_length)"
   ]
  },
  {
   "cell_type": "code",
   "execution_count": 27,
   "metadata": {},
   "outputs": [
    {
     "data": {
      "text/plain": [
       "' nel vintage mama e hija amor corazon cadena collar mujeres dia de la madre regalo especificaciones disea o de mama e hija, colgante con forma de coraza3n. hecho de material de aleacia3n de alta calidad con mano de obra fina. regalo perfecto para el daa de la madre u otras ocasiones. tipo collar ganero mujeres tema estilo vintage material aleacia3n de ocasiones fiesta, daa de la madre, regalo, vida diaria, etc. caracterasticas colgante de coraza3n, patra3n de letras, regalo para madre longitud de la cadena  19,69 pulgadas 1,97 pulgadas aprox. notas debido a la diferencia de configuracia3n de la luz y la pantalla, el color del artaculo puede ser ligeramente diferente al de las ima genes. puede haber una ligera diferencia de dimensia3n debido a las diferentes medidas manuales. el paquete incluye 1 x collar item specifics fino o de moda moda tipo de articulo collares nombre de la marca bluelans estilo trendy forma patron carta tipo de cadena cadena de eslabones tamano colgante 5cm compatibilidad totalmente compatible genero mujeres se puede personalizar no material metal tipo de metales aleacion de zinc tipo de collar collares pendientes numero de modelo 31147 fino o de moda moda tipo de articulo collares nombre de la marca bluelans estilo trendy forma patron carta '"
      ]
     },
     "execution_count": 27,
     "metadata": {},
     "output_type": "execute_result"
    }
   ],
   "source": [
    "subm_examples[0].text_a"
   ]
  },
  {
   "cell_type": "code",
   "execution_count": 28,
   "metadata": {},
   "outputs": [],
   "source": [
    "testCount = len(subm_input_ids)\n",
    "def pickMax(arr):\n",
    "  m = max(arr)\n",
    "  return [x for x in arr]\n",
    "\n",
    "threshold = 0.4\n",
    "def tolabel(arr):\n",
    "  # return int(max(arr)>=threshold)\n",
    "  return max(arr)\n",
    "    \n"
   ]
  },
  {
   "cell_type": "code",
   "execution_count": 29,
   "metadata": {},
   "outputs": [],
   "source": [
    "predictions = model.predict([subm_input_ids[0:testCount], \n",
    "                                subm_input_masks[0:testCount], \n",
    "                                subm_segment_ids[0:testCount]])"
   ]
  },
  {
   "cell_type": "code",
   "execution_count": 30,
   "metadata": {},
   "outputs": [],
   "source": [
    "pred = [ tolabel(p) for p in predictions]"
   ]
  },
  {
   "cell_type": "code",
   "execution_count": 31,
   "metadata": {},
   "outputs": [],
   "source": [
    "results = pd.DataFrame({\"text\":texts_subm, \"label\":pred})"
   ]
  },
  {
   "cell_type": "code",
   "execution_count": 32,
   "metadata": {},
   "outputs": [
    {
     "name": "stderr",
     "output_type": "stream",
     "text": [
      "/home/drmegavolt/miniconda3/envs/restricted_products/lib/python3.7/site-packages/ipykernel_launcher.py:1: UserWarning: Boolean Series key will be reindexed to match DataFrame index.\n",
      "  \"\"\"Entry point for launching an IPython kernel.\n"
     ]
    },
    {
     "data": {
      "text/html": [
       "<div>\n",
       "<style scoped>\n",
       "    .dataframe tbody tr th:only-of-type {\n",
       "        vertical-align: middle;\n",
       "    }\n",
       "\n",
       "    .dataframe tbody tr th {\n",
       "        vertical-align: top;\n",
       "    }\n",
       "\n",
       "    .dataframe thead th {\n",
       "        text-align: right;\n",
       "    }\n",
       "</style>\n",
       "<table border=\"1\" class=\"dataframe\">\n",
       "  <thead>\n",
       "    <tr style=\"text-align: right;\">\n",
       "      <th></th>\n",
       "      <th>text</th>\n",
       "      <th>label</th>\n",
       "    </tr>\n",
       "    <tr>\n",
       "      <th>ID</th>\n",
       "      <th></th>\n",
       "      <th></th>\n",
       "    </tr>\n",
       "  </thead>\n",
       "  <tbody>\n",
       "    <tr>\n",
       "      <th>3575</th>\n",
       "      <td>nel hismith premium sex machine, standard hismith focus on manufacturing sex machine, we produce machine series and matched accessories.we choose the best long life and mute motor as the core of the machine,ensure the power of our products,30 n cm driving force,never stop when encounter resistance.our power supply can support wide voltage 110 250v ,power switch with precise dial. as your wish,the thrust depth can be changed through change the postion of the torsion bar.besides,you can change the masburation postion,by change the postion of support connector.the body of the machine are aluminium alloy material,with high density anodizing technology.every component is produced by precision high precision cnc,sla laser series machine,and mirageblack painted surfaces,bright in color and durable,surfaces look fresh as a new one after long time use.solid stainless chromium plated iron rod support strength is over  .working life  years with correct usage and cleansing maintenance. produc...</td>\n",
       "      <td>0.038767</td>\n",
       "    </tr>\n",
       "    <tr>\n",
       "      <th>3039</th>\n",
       "      <td>nel hismith premium sex machine, fucking machine with remote control, 8 silicone dildo including hismith focus on manufacturing sex machine, we produce machine series and matched accessories.we choose the best long life and mute motor as the core of the machine,ensure the power of our products,30 n cm driving force,never stop when encounter resistance.our power supply can support wide voltage 110 250v ,power switch with precise dial. as your wish,the thrust depth can be changed through change the postion of the torsion bar.besides,you can change the masburation postion,by change the postion of support connector.the body of the machine are aluminium alloy material,with high density anodizing technology.every component is produced by precision high precision cnc,sla laser series machine,and mirageblack painted surfaces,bright in color and durable,surfaces look fresh as a new one after long time use.solid stainless chromium plated iron rod support strength is over  .working life  yea...</td>\n",
       "      <td>0.048005</td>\n",
       "    </tr>\n",
       "    <tr>\n",
       "      <th>3399</th>\n",
       "      <td>nel flexible double glans penis 45cm long d i ldo vagina anal stimulation sex toys for woman lesbian sex products blm 013 made of soft high quality silicone material, soft and clean, 100 environmentally friendly and body safe silicone. allows you to enjoy the silky touch. item type d i ldo size  aterial medical silicone sexually suggestive no color purple, pink fleshcolor net weight   products type sex toys for woman user adult function d i ldo waterproof yes feature double d i ldo packing secret conditon guarantee no sex products words mentioned on package safe materials,convenient and easy to use.it is small and easy to carry.bring you a healthy sex life material medical silicone item type d i ldo.color purple, pink fleshcolorsexually suggestive no size  pls feel free to contact with us when you have some problem with our prodct,we are very pleasure to serve you.pls note that due to manual measurements,there may have a little error in size,hope you can understand.</td>\n",
       "      <td>0.877593</td>\n",
       "    </tr>\n",
       "    <tr>\n",
       "      <th>4246</th>\n",
       "      <td>nel k anger vocc wire c o i l 1.5ohm 5pcs 5 x kanger vocc coil 1.5ohm</td>\n",
       "      <td>0.374292</td>\n",
       "    </tr>\n",
       "    <tr>\n",
       "      <th>2334</th>\n",
       "      <td>nel gun ndy double layered silicone dildo,hyper realistic premium penis sex toy with suction cup, insertable 9.6 inches width 2.2 inches simulation dildo size 24.5 cm diameter 5.5 cm material medical environmental protection pvc color black, flesh,brown weight   features waterproof and strong suction cup medical grade material, safe and health. discreet package. you or your partner will fall in love with it. the package includes 1 x dildo 1 x box warm reminder 1. wash it with a hand soap in warm water to keep it clean recommended to use with a lubricant to create a better feeling keep it dry and save in a secret place away from children. due to manual measurement, the size may have an error of  f you have any questions or problems, please contact us. we will give you the most satisfying answer. health material, soft, healthy, non toxic, harmless, healthy and skin friendly to use body safe silicone material close to the skin, no smell, safe use. it imitate a real massager with vein...</td>\n",
       "      <td>0.216702</td>\n",
       "    </tr>\n",
       "    <tr>\n",
       "      <th>6634</th>\n",
       "      <td>nel koungyun soft di dlos for beginner, snake with strong suction cup, lifilike snake for hands free material pvc strong suction cup total lenght app waterproof package includes 1 x pc</td>\n",
       "      <td>0.094508</td>\n",
       "    </tr>\n",
       "    <tr>\n",
       "      <th>1413</th>\n",
       "      <td>nel grinder pump system, simplex, 115v product features constructed of cast iron ensuring durability and dependability covered under a 3 year warranty oil filled, thermally protected motor permanently lubricated ball bearings 2 vane corrosion resistant hytrel impeller all stainless steel fasteners and rotor shaft quick disconnect 10' standard power cord allows replacement of cord in seconds without breaking seals to motor product specifications height 24 width 26.25 category grinder pump connection size 2 flow rate gpm 46 motor hp 1 maximum fluid temperature f 140 degrees voltage 115 v weight  . product technologies benefits quicktree r technology the quicktree r technology allows easier access and removal of switches without disturbing pump or plumbing. v slice r technology v slice r cutter technology shreds difficult solids such as feminine products, rags, towels and wipes that can jam solids handling pumps. eco friendly certified organic cgmp usa manufacturing. all supplements ...</td>\n",
       "      <td>0.070598</td>\n",
       "    </tr>\n",
       "    <tr>\n",
       "      <th>2753</th>\n",
       "      <td>nel 12 inch soft dicks lifelike massage tool relax massage wand for women mmtoylove welcome to buy our products, this product will let you experience the taste of love, can be used for a long time. overall length 31cm effective length 25cm diameter 6cm weight   clean the product with warm water or antibacterial soap. wipe dry the product with a paper towel. store the product in a cool, dry, clean place. avoid direct sunlight. we hope that you have a good shopping experience. packaging, confidential delivery, express orders, without any sensitive words. powerful suction cup base for free to play, such as bathroom, kitchen, bedroom, wooden door, floor and more. his multi section head and vivid raised texture provide stimulating texture and help retain the lubricant. this multi speed thing offers incredible, simple additional controls, this jelly stuff, creeping rotation and counter rotating around and just the right position around him. the soft, elastic, lifelike shape and detail m...</td>\n",
       "      <td>0.465209</td>\n",
       "    </tr>\n",
       "    <tr>\n",
       "      <th>678</th>\n",
       "      <td>nel leather whip spank kit torture punish discipline trainer kit color red product information length 38cm material leather, metal, acrylic color red, black dear friends we have a very good quality for our product, please buy our product with confidence we provide you with private shipping, so there is no one knows what you bought. if you want to know any more features about this item, please kindly let us know by leaving messages or sending emails, and we may you have a nice day thank you so much for reading this. best regards it's good to put your partner at ease when you're just about to xxx her. it's a great way to spice up your relationship. she will enjoy it very much. she needs a master what are you waiting for</td>\n",
       "      <td>0.908077</td>\n",
       "    </tr>\n",
       "    <tr>\n",
       "      <th>3980</th>\n",
       "      <td>nel yhuidsy z realistic d i cks real feel soft silicone dickes, with suction cup tooy for women or les couples, 8 inch hands free tm product description material silicone function relax and relieve stress use scene living room bathroom bedroom, etc. our products are shipped in secret, which are packaged in neutral packaging. there are no sensitive words on the package, you can buy with confidence. precautions 1.all dimensions were measured manually with an error range of 3 cm. 2.the color of the display may be in error. 3.this product is for adults only, please stay away from children. 4.all decorations are not included in the product packaging. 5.after full payment, international transportation requires 10 to 20 days of arrival and promises 24 hours of manual service edical silicone 100 medical silicone, no additive, feel real, close to the skin texture of real people waterproof and easy to clean long life and waterproof, just rinse with water, air dry, toy cleaning effect is bet...</td>\n",
       "      <td>0.755911</td>\n",
       "    </tr>\n",
       "    <tr>\n",
       "      <th>7220</th>\n",
       "      <td>nel aa silicone entity doll male masturbation tool masturbation cup glans orgasm toys 0504 size 68cm dear customers, we provide confidential shipments throughout the entire process to protect your privacy. material tpe size 58cm,68cm,102cm color skin tone control type manual applicable people adults due to manual measurements, there may be an error of   ours customer service,30 days full refunds and well package real life reproduction, smooth and realistic skin, can be anal sex, yin, and foot. multiple joints can be moved, soft to the touch, beautiful lines and strong resilience. 3d analog channel, life long waterproof, multiple experiences, multiple stimuli, let you reach orgasm quickly. if you have any questions, please contact us and we will provide you with detailed instructions.</td>\n",
       "      <td>0.827720</td>\n",
       "    </tr>\n",
       "    <tr>\n",
       "      <th>1987</th>\n",
       "      <td>nel yooaa adullt toys vibrators 30 speed lotus petal vibrators for women c litoris stimulator vibrador sexv products g spot vibrator sexv toys for woman sexvo,pink mens vibrators sexv toy 20cm function 30 speed lotus petal vibrators,material silicone,obscene picture no brand name yooaa,feature mute vibrator,power by usb rechargeable waterproof yes,model number cn747,type lotus petal vibrators for wome color pink,commodity quality certification live,sexvually suggestive no type wand,item type vibrators,size length about 145mm</td>\n",
       "      <td>0.789482</td>\n",
       "    </tr>\n",
       "    <tr>\n",
       "      <th>2159</th>\n",
       "      <td>nel smoke arsenal premium rolling tray the plug  tobacco use only made of durable metal. the front surface is non stick, and the back surface is rust proof</td>\n",
       "      <td>0.062634</td>\n",
       "    </tr>\n",
       "    <tr>\n",
       "      <th>417</th>\n",
       "      <td>nel yooaa sexv toys for women mini vibrator magic wand beads lesbian machine shop,modela obscene picture no material plastic,type bullet sexvually suggestive no commodity quality certification ce,size 11cm item type vibrator</td>\n",
       "      <td>0.853295</td>\n",
       "    </tr>\n",
       "    <tr>\n",
       "      <th>6607</th>\n",
       "      <td>nel  big dildos for women grapes shape r ealistic dildo19.11cm suction gay sex toy flesh sex dildofor women sexually suggestive no material silicone,type good quality item type dildos brand name obscene picture item sex dildofor women size sex dildofor women sexually suggestive no material silicone,type good quality item type dildos brand name barry picks item sex dildofor women size</td>\n",
       "      <td>0.430595</td>\n",
       "    </tr>\n",
       "    <tr>\n",
       "      <th>4986</th>\n",
       "      <td>nel faceblaster tm reduce appearance of wrinkles, fine lines, crow's feet, and headaches by massaging on face, neck, head, hands, and feet great for toning and separating fascia from scar tissue part of the fasciablaster family, the faceblaster is a completely new design with 3 tiny, dainty claws that employ the same benefits of the fasciablaster for smaller, delicate areas. it was specifically designed for the face and can help release tension, fascial adhesions, and tightness between the smallest joints and bones in the hands, feet, and neck. cellulite reduction may reduce or eliminate the appearance of cellulite. control smaller. the perfect design for face and smaller areas of the body. easy to use designed to use on your own without additional assistance. stimulates circulation enhances local blood flow by stimulating your tissue. durable premium design and construction allow for years of use. body cellulite massagers</td>\n",
       "      <td>0.928744</td>\n",
       "    </tr>\n",
       "    <tr>\n",
       "      <th>5057</th>\n",
       "      <td>nel winzfred liquid silicone color vinrator dilo thrusting inspiration, realistic pulsator dilo automatic vinrator with suction cup for women couple material liquid silicone color not exactly the same quantity 1pc protect your privacy and use secret packaging, please rest assured to buy. perfect holiday party gifts suitable for holiday, honeymoon, and special night, etc.</td>\n",
       "      <td>0.043056</td>\n",
       "    </tr>\n",
       "    <tr>\n",
       "      <th>6264</th>\n",
       "      <td>nel p enisp umps machine extender enlarger erotic dick vacuum enlargement for men ensured safety easy operation the air pressure of vacuum pump is safe. delicately designed with decompression button, inflating button and deflation button, which makes it helpful to provide better exercise for peniiis muscle reat combination the vacuum pump is made of high end pc, which brings safe and odorless performance. equipped with 1 piece of tpe flesh and 2 wearable soft sleeves, it is extremely convenient to change and clean. usb cycle charging one full charge for 2 hour continuous enjoyment. elegant shape simple but unique, reliable to use. instant boost in size this electric pump enlargement pump created to gently suck blood into your diiick and gives you strong and full feeling safe to use automatic enlargement vacuum pump is safe to use. it is made from medically tested and approved materials. usb rechargeable forget about batteries this high vacuum pump charging from usb so you don't ne...</td>\n",
       "      <td>0.044460</td>\n",
       "    </tr>\n",
       "    <tr>\n",
       "      <th>7660</th>\n",
       "      <td>nel g spot vibrators women vibrator sex toys for woman r ealistic big d ick soft p enis vibrating vagina massager vibrators for women sex product, sex machine material tpr power 2 aa batteries not included brand name cool july female masturbator, ce vibrator vibrator for women item type vibrators obscene picture no type g spot vibrator sex products sex toys for women sex toy size sex product sex machine ,material silicone,obscene picture no material tpr,model number vibrators,type g spot power 2 aa batteries not included ,commodity quality certification 3c, ce, vibrator sex products brand name cool july female masturbator,vibrator vibrator for women,sex toys for women sex toy sexually suggestive no,item type vibrators,size sex product</td>\n",
       "      <td>0.835458</td>\n",
       "    </tr>\n",
       "    <tr>\n",
       "      <th>3385</th>\n",
       "      <td>nel thunder bull triple maximum male enhancement sexual pill long lasting 12 pills by red lips 2 thunder bull is an advanced male enhancement formula, which may boost the reproductive health and makes you perform excellently in the bedroom. it may give you necessary support for you and your partner to get sexual satisfactione. this formula is useful to those suffering from premature ejaculation, as it may help them to stay for longer before the climax. yohimbe herbal supplements</td>\n",
       "      <td>0.137854</td>\n",
       "    </tr>\n",
       "    <tr>\n",
       "      <th>868</th>\n",
       "      <td>nel realistic d i cks huge size thick dickes, lifelike silicone roft health material, personal body relax massager 8 inch zhanjun 7.8 product description material silicone function relax and relieve stress use scene living room bathroom bedroom, etc. our products are shipped in secret, which are packaged in neutral packaging. there are no sensitive words on the package, you can buy with confidence. precautions 1.all dimensions were measured manually with an error range of 3 cm. 2.the color of the display may be in error. 3.this product is for adults only, please stay away from children. 4.all decorations are not included in the product packaging. 5.after full payment, international transportation requires 10 to 20 days of arrival and promises 24 hours of manual service. it imitate a real massager with veins, huge head and balls can make the feeling more realistic lifelike and exquisite veining has a convex vein to give the user a more realistic experience medical grade double sili...</td>\n",
       "      <td>0.906993</td>\n",
       "    </tr>\n",
       "  </tbody>\n",
       "</table>\n",
       "</div>"
      ],
      "text/plain": [
       "                                                                                                                                                                                                                                                                                                                                                                                                                                                                                                                                                                                                                                                                                                                                                                                                                                                                                                                                                                                                                                         text  \\\n",
       "ID                                                                                                                                                                                                                                                                                                                                                                                                                                                                                                                                                                                                                                                                                                                                                                                                                                                                                                                                                                                                                                              \n",
       "3575   nel hismith premium sex machine, standard hismith focus on manufacturing sex machine, we produce machine series and matched accessories.we choose the best long life and mute motor as the core of the machine,ensure the power of our products,30 n cm driving force,never stop when encounter resistance.our power supply can support wide voltage 110 250v ,power switch with precise dial. as your wish,the thrust depth can be changed through change the postion of the torsion bar.besides,you can change the masburation postion,by change the postion of support connector.the body of the machine are aluminium alloy material,with high density anodizing technology.every component is produced by precision high precision cnc,sla laser series machine,and mirageblack painted surfaces,bright in color and durable,surfaces look fresh as a new one after long time use.solid stainless chromium plated iron rod support strength is over  .working life  years with correct usage and cleansing maintenance. produc...   \n",
       "3039   nel hismith premium sex machine, fucking machine with remote control, 8 silicone dildo including hismith focus on manufacturing sex machine, we produce machine series and matched accessories.we choose the best long life and mute motor as the core of the machine,ensure the power of our products,30 n cm driving force,never stop when encounter resistance.our power supply can support wide voltage 110 250v ,power switch with precise dial. as your wish,the thrust depth can be changed through change the postion of the torsion bar.besides,you can change the masburation postion,by change the postion of support connector.the body of the machine are aluminium alloy material,with high density anodizing technology.every component is produced by precision high precision cnc,sla laser series machine,and mirageblack painted surfaces,bright in color and durable,surfaces look fresh as a new one after long time use.solid stainless chromium plated iron rod support strength is over  .working life  yea...   \n",
       "3399                    nel flexible double glans penis 45cm long d i ldo vagina anal stimulation sex toys for woman lesbian sex products blm 013 made of soft high quality silicone material, soft and clean, 100 environmentally friendly and body safe silicone. allows you to enjoy the silky touch. item type d i ldo size  aterial medical silicone sexually suggestive no color purple, pink fleshcolor net weight   products type sex toys for woman user adult function d i ldo waterproof yes feature double d i ldo packing secret conditon guarantee no sex products words mentioned on package safe materials,convenient and easy to use.it is small and easy to carry.bring you a healthy sex life material medical silicone item type d i ldo.color purple, pink fleshcolorsexually suggestive no size  pls feel free to contact with us when you have some problem with our prodct,we are very pleasure to serve you.pls note that due to manual measurements,there may have a little error in size,hope you can understand.    \n",
       "4246                                                                                                                                                                                                                                                                                                                                                                                                                                                                                                                                                                                                                                                                                                                                                                                                                                                                                                                                                                   nel k anger vocc wire c o i l 1.5ohm 5pcs 5 x kanger vocc coil 1.5ohm    \n",
       "2334   nel gun ndy double layered silicone dildo,hyper realistic premium penis sex toy with suction cup, insertable 9.6 inches width 2.2 inches simulation dildo size 24.5 cm diameter 5.5 cm material medical environmental protection pvc color black, flesh,brown weight   features waterproof and strong suction cup medical grade material, safe and health. discreet package. you or your partner will fall in love with it. the package includes 1 x dildo 1 x box warm reminder 1. wash it with a hand soap in warm water to keep it clean recommended to use with a lubricant to create a better feeling keep it dry and save in a secret place away from children. due to manual measurement, the size may have an error of  f you have any questions or problems, please contact us. we will give you the most satisfying answer. health material, soft, healthy, non toxic, harmless, healthy and skin friendly to use body safe silicone material close to the skin, no smell, safe use. it imitate a real massager with vein...   \n",
       "6634                                                                                                                                                                                                                                                                                                                                                                                                                                                                                                                                                                                                                                                                                                                                                                                                                                                nel koungyun soft di dlos for beginner, snake with strong suction cup, lifilike snake for hands free material pvc strong suction cup total lenght app waterproof package includes 1 x pc    \n",
       "1413   nel grinder pump system, simplex, 115v product features constructed of cast iron ensuring durability and dependability covered under a 3 year warranty oil filled, thermally protected motor permanently lubricated ball bearings 2 vane corrosion resistant hytrel impeller all stainless steel fasteners and rotor shaft quick disconnect 10' standard power cord allows replacement of cord in seconds without breaking seals to motor product specifications height 24 width 26.25 category grinder pump connection size 2 flow rate gpm 46 motor hp 1 maximum fluid temperature f 140 degrees voltage 115 v weight  . product technologies benefits quicktree r technology the quicktree r technology allows easier access and removal of switches without disturbing pump or plumbing. v slice r technology v slice r cutter technology shreds difficult solids such as feminine products, rags, towels and wipes that can jam solids handling pumps. eco friendly certified organic cgmp usa manufacturing. all supplements ...   \n",
       "2753   nel 12 inch soft dicks lifelike massage tool relax massage wand for women mmtoylove welcome to buy our products, this product will let you experience the taste of love, can be used for a long time. overall length 31cm effective length 25cm diameter 6cm weight   clean the product with warm water or antibacterial soap. wipe dry the product with a paper towel. store the product in a cool, dry, clean place. avoid direct sunlight. we hope that you have a good shopping experience. packaging, confidential delivery, express orders, without any sensitive words. powerful suction cup base for free to play, such as bathroom, kitchen, bedroom, wooden door, floor and more. his multi section head and vivid raised texture provide stimulating texture and help retain the lubricant. this multi speed thing offers incredible, simple additional controls, this jelly stuff, creeping rotation and counter rotating around and just the right position around him. the soft, elastic, lifelike shape and detail m...   \n",
       "678                                                                                                                                                                                                                                                                                  nel leather whip spank kit torture punish discipline trainer kit color red product information length 38cm material leather, metal, acrylic color red, black dear friends we have a very good quality for our product, please buy our product with confidence we provide you with private shipping, so there is no one knows what you bought. if you want to know any more features about this item, please kindly let us know by leaving messages or sending emails, and we may you have a nice day thank you so much for reading this. best regards it's good to put your partner at ease when you're just about to xxx her. it's a great way to spice up your relationship. she will enjoy it very much. she needs a master what are you waiting for    \n",
       "3980   nel yhuidsy z realistic d i cks real feel soft silicone dickes, with suction cup tooy for women or les couples, 8 inch hands free tm product description material silicone function relax and relieve stress use scene living room bathroom bedroom, etc. our products are shipped in secret, which are packaged in neutral packaging. there are no sensitive words on the package, you can buy with confidence. precautions 1.all dimensions were measured manually with an error range of 3 cm. 2.the color of the display may be in error. 3.this product is for adults only, please stay away from children. 4.all decorations are not included in the product packaging. 5.after full payment, international transportation requires 10 to 20 days of arrival and promises 24 hours of manual service edical silicone 100 medical silicone, no additive, feel real, close to the skin texture of real people waterproof and easy to clean long life and waterproof, just rinse with water, air dry, toy cleaning effect is bet...   \n",
       "7220                                                                                                                                                                                                              nel aa silicone entity doll male masturbation tool masturbation cup glans orgasm toys 0504 size 68cm dear customers, we provide confidential shipments throughout the entire process to protect your privacy. material tpe size 58cm,68cm,102cm color skin tone control type manual applicable people adults due to manual measurements, there may be an error of   ours customer service,30 days full refunds and well package real life reproduction, smooth and realistic skin, can be anal sex, yin, and foot. multiple joints can be moved, soft to the touch, beautiful lines and strong resilience. 3d analog channel, life long waterproof, multiple experiences, multiple stimuli, let you reach orgasm quickly. if you have any questions, please contact us and we will provide you with detailed instructions.    \n",
       "1987                                                                                                                                                                                                                                                                                                                                                                                                                                                                                      nel yooaa adullt toys vibrators 30 speed lotus petal vibrators for women c litoris stimulator vibrador sexv products g spot vibrator sexv toys for woman sexvo,pink mens vibrators sexv toy 20cm function 30 speed lotus petal vibrators,material silicone,obscene picture no brand name yooaa,feature mute vibrator,power by usb rechargeable waterproof yes,model number cn747,type lotus petal vibrators for wome color pink,commodity quality certification live,sexvually suggestive no type wand,item type vibrators,size length about 145mm    \n",
       "2159                                                                                                                                                                                                                                                                                                                                                                                                                                                                                                                                                                                                                                                                                                                                                                                                                                                                             nel smoke arsenal premium rolling tray the plug  tobacco use only made of durable metal. the front surface is non stick, and the back surface is rust proof    \n",
       "417                                                                                                                                                                                                                                                                                                                                                                                                                                                                                                                                                                                                                                                                                                                                                                                                         nel yooaa sexv toys for women mini vibrator magic wand beads lesbian machine shop,modela obscene picture no material plastic,type bullet sexvually suggestive no commodity quality certification ce,size 11cm item type vibrator    \n",
       "6607                                                                                                                                                                                                                                                                                                                                                                                                                                                                                                                                                                                                                                      nel  big dildos for women grapes shape r ealistic dildo19.11cm suction gay sex toy flesh sex dildofor women sexually suggestive no material silicone,type good quality item type dildos brand name obscene picture item sex dildofor women size sex dildofor women sexually suggestive no material silicone,type good quality item type dildos brand name barry picks item sex dildofor women size    \n",
       "4986                                                                nel faceblaster tm reduce appearance of wrinkles, fine lines, crow's feet, and headaches by massaging on face, neck, head, hands, and feet great for toning and separating fascia from scar tissue part of the fasciablaster family, the faceblaster is a completely new design with 3 tiny, dainty claws that employ the same benefits of the fasciablaster for smaller, delicate areas. it was specifically designed for the face and can help release tension, fascial adhesions, and tightness between the smallest joints and bones in the hands, feet, and neck. cellulite reduction may reduce or eliminate the appearance of cellulite. control smaller. the perfect design for face and smaller areas of the body. easy to use designed to use on your own without additional assistance. stimulates circulation enhances local blood flow by stimulating your tissue. durable premium design and construction allow for years of use. body cellulite massagers    \n",
       "5057                                                                                                                                                                                                                                                                                                                                                                                                                                                                                                                                                                                                                                                   nel winzfred liquid silicone color vinrator dilo thrusting inspiration, realistic pulsator dilo automatic vinrator with suction cup for women couple material liquid silicone color not exactly the same quantity 1pc protect your privacy and use secret packaging, please rest assured to buy. perfect holiday party gifts suitable for holiday, honeymoon, and special night, etc.    \n",
       "6264   nel p enisp umps machine extender enlarger erotic dick vacuum enlargement for men ensured safety easy operation the air pressure of vacuum pump is safe. delicately designed with decompression button, inflating button and deflation button, which makes it helpful to provide better exercise for peniiis muscle reat combination the vacuum pump is made of high end pc, which brings safe and odorless performance. equipped with 1 piece of tpe flesh and 2 wearable soft sleeves, it is extremely convenient to change and clean. usb cycle charging one full charge for 2 hour continuous enjoyment. elegant shape simple but unique, reliable to use. instant boost in size this electric pump enlargement pump created to gently suck blood into your diiick and gives you strong and full feeling safe to use automatic enlargement vacuum pump is safe to use. it is made from medically tested and approved materials. usb rechargeable forget about batteries this high vacuum pump charging from usb so you don't ne...   \n",
       "7660                                                                                                                                                                                                                                                                nel g spot vibrators women vibrator sex toys for woman r ealistic big d ick soft p enis vibrating vagina massager vibrators for women sex product, sex machine material tpr power 2 aa batteries not included brand name cool july female masturbator, ce vibrator vibrator for women item type vibrators obscene picture no type g spot vibrator sex products sex toys for women sex toy size sex product sex machine ,material silicone,obscene picture no material tpr,model number vibrators,type g spot power 2 aa batteries not included ,commodity quality certification 3c, ce, vibrator sex products brand name cool july female masturbator,vibrator vibrator for women,sex toys for women sex toy sexually suggestive no,item type vibrators,size sex product    \n",
       "3385                                                                                                                                                                                                                                                                                                                                                                                                                                                                                                                                     nel thunder bull triple maximum male enhancement sexual pill long lasting 12 pills by red lips 2 thunder bull is an advanced male enhancement formula, which may boost the reproductive health and makes you perform excellently in the bedroom. it may give you necessary support for you and your partner to get sexual satisfactione. this formula is useful to those suffering from premature ejaculation, as it may help them to stay for longer before the climax. yohimbe herbal supplements    \n",
       "868    nel realistic d i cks huge size thick dickes, lifelike silicone roft health material, personal body relax massager 8 inch zhanjun 7.8 product description material silicone function relax and relieve stress use scene living room bathroom bedroom, etc. our products are shipped in secret, which are packaged in neutral packaging. there are no sensitive words on the package, you can buy with confidence. precautions 1.all dimensions were measured manually with an error range of 3 cm. 2.the color of the display may be in error. 3.this product is for adults only, please stay away from children. 4.all decorations are not included in the product packaging. 5.after full payment, international transportation requires 10 to 20 days of arrival and promises 24 hours of manual service. it imitate a real massager with veins, huge head and balls can make the feeling more realistic lifelike and exquisite veining has a convex vein to give the user a more realistic experience medical grade double sili...   \n",
       "\n",
       "         label  \n",
       "ID              \n",
       "3575  0.038767  \n",
       "3039  0.048005  \n",
       "3399  0.877593  \n",
       "4246  0.374292  \n",
       "2334  0.216702  \n",
       "6634  0.094508  \n",
       "1413  0.070598  \n",
       "2753  0.465209  \n",
       "678   0.908077  \n",
       "3980  0.755911  \n",
       "7220  0.827720  \n",
       "1987  0.789482  \n",
       "2159  0.062634  \n",
       "417   0.853295  \n",
       "6607  0.430595  \n",
       "4986  0.928744  \n",
       "5057  0.043056  \n",
       "6264  0.044460  \n",
       "7660  0.835458  \n",
       "3385  0.137854  \n",
       "868   0.906993  "
      ]
     },
     "execution_count": 32,
     "metadata": {},
     "output_type": "execute_result"
    }
   ],
   "source": [
    "results[results['label']>0.03][results['label']<0.95]\n"
   ]
  },
  {
   "cell_type": "code",
   "execution_count": 33,
   "metadata": {},
   "outputs": [],
   "source": [
    "results.to_csv('results.csv', columns=[ 'label'])"
   ]
  },
  {
   "cell_type": "code",
   "execution_count": null,
   "metadata": {},
   "outputs": [],
   "source": []
  },
  {
   "cell_type": "code",
   "execution_count": 34,
   "metadata": {},
   "outputs": [
    {
     "data": {
      "text/plain": [
       "['[NEL]',\n",
       " 'nel',\n",
       " 'porn',\n",
       " 'nubby',\n",
       " 'lesbian',\n",
       " 'gay',\n",
       " 'transvestite',\n",
       " 'transgender',\n",
       " 'lube',\n",
       " 'lubricant',\n",
       " 'sex',\n",
       " 'intercourse',\n",
       " 'fuck',\n",
       " 'vibrate',\n",
       " 'suction',\n",
       " 'lick',\n",
       " 'suck',\n",
       " 'gag',\n",
       " 'dildo',\n",
       " 'vibrator',\n",
       " 'condom',\n",
       " 'anal',\n",
       " 'plug',\n",
       " 'snake',\n",
       " 'trembler',\n",
       " 'pulsator',\n",
       " 'lockaid',\n",
       " 'strap',\n",
       " 'buzzer',\n",
       " 'rabbit',\n",
       " 'egg',\n",
       " 'penetrator',\n",
       " 'dual',\n",
       " 'kegel',\n",
       " 'ben',\n",
       " 'wa',\n",
       " 'stimulator',\n",
       " 'masturbator',\n",
       " 'lasso',\n",
       " 'bondage',\n",
       " 'cuff',\n",
       " 'pasties',\n",
       " 'strapon',\n",
       " 'didlo',\n",
       " 'dido',\n",
       " 'dilo',\n",
       " 'dlo',\n",
       " 'device',\n",
       " 'gadget',\n",
       " 'pleasure',\n",
       " 'intimate',\n",
       " 'last',\n",
       " 'aroused',\n",
       " 'climax',\n",
       " 'enjoyment',\n",
       " 'orgasm',\n",
       " 'bdsm',\n",
       " 'sadism',\n",
       " 'submission',\n",
       " 'masochism',\n",
       " 'realistic',\n",
       " 'stimulate',\n",
       " 'squirt',\n",
       " 'virginity',\n",
       " 'dick',\n",
       " 'cock',\n",
       " 'penis',\n",
       " 'spot',\n",
       " 'butt',\n",
       " 'ass',\n",
       " 'nipple',\n",
       " 'clitor',\n",
       " 'pelvic',\n",
       " 'vagina',\n",
       " 'pussy',\n",
       " 'anus',\n",
       " 'prostate',\n",
       " 'rectum',\n",
       " 'ventral',\n",
       " 'scrotum',\n",
       " 'tongue',\n",
       " 'perineum',\n",
       " 'boob']"
      ]
     },
     "execution_count": 34,
     "metadata": {},
     "output_type": "execute_result"
    }
   ],
   "source": []
  },
  {
   "cell_type": "code",
   "execution_count": null,
   "metadata": {},
   "outputs": [],
   "source": []
  }
 ],
 "metadata": {
  "kernelspec": {
   "display_name": "Python 3",
   "language": "python",
   "name": "python3"
  },
  "language_info": {
   "codemirror_mode": {
    "name": "ipython",
    "version": 3
   },
   "file_extension": ".py",
   "mimetype": "text/x-python",
   "name": "python",
   "nbconvert_exporter": "python",
   "pygments_lexer": "ipython3",
   "version": "3.7.3"
  }
 },
 "nbformat": 4,
 "nbformat_minor": 2
}
