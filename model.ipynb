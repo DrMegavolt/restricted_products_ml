{
 "cells": [
  {
   "cell_type": "code",
   "execution_count": 1,
   "metadata": {},
   "outputs": [
    {
     "name": "stdout",
     "output_type": "stream",
     "text": [
      "importing Jupyter notebook from bertkeras.ipynb\n",
      "importing Jupyter notebook from BERTDictionary.ipynb\n",
      "[NEL]\n",
      "nubby\n",
      "transvestite\n",
      "lube\n",
      "lubricant\n",
      "vibrate\n",
      "suction\n",
      "dildo\n",
      "vibrator\n",
      "trembler\n",
      "pulsator\n",
      "lockaid\n",
      "buzzer\n",
      "penetrator\n",
      "kegel\n",
      "stimulator\n",
      "masturbator\n",
      "lasso\n",
      "bondage\n",
      "pasties\n",
      "strapon\n",
      "didlo\n",
      "dido\n",
      "dilo\n",
      "dlo\n",
      "gadget\n",
      "bdsm\n",
      "sadism\n",
      "masochism\n",
      "squirt\n",
      "clitor\n",
      "pelvic\n",
      "vagina\n",
      "anus\n",
      "rectum\n",
      "scrotum\n",
      "perineum\n"
     ]
    }
   ],
   "source": [
    "import import_ipynb\n",
    "import tensorflow as tf\n",
    "import pandas as pd\n",
    "import tensorflow_hub as hub\n",
    "import os\n",
    "import re\n",
    "from sklearn.metrics import confusion_matrix, accuracy_score\n",
    "import numpy as np\n",
    "from bert.tokenization import FullTokenizer\n",
    "from tqdm import tqdm_notebook\n",
    "from tensorflow.keras import backend as K\n",
    "from sklearn.model_selection import train_test_split\n",
    "import bertkeras as bk\n",
    "import BERTDictionary as bd\n",
    "import matplotlib.pyplot as plt\n",
    "import seaborn as sns\n",
    "from matplotlib import pyplot\n",
    "from unidecode import unidecode\n",
    "from scipy.stats import norm, boxcox\n",
    "pd.options.display.max_colwidth = 1000\n",
    "sns.set()"
   ]
  },
  {
   "cell_type": "code",
   "execution_count": 2,
   "metadata": {},
   "outputs": [],
   "source": [
    "df= pd.read_csv('../dataset/training.csv', index_col='ID')\n",
    "labels = df['label']\n",
    "drop_columns = [ '﻿ASIN','parent_asin','Product Group Description', \n",
    "                      'product_name', 'brand_code', 'brand_name']\n",
    "df = df.drop(columns=drop_columns)\n",
    "df = df.fillna(\"\")\n",
    "\n",
    "cols = df.columns.tolist()\n",
    "cols.remove('label')\n",
    "text = df[cols].apply(' '.join, axis=1)\n"
   ]
  },
  {
   "cell_type": "code",
   "execution_count": 3,
   "metadata": {},
   "outputs": [],
   "source": [
    "html_re = re.compile('<[^>]*>')\n",
    "garbage_re = re.compile('[^0-9a-z,\\'\\.]+') \n",
    "weight_re = re.compile('[\\d.]+[ ]?(kg+|lbs+|g+|lb+)')\n",
    "garbage_threshhold = 0.0003\n",
    "# check if it actually helps, tests https://regex101.com/r/xwnV5l/1\n",
    "size_re = re.compile('[\\d.]+([ cminch]+)?[ x*]+[\\d.]+([ cminch]+)?([ x*]+[\\d.]+)?([ cminch]+)')\n",
    "\n",
    "def html_cleanup(html):\n",
    "    return re.sub(html_re, ' ', html)\n",
    "def lower_case(txt):\n",
    "    return txt.lower()\n",
    "def split_by_garbage(txt):\n",
    "    return re.sub(garbage_re, ' ', txt)\n",
    "def decode_chars(txt):\n",
    "    garbage_fiteted = re.sub(garbage_re, '', txt)\n",
    "    decoded_txt = unidecode(txt)\n",
    "    return decoded_txt if len(garbage_fiteted)/len(txt) < garbage_threshhold \\\n",
    "        else '[NEL] ' + decoded_txt \n",
    "\n",
    "def cleanup_size(txt):\n",
    "    return re.sub(size_re, ' ', txt).replace('size:', '')\n",
    "\n",
    "def cleanup_weight(txt):\n",
    "    return re.sub(weight_re, ' ', txt)\n",
    "    \n",
    "def cleanup(text):\n",
    "    res = text.apply(html_cleanup).apply(decode_chars).apply(lower_case) \\\n",
    "              .apply(split_by_garbage).apply(cleanup_size) \\\n",
    "              .apply(cleanup_weight)\n",
    "    return res"
   ]
  },
  {
   "cell_type": "code",
   "execution_count": 4,
   "metadata": {},
   "outputs": [],
   "source": [
    "texts = cleanup(text)"
   ]
  },
  {
   "cell_type": "code",
   "execution_count": 5,
   "metadata": {},
   "outputs": [],
   "source": [
    "df = pd.DataFrame( {\"texts\" :texts, \"labels\": labels} )"
   ]
  },
  {
   "cell_type": "code",
   "execution_count": 6,
   "metadata": {},
   "outputs": [],
   "source": [
    "# there is error in training dataset\n",
    "df.loc[196,'labels'] =1\n"
   ]
  },
  {
   "cell_type": "code",
   "execution_count": 7,
   "metadata": {},
   "outputs": [],
   "source": [
    "txt_train, txt_test, lbl_train, lbl_test = train_test_split(\n",
    "    texts, labels, test_size=0.2, random_state=42)"
   ]
  },
  {
   "cell_type": "code",
   "execution_count": 8,
   "metadata": {},
   "outputs": [
    {
     "data": {
      "text/plain": [
       "ID\n",
       "398     0\n",
       "5823    0\n",
       "5943    0\n",
       "3822    1\n",
       "6054    0\n",
       "Name: label, dtype: int64"
      ]
     },
     "execution_count": 8,
     "metadata": {},
     "output_type": "execute_result"
    }
   ],
   "source": [
    "lbl_train.tail()"
   ]
  },
  {
   "cell_type": "code",
   "execution_count": 9,
   "metadata": {},
   "outputs": [
    {
     "name": "stdout",
     "output_type": "stream",
     "text": [
      "['[NEL]' 'porn' 'nubby' 'lesbian']\n",
      "['gay' 'transvestite' 'transgender' 'lube']\n",
      "['lubricant' 'sex' 'intercourse' 'fuck']\n",
      "['vibrate' 'suction' 'lick' 'suck']\n",
      "['gag' 'dildo' 'vibrator' 'condom']\n",
      "['anal' 'plug' 'snake']\n",
      "['trembler' 'pulsator' 'lockaid']\n",
      "['strap' 'buzzer' 'rabbit']\n",
      "['egg' 'penetrator' 'dual']\n",
      "['kegel' 'ben' 'wa']\n",
      "['stimulator' 'masturbator' 'lasso']\n",
      "['bondage' 'cuff' 'pasties']\n",
      "['strapon' 'didlo' 'dido']\n",
      "['dilo' 'dlo' 'device']\n",
      "['gadget' 'pleasure' 'intimate']\n",
      "['last' 'aroused' 'climax']\n",
      "['enjoyment' 'orgasm' 'bdsm']\n",
      "['sadism' 'submission' 'masochism']\n",
      "['realistic' 'stimulate' 'squirt']\n",
      "['dick' 'cock' 'penis']\n",
      "['spot' 'butt' 'ass']\n",
      "['nipple' 'clitor' 'pelvic']\n",
      "['vagina' 'pussy' 'anus']\n",
      "['prostate' 'rectum' 'ventral']\n",
      "['scrotum' 'tongue' 'perineum']\n"
     ]
    }
   ],
   "source": [
    "k=10000\n",
    "arr = np.array_split(bd.adult_toys_vocab, 25)\n",
    "for a in arr :\n",
    "    print(a)\n",
    "    w = ' '.join(a)\n",
    "    txt_train = txt_train.append(pd.Series([w], index=[k]))\n",
    "    lbl_train = lbl_train.append(pd.Series([1], index=[k]))\n",
    "    k = k+1\n"
   ]
  },
  {
   "cell_type": "code",
   "execution_count": 10,
   "metadata": {},
   "outputs": [
    {
     "name": "stdout",
     "output_type": "stream",
     "text": [
      "using vocab file from vocab.txt\n"
     ]
    }
   ],
   "source": [
    "tokenizer = bk.create_tokenizer_from_hub_module(vocab_file='vocab.txt')\n",
    "max_seq_length = 512"
   ]
  },
  {
   "cell_type": "code",
   "execution_count": 11,
   "metadata": {},
   "outputs": [],
   "source": [
    "# Convert data to InputExample format\n",
    "train_examples = bk.convert_text_to_examples(txt_train, lbl_train.values)\n",
    "test_examples = bk.convert_text_to_examples(txt_test, lbl_test.values)"
   ]
  },
  {
   "cell_type": "code",
   "execution_count": 12,
   "metadata": {},
   "outputs": [
    {
     "data": {
      "application/vnd.jupyter.widget-view+json": {
       "model_id": "a2110caac36047b3b35ec079d95a444e",
       "version_major": 2,
       "version_minor": 0
      },
      "text/plain": [
       "HBox(children=(IntProgress(value=0, description='Converting examples to features', max=4413, style=ProgressSty…"
      ]
     },
     "metadata": {},
     "output_type": "display_data"
    },
    {
     "name": "stdout",
     "output_type": "stream",
     "text": [
      "\n"
     ]
    },
    {
     "data": {
      "application/vnd.jupyter.widget-view+json": {
       "model_id": "48f5b15268dd401ea7f289ffe6c0c591",
       "version_major": 2,
       "version_minor": 0
      },
      "text/plain": [
       "HBox(children=(IntProgress(value=0, description='Converting examples to features', max=1098, style=ProgressSty…"
      ]
     },
     "metadata": {},
     "output_type": "display_data"
    },
    {
     "name": "stdout",
     "output_type": "stream",
     "text": [
      "\n"
     ]
    }
   ],
   "source": [
    "\n",
    "# Convert to features\n",
    "(train_input_ids, train_input_masks, train_segment_ids, train_labels \n",
    ") = bk.convert_examples_to_features(tokenizer, train_examples, max_seq_length=max_seq_length)\n",
    "(test_input_ids, test_input_masks, test_segment_ids, test_labels\n",
    ") = bk.convert_examples_to_features(tokenizer, test_examples, max_seq_length=max_seq_length)"
   ]
  },
  {
   "cell_type": "code",
   "execution_count": 13,
   "metadata": {},
   "outputs": [
    {
     "data": {
      "text/plain": [
       "{'guid': None,\n",
       " 'text_a': ' nel acqua di parma blu mediterraneo arancia di capri perfume for women 2.5 oz eau de toilette spray a free vial 2.5 oz eau de toilette spray ',\n",
       " 'text_b': None,\n",
       " 'label': 0}"
      ]
     },
     "execution_count": 13,
     "metadata": {},
     "output_type": "execute_result"
    }
   ],
   "source": [
    "train_examples[0].__dict__"
   ]
  },
  {
   "cell_type": "code",
   "execution_count": 14,
   "metadata": {},
   "outputs": [],
   "source": [
    "def build_model(max_seq_length): \n",
    "    in_id = tf.keras.layers.Input(shape=(max_seq_length,), name=\"input_ids\")\n",
    "    in_mask = tf.keras.layers.Input(shape=(max_seq_length,), name=\"input_masks\")\n",
    "    in_segment = tf.keras.layers.Input(shape=(max_seq_length,), name=\"segment_ids\")\n",
    "    bert_inputs = [in_id, in_mask, in_segment]\n",
    "    \n",
    "    bert_output = bk.BertLayer(n_fine_tune_layers=3, pooling=\"first\")(bert_inputs)\n",
    "    dense = tf.keras.layers.Dense(256, activation='relu')(bert_output)\n",
    "    pred = tf.keras.layers.Dense(1, activation='sigmoid')(dense)\n",
    "    \n",
    "    model = tf.keras.models.Model(inputs=bert_inputs, outputs=pred)\n",
    "    model.compile(loss='binary_crossentropy', optimizer='adam', metrics=['accuracy'])\n",
    "    model.summary()\n",
    "    \n",
    "    return model"
   ]
  },
  {
   "cell_type": "code",
   "execution_count": 15,
   "metadata": {},
   "outputs": [],
   "source": [
    "ACCURACY_THRESHOLD = 0.99\n",
    "LOSS_THRESHOLD = 0.015\n",
    "class myCallback(tf.keras.callbacks.Callback): \n",
    "    def on_batch_end(self, batch, logs): \n",
    "        if(logs.get('acc') > ACCURACY_THRESHOLD and logs.get('loss')<LOSS_THRESHOLD):   \n",
    "          print(\"\\nReached %2.2f%% accuracy, so stopping training!!\" %(ACCURACY_THRESHOLD*100)) \n",
    "          self.model.stop_training = True"
   ]
  },
  {
   "cell_type": "code",
   "execution_count": 16,
   "metadata": {},
   "outputs": [
    {
     "name": "stdout",
     "output_type": "stream",
     "text": [
      "__________________________________________________________________________________________________\n",
      "Layer (type)                    Output Shape         Param #     Connected to                     \n",
      "==================================================================================================\n",
      "input_ids (InputLayer)          (None, 512)          0                                            \n",
      "__________________________________________________________________________________________________\n",
      "input_masks (InputLayer)        (None, 512)          0                                            \n",
      "__________________________________________________________________________________________________\n",
      "segment_ids (InputLayer)        (None, 512)          0                                            \n",
      "__________________________________________________________________________________________________\n",
      "bert_layer (BertLayer)          (None, 768)          110104890   input_ids[0][0]                  \n",
      "                                                                 input_masks[0][0]                \n",
      "                                                                 segment_ids[0][0]                \n",
      "__________________________________________________________________________________________________\n",
      "dense (Dense)                   (None, 256)          196864      bert_layer[0][0]                 \n",
      "__________________________________________________________________________________________________\n",
      "dense_1 (Dense)                 (None, 1)            257         dense[0][0]                      \n",
      "==================================================================================================\n",
      "Total params: 110,302,011\n",
      "Trainable params: 21,460,737\n",
      "Non-trainable params: 88,841,274\n",
      "__________________________________________________________________________________________________\n"
     ]
    }
   ],
   "source": [
    "model = build_model(max_seq_length)"
   ]
  },
  {
   "cell_type": "code",
   "execution_count": 17,
   "metadata": {},
   "outputs": [
    {
     "name": "stdout",
     "output_type": "stream",
     "text": [
      "Train on 4413 samples, validate on 1098 samples\n",
      "Epoch 1/8\n",
      "4413/4413 [==============================] - 283s 64ms/sample - loss: 0.1955 - acc: 0.9356 - val_loss: 0.0886 - val_acc: 0.9763\n",
      "Epoch 2/8\n",
      "4413/4413 [==============================] - 280s 64ms/sample - loss: 0.0600 - acc: 0.9823 - val_loss: 0.0366 - val_acc: 0.9891\n",
      "Epoch 3/8\n",
      "\n",
      "Reached 99.00% accuracy, so stopping training!!\n",
      "  24/4413 [..............................] - ETA: 3:57 - loss: 0.0026 - acc: 1.0000"
     ]
    },
    {
     "data": {
      "text/plain": [
       "<tensorflow.python.keras.callbacks.History at 0x7f3b9d82cfd0>"
      ]
     },
     "execution_count": 17,
     "metadata": {},
     "output_type": "execute_result"
    }
   ],
   "source": [
    "# Initialize session\n",
    "sess = tf.Session()\n",
    "# Instantiate variables\n",
    "bk.initialize_vars(sess)\n",
    "tb = tf.compat.v1.keras.callbacks.TensorBoard(log_dir='./logs', histogram_freq=0, batch_size=24, write_graph=True, write_grads=False, write_images=False, embeddings_freq=0, embeddings_layer_names=None, embeddings_metadata=None, embeddings_data=None, update_freq='batch')\n",
    "stop98 = myCallback()\n",
    "model.fit(\n",
    "    [train_input_ids, train_input_masks, train_segment_ids], \n",
    "    train_labels,\n",
    "    validation_data=([test_input_ids, test_input_masks, test_segment_ids], test_labels),\n",
    "    callbacks = [ tb, stop98], #, \n",
    "    epochs=8,\n",
    "    batch_size=24\n",
    ")"
   ]
  },
  {
   "cell_type": "code",
   "execution_count": 18,
   "metadata": {},
   "outputs": [],
   "source": [
    "model.save('restricted.h5')"
   ]
  },
  {
   "cell_type": "code",
   "execution_count": 19,
   "metadata": {},
   "outputs": [],
   "source": [
    "df_subm= pd.read_csv('../dataset/public_test_features.csv', index_col='ID')\n",
    "df_subm = df_subm.drop(columns=drop_columns)\n",
    "df_subm = df_subm.fillna(\"\")\n",
    "\n",
    "text_subm = df_subm[cols].apply(' '.join, axis=1)\n"
   ]
  },
  {
   "cell_type": "code",
   "execution_count": 20,
   "metadata": {},
   "outputs": [],
   "source": [
    "texts_subm = cleanup(text_subm)"
   ]
  },
  {
   "cell_type": "code",
   "execution_count": 21,
   "metadata": {},
   "outputs": [],
   "source": [
    "subm_examples = bk.convert_text_to_examples(texts_subm, [0]*len(texts_subm))"
   ]
  },
  {
   "cell_type": "code",
   "execution_count": null,
   "metadata": {},
   "outputs": [],
   "source": []
  },
  {
   "cell_type": "code",
   "execution_count": null,
   "metadata": {},
   "outputs": [],
   "source": []
  },
  {
   "cell_type": "code",
   "execution_count": 22,
   "metadata": {},
   "outputs": [
    {
     "data": {
      "application/vnd.jupyter.widget-view+json": {
       "model_id": "fb890bcae83e4c60b039ae8edf3ba36e",
       "version_major": 2,
       "version_minor": 0
      },
      "text/plain": [
       "HBox(children=(IntProgress(value=0, description='Converting examples to features', max=2352, style=ProgressSty…"
      ]
     },
     "metadata": {},
     "output_type": "display_data"
    },
    {
     "name": "stdout",
     "output_type": "stream",
     "text": [
      "\n"
     ]
    }
   ],
   "source": [
    "(subm_input_ids, subm_input_masks, subm_segment_ids, subm_labels\n",
    ") = bk.convert_examples_to_features(tokenizer, subm_examples, max_seq_length=max_seq_length)"
   ]
  },
  {
   "cell_type": "code",
   "execution_count": 23,
   "metadata": {},
   "outputs": [
    {
     "data": {
      "text/plain": [
       "' nel vintage mama e hija amor corazon cadena collar mujeres dia de la madre regalo especificaciones disea o de mama e hija, colgante con forma de coraza3n. hecho de material de aleacia3n de alta calidad con mano de obra fina. regalo perfecto para el daa de la madre u otras ocasiones. tipo collar ganero mujeres tema estilo vintage material aleacia3n de ocasiones fiesta, daa de la madre, regalo, vida diaria, etc. caracterasticas colgante de coraza3n, patra3n de letras, regalo para madre longitud de la cadena  19,69 pulgadas 1,97 pulgadas aprox. notas debido a la diferencia de configuracia3n de la luz y la pantalla, el color del artaculo puede ser ligeramente diferente al de las ima genes. puede haber una ligera diferencia de dimensia3n debido a las diferentes medidas manuales. el paquete incluye 1 x collar item specifics fino o de moda moda tipo de articulo collares nombre de la marca bluelans estilo trendy forma patron carta tipo de cadena cadena de eslabones tamano colgante 5cm compatibilidad totalmente compatible genero mujeres se puede personalizar no material metal tipo de metales aleacion de zinc tipo de collar collares pendientes numero de modelo 31147 fino o de moda moda tipo de articulo collares nombre de la marca bluelans estilo trendy forma patron carta '"
      ]
     },
     "execution_count": 23,
     "metadata": {},
     "output_type": "execute_result"
    }
   ],
   "source": [
    "subm_examples[0].text_a"
   ]
  },
  {
   "cell_type": "code",
   "execution_count": 24,
   "metadata": {},
   "outputs": [],
   "source": [
    "testCount = len(subm_input_ids)\n",
    "def pickMax(arr):\n",
    "  m = max(arr)\n",
    "  return [x for x in arr]\n",
    "\n",
    "threshold = 0.4\n",
    "def tolabel(arr):\n",
    "  # return int(max(arr)>=threshold)\n",
    "  return max(arr)\n",
    "    \n"
   ]
  },
  {
   "cell_type": "code",
   "execution_count": 25,
   "metadata": {},
   "outputs": [],
   "source": [
    "predictions = model.predict([subm_input_ids[0:testCount], \n",
    "                                subm_input_masks[0:testCount], \n",
    "                                subm_segment_ids[0:testCount]])"
   ]
  },
  {
   "cell_type": "code",
   "execution_count": 26,
   "metadata": {},
   "outputs": [],
   "source": [
    "pred = [ tolabel(p) for p in predictions]"
   ]
  },
  {
   "cell_type": "code",
   "execution_count": 27,
   "metadata": {},
   "outputs": [],
   "source": [
    "results = pd.DataFrame({\"text\":texts_subm, \"label\":pred})"
   ]
  },
  {
   "cell_type": "code",
   "execution_count": 28,
   "metadata": {},
   "outputs": [
    {
     "name": "stderr",
     "output_type": "stream",
     "text": [
      "/home/drmegavolt/miniconda3/envs/restricted_products/lib/python3.7/site-packages/ipykernel_launcher.py:1: UserWarning: Boolean Series key will be reindexed to match DataFrame index.\n",
      "  \"\"\"Entry point for launching an IPython kernel.\n"
     ]
    },
    {
     "data": {
      "text/html": [
       "<div>\n",
       "<style scoped>\n",
       "    .dataframe tbody tr th:only-of-type {\n",
       "        vertical-align: middle;\n",
       "    }\n",
       "\n",
       "    .dataframe tbody tr th {\n",
       "        vertical-align: top;\n",
       "    }\n",
       "\n",
       "    .dataframe thead th {\n",
       "        text-align: right;\n",
       "    }\n",
       "</style>\n",
       "<table border=\"1\" class=\"dataframe\">\n",
       "  <thead>\n",
       "    <tr style=\"text-align: right;\">\n",
       "      <th></th>\n",
       "      <th>text</th>\n",
       "      <th>label</th>\n",
       "    </tr>\n",
       "    <tr>\n",
       "      <th>ID</th>\n",
       "      <th></th>\n",
       "      <th></th>\n",
       "    </tr>\n",
       "  </thead>\n",
       "  <tbody>\n",
       "    <tr>\n",
       "      <th>3575</th>\n",
       "      <td>nel hismith premium sex machine, standard hismith focus on manufacturing sex machine, we produce machine series and matched accessories.we choose the best long life and mute motor as the core of the machine,ensure the power of our products,30 n cm driving force,never stop when encounter resistance.our power supply can support wide voltage 110 250v ,power switch with precise dial. as your wish,the thrust depth can be changed through change the postion of the torsion bar.besides,you can change the masburation postion,by change the postion of support connector.the body of the machine are aluminium alloy material,with high density anodizing technology.every component is produced by precision high precision cnc,sla laser series machine,and mirageblack painted surfaces,bright in color and durable,surfaces look fresh as a new one after long time use.solid stainless chromium plated iron rod support strength is over  .working life  years with correct usage and cleansing maintenance. produc...</td>\n",
       "      <td>0.090924</td>\n",
       "    </tr>\n",
       "    <tr>\n",
       "      <th>3039</th>\n",
       "      <td>nel hismith premium sex machine, fucking machine with remote control, 8 silicone dildo including hismith focus on manufacturing sex machine, we produce machine series and matched accessories.we choose the best long life and mute motor as the core of the machine,ensure the power of our products,30 n cm driving force,never stop when encounter resistance.our power supply can support wide voltage 110 250v ,power switch with precise dial. as your wish,the thrust depth can be changed through change the postion of the torsion bar.besides,you can change the masburation postion,by change the postion of support connector.the body of the machine are aluminium alloy material,with high density anodizing technology.every component is produced by precision high precision cnc,sla laser series machine,and mirageblack painted surfaces,bright in color and durable,surfaces look fresh as a new one after long time use.solid stainless chromium plated iron rod support strength is over  .working life  yea...</td>\n",
       "      <td>0.162470</td>\n",
       "    </tr>\n",
       "    <tr>\n",
       "      <th>4607</th>\n",
       "      <td>nel dadou blue pens double ended did lo amal male female dong pens dadou functions promotes healthy ro tate function head designed for ultimate pleasure and ro tate st mul ti n made with the highest quality material available easy to clean and store super stretchy and silky smooth to the touch ergonomically designed to perfectly rest on the ro tate make all of your aial fantasies come true tips 1. please allow slight measurement deviation for the data lean before and after each use recommended to use with lubricants ompatible with all lubricant types wash with toy cleaner or warm water. do not shy away from this great aial as it can be used by both men and women. the silky smooth texture helps glide the bitt plug right in. featur ing a re listic tip, you are guaranteed to hit all the right pleasure points. aial plug has nice size and comfortable shape, made of medical silicone, safty, nontoxic and odorless. apply to both beginners and advanced users for explosive g p r gasm and ai...</td>\n",
       "      <td>0.697702</td>\n",
       "    </tr>\n",
       "    <tr>\n",
       "      <th>1486</th>\n",
       "      <td>nel sexxxy wearable realistic strap on dildo silicone pu leather strapon dildo pants sexy belt for lesbian couple women flesh features 1 item type wearable realistic dildo 2 color flesh 3 length  dildo diameter  et weight   6 feature can be adsorbed and strop on strong suction cup please allow 0.3cm error due to manual measurement, thank you. flexible and adjustable the straps can be adjusted for various sizes. the back fits like a thong and the front has a small dildo that goes inserted into your vagina. soft silicone material the dildo is made of medical grade silicone and non toxic dildo, without odor, seamless and safe to use waterproof design it is easy to use and convenient to clean. double pleasure this double dildo strap on is great for the lesbian partner to enjoy giving as well as receiving at the same time.while using this strap on you will not only pleasure the partner but you will also pleasure yourself at the same time.</td>\n",
       "      <td>0.914339</td>\n",
       "    </tr>\n",
       "    <tr>\n",
       "      <th>3399</th>\n",
       "      <td>nel flexible double glans penis 45cm long d i ldo vagina anal stimulation sex toys for woman lesbian sex products blm 013 made of soft high quality silicone material, soft and clean, 100 environmentally friendly and body safe silicone. allows you to enjoy the silky touch. item type d i ldo size  aterial medical silicone sexually suggestive no color purple, pink fleshcolor net weight   products type sex toys for woman user adult function d i ldo waterproof yes feature double d i ldo packing secret conditon guarantee no sex products words mentioned on package safe materials,convenient and easy to use.it is small and easy to carry.bring you a healthy sex life material medical silicone item type d i ldo.color purple, pink fleshcolorsexually suggestive no size  pls feel free to contact with us when you have some problem with our prodct,we are very pleasure to serve you.pls note that due to manual measurements,there may have a little error in size,hope you can understand.</td>\n",
       "      <td>0.929947</td>\n",
       "    </tr>\n",
       "    <tr>\n",
       "      <th>6006</th>\n",
       "      <td>nel vaginalnel vibrator silicone ben wa balls kegel weights vaginalne tighten exercise trainer dumbbell bead toy bladder control devices for women why ladies need to do kegel exercise 1.heavy kegel balls exercise can contract the vaginalne and make female be more confident. 2.after childbirth,pelvic floor muscle exercises could strengthen the muscles that support the bladder, uterus and large intestine, avoid the leakage of urine. specification material medical silicone size  weight   color purple , rosy ,black waterproof yes tips for clean store please clean it with warm and wet towel before and after you use it. dry it with your towel for convenient. it should be placed and stored at clean places and please avoid sunlight directly . safety concern do not use boiled water to clean it and rinse it under the tap directly . it is recommended that you use it with water based lubricant, instead of silicone based lubricant. tips for pregnant women please keep in mind that you must cons...</td>\n",
       "      <td>0.696927</td>\n",
       "    </tr>\n",
       "    <tr>\n",
       "      <th>5459</th>\n",
       "      <td>nel fleshlight fleshlube fire large 8 ounce lube heating and warming effects six sex pack adults and lube for women stories couples anus beginner men small app automatic bag balls beads best seller bluetooth box boxer bullet bundles butt butterfly cheap cleaner clearance collar couple kit prime restraints ring set silver strap on cuffs dice didlo dido dilo doll full double penetration egg electric shock extension waterproof silicone woman hands free sucking viberate g gag ball games gay girls glass guys hand handcuffs harness her him hitachi hollow strapon huge kits large lelo lesbian licking lifelike torso lipstick machine female male pump rings training ohmibod oral packs paddle panties peins pillow plug prostate rabbits realistic remote control rope rubber silicon size spreader bar strapons suction swing tail that lick squirt the wand thrusting tickler ties to use tongue transexual u shape underwear vibating vibator vibe whips with wireless womanizer pen mens pleasure dolls wom...</td>\n",
       "      <td>0.931927</td>\n",
       "    </tr>\n",
       "    <tr>\n",
       "      <th>4879</th>\n",
       "      <td>nel double heads urethral catheter peniis plug for two use at the same time male dilator arrsing love uret sonhral 591 sounding tools welcome to arrsing love global store, all arrsing love products warranty for 30 days, any quality can contact us at any time warm tips 1. clean the product before and after each use please wash it before use and after use keep it dry and save in a secret place away from children. item type arrsing love sounds global products global soundworld 202824 arrsing love brand protection, global high quality, worry free after sales service order our arrsing love products, guarantee 30 days, any quality can contact us at any time only for personal or lover use. suitable size to fit your bag , convenient to carry to anywhere.</td>\n",
       "      <td>0.947899</td>\n",
       "    </tr>\n",
       "    <tr>\n",
       "      <th>2334</th>\n",
       "      <td>nel gun ndy double layered silicone dildo,hyper realistic premium penis sex toy with suction cup, insertable 9.6 inches width 2.2 inches simulation dildo size 24.5 cm diameter 5.5 cm material medical environmental protection pvc color black, flesh,brown weight   features waterproof and strong suction cup medical grade material, safe and health. discreet package. you or your partner will fall in love with it. the package includes 1 x dildo 1 x box warm reminder 1. wash it with a hand soap in warm water to keep it clean recommended to use with a lubricant to create a better feeling keep it dry and save in a secret place away from children. due to manual measurement, the size may have an error of  f you have any questions or problems, please contact us. we will give you the most satisfying answer. health material, soft, healthy, non toxic, harmless, healthy and skin friendly to use body safe silicone material close to the skin, no smell, safe use. it imitate a real massager with vein...</td>\n",
       "      <td>0.945616</td>\n",
       "    </tr>\n",
       "    <tr>\n",
       "      <th>6634</th>\n",
       "      <td>nel koungyun soft di dlos for beginner, snake with strong suction cup, lifilike snake for hands free material pvc strong suction cup total lenght app waterproof package includes 1 x pc</td>\n",
       "      <td>0.905791</td>\n",
       "    </tr>\n",
       "    <tr>\n",
       "      <th>6633</th>\n",
       "      <td>nel cordless mini wand massager rechargeable 100 waterproof handheld electric vibebratorr with flexible head, powerful therapist for aches muscle recovery and stress relief color purple only weighs  , just feel like a kiwifruit in your hands. which means, you can enjoy your private time or have a deep massage anywhere. what you should do is putting your mini massager into your totes you're about to encounter an astonishing 20 patterns. try them all out and see which one you prefer use after a hard workout for deep relaxation of your muscles for the ultimate tease, let your partner massage you advanced safety silicone we adopt the superior medical grade silicone to make this massager an entirely odorless and safe. sleek and compact light weight and appropriate size, easy to carry while you're out. material medical grade silicone abs not any sensitive words shown on the packaging satisfaction guarantee we focus on personal care products,if you have dissatisfaction with our products,...</td>\n",
       "      <td>0.928713</td>\n",
       "    </tr>\n",
       "    <tr>\n",
       "      <th>6464</th>\n",
       "      <td>nel zrb silicone realistic penis panties wearable dildo for female lesbian transvestite women become a male adult sex toys material medical silicone color please refer to the picture weight   size s , m , l size table s waist circumference  , leg circumference 34cm, penis length 12cm, penis diameter 3.6cm. m waist circumference  , leg circumference 34cm, penis length 15cm, penis diameter 4cm. l waist circumference  , leg circumference 34cm, penis length 18cm, penis diameter 4cm. package contain panties x 1 if you have any requirements for the product, please do contact us in time, thanks the scrotum and penis parts of this product are solid. waist circumference range  . upturned penis has 3 sizes, s length 12cm, diameter 3.6cm , m length 15cm, diameter 4cm , l length 18cm, diameter  food grade silicone, healthy and highly stretchable, can easy reach 1.5 times. no fading ,not easy to tear, easy to clean and more durable. the outside of the dildo is smooth and sleek with a slight cu...</td>\n",
       "      <td>0.315749</td>\n",
       "    </tr>\n",
       "    <tr>\n",
       "      <th>7715</th>\n",
       "      <td>nel hehelen waterproof silicone big realistic did los with s uction cup for women men beginners material pvc color flesh,black total length app diameter app waterproof life waterproof</td>\n",
       "      <td>0.745439</td>\n",
       "    </tr>\n",
       "    <tr>\n",
       "      <th>3760</th>\n",
       "      <td>nel jingtaohailang 6.1 inch simulation dicks silicone massage with strong suction cup 100 waterproof total length 6.1 inches, 15.5 centimeters insertible length 4.72 inches 12 centimeters diameter 1.18 inches 3 centimeters circumference 3.74 inches 9.5 centimeters weight   100 made of safe odorless materials, double layer silica gel waterproof cleans in secongs wish soap and water 100 easy to 6.1 inch long body to meet your various needs . large suction base with super strong adsorbability lifelike and exquisite veining has a convex vein to give the user a more realistic experience strong suction cup allows to play in the bedroom, living room or bath, hands free to use, maximumly satisfy your enjoyment.</td>\n",
       "      <td>0.925533</td>\n",
       "    </tr>\n",
       "    <tr>\n",
       "      <th>1890</th>\n",
       "      <td>nel senoow waterproof mini powerful bellet shape vi'brat'ng mssagerr female adealt sixtoys color black red blue hot pink material abs silicone waterproof totally water resistant,convenient to clean. power bullet fans. quantity 1 pc</td>\n",
       "      <td>0.948740</td>\n",
       "    </tr>\n",
       "    <tr>\n",
       "      <th>3980</th>\n",
       "      <td>nel yhuidsy z realistic d i cks real feel soft silicone dickes, with suction cup tooy for women or les couples, 8 inch hands free tm product description material silicone function relax and relieve stress use scene living room bathroom bedroom, etc. our products are shipped in secret, which are packaged in neutral packaging. there are no sensitive words on the package, you can buy with confidence. precautions 1.all dimensions were measured manually with an error range of 3 cm. 2.the color of the display may be in error. 3.this product is for adults only, please stay away from children. 4.all decorations are not included in the product packaging. 5.after full payment, international transportation requires 10 to 20 days of arrival and promises 24 hours of manual service edical silicone 100 medical silicone, no additive, feel real, close to the skin texture of real people waterproof and easy to clean long life and waterproof, just rinse with water, air dry, toy cleaning effect is bet...</td>\n",
       "      <td>0.478796</td>\n",
       "    </tr>\n",
       "    <tr>\n",
       "      <th>4685</th>\n",
       "      <td>nel cool cz snake rings for women silver plated copper leweil, different, be yourself the snake is a symbol for charm, danger and sexual energy. inspired by cobra snake, this snake silver ring use plated copper band to provide charm and bloody love, black red rhinestone cz to show danger and sexual energy. silver snake ring cobra snake ring cool snake rings 100 satisfaction warranty top best fashion great jewelry picked for you timely reply for any questions from you 90 days long money back time guarantee snake ring, cz snake ring, snake rings for women plated copper base, black red rhinestone, us ring size 8 exquisite craft, fresh modernized design, punk goth fashion picked for unique you</td>\n",
       "      <td>0.085679</td>\n",
       "    </tr>\n",
       "    <tr>\n",
       "      <th>7220</th>\n",
       "      <td>nel aa silicone entity doll male masturbation tool masturbation cup glans orgasm toys 0504 size 68cm dear customers, we provide confidential shipments throughout the entire process to protect your privacy. material tpe size 58cm,68cm,102cm color skin tone control type manual applicable people adults due to manual measurements, there may be an error of   ours customer service,30 days full refunds and well package real life reproduction, smooth and realistic skin, can be anal sex, yin, and foot. multiple joints can be moved, soft to the touch, beautiful lines and strong resilience. 3d analog channel, life long waterproof, multiple experiences, multiple stimuli, let you reach orgasm quickly. if you have any questions, please contact us and we will provide you with detailed instructions.</td>\n",
       "      <td>0.922359</td>\n",
       "    </tr>\n",
       "    <tr>\n",
       "      <th>2818</th>\n",
       "      <td>nel lxl xl simulation sucker dildo health care silicone mini massage rod, suitable for females products book it can be the best choice for your personal use or as a gift to your friends. number of products 1. product material silica gel. product size length 14cm, diameter 2.7cm. product color black, flesh color. waterproof rating full body waterproof. tip only toys, no other products. due to the problem of light photography, there may be some chromatic aberration. since the size is measured manually, there may be some errors that are normal. the color of the product will vary slightly depending on the setting of the computer screen. the actual product color will prevail. please forgive me, thank you. medical silicone material, healthy and environmentally friendly, comfortable to the touch. mini simulation of the dildo, rubbing the vaginal wall, effectively stimulate the g point. the suction cup base is comfortable for hands free fun and flexibility. full body waterproof design, ea...</td>\n",
       "      <td>0.777431</td>\n",
       "    </tr>\n",
       "    <tr>\n",
       "      <th>5391</th>\n",
       "      <td>nel zhlzz 26.6cm long big silicone dildo realistic penis suction deep texture sex toys for women masturbator extreme stimulate anal massage material silicon size  et weight   product name sex toys color skin black purple sucker yes vibration no certification ce, rohs, fda type dildo shape texture bump note 1. some color differences may occur due to lighting or computer display problems anual measurement of size and weight may result in minor errors. please refer to the current product f you have any questions about the use, please email us. we will reply you within 24 hours surrealism zhlzz's real fake sun has incredible charm, textured shafts, fascinating shapes, 2 sturdy testicles and sturdy suction cups. the depth of the peak is suitable for professionals safety and water resistance our realistic dildo is made of waterproof, fda approved medical grade silicone that can be safely used on bed and underwater. tilt the dildo according to your body contour and achieve the desired in...</td>\n",
       "      <td>0.929264</td>\n",
       "    </tr>\n",
       "    <tr>\n",
       "      <th>900</th>\n",
       "      <td>nel virginity cage penis lock anti masturbate bird cage stainless steel cage lock diameter rings o   age inside diameter 33mm, length 60mm easy to put on due to the plug in system the penis cage is mounted and set up very quickly with 5 included penis rings the penis cage can be perfectly adjusted to the penis. tips for cleaning some mild soap or a special toy cleaner and plenty of water is enough. immediately its pores are clean and ready for the next use. breathable quality the hollow out design allows your penis breathe freely even in the restraint. nontoxic, can be safely used. the smooth surface will not hurt your body. comfortable, sturdy and not easy to fall off, bringing all round care.hypoallergenic and durable different sizes available 38mm , 41mm , 44mm , 47mm , 50mm , choose the suitable inner diameter, perfect and comfortably attach to your penis, suitable for most people. hand buffing, more sleek, more comfortable and safe. very firm cage, lock your man up</td>\n",
       "      <td>0.068040</td>\n",
       "    </tr>\n",
       "    <tr>\n",
       "      <th>5300</th>\n",
       "      <td>nel powerful jelly toys butt plug vibrantor, toys products for adullt material silicone, abs size  olor pink,purple,blue power 3 piece lr44 battery include no retail package.</td>\n",
       "      <td>0.558553</td>\n",
       "    </tr>\n",
       "    <tr>\n",
       "      <th>7139</th>\n",
       "      <td>nel llggdd 16 inch ultra long soft v i brators reality di ld.os silicone medical material with suction cup stick safe soft beginner color e realistic workmanship, delicate, high grade non toxic, 100 medical grade body safety silicone, set up a coronary groove like a real person, blood vessels are presented in front of you without reservation, can bring you true vision and experience double enjoyment it is the instrument of choice for modern independent women. just know that this size is definitely suitable for advanced players. compatible with most strap on belts. clean quickly and easily with soap and water. can be safely used with waterborne and silicone based lubricants. the same applies to vaginal or anal games especially soft and does not cause any tearing . easily stimulate the pleasure point that you can't reach inside. specially designed to feel, with ultra realistic curves, lips and ridges. how to use recommended for use with water or silicone based lubricants. clean befo...</td>\n",
       "      <td>0.507534</td>\n",
       "    </tr>\n",
       "    <tr>\n",
       "      <th>6296</th>\n",
       "      <td>nel go q vibe ring black 12 count the go q vibrating ring is the only cock ring on the market that features a vibrating motor made specifically for perineum massage also known as the taint, the perineum is an often forgotten erogenous zone on the body that's located between the genitals and the anus ' and it's not always easy to reach but now with the go q, users can strategically position a vibrating mini motor against this sensitive area and enjoy hands free perineum massage with little to no extra effort with the flip of a switch, the go q buzzes with 13,500 rpm for intense stimulation that can put him over the edge.the go q also provides strong erection support thanks to a super stretchy design made to fit most sizes. simply stretch the ring around the penis and testicles and position the mini motor so it pleasantly, yet firmly flexes against the perineum. it might take a bit of adjustment, so feel free to use water based or silicone based lubricant to help put the go q on com...</td>\n",
       "      <td>0.397003</td>\n",
       "    </tr>\n",
       "    <tr>\n",
       "      <th>5889</th>\n",
       "      <td>nel yyoj sex toys for men masturbator masturbation for male pussy realistic mens toys vagina adult toys4 man massager gifts for him fantasy finally realized just like the first contact with her, an untouched passage, the meat layer rubs against your penis, giving you the feeling of a tightly wrapped penis. she is a sweet and sexy girl, please touch her, you will fall in love with her. enjoy the feeling of being blown away by an attractive woman and let your imagination run wild material tpe silicone weight  kg size    tipp 1. keep clean before and after use recommended for use with lubricants wash, dry and store carefully this is for adults only, please keep away from children, please allow slight data errors. we are a company specializing in the development, production and distribution of adult products and lifelike toys. a strict quality control process for each of our products is a prerequisite for the health and comfort guarantee. everything is shipped in neutral packaging to ...</td>\n",
       "      <td>0.865628</td>\n",
       "    </tr>\n",
       "    <tr>\n",
       "      <th>2509</th>\n",
       "      <td>nel 2 medidor de 6 pies de oro plateado usb al cable usb micro b con enhanced tapas de aluminio, de alta velocidad de sincronizacion y cable de carga micro usb, un ano de garantia, fast entregar garantia cumplido por amazon, normal puede recibir en 3 dias 2 metros 2 meter 6ft golden plated usb to micro b usb cable, sync charging high speed micro usb cable, one year warranty, fast deliver guarantee fulfilled by amazon, normal can receive in 3 days 2 meter specification connector a usb micro b male connector b usb cable length 200 cm supports high speed data transfer rates up to 480 mbps rohs complaint color black high speed sync charging cable, 6ft length, high speed data transfer rates up to 480 mbps with very strong fabric covered bare copper wire inner and enhanced aluminum caps work with the device that with micro usb port, such as htc, sony and other device one year warranty and life time technic support consumerelectronics</td>\n",
       "      <td>0.154676</td>\n",
       "    </tr>\n",
       "    <tr>\n",
       "      <th>6033</th>\n",
       "      <td>nel hotdesire 8.26 inch dual density silicone anal dildo,realistic huge suction cup dildo,giant anal toy anal plugs large thick dildo sex toys for her legal disclaimer statements regarding dietary supplements have not been evaluated by the fda and are not intended to diagnose, treat, cure, or prevent any disease or health condition. the 8.26 inch realistic dildo with 6.3 insertable inches is the perfect size for beginners who want to try something new. the ergonomic design of the head is very pointed which makes it very easy to insert if you are a beginner or are warming up. the phenomenal suction cup is powerful enough to hold the dildo firmly in place for a hands free play even with a quite vigorous usage. the beginner dildo is made from reliable material for safe usage, it is nice and flexible for the most perfect positioning to fully satisfy. the balls feel solid and realistic which is a great feature that really improves the experience to the next level. the 8.26 inch realist...</td>\n",
       "      <td>0.302164</td>\n",
       "    </tr>\n",
       "    <tr>\n",
       "      <th>2853</th>\n",
       "      <td>nel 2 boxes v 8 b a b y x4's o.15 o</td>\n",
       "      <td>0.949468</td>\n",
       "    </tr>\n",
       "    <tr>\n",
       "      <th>844</th>\n",
       "      <td>nel realistic dildo with suction cup dong with balls fake pe nis adult sex female massage masturbation toys,soft skin thread dildo judita item type dildos model number realistic dildo penis size l18.5 d sexually suggestive no material pvc color flesh sex product inflatable dildo sex products for women sex products male artificial penis penis artificial dildos for women sex toys rubber cock suction dildo realistic big dick length 18.5cm penis diameter 4cm silicone sex dildos sex tools shop didlo lesbian sex toys dog dildo insertable length 14.5cm realistic dildo with suction cup dong with balls fake penis adult sex female massage masturbation toys,soft skin thread dildo made of medical grade pure silica gel, non toxic and tasteless, no allergies. soft, flexible and comfortable, it can be reused without damage. comfortable and owns a realistic appearance,a imitation of human structure design, can brings you a real sense of experience. it is easy to use and clean so the products are ...</td>\n",
       "      <td>0.868256</td>\n",
       "    </tr>\n",
       "    <tr>\n",
       "      <th>5450</th>\n",
       "      <td>nel mxylym9 strap on huge dicks, stick insert flexible medical grade bendable for women silicone with strong suction cup pvc leather pants l 6.29inch, w 1.45inch applicable people male, female, husband and wife material pvc weight   packing 2 secret box it will keep you full. with the suction cup base, you can really go further. the real texture and big head send you to the edge. you can install this monster in your seat belt to go to the city. the perfect toy for beginners, if you want to adjust something and have a good time, recommend it. put a lot of lubricants like this, the party just started enjoy folks 100 brand new product our customer service. if you have any questions, please feel free to contact us about long6.73 inches 17.1m, diameter 1.45 inches 3.7m advanced medical environmentally friendly pvc, 100 waterproof, safe for your body smaller and more portable put it in your travel bag 100 satisfaction guarantee is the best gift for lovers, couples, best friends and fami...</td>\n",
       "      <td>0.909014</td>\n",
       "    </tr>\n",
       "    <tr>\n",
       "      <th>...</th>\n",
       "      <td>...</td>\n",
       "      <td>...</td>\n",
       "    </tr>\n",
       "    <tr>\n",
       "      <th>2644</th>\n",
       "      <td>nel acmm women's products 6.65 silicone realistic dildo with balls 100 pure medical grade silicone beginner lifelike dong with suction cup luxurious and body safe penis female massage stick product description size  et weight   note recommended for use with lubricants. keep clean before and after use. keep dry and keep in a secret place away from children. if you purchased this product will be delivered within  business days if the timeout has not arrived, please contact us in time. this product is for adult products. please do not buy it for minors under 18 years old . please place the product in a position that is inaccessible to minors. healthy materials medical silicone, soft and pliable material, non toxic, odorless ness safely use,soft sensual for optimum pleasure double layered silicone dildo, realistic soft skin outside, and firm inside,super realistic. hold it in your hand and feel it is a real penis, most smooth surfaces and realistic veins, allow you to reach orgasm str...</td>\n",
       "      <td>0.570705</td>\n",
       "    </tr>\n",
       "    <tr>\n",
       "      <th>5357</th>\n",
       "      <td>nel yatbo realistic big boobs real sex doll with metal skeleton with lifelike pussy anus mouth and 3 holes lifelike sexy love toy features this doll made of medical silicone material tpe. tpe is a new type of silicone, which can be stretched up to 5.5 times length and is very soft it has been tested to be safe to humans. the skin has pure natural luster and smooth feelings by touch. her pretty face is sculptured by an experienced sculptor. these dolls will leave you with an experience you never have had before. the body joints are made of artificial multiplex metal by latest professional technology to ensure the limbs can be free to extend to create all sorts of poses. product parameters type full size soild dolls shoulder width 20cm bust 50cm the waist 32cm the hip 49cm legs length 52cm navel to chest 11cm head circumference 33cm skin colour white back package size  package weight   shipping time  working days. why choose our products we are a large adult products factory. engage...</td>\n",
       "      <td>0.200009</td>\n",
       "    </tr>\n",
       "    <tr>\n",
       "      <th>4927</th>\n",
       "      <td>nel 2 set lot purple pu leather handcuffs ankel cuffs sex products erotic toys for sex couple,sex game bondage cuffs sex toys material pu sexually suggestive no obscene picture no funcion bondage toys,leather harness sex tools product category bed restraints bondage toys color purple itemportuguese algemas,sexo jogos,algema,erotico brinquedo,produtos eroticos item spanish juguetes sexuales esposas,juguetes eroticos,juegos para adultos item french menotte sexe,menottes occasion nightclub, bedroom,sex love games moulded directly from the man himself, and cast from increibly life like ultraskyn material, every vein, curve and bulge of this replica looks and feels like your fantasy come to life. maintaining your dildo is easy, just wash well with soap and water after use, let it dry completely before storage, and always use a good water based lube to keep things slick. if it gets tacky, just sprinkle liberally with some of the included ultraskyn refresh powder or cornstarch to restore...</td>\n",
       "      <td>0.604934</td>\n",
       "    </tr>\n",
       "    <tr>\n",
       "      <th>5048</th>\n",
       "      <td>nel 9 in beginner's didlos ladies mini toy massage real skin with strong suction cup playing toy color purple a1 soft toy wonderful toy for your playing anywhere. they are flexible without losing the necessary stability. body safe material realistic texture soft ,hypoallergenic and non toxic. it is easy to use and clean with lubricant cleaner or warm water and soap after used. discreet package,without any sensitive words or labels.</td>\n",
       "      <td>0.936584</td>\n",
       "    </tr>\n",
       "    <tr>\n",
       "      <th>241</th>\n",
       "      <td>nel metal cock cage with carlos foushee ring toyau size penis ring chasti ty device male product, belt virginity lock for man welcome to carlos foushee store,enjoy high quality products tips 1. please allow slight measurement deviation for the data lean before and after each use wash with cleaner or warm water. made of premium quality material. odorless. hypoallergenic. non toxic. model number carlos foushee rings tama1597 waterproof for fun in the shower, bath or hot tub. sizes for comfortable fit. easy to clean. money back guarantee if you have any issues, please contact us without hesitation.</td>\n",
       "      <td>0.889753</td>\n",
       "    </tr>\n",
       "    <tr>\n",
       "      <th>7076</th>\n",
       "      <td>nel chp love 9.37 inch dicks high quality silicone material great toys it provide a kind of unique stimulation that many find highly pleasurable well made, powerful and long lasting . long lived and waterproof. easy to clean, just use water to clean.very convenient. chief length 9.37 inches 23.8cm. insert length 7.08 inches 18cm. diameter 1.88inches 4.8cm welcome to buy our products we hope you have a good shopping experience. if you have any questions about this product, please feel free to contact us and we will be happy to help you. chief length 9.37 inches 23.8cm.insert length 7.08 inches 18cm.diameter 1.88inches 4.8cm high quality and medical standard pvc material. non toxic, harmless, safe, healthy and skin friendly to use. lifelike and exquisite veining has a convex vein to give the user a more realistic experience waterproof safe 100 waterproof and can attach to almost any smooth surfaces, allowing for greater variations in position, location and flexibility. realistic fem...</td>\n",
       "      <td>0.928644</td>\n",
       "    </tr>\n",
       "    <tr>\n",
       "      <th>5057</th>\n",
       "      <td>nel winzfred liquid silicone color vinrator dilo thrusting inspiration, realistic pulsator dilo automatic vinrator with suction cup for women couple material liquid silicone color not exactly the same quantity 1pc protect your privacy and use secret packaging, please rest assured to buy. perfect holiday party gifts suitable for holiday, honeymoon, and special night, etc.</td>\n",
       "      <td>0.922969</td>\n",
       "    </tr>\n",
       "    <tr>\n",
       "      <th>2005</th>\n",
       "      <td>nel 1060000000 weidmuller connectors, interconnects 1060000000 weidm ller connectors, interconnects digikey conn term blk end plate rail bg features part status active type end plate rail type number of positions for use with related products w series color beige environmental export classification lead free status rohs status not applicable not applicable moisture sensitivity level msl not applicable categories connectors interconnects terminal blocks accessories manufacturer weidm ller series w</td>\n",
       "      <td>0.215127</td>\n",
       "    </tr>\n",
       "    <tr>\n",
       "      <th>5303</th>\n",
       "      <td>nel zrb painted silicone realistic penis panties wearable dildo for female lesbian, transvestite pants crossdresser cosplay adult sex toys material medical silicone color please refer to the picture weight   size s , m , l size table s waist circumference  , leg circumference 32cm, penis length 12cm, penis diameter 3.6cm. m waist circumference  , leg circumference 32cm, penis length 15cm, penis diameter 4cm. l waist circumference  , leg circumference 32cm, penis length 18cm, penis diameter 4cm. package contain panties x 1 if you have any requirements for the product, please do contact us in time, thanks the scrotum and penis parts of this product are solid. waist circumference range  . upturned penis has 3 sizes, s length 12cm, diameter 3.6cm , m length 15cm, diameter 4cm , l length 18cm, diameter  food grade silicone, healthy and highly stretchable, can easy reach 1.5 times. no fading ,not easy to tear, easy to clean and more durable. the outside of the dildo is smooth and sleek ...</td>\n",
       "      <td>0.171012</td>\n",
       "    </tr>\n",
       "    <tr>\n",
       "      <th>2251</th>\n",
       "      <td>nel zodsfg super long silicone soft toy double head di l do female massage toy zodsfg it offers a unique stimuli that many people find to be very pleasing, powerful and durable. long life and waterproof. easy to clean, just wash with water. very convenient. material silicone style small, medium, large double headed thrust made of high quality materials, soft and comfortable, safe and non toxic, safe to use. discreet package, not any product information about the package,nobody knows what you get. if you have any questions about this product, please contact us directly. we will help you right away step one click our storename zodsfg step two ask a question. made of high quality pvc, 100 waterproof, soft, non poisonous and odourless. safe to use. flexible enough to be bent in half for dp yet firm enough to use for partnered play. perfect toys for your playing anywhere we will also have a dedicated sealed box, unmarked packaging, confidential delivery, express orders without leaving ...</td>\n",
       "      <td>0.939756</td>\n",
       "    </tr>\n",
       "    <tr>\n",
       "      <th>5863</th>\n",
       "      <td>nel hehelen 8.7 inch waterproof silicone big realistic did los with s uction cup for women men beginners material pvc color flesh,black total length app diameter app waterproof life waterproof</td>\n",
       "      <td>0.218866</td>\n",
       "    </tr>\n",
       "    <tr>\n",
       "      <th>6911</th>\n",
       "      <td>nel reusable for male time delay pennis sleeve soft cock rings intimate toys waterproof,soft and comfortable,easy clean,easy to use,give you more fun on your sex time wide 1.5cm feature 1 reusable items name tpe penis rings condom thickness thick feature 2 waterproof material tpe inner rings 2cm colors clear blue black item type condoms fragrance rubber functions 1 time delay functions 2 penis enlargement sexually suggestive no size normal size packaging privacy package no sex word chastity device,suppress your desire,waterproof,reusable,help you to be a gentleman waterproof,soft and comfortable,easy clean,easy to use,give you more fun on your sex time packaging privacy package no sex word occasion roleplay and scenes,function sex aid cover erectile dysfunction</td>\n",
       "      <td>0.882033</td>\n",
       "    </tr>\n",
       "    <tr>\n",
       "      <th>7191</th>\n",
       "      <td>nel acmm women's products 16.9 inch double side dildo, realistic silicone dong sex toy for women female massage stick product description product weight   size  using medical pvc, non toxic, tasteless, super hard the duck head simulates the penis. note recommended for use with lubricants. keep clean before and after use. keep dry and keep in a secret place away from children. if you purchased this product will be delivered within  business days if the timeout has not arrived, please contact us in time. this product is for adult products. please do not buy it for minors under 18 years old . please place the product in a position that is inaccessible to minors. real look and feel completely like real things shaped by real porn stars flexible and flexible shaft, fine texture and more pleasant texture powerful suction cups can be attached to any surface and can be used as a strap on a dildo for most seat belts. enjoy deep and complete penetration of anal and vaginal sex waterproof siz...</td>\n",
       "      <td>0.785868</td>\n",
       "    </tr>\n",
       "    <tr>\n",
       "      <th>4904</th>\n",
       "      <td>nel dorcell  silicone double head realistic di ld.os' toys for couples for her made of body safe glass, odorless and comfortable. flexible with a realistic feel. perfect size for beginner andintermediate player. all products come in discreet standard packaging, keep your privacy in strict confidence. lasting shape light, and resistant reusable for thousands of times without any deformation and loss of quality or sensation.</td>\n",
       "      <td>0.888050</td>\n",
       "    </tr>\n",
       "    <tr>\n",
       "      <th>3761</th>\n",
       "      <td>nel wsi giant realistic dildo, fake penis lesbian strap dildos pants detachable adjustable panties sex toys suction cup soft silicone couple anal adult vagina massage plug erotic 100 skin safe material,inspired from the passion that the designers and the first love date for the first time,need to caress and gentle blend of romantic passion,let them totally immersed in the ecstasy of happiness of the world waterproof and can attach to almost any smooth surfaces, allowing for greater variations in position, location and flexibility. lightweight soft as the skin of the goods, lightweight foldable, easy to carry out. material medical pvc is the best choice for you and your lover. keep clean for use and cool place. package includes 1 x sexy toy tips in order to give you the ultimate experience, it is recommended to use lubrication during use. please wash it with clean water after use so that you can use it again next time. we know that we are already become friend so that if you have a...</td>\n",
       "      <td>0.828936</td>\n",
       "    </tr>\n",
       "    <tr>\n",
       "      <th>5984</th>\n",
       "      <td>nel bigrize top rated male pills, 60 capsules enhance energy, mood, vitality a testosterone booster pill for men has never been better. support testosterone levels and get more energy out of your life. our scientists have compiled a cutting edge and revolutionary formula, based on the latest scientific studies relating to men's health. own the 1 vitality enhancement supplement, and 1 testosterone booster that comes with  uaranteed results. boost your stamina, energy, and support testosterone levels. bigrize is the best solution for both results. tons of happy customers can't be wrong get even better performance than you had ever thought possible. bigrize is manufactured in a gmp certified lab and we offer a 100 money back 30 day guarantee if you are not satisfied for any reason. bigrize will work that fast and you'll be impressed with awesome results. herbal formula for men. support testosterone, stamina, and get your vitality back bigrize is the ultimate testosterone booster that...</td>\n",
       "      <td>0.073982</td>\n",
       "    </tr>\n",
       "    <tr>\n",
       "      <th>2668</th>\n",
       "      <td>nel stimulating cage lock virginity cage male chastity cage stainless steel cage lock diameter rings o   due to the plug in system the penis cage is mounted and set up very quickly with 5 included penis rings the penis cage can be perfectly adjusted to the penis. some mild soap or a special toy cleaner and plenty of water is enough. immediately its pores are clean and ready for the next use. breathable quality the hollow out design allows your penis breathe freely even in the restraint. whether you have a bondage experience, handing over control to your partner, which can increase the stimulation of sexual life. nontoxic, can be safely used. the smooth surface will not hurt your body. comfortable, sturdy and not easy to fall off, bringing all round care.hypoallergenic and durable. hand buffing, more sleek, more comfortable and safe. very firm cage, lock your man up</td>\n",
       "      <td>0.607851</td>\n",
       "    </tr>\n",
       "    <tr>\n",
       "      <th>35</th>\n",
       "      <td>nel 1pcs 'xoxo' ass spanking paddle pu leather whipsexy flogger adult game fetishsex toy for couple kinky pat clap slap round and sleek design, available in a variety of sizes for most adults item type adult games model number gn 282411001 size 1pcs sexually suggestive no material pu leather obscene picture no color as picture type sex paddle properties sex products for couples item sex toys for adults function pu leather flogger user women and men place of origin china mainland ergonomic design easy to insert with the tapered tip. not easy to cause sliding with the narrow end of the insertable part, which ensures the stability. excelent soft and comfortable super soft material and special emulational design excite your partner easily and bring you both a difference expenrience. discreet packing after sales warranty everything is designed for your maximum comfort reat for all size men and beginners to advanced. discreet packaging ensures your privacy. butt plug is smooth,mellow an...</td>\n",
       "      <td>0.922597</td>\n",
       "    </tr>\n",
       "    <tr>\n",
       "      <th>5072</th>\n",
       "      <td>nel londony women's short sleeve casual cold shoulder tunic tops loose blouse shirts summer t shirt o neck tops tshirt blue welcome dad's day in advance every dad is the pillar of the family. please love your dad, dad's day clothes and gifts are waiting for you. please search for dad's day products at londony store.prime day enjoy a discount on prime day in advance. you deserve to have dear customer welcome to londony shop, where you will get what you want at your favorite price. i wish you a happy shopping believe in yourself, put on the clothes of londony , send out your photos, you are unique beauty begins here, a lifetime of love we launched the independence day , july 4th products, and can pay attention to the new products in our store. buy in advance and enjoy the festive atmosphere in advance attention welcome to our store, hope you have a pleasant shopping experience our products have been well tested, examined and packaged before sending off. committed to providing custom...</td>\n",
       "      <td>0.044177</td>\n",
       "    </tr>\n",
       "    <tr>\n",
       "      <th>3601</th>\n",
       "      <td>nel 18cm silicone realistic penis female lesbian wearable dildo fake penis panties lifelike curved penis waistline  adult sex toys with a straight erect penis, increase the pleasure. material medical silicone color please refer to the picture weight   penis length 18cm penis diameter 4cm waist circumference  leg circumference 40cm package contain panties x 1 if you have any requirements for the product, please do contact us in time, thanks the scrotum and penis parts of this product are solid. the private parts look realistic. waist circumference range  . curved penis sizes length 18cm, diameter 4cm. food grade silicone, healthy and highly stretchable, can easy reach 1.5 times. no fading ,not easy to tear, easy to clean and more durable. the outside of the dildo is smooth and sleek with a slight curve at the tip which is intended to reach her g spot or rub against his prostate. realistic appearance design in skin, full enjoyments in vision. super thin edge design ,perfectly matchi...</td>\n",
       "      <td>0.212583</td>\n",
       "    </tr>\n",
       "    <tr>\n",
       "      <th>6692</th>\n",
       "      <td>nel chongshan mountain2019 cordless mini wand massager rechargeable 100 waterproof handheld electric vibebratorr with flexible head, powerful therapist for aches muscle recovery and stress relief only weighs  , just feel like a kiwifruit in your hands. which means, you can enjoy your private time or have a deep massage anywhere. what you should do is putting your mini massager into your totes you're about to encounter an astonishing 20 patterns. try them all out and see which one you prefer use after a hard workout for deep relaxation of your muscles for the ultimate tease, let your partner massage you advanced safety silicone we adopt the superior medical grade silicone to make this massager an entirely odorless and safe. sleek and compact light weight and appropriate size, easy to carry while you're out. material medical grade silicone abs not any sensitive words shown on the packaging satisfaction guarantee we focus on personal care products,if you have dissatisfaction with our...</td>\n",
       "      <td>0.947417</td>\n",
       "    </tr>\n",
       "    <tr>\n",
       "      <th>5364</th>\n",
       "      <td>nel chp love 9.37 inch dicks high quality silicone material great toys color brown it provide a kind of unique stimulation that many find highly pleasurable well made, powerful and long lasting . long lived and waterproof. easy to clean, just use water to clean.very convenient. chief length 9.37 inches 23.8cm. insert length 7.08 inches 18cm. diameter 1.88inches 4.8cm welcome to buy our products we hope you have a good shopping experience. if you have any questions about this product, please feel free to contact us and we will be happy to help you. chief length 9.37 inches 23.8cm.insert length 7.08 inches 18cm.diameter 1.88inches 4.8cm high quality and medical standard pvc material. non toxic, harmless, safe, healthy and skin friendly to use. lifelike and exquisite veining has a convex vein to give the user a more realistic experience waterproof safe 100 waterproof and can attach to almost any smooth surfaces, allowing for greater variations in position, location and flexibility. r...</td>\n",
       "      <td>0.935064</td>\n",
       "    </tr>\n",
       "    <tr>\n",
       "      <th>5253</th>\n",
       "      <td>nel keto pills for women men weight loss supplement burn fat fast lose unwanted pounds induces ketosis quickly with patented gobhb ingredients 60 capsules with goketo keto, you will burn unwanted fat in problem areas to get that sculpted physique you have always dreamed of. it will begin to burn fat for energy and is why everyone is speaking about this diet. this will promote healthy weight loss, and boost mental focus and clarity with low carb keto contains natural active ingredients which put your entire metabolism to work in an effective manner, burning stored fat instead of carbohydrates, while at the same time protecting your heart, brain and boosting your self confidence. our products are carefully made in the usa in gmp certified facilities. rest assured you are getting the finest ingredients put together following the best manufacturing practices. natural diet supplement goketo keto is the best compliment to support your weight loss diet plan so you can get result towards ...</td>\n",
       "      <td>0.041281</td>\n",
       "    </tr>\n",
       "    <tr>\n",
       "      <th>2558</th>\n",
       "      <td>nel shower thoughts don,aot dream your life, live your dream</td>\n",
       "      <td>0.074197</td>\n",
       "    </tr>\n",
       "    <tr>\n",
       "      <th>3385</th>\n",
       "      <td>nel thunder bull triple maximum male enhancement sexual pill long lasting 12 pills by red lips 2 thunder bull is an advanced male enhancement formula, which may boost the reproductive health and makes you perform excellently in the bedroom. it may give you necessary support for you and your partner to get sexual satisfactione. this formula is useful to those suffering from premature ejaculation, as it may help them to stay for longer before the climax. yohimbe herbal supplements</td>\n",
       "      <td>0.030357</td>\n",
       "    </tr>\n",
       "    <tr>\n",
       "      <th>6930</th>\n",
       "      <td>nel 1pcs strapless didlo cup big dillo realistic huge dillos color see the picture material medical tpr pattern see the picture size app see the picture soft and safe material</td>\n",
       "      <td>0.600973</td>\n",
       "    </tr>\n",
       "    <tr>\n",
       "      <th>3935</th>\n",
       "      <td>nel vekkia dragon lord sonic rechargeable kids electric toothbrush, 3 modes with memory, fun easy cleaning, 31000 strokes, ipx7 waterproof, 2 min timer for age 3 , 4 soft bristles a must have sonic electric toothbrush help children to develop better skills at brushing and lifelong oral health care habits as they grow up. want child to brush teeth on their own initiative worried about rough bristles hurting teeth and gums the brush head is easy to loose, need to stop and maneuver it stay in place no idea what kind of gift to send your son daughters grandchildren on birthday, christmas or other festivals this lovely kids toothbrush gives your child a healthier and more hygienic oral care, a happy brushing time. high quality dupont soft bristles, help them have a better dental care experience, also suitable for braces. replaceable brush heads rotation fixed design, firmly stay in place, brush your teeth more assured. features usb fast charging the indicator light flashes when chargin...</td>\n",
       "      <td>0.824138</td>\n",
       "    </tr>\n",
       "    <tr>\n",
       "      <th>3660</th>\n",
       "      <td>nel aqsex 158cm body massage half body pvc silicone relaxation doll toy mariah</td>\n",
       "      <td>0.740830</td>\n",
       "    </tr>\n",
       "    <tr>\n",
       "      <th>518</th>\n",
       "      <td>nel jingtaohailang booty bliss vibrating beads name silicone beads material environment friendly abs color single frequency dazzling blue, single frequency lovely pink, single frequency classic black, single frequency charming purple, 10 frequency dazzle blue, 10 frequency lovely pink, 10 frequency classic black, 10 frequency charm purple size full length 18.5cm, top diameter 1.9cm, back diameter 3.3cm battery life about 1 hour battery specification lr44 button battery 3 sections noise value less than 50 db waterproof waterproof throughout the body net weight   gross weight   highlight 1 environment friendly silica gel, no odor, not easy to crack highlight 2 soft elastic skin texture, contact as real as your own skin highlight 3 single frequency 10 frequency vibration is optional, allowing the climax to follow the rhythm highlight 4 ultra quiet design, vibration sound is less than 50 db highlight 5 full body protection, simple cleaning, beautiful and exquisite shape</td>\n",
       "      <td>0.694456</td>\n",
       "    </tr>\n",
       "    <tr>\n",
       "      <th>249</th>\n",
       "      <td>nel llggdd giant soft and lifelike di ld.os suction cup silicone real and safe materials experience different feelings waterproof realistic workmanship, delicate, high grade non toxic, 100 medical grade body safety silicone, set up a coronary groove like a real person, blood vessels are presented in front of you without reservation, can bring you true vision and experience double enjoyment it is the instrument of choice for modern independent women. just know that this size is definitely suitable for advanced players. compatible with most strap on belts. clean quickly and easily with soap and water. can be safely used with waterborne and silicone based lubricants. the same applies to vaginal or anal games especially soft and does not cause any tearing . easily stimulate the pleasure point that you can't reach inside. specially designed to feel, with ultra realistic curves, lips and ridges. how to use recommended for use with water or silicone based lubricants. clean before and aft...</td>\n",
       "      <td>0.796127</td>\n",
       "    </tr>\n",
       "  </tbody>\n",
       "</table>\n",
       "<p>76 rows × 2 columns</p>\n",
       "</div>"
      ],
      "text/plain": [
       "                                                                                                                                                                                                                                                                                                                                                                                                                                                                                                                                                                                                                                                                                                                                                                                                                                                                                                                                                                                                                                         text  \\\n",
       "ID                                                                                                                                                                                                                                                                                                                                                                                                                                                                                                                                                                                                                                                                                                                                                                                                                                                                                                                                                                                                                                              \n",
       "3575   nel hismith premium sex machine, standard hismith focus on manufacturing sex machine, we produce machine series and matched accessories.we choose the best long life and mute motor as the core of the machine,ensure the power of our products,30 n cm driving force,never stop when encounter resistance.our power supply can support wide voltage 110 250v ,power switch with precise dial. as your wish,the thrust depth can be changed through change the postion of the torsion bar.besides,you can change the masburation postion,by change the postion of support connector.the body of the machine are aluminium alloy material,with high density anodizing technology.every component is produced by precision high precision cnc,sla laser series machine,and mirageblack painted surfaces,bright in color and durable,surfaces look fresh as a new one after long time use.solid stainless chromium plated iron rod support strength is over  .working life  years with correct usage and cleansing maintenance. produc...   \n",
       "3039   nel hismith premium sex machine, fucking machine with remote control, 8 silicone dildo including hismith focus on manufacturing sex machine, we produce machine series and matched accessories.we choose the best long life and mute motor as the core of the machine,ensure the power of our products,30 n cm driving force,never stop when encounter resistance.our power supply can support wide voltage 110 250v ,power switch with precise dial. as your wish,the thrust depth can be changed through change the postion of the torsion bar.besides,you can change the masburation postion,by change the postion of support connector.the body of the machine are aluminium alloy material,with high density anodizing technology.every component is produced by precision high precision cnc,sla laser series machine,and mirageblack painted surfaces,bright in color and durable,surfaces look fresh as a new one after long time use.solid stainless chromium plated iron rod support strength is over  .working life  yea...   \n",
       "4607   nel dadou blue pens double ended did lo amal male female dong pens dadou functions promotes healthy ro tate function head designed for ultimate pleasure and ro tate st mul ti n made with the highest quality material available easy to clean and store super stretchy and silky smooth to the touch ergonomically designed to perfectly rest on the ro tate make all of your aial fantasies come true tips 1. please allow slight measurement deviation for the data lean before and after each use recommended to use with lubricants ompatible with all lubricant types wash with toy cleaner or warm water. do not shy away from this great aial as it can be used by both men and women. the silky smooth texture helps glide the bitt plug right in. featur ing a re listic tip, you are guaranteed to hit all the right pleasure points. aial plug has nice size and comfortable shape, made of medical silicone, safty, nontoxic and odorless. apply to both beginners and advanced users for explosive g p r gasm and ai...   \n",
       "1486                                                     nel sexxxy wearable realistic strap on dildo silicone pu leather strapon dildo pants sexy belt for lesbian couple women flesh features 1 item type wearable realistic dildo 2 color flesh 3 length  dildo diameter  et weight   6 feature can be adsorbed and strop on strong suction cup please allow 0.3cm error due to manual measurement, thank you. flexible and adjustable the straps can be adjusted for various sizes. the back fits like a thong and the front has a small dildo that goes inserted into your vagina. soft silicone material the dildo is made of medical grade silicone and non toxic dildo, without odor, seamless and safe to use waterproof design it is easy to use and convenient to clean. double pleasure this double dildo strap on is great for the lesbian partner to enjoy giving as well as receiving at the same time.while using this strap on you will not only pleasure the partner but you will also pleasure yourself at the same time.    \n",
       "3399                    nel flexible double glans penis 45cm long d i ldo vagina anal stimulation sex toys for woman lesbian sex products blm 013 made of soft high quality silicone material, soft and clean, 100 environmentally friendly and body safe silicone. allows you to enjoy the silky touch. item type d i ldo size  aterial medical silicone sexually suggestive no color purple, pink fleshcolor net weight   products type sex toys for woman user adult function d i ldo waterproof yes feature double d i ldo packing secret conditon guarantee no sex products words mentioned on package safe materials,convenient and easy to use.it is small and easy to carry.bring you a healthy sex life material medical silicone item type d i ldo.color purple, pink fleshcolorsexually suggestive no size  pls feel free to contact with us when you have some problem with our prodct,we are very pleasure to serve you.pls note that due to manual measurements,there may have a little error in size,hope you can understand.    \n",
       "6006   nel vaginalnel vibrator silicone ben wa balls kegel weights vaginalne tighten exercise trainer dumbbell bead toy bladder control devices for women why ladies need to do kegel exercise 1.heavy kegel balls exercise can contract the vaginalne and make female be more confident. 2.after childbirth,pelvic floor muscle exercises could strengthen the muscles that support the bladder, uterus and large intestine, avoid the leakage of urine. specification material medical silicone size  weight   color purple , rosy ,black waterproof yes tips for clean store please clean it with warm and wet towel before and after you use it. dry it with your towel for convenient. it should be placed and stored at clean places and please avoid sunlight directly . safety concern do not use boiled water to clean it and rinse it under the tap directly . it is recommended that you use it with water based lubricant, instead of silicone based lubricant. tips for pregnant women please keep in mind that you must cons...   \n",
       "5459   nel fleshlight fleshlube fire large 8 ounce lube heating and warming effects six sex pack adults and lube for women stories couples anus beginner men small app automatic bag balls beads best seller bluetooth box boxer bullet bundles butt butterfly cheap cleaner clearance collar couple kit prime restraints ring set silver strap on cuffs dice didlo dido dilo doll full double penetration egg electric shock extension waterproof silicone woman hands free sucking viberate g gag ball games gay girls glass guys hand handcuffs harness her him hitachi hollow strapon huge kits large lelo lesbian licking lifelike torso lipstick machine female male pump rings training ohmibod oral packs paddle panties peins pillow plug prostate rabbits realistic remote control rope rubber silicon size spreader bar strapons suction swing tail that lick squirt the wand thrusting tickler ties to use tongue transexual u shape underwear vibating vibator vibe whips with wireless womanizer pen mens pleasure dolls wom...   \n",
       "4879                                                                                                                                                                                                                                                    nel double heads urethral catheter peniis plug for two use at the same time male dilator arrsing love uret sonhral 591 sounding tools welcome to arrsing love global store, all arrsing love products warranty for 30 days, any quality can contact us at any time warm tips 1. clean the product before and after each use please wash it before use and after use keep it dry and save in a secret place away from children. item type arrsing love sounds global products global soundworld 202824 arrsing love brand protection, global high quality, worry free after sales service order our arrsing love products, guarantee 30 days, any quality can contact us at any time only for personal or lover use. suitable size to fit your bag , convenient to carry to anywhere.    \n",
       "2334   nel gun ndy double layered silicone dildo,hyper realistic premium penis sex toy with suction cup, insertable 9.6 inches width 2.2 inches simulation dildo size 24.5 cm diameter 5.5 cm material medical environmental protection pvc color black, flesh,brown weight   features waterproof and strong suction cup medical grade material, safe and health. discreet package. you or your partner will fall in love with it. the package includes 1 x dildo 1 x box warm reminder 1. wash it with a hand soap in warm water to keep it clean recommended to use with a lubricant to create a better feeling keep it dry and save in a secret place away from children. due to manual measurement, the size may have an error of  f you have any questions or problems, please contact us. we will give you the most satisfying answer. health material, soft, healthy, non toxic, harmless, healthy and skin friendly to use body safe silicone material close to the skin, no smell, safe use. it imitate a real massager with vein...   \n",
       "6634                                                                                                                                                                                                                                                                                                                                                                                                                                                                                                                                                                                                                                                                                                                                                                                                                                                nel koungyun soft di dlos for beginner, snake with strong suction cup, lifilike snake for hands free material pvc strong suction cup total lenght app waterproof package includes 1 x pc    \n",
       "6633   nel cordless mini wand massager rechargeable 100 waterproof handheld electric vibebratorr with flexible head, powerful therapist for aches muscle recovery and stress relief color purple only weighs  , just feel like a kiwifruit in your hands. which means, you can enjoy your private time or have a deep massage anywhere. what you should do is putting your mini massager into your totes you're about to encounter an astonishing 20 patterns. try them all out and see which one you prefer use after a hard workout for deep relaxation of your muscles for the ultimate tease, let your partner massage you advanced safety silicone we adopt the superior medical grade silicone to make this massager an entirely odorless and safe. sleek and compact light weight and appropriate size, easy to carry while you're out. material medical grade silicone abs not any sensitive words shown on the packaging satisfaction guarantee we focus on personal care products,if you have dissatisfaction with our products,...   \n",
       "6464   nel zrb silicone realistic penis panties wearable dildo for female lesbian transvestite women become a male adult sex toys material medical silicone color please refer to the picture weight   size s , m , l size table s waist circumference  , leg circumference 34cm, penis length 12cm, penis diameter 3.6cm. m waist circumference  , leg circumference 34cm, penis length 15cm, penis diameter 4cm. l waist circumference  , leg circumference 34cm, penis length 18cm, penis diameter 4cm. package contain panties x 1 if you have any requirements for the product, please do contact us in time, thanks the scrotum and penis parts of this product are solid. waist circumference range  . upturned penis has 3 sizes, s length 12cm, diameter 3.6cm , m length 15cm, diameter 4cm , l length 18cm, diameter  food grade silicone, healthy and highly stretchable, can easy reach 1.5 times. no fading ,not easy to tear, easy to clean and more durable. the outside of the dildo is smooth and sleek with a slight cu...   \n",
       "7715                                                                                                                                                                                                                                                                                                                                                                                                                                                                                                                                                                                                                                                                                                                                                                                                                                                 nel hehelen waterproof silicone big realistic did los with s uction cup for women men beginners material pvc color flesh,black total length app diameter app waterproof life waterproof    \n",
       "3760                                                                                                                                                                                                                                                                                                nel jingtaohailang 6.1 inch simulation dicks silicone massage with strong suction cup 100 waterproof total length 6.1 inches, 15.5 centimeters insertible length 4.72 inches 12 centimeters diameter 1.18 inches 3 centimeters circumference 3.74 inches 9.5 centimeters weight   100 made of safe odorless materials, double layer silica gel waterproof cleans in secongs wish soap and water 100 easy to 6.1 inch long body to meet your various needs . large suction base with super strong adsorbability lifelike and exquisite veining has a convex vein to give the user a more realistic experience strong suction cup allows to play in the bedroom, living room or bath, hands free to use, maximumly satisfy your enjoyment.    \n",
       "1890                                                                                                                                                                                                                                                                                                                                                                                                                                                                                                                                                                                                                                                                                                                                                                                                 nel senoow waterproof mini powerful bellet shape vi'brat'ng mssagerr female adealt sixtoys color black red blue hot pink material abs silicone waterproof totally water resistant,convenient to clean. power bullet fans. quantity 1 pc    \n",
       "3980   nel yhuidsy z realistic d i cks real feel soft silicone dickes, with suction cup tooy for women or les couples, 8 inch hands free tm product description material silicone function relax and relieve stress use scene living room bathroom bedroom, etc. our products are shipped in secret, which are packaged in neutral packaging. there are no sensitive words on the package, you can buy with confidence. precautions 1.all dimensions were measured manually with an error range of 3 cm. 2.the color of the display may be in error. 3.this product is for adults only, please stay away from children. 4.all decorations are not included in the product packaging. 5.after full payment, international transportation requires 10 to 20 days of arrival and promises 24 hours of manual service edical silicone 100 medical silicone, no additive, feel real, close to the skin texture of real people waterproof and easy to clean long life and waterproof, just rinse with water, air dry, toy cleaning effect is bet...   \n",
       "4685                                                                                                                                                                                                                                                                                                              nel cool cz snake rings for women silver plated copper leweil, different, be yourself the snake is a symbol for charm, danger and sexual energy. inspired by cobra snake, this snake silver ring use plated copper band to provide charm and bloody love, black red rhinestone cz to show danger and sexual energy. silver snake ring cobra snake ring cool snake rings 100 satisfaction warranty top best fashion great jewelry picked for you timely reply for any questions from you 90 days long money back time guarantee snake ring, cz snake ring, snake rings for women plated copper base, black red rhinestone, us ring size 8 exquisite craft, fresh modernized design, punk goth fashion picked for unique you    \n",
       "7220                                                                                                                                                                                                              nel aa silicone entity doll male masturbation tool masturbation cup glans orgasm toys 0504 size 68cm dear customers, we provide confidential shipments throughout the entire process to protect your privacy. material tpe size 58cm,68cm,102cm color skin tone control type manual applicable people adults due to manual measurements, there may be an error of   ours customer service,30 days full refunds and well package real life reproduction, smooth and realistic skin, can be anal sex, yin, and foot. multiple joints can be moved, soft to the touch, beautiful lines and strong resilience. 3d analog channel, life long waterproof, multiple experiences, multiple stimuli, let you reach orgasm quickly. if you have any questions, please contact us and we will provide you with detailed instructions.    \n",
       "2818   nel lxl xl simulation sucker dildo health care silicone mini massage rod, suitable for females products book it can be the best choice for your personal use or as a gift to your friends. number of products 1. product material silica gel. product size length 14cm, diameter 2.7cm. product color black, flesh color. waterproof rating full body waterproof. tip only toys, no other products. due to the problem of light photography, there may be some chromatic aberration. since the size is measured manually, there may be some errors that are normal. the color of the product will vary slightly depending on the setting of the computer screen. the actual product color will prevail. please forgive me, thank you. medical silicone material, healthy and environmentally friendly, comfortable to the touch. mini simulation of the dildo, rubbing the vaginal wall, effectively stimulate the g point. the suction cup base is comfortable for hands free fun and flexibility. full body waterproof design, ea...   \n",
       "5391   nel zhlzz 26.6cm long big silicone dildo realistic penis suction deep texture sex toys for women masturbator extreme stimulate anal massage material silicon size  et weight   product name sex toys color skin black purple sucker yes vibration no certification ce, rohs, fda type dildo shape texture bump note 1. some color differences may occur due to lighting or computer display problems anual measurement of size and weight may result in minor errors. please refer to the current product f you have any questions about the use, please email us. we will reply you within 24 hours surrealism zhlzz's real fake sun has incredible charm, textured shafts, fascinating shapes, 2 sturdy testicles and sturdy suction cups. the depth of the peak is suitable for professionals safety and water resistance our realistic dildo is made of waterproof, fda approved medical grade silicone that can be safely used on bed and underwater. tilt the dildo according to your body contour and achieve the desired in...   \n",
       "900                 nel virginity cage penis lock anti masturbate bird cage stainless steel cage lock diameter rings o   age inside diameter 33mm, length 60mm easy to put on due to the plug in system the penis cage is mounted and set up very quickly with 5 included penis rings the penis cage can be perfectly adjusted to the penis. tips for cleaning some mild soap or a special toy cleaner and plenty of water is enough. immediately its pores are clean and ready for the next use. breathable quality the hollow out design allows your penis breathe freely even in the restraint. nontoxic, can be safely used. the smooth surface will not hurt your body. comfortable, sturdy and not easy to fall off, bringing all round care.hypoallergenic and durable different sizes available 38mm , 41mm , 44mm , 47mm , 50mm , choose the suitable inner diameter, perfect and comfortably attach to your penis, suitable for most people. hand buffing, more sleek, more comfortable and safe. very firm cage, lock your man up    \n",
       "5300                                                                                                                                                                                                                                                                                                                                                                                                                                                                                                                                                                                                                                                                                                                                                                                                                                                          nel powerful jelly toys butt plug vibrantor, toys products for adullt material silicone, abs size  olor pink,purple,blue power 3 piece lr44 battery include no retail package.    \n",
       "7139   nel llggdd 16 inch ultra long soft v i brators reality di ld.os silicone medical material with suction cup stick safe soft beginner color e realistic workmanship, delicate, high grade non toxic, 100 medical grade body safety silicone, set up a coronary groove like a real person, blood vessels are presented in front of you without reservation, can bring you true vision and experience double enjoyment it is the instrument of choice for modern independent women. just know that this size is definitely suitable for advanced players. compatible with most strap on belts. clean quickly and easily with soap and water. can be safely used with waterborne and silicone based lubricants. the same applies to vaginal or anal games especially soft and does not cause any tearing . easily stimulate the pleasure point that you can't reach inside. specially designed to feel, with ultra realistic curves, lips and ridges. how to use recommended for use with water or silicone based lubricants. clean befo...   \n",
       "6296   nel go q vibe ring black 12 count the go q vibrating ring is the only cock ring on the market that features a vibrating motor made specifically for perineum massage also known as the taint, the perineum is an often forgotten erogenous zone on the body that's located between the genitals and the anus ' and it's not always easy to reach but now with the go q, users can strategically position a vibrating mini motor against this sensitive area and enjoy hands free perineum massage with little to no extra effort with the flip of a switch, the go q buzzes with 13,500 rpm for intense stimulation that can put him over the edge.the go q also provides strong erection support thanks to a super stretchy design made to fit most sizes. simply stretch the ring around the penis and testicles and position the mini motor so it pleasantly, yet firmly flexes against the perineum. it might take a bit of adjustment, so feel free to use water based or silicone based lubricant to help put the go q on com...   \n",
       "5889   nel yyoj sex toys for men masturbator masturbation for male pussy realistic mens toys vagina adult toys4 man massager gifts for him fantasy finally realized just like the first contact with her, an untouched passage, the meat layer rubs against your penis, giving you the feeling of a tightly wrapped penis. she is a sweet and sexy girl, please touch her, you will fall in love with her. enjoy the feeling of being blown away by an attractive woman and let your imagination run wild material tpe silicone weight  kg size    tipp 1. keep clean before and after use recommended for use with lubricants wash, dry and store carefully this is for adults only, please keep away from children, please allow slight data errors. we are a company specializing in the development, production and distribution of adult products and lifelike toys. a strict quality control process for each of our products is a prerequisite for the health and comfort guarantee. everything is shipped in neutral packaging to ...   \n",
       "2509                                                           nel 2 medidor de 6 pies de oro plateado usb al cable usb micro b con enhanced tapas de aluminio, de alta velocidad de sincronizacion y cable de carga micro usb, un ano de garantia, fast entregar garantia cumplido por amazon, normal puede recibir en 3 dias 2 metros 2 meter 6ft golden plated usb to micro b usb cable, sync charging high speed micro usb cable, one year warranty, fast deliver guarantee fulfilled by amazon, normal can receive in 3 days 2 meter specification connector a usb micro b male connector b usb cable length 200 cm supports high speed data transfer rates up to 480 mbps rohs complaint color black high speed sync charging cable, 6ft length, high speed data transfer rates up to 480 mbps with very strong fabric covered bare copper wire inner and enhanced aluminum caps work with the device that with micro usb port, such as htc, sony and other device one year warranty and life time technic support consumerelectronics    \n",
       "6033   nel hotdesire 8.26 inch dual density silicone anal dildo,realistic huge suction cup dildo,giant anal toy anal plugs large thick dildo sex toys for her legal disclaimer statements regarding dietary supplements have not been evaluated by the fda and are not intended to diagnose, treat, cure, or prevent any disease or health condition. the 8.26 inch realistic dildo with 6.3 insertable inches is the perfect size for beginners who want to try something new. the ergonomic design of the head is very pointed which makes it very easy to insert if you are a beginner or are warming up. the phenomenal suction cup is powerful enough to hold the dildo firmly in place for a hands free play even with a quite vigorous usage. the beginner dildo is made from reliable material for safe usage, it is nice and flexible for the most perfect positioning to fully satisfy. the balls feel solid and realistic which is a great feature that really improves the experience to the next level. the 8.26 inch realist...   \n",
       "2853                                                                                                                                                                                                                                                                                                                                                                                                                                                                                                                                                                                                                                                                                                                                                                                                                                                                                                                                                                                                     nel 2 boxes v 8 b a b y x4's o.15 o    \n",
       "844    nel realistic dildo with suction cup dong with balls fake pe nis adult sex female massage masturbation toys,soft skin thread dildo judita item type dildos model number realistic dildo penis size l18.5 d sexually suggestive no material pvc color flesh sex product inflatable dildo sex products for women sex products male artificial penis penis artificial dildos for women sex toys rubber cock suction dildo realistic big dick length 18.5cm penis diameter 4cm silicone sex dildos sex tools shop didlo lesbian sex toys dog dildo insertable length 14.5cm realistic dildo with suction cup dong with balls fake penis adult sex female massage masturbation toys,soft skin thread dildo made of medical grade pure silica gel, non toxic and tasteless, no allergies. soft, flexible and comfortable, it can be reused without damage. comfortable and owns a realistic appearance,a imitation of human structure design, can brings you a real sense of experience. it is easy to use and clean so the products are ...   \n",
       "5450   nel mxylym9 strap on huge dicks, stick insert flexible medical grade bendable for women silicone with strong suction cup pvc leather pants l 6.29inch, w 1.45inch applicable people male, female, husband and wife material pvc weight   packing 2 secret box it will keep you full. with the suction cup base, you can really go further. the real texture and big head send you to the edge. you can install this monster in your seat belt to go to the city. the perfect toy for beginners, if you want to adjust something and have a good time, recommend it. put a lot of lubricants like this, the party just started enjoy folks 100 brand new product our customer service. if you have any questions, please feel free to contact us about long6.73 inches 17.1m, diameter 1.45 inches 3.7m advanced medical environmentally friendly pvc, 100 waterproof, safe for your body smaller and more portable put it in your travel bag 100 satisfaction guarantee is the best gift for lovers, couples, best friends and fami...   \n",
       "...                                                                                                                                                                                                                                                                                                                                                                                                                                                                                                                                                                                                                                                                                                                                                                                                                                                                                                                                                                                                                                       ...   \n",
       "2644   nel acmm women's products 6.65 silicone realistic dildo with balls 100 pure medical grade silicone beginner lifelike dong with suction cup luxurious and body safe penis female massage stick product description size  et weight   note recommended for use with lubricants. keep clean before and after use. keep dry and keep in a secret place away from children. if you purchased this product will be delivered within  business days if the timeout has not arrived, please contact us in time. this product is for adult products. please do not buy it for minors under 18 years old . please place the product in a position that is inaccessible to minors. healthy materials medical silicone, soft and pliable material, non toxic, odorless ness safely use,soft sensual for optimum pleasure double layered silicone dildo, realistic soft skin outside, and firm inside,super realistic. hold it in your hand and feel it is a real penis, most smooth surfaces and realistic veins, allow you to reach orgasm str...   \n",
       "5357   nel yatbo realistic big boobs real sex doll with metal skeleton with lifelike pussy anus mouth and 3 holes lifelike sexy love toy features this doll made of medical silicone material tpe. tpe is a new type of silicone, which can be stretched up to 5.5 times length and is very soft it has been tested to be safe to humans. the skin has pure natural luster and smooth feelings by touch. her pretty face is sculptured by an experienced sculptor. these dolls will leave you with an experience you never have had before. the body joints are made of artificial multiplex metal by latest professional technology to ensure the limbs can be free to extend to create all sorts of poses. product parameters type full size soild dolls shoulder width 20cm bust 50cm the waist 32cm the hip 49cm legs length 52cm navel to chest 11cm head circumference 33cm skin colour white back package size  package weight   shipping time  working days. why choose our products we are a large adult products factory. engage...   \n",
       "4927   nel 2 set lot purple pu leather handcuffs ankel cuffs sex products erotic toys for sex couple,sex game bondage cuffs sex toys material pu sexually suggestive no obscene picture no funcion bondage toys,leather harness sex tools product category bed restraints bondage toys color purple itemportuguese algemas,sexo jogos,algema,erotico brinquedo,produtos eroticos item spanish juguetes sexuales esposas,juguetes eroticos,juegos para adultos item french menotte sexe,menottes occasion nightclub, bedroom,sex love games moulded directly from the man himself, and cast from increibly life like ultraskyn material, every vein, curve and bulge of this replica looks and feels like your fantasy come to life. maintaining your dildo is easy, just wash well with soap and water after use, let it dry completely before storage, and always use a good water based lube to keep things slick. if it gets tacky, just sprinkle liberally with some of the included ultraskyn refresh powder or cornstarch to restore...   \n",
       "5048                                                                                                                                                                                                                                                                                                                                                                                                                                                                                                                                                                                     nel 9 in beginner's didlos ladies mini toy massage real skin with strong suction cup playing toy color purple a1 soft toy wonderful toy for your playing anywhere. they are flexible without losing the necessary stability. body safe material realistic texture soft ,hypoallergenic and non toxic. it is easy to use and clean with lubricant cleaner or warm water and soap after used. discreet package,without any sensitive words or labels.    \n",
       "241                                                                                                                                                                                                                                                                                                                                                                                                               nel metal cock cage with carlos foushee ring toyau size penis ring chasti ty device male product, belt virginity lock for man welcome to carlos foushee store,enjoy high quality products tips 1. please allow slight measurement deviation for the data lean before and after each use wash with cleaner or warm water. made of premium quality material. odorless. hypoallergenic. non toxic. model number carlos foushee rings tama1597 waterproof for fun in the shower, bath or hot tub. sizes for comfortable fit. easy to clean. money back guarantee if you have any issues, please contact us without hesitation.    \n",
       "7076   nel chp love 9.37 inch dicks high quality silicone material great toys it provide a kind of unique stimulation that many find highly pleasurable well made, powerful and long lasting . long lived and waterproof. easy to clean, just use water to clean.very convenient. chief length 9.37 inches 23.8cm. insert length 7.08 inches 18cm. diameter 1.88inches 4.8cm welcome to buy our products we hope you have a good shopping experience. if you have any questions about this product, please feel free to contact us and we will be happy to help you. chief length 9.37 inches 23.8cm.insert length 7.08 inches 18cm.diameter 1.88inches 4.8cm high quality and medical standard pvc material. non toxic, harmless, safe, healthy and skin friendly to use. lifelike and exquisite veining has a convex vein to give the user a more realistic experience waterproof safe 100 waterproof and can attach to almost any smooth surfaces, allowing for greater variations in position, location and flexibility. realistic fem...   \n",
       "5057                                                                                                                                                                                                                                                                                                                                                                                                                                                                                                                                                                                                                                                   nel winzfred liquid silicone color vinrator dilo thrusting inspiration, realistic pulsator dilo automatic vinrator with suction cup for women couple material liquid silicone color not exactly the same quantity 1pc protect your privacy and use secret packaging, please rest assured to buy. perfect holiday party gifts suitable for holiday, honeymoon, and special night, etc.    \n",
       "2005                                                                                                                                                                                                                                                                                                                                                                                                                                                                                                                   nel 1060000000 weidmuller connectors, interconnects 1060000000 weidm ller connectors, interconnects digikey conn term blk end plate rail bg features part status active type end plate rail type number of positions for use with related products w series color beige environmental export classification lead free status rohs status not applicable not applicable moisture sensitivity level msl not applicable categories connectors interconnects terminal blocks accessories manufacturer weidm ller series w    \n",
       "5303   nel zrb painted silicone realistic penis panties wearable dildo for female lesbian, transvestite pants crossdresser cosplay adult sex toys material medical silicone color please refer to the picture weight   size s , m , l size table s waist circumference  , leg circumference 32cm, penis length 12cm, penis diameter 3.6cm. m waist circumference  , leg circumference 32cm, penis length 15cm, penis diameter 4cm. l waist circumference  , leg circumference 32cm, penis length 18cm, penis diameter 4cm. package contain panties x 1 if you have any requirements for the product, please do contact us in time, thanks the scrotum and penis parts of this product are solid. waist circumference range  . upturned penis has 3 sizes, s length 12cm, diameter 3.6cm , m length 15cm, diameter 4cm , l length 18cm, diameter  food grade silicone, healthy and highly stretchable, can easy reach 1.5 times. no fading ,not easy to tear, easy to clean and more durable. the outside of the dildo is smooth and sleek ...   \n",
       "2251   nel zodsfg super long silicone soft toy double head di l do female massage toy zodsfg it offers a unique stimuli that many people find to be very pleasing, powerful and durable. long life and waterproof. easy to clean, just wash with water. very convenient. material silicone style small, medium, large double headed thrust made of high quality materials, soft and comfortable, safe and non toxic, safe to use. discreet package, not any product information about the package,nobody knows what you get. if you have any questions about this product, please contact us directly. we will help you right away step one click our storename zodsfg step two ask a question. made of high quality pvc, 100 waterproof, soft, non poisonous and odourless. safe to use. flexible enough to be bent in half for dp yet firm enough to use for partnered play. perfect toys for your playing anywhere we will also have a dedicated sealed box, unmarked packaging, confidential delivery, express orders without leaving ...   \n",
       "5863                                                                                                                                                                                                                                                                                                                                                                                                                                                                                                                                                                                                                                                                                                                                                                                                                                        nel hehelen 8.7 inch waterproof silicone big realistic did los with s uction cup for women men beginners material pvc color flesh,black total length app diameter app waterproof life waterproof    \n",
       "6911                                                                                                                                                                                                                                     nel reusable for male time delay pennis sleeve soft cock rings intimate toys waterproof,soft and comfortable,easy clean,easy to use,give you more fun on your sex time wide 1.5cm feature 1 reusable items name tpe penis rings condom thickness thick feature 2 waterproof material tpe inner rings 2cm colors clear blue black item type condoms fragrance rubber functions 1 time delay functions 2 penis enlargement sexually suggestive no size normal size packaging privacy package no sex word chastity device,suppress your desire,waterproof,reusable,help you to be a gentleman waterproof,soft and comfortable,easy clean,easy to use,give you more fun on your sex time packaging privacy package no sex word occasion roleplay and scenes,function sex aid cover erectile dysfunction    \n",
       "7191   nel acmm women's products 16.9 inch double side dildo, realistic silicone dong sex toy for women female massage stick product description product weight   size  using medical pvc, non toxic, tasteless, super hard the duck head simulates the penis. note recommended for use with lubricants. keep clean before and after use. keep dry and keep in a secret place away from children. if you purchased this product will be delivered within  business days if the timeout has not arrived, please contact us in time. this product is for adult products. please do not buy it for minors under 18 years old . please place the product in a position that is inaccessible to minors. real look and feel completely like real things shaped by real porn stars flexible and flexible shaft, fine texture and more pleasant texture powerful suction cups can be attached to any surface and can be used as a strap on a dildo for most seat belts. enjoy deep and complete penetration of anal and vaginal sex waterproof siz...   \n",
       "4904                                                                                                                                                                                                                                                                                                                                                                                                                                                                                                                                                                                              nel dorcell  silicone double head realistic di ld.os' toys for couples for her made of body safe glass, odorless and comfortable. flexible with a realistic feel. perfect size for beginner andintermediate player. all products come in discreet standard packaging, keep your privacy in strict confidence. lasting shape light, and resistant reusable for thousands of times without any deformation and loss of quality or sensation.    \n",
       "3761   nel wsi giant realistic dildo, fake penis lesbian strap dildos pants detachable adjustable panties sex toys suction cup soft silicone couple anal adult vagina massage plug erotic 100 skin safe material,inspired from the passion that the designers and the first love date for the first time,need to caress and gentle blend of romantic passion,let them totally immersed in the ecstasy of happiness of the world waterproof and can attach to almost any smooth surfaces, allowing for greater variations in position, location and flexibility. lightweight soft as the skin of the goods, lightweight foldable, easy to carry out. material medical pvc is the best choice for you and your lover. keep clean for use and cool place. package includes 1 x sexy toy tips in order to give you the ultimate experience, it is recommended to use lubrication during use. please wash it with clean water after use so that you can use it again next time. we know that we are already become friend so that if you have a...   \n",
       "5984   nel bigrize top rated male pills, 60 capsules enhance energy, mood, vitality a testosterone booster pill for men has never been better. support testosterone levels and get more energy out of your life. our scientists have compiled a cutting edge and revolutionary formula, based on the latest scientific studies relating to men's health. own the 1 vitality enhancement supplement, and 1 testosterone booster that comes with  uaranteed results. boost your stamina, energy, and support testosterone levels. bigrize is the best solution for both results. tons of happy customers can't be wrong get even better performance than you had ever thought possible. bigrize is manufactured in a gmp certified lab and we offer a 100 money back 30 day guarantee if you are not satisfied for any reason. bigrize will work that fast and you'll be impressed with awesome results. herbal formula for men. support testosterone, stamina, and get your vitality back bigrize is the ultimate testosterone booster that...   \n",
       "2668                                                                                                                           nel stimulating cage lock virginity cage male chastity cage stainless steel cage lock diameter rings o   due to the plug in system the penis cage is mounted and set up very quickly with 5 included penis rings the penis cage can be perfectly adjusted to the penis. some mild soap or a special toy cleaner and plenty of water is enough. immediately its pores are clean and ready for the next use. breathable quality the hollow out design allows your penis breathe freely even in the restraint. whether you have a bondage experience, handing over control to your partner, which can increase the stimulation of sexual life. nontoxic, can be safely used. the smooth surface will not hurt your body. comfortable, sturdy and not easy to fall off, bringing all round care.hypoallergenic and durable. hand buffing, more sleek, more comfortable and safe. very firm cage, lock your man up    \n",
       "35     nel 1pcs 'xoxo' ass spanking paddle pu leather whipsexy flogger adult game fetishsex toy for couple kinky pat clap slap round and sleek design, available in a variety of sizes for most adults item type adult games model number gn 282411001 size 1pcs sexually suggestive no material pu leather obscene picture no color as picture type sex paddle properties sex products for couples item sex toys for adults function pu leather flogger user women and men place of origin china mainland ergonomic design easy to insert with the tapered tip. not easy to cause sliding with the narrow end of the insertable part, which ensures the stability. excelent soft and comfortable super soft material and special emulational design excite your partner easily and bring you both a difference expenrience. discreet packing after sales warranty everything is designed for your maximum comfort reat for all size men and beginners to advanced. discreet packaging ensures your privacy. butt plug is smooth,mellow an...   \n",
       "5072   nel londony women's short sleeve casual cold shoulder tunic tops loose blouse shirts summer t shirt o neck tops tshirt blue welcome dad's day in advance every dad is the pillar of the family. please love your dad, dad's day clothes and gifts are waiting for you. please search for dad's day products at londony store.prime day enjoy a discount on prime day in advance. you deserve to have dear customer welcome to londony shop, where you will get what you want at your favorite price. i wish you a happy shopping believe in yourself, put on the clothes of londony , send out your photos, you are unique beauty begins here, a lifetime of love we launched the independence day , july 4th products, and can pay attention to the new products in our store. buy in advance and enjoy the festive atmosphere in advance attention welcome to our store, hope you have a pleasant shopping experience our products have been well tested, examined and packaged before sending off. committed to providing custom...   \n",
       "3601   nel 18cm silicone realistic penis female lesbian wearable dildo fake penis panties lifelike curved penis waistline  adult sex toys with a straight erect penis, increase the pleasure. material medical silicone color please refer to the picture weight   penis length 18cm penis diameter 4cm waist circumference  leg circumference 40cm package contain panties x 1 if you have any requirements for the product, please do contact us in time, thanks the scrotum and penis parts of this product are solid. the private parts look realistic. waist circumference range  . curved penis sizes length 18cm, diameter 4cm. food grade silicone, healthy and highly stretchable, can easy reach 1.5 times. no fading ,not easy to tear, easy to clean and more durable. the outside of the dildo is smooth and sleek with a slight curve at the tip which is intended to reach her g spot or rub against his prostate. realistic appearance design in skin, full enjoyments in vision. super thin edge design ,perfectly matchi...   \n",
       "6692   nel chongshan mountain2019 cordless mini wand massager rechargeable 100 waterproof handheld electric vibebratorr with flexible head, powerful therapist for aches muscle recovery and stress relief only weighs  , just feel like a kiwifruit in your hands. which means, you can enjoy your private time or have a deep massage anywhere. what you should do is putting your mini massager into your totes you're about to encounter an astonishing 20 patterns. try them all out and see which one you prefer use after a hard workout for deep relaxation of your muscles for the ultimate tease, let your partner massage you advanced safety silicone we adopt the superior medical grade silicone to make this massager an entirely odorless and safe. sleek and compact light weight and appropriate size, easy to carry while you're out. material medical grade silicone abs not any sensitive words shown on the packaging satisfaction guarantee we focus on personal care products,if you have dissatisfaction with our...   \n",
       "5364   nel chp love 9.37 inch dicks high quality silicone material great toys color brown it provide a kind of unique stimulation that many find highly pleasurable well made, powerful and long lasting . long lived and waterproof. easy to clean, just use water to clean.very convenient. chief length 9.37 inches 23.8cm. insert length 7.08 inches 18cm. diameter 1.88inches 4.8cm welcome to buy our products we hope you have a good shopping experience. if you have any questions about this product, please feel free to contact us and we will be happy to help you. chief length 9.37 inches 23.8cm.insert length 7.08 inches 18cm.diameter 1.88inches 4.8cm high quality and medical standard pvc material. non toxic, harmless, safe, healthy and skin friendly to use. lifelike and exquisite veining has a convex vein to give the user a more realistic experience waterproof safe 100 waterproof and can attach to almost any smooth surfaces, allowing for greater variations in position, location and flexibility. r...   \n",
       "5253   nel keto pills for women men weight loss supplement burn fat fast lose unwanted pounds induces ketosis quickly with patented gobhb ingredients 60 capsules with goketo keto, you will burn unwanted fat in problem areas to get that sculpted physique you have always dreamed of. it will begin to burn fat for energy and is why everyone is speaking about this diet. this will promote healthy weight loss, and boost mental focus and clarity with low carb keto contains natural active ingredients which put your entire metabolism to work in an effective manner, burning stored fat instead of carbohydrates, while at the same time protecting your heart, brain and boosting your self confidence. our products are carefully made in the usa in gmp certified facilities. rest assured you are getting the finest ingredients put together following the best manufacturing practices. natural diet supplement goketo keto is the best compliment to support your weight loss diet plan so you can get result towards ...   \n",
       "2558                                                                                                                                                                                                                                                                                                                                                                                                                                                                                                                                                                                                                                                                                                                                                                                                                                                                                                                                                                            nel shower thoughts don,aot dream your life, live your dream    \n",
       "3385                                                                                                                                                                                                                                                                                                                                                                                                                                                                                                                                     nel thunder bull triple maximum male enhancement sexual pill long lasting 12 pills by red lips 2 thunder bull is an advanced male enhancement formula, which may boost the reproductive health and makes you perform excellently in the bedroom. it may give you necessary support for you and your partner to get sexual satisfactione. this formula is useful to those suffering from premature ejaculation, as it may help them to stay for longer before the climax. yohimbe herbal supplements    \n",
       "6930                                                                                                                                                                                                                                                                                                                                                                                                                                                                                                                                                                                                                                                                                                                                                                                                                                                         nel 1pcs strapless didlo cup big dillo realistic huge dillos color see the picture material medical tpr pattern see the picture size app see the picture soft and safe material    \n",
       "3935   nel vekkia dragon lord sonic rechargeable kids electric toothbrush, 3 modes with memory, fun easy cleaning, 31000 strokes, ipx7 waterproof, 2 min timer for age 3 , 4 soft bristles a must have sonic electric toothbrush help children to develop better skills at brushing and lifelong oral health care habits as they grow up. want child to brush teeth on their own initiative worried about rough bristles hurting teeth and gums the brush head is easy to loose, need to stop and maneuver it stay in place no idea what kind of gift to send your son daughters grandchildren on birthday, christmas or other festivals this lovely kids toothbrush gives your child a healthier and more hygienic oral care, a happy brushing time. high quality dupont soft bristles, help them have a better dental care experience, also suitable for braces. replaceable brush heads rotation fixed design, firmly stay in place, brush your teeth more assured. features usb fast charging the indicator light flashes when chargin...   \n",
       "3660                                                                                                                                                                                                                                                                                                                                                                                                                                                                                                                                                                                                                                                                                                                                                                                                                                                                                                                                                          nel aqsex 158cm body massage half body pvc silicone relaxation doll toy mariah    \n",
       "518                     nel jingtaohailang booty bliss vibrating beads name silicone beads material environment friendly abs color single frequency dazzling blue, single frequency lovely pink, single frequency classic black, single frequency charming purple, 10 frequency dazzle blue, 10 frequency lovely pink, 10 frequency classic black, 10 frequency charm purple size full length 18.5cm, top diameter 1.9cm, back diameter 3.3cm battery life about 1 hour battery specification lr44 button battery 3 sections noise value less than 50 db waterproof waterproof throughout the body net weight   gross weight   highlight 1 environment friendly silica gel, no odor, not easy to crack highlight 2 soft elastic skin texture, contact as real as your own skin highlight 3 single frequency 10 frequency vibration is optional, allowing the climax to follow the rhythm highlight 4 ultra quiet design, vibration sound is less than 50 db highlight 5 full body protection, simple cleaning, beautiful and exquisite shape    \n",
       "249    nel llggdd giant soft and lifelike di ld.os suction cup silicone real and safe materials experience different feelings waterproof realistic workmanship, delicate, high grade non toxic, 100 medical grade body safety silicone, set up a coronary groove like a real person, blood vessels are presented in front of you without reservation, can bring you true vision and experience double enjoyment it is the instrument of choice for modern independent women. just know that this size is definitely suitable for advanced players. compatible with most strap on belts. clean quickly and easily with soap and water. can be safely used with waterborne and silicone based lubricants. the same applies to vaginal or anal games especially soft and does not cause any tearing . easily stimulate the pleasure point that you can't reach inside. specially designed to feel, with ultra realistic curves, lips and ridges. how to use recommended for use with water or silicone based lubricants. clean before and aft...   \n",
       "\n",
       "         label  \n",
       "ID              \n",
       "3575  0.090924  \n",
       "3039  0.162470  \n",
       "4607  0.697702  \n",
       "1486  0.914339  \n",
       "3399  0.929947  \n",
       "6006  0.696927  \n",
       "5459  0.931927  \n",
       "4879  0.947899  \n",
       "2334  0.945616  \n",
       "6634  0.905791  \n",
       "6633  0.928713  \n",
       "6464  0.315749  \n",
       "7715  0.745439  \n",
       "3760  0.925533  \n",
       "1890  0.948740  \n",
       "3980  0.478796  \n",
       "4685  0.085679  \n",
       "7220  0.922359  \n",
       "2818  0.777431  \n",
       "5391  0.929264  \n",
       "900   0.068040  \n",
       "5300  0.558553  \n",
       "7139  0.507534  \n",
       "6296  0.397003  \n",
       "5889  0.865628  \n",
       "2509  0.154676  \n",
       "6033  0.302164  \n",
       "2853  0.949468  \n",
       "844   0.868256  \n",
       "5450  0.909014  \n",
       "...        ...  \n",
       "2644  0.570705  \n",
       "5357  0.200009  \n",
       "4927  0.604934  \n",
       "5048  0.936584  \n",
       "241   0.889753  \n",
       "7076  0.928644  \n",
       "5057  0.922969  \n",
       "2005  0.215127  \n",
       "5303  0.171012  \n",
       "2251  0.939756  \n",
       "5863  0.218866  \n",
       "6911  0.882033  \n",
       "7191  0.785868  \n",
       "4904  0.888050  \n",
       "3761  0.828936  \n",
       "5984  0.073982  \n",
       "2668  0.607851  \n",
       "35    0.922597  \n",
       "5072  0.044177  \n",
       "3601  0.212583  \n",
       "6692  0.947417  \n",
       "5364  0.935064  \n",
       "5253  0.041281  \n",
       "2558  0.074197  \n",
       "3385  0.030357  \n",
       "6930  0.600973  \n",
       "3935  0.824138  \n",
       "3660  0.740830  \n",
       "518   0.694456  \n",
       "249   0.796127  \n",
       "\n",
       "[76 rows x 2 columns]"
      ]
     },
     "execution_count": 28,
     "metadata": {},
     "output_type": "execute_result"
    }
   ],
   "source": [
    "results[results['label']>0.03][results['label']<0.95]\n"
   ]
  },
  {
   "cell_type": "code",
   "execution_count": 29,
   "metadata": {},
   "outputs": [],
   "source": [
    "results.to_csv('results.csv', columns=[ 'label'])"
   ]
  },
  {
   "cell_type": "code",
   "execution_count": null,
   "metadata": {},
   "outputs": [],
   "source": []
  },
  {
   "cell_type": "code",
   "execution_count": 30,
   "metadata": {},
   "outputs": [
    {
     "data": {
      "text/plain": [
       "['[NEL]',\n",
       " 'porn',\n",
       " 'nubby',\n",
       " 'lesbian',\n",
       " 'gay',\n",
       " 'transvestite',\n",
       " 'transgender',\n",
       " 'lube',\n",
       " 'lubricant',\n",
       " 'sex',\n",
       " 'intercourse',\n",
       " 'fuck',\n",
       " 'vibrate',\n",
       " 'suction',\n",
       " 'lick',\n",
       " 'suck',\n",
       " 'gag',\n",
       " 'dildo',\n",
       " 'vibrator',\n",
       " 'condom',\n",
       " 'anal',\n",
       " 'plug',\n",
       " 'snake',\n",
       " 'trembler',\n",
       " 'pulsator',\n",
       " 'lockaid',\n",
       " 'strap',\n",
       " 'buzzer',\n",
       " 'rabbit',\n",
       " 'egg',\n",
       " 'penetrator',\n",
       " 'dual',\n",
       " 'kegel',\n",
       " 'ben',\n",
       " 'wa',\n",
       " 'stimulator',\n",
       " 'masturbator',\n",
       " 'lasso',\n",
       " 'bondage',\n",
       " 'cuff',\n",
       " 'pasties',\n",
       " 'strapon',\n",
       " 'didlo',\n",
       " 'dido',\n",
       " 'dilo',\n",
       " 'dlo',\n",
       " 'device',\n",
       " 'gadget',\n",
       " 'pleasure',\n",
       " 'intimate',\n",
       " 'last',\n",
       " 'aroused',\n",
       " 'climax',\n",
       " 'enjoyment',\n",
       " 'orgasm',\n",
       " 'bdsm',\n",
       " 'sadism',\n",
       " 'submission',\n",
       " 'masochism',\n",
       " 'realistic',\n",
       " 'stimulate',\n",
       " 'squirt',\n",
       " 'dick',\n",
       " 'cock',\n",
       " 'penis',\n",
       " 'spot',\n",
       " 'butt',\n",
       " 'ass',\n",
       " 'nipple',\n",
       " 'clitor',\n",
       " 'pelvic',\n",
       " 'vagina',\n",
       " 'pussy',\n",
       " 'anus',\n",
       " 'prostate',\n",
       " 'rectum',\n",
       " 'ventral',\n",
       " 'scrotum',\n",
       " 'tongue',\n",
       " 'perineum']"
      ]
     },
     "execution_count": 30,
     "metadata": {},
     "output_type": "execute_result"
    }
   ],
   "source": [
    "bd.adult_toys_vocab"
   ]
  },
  {
   "cell_type": "code",
   "execution_count": null,
   "metadata": {},
   "outputs": [],
   "source": []
  }
 ],
 "metadata": {
  "kernelspec": {
   "display_name": "Python 3",
   "language": "python",
   "name": "python3"
  },
  "language_info": {
   "codemirror_mode": {
    "name": "ipython",
    "version": 3
   },
   "file_extension": ".py",
   "mimetype": "text/x-python",
   "name": "python",
   "nbconvert_exporter": "python",
   "pygments_lexer": "ipython3",
   "version": "3.7.3"
  }
 },
 "nbformat": 4,
 "nbformat_minor": 2
}
