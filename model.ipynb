{
 "cells": [
  {
   "cell_type": "code",
   "execution_count": 1,
   "metadata": {},
   "outputs": [
    {
     "name": "stdout",
     "output_type": "stream",
     "text": [
      "importing Jupyter notebook from bertkeras.ipynb\n"
     ]
    }
   ],
   "source": [
    "import import_ipynb\n",
    "import tensorflow as tf\n",
    "import pandas as pd\n",
    "import tensorflow_hub as hub\n",
    "import os\n",
    "import re\n",
    "from sklearn.metrics import confusion_matrix, accuracy_score\n",
    "import numpy as np\n",
    "from bert.tokenization import FullTokenizer\n",
    "from tqdm import tqdm_notebook\n",
    "from tensorflow.keras import backend as K\n",
    "from sklearn.model_selection import train_test_split\n",
    "import bertkeras as bk\n",
    "import matplotlib.pyplot as plt\n",
    "import seaborn as sns\n",
    "from matplotlib import pyplot\n",
    "from unidecode import unidecode\n",
    "from scipy.stats import norm, boxcox\n",
    "pd.options.display.max_colwidth = 1000\n",
    "sns.set()"
   ]
  },
  {
   "cell_type": "code",
   "execution_count": 2,
   "metadata": {},
   "outputs": [],
   "source": [
    "df= pd.read_csv('../dataset/training.csv', index_col='ID')\n",
    "labels = df['label']\n",
    "df = df.drop(columns=[ '﻿ASIN','parent_asin','Product Group Description'])\n",
    "df = df.fillna(\"\")\n",
    "\n",
    "cols = df.columns.tolist()\n",
    "cols.remove('label')\n",
    "text = df[cols].apply(' '.join, axis=1)\n"
   ]
  },
  {
   "cell_type": "code",
   "execution_count": 3,
   "metadata": {},
   "outputs": [],
   "source": [
    "html_re = re.compile('<[^>]*>')\n",
    "alphanum_re = re.compile('[^0-9a-z]+') \n",
    "weight_re = re.compile('[\\d.]+[ ]?(kg+|lbs+|g+|lb+)')\n",
    "\n",
    "# check if it actually helps, tests https://regex101.com/r/xwnV5l/1\n",
    "size_re = re.compile('[\\d.]+([ cminch]+)?[ x*]+[\\d.]+([ cminch]+)?([ x*]+[\\d.]+)?([ cminch]+)')\n",
    "\n",
    "def html_cleanup(html):\n",
    "    return re.sub(html_re, ' ', html)\n",
    "def lower_case(txt):\n",
    "    return txt.lower()\n",
    "def split_by_non_alphanumeric(txt):\n",
    "    return re.sub(alphanum_re, ' ', txt)\n",
    "def decode_chars(txt):\n",
    "    return unidecode(txt)\n",
    "\n",
    "def cleanup_size(txt):\n",
    "    return re.sub(size_re, ' ', txt).replace('size:', '')\n",
    "\n",
    "def cleanup_weight(txt):\n",
    "    return re.sub(weight_re, ' ', txt)\n",
    "    \n",
    "def cleanup(text):\n",
    "    res = text.apply(html_cleanup).apply(decode_chars).apply(lower_case) \\\n",
    "              .apply(split_by_non_alphanumeric).apply(cleanup_size) \\\n",
    "              .apply(cleanup_weight)\n",
    "    return res"
   ]
  },
  {
   "cell_type": "code",
   "execution_count": 4,
   "metadata": {},
   "outputs": [],
   "source": [
    "texts = cleanup(text)"
   ]
  },
  {
   "cell_type": "code",
   "execution_count": 5,
   "metadata": {},
   "outputs": [],
   "source": [
    "df = pd.DataFrame( {\"texts\" :texts, \"labels\": labels} )"
   ]
  },
  {
   "cell_type": "code",
   "execution_count": 6,
   "metadata": {},
   "outputs": [
    {
     "data": {
      "text/html": [
       "<div>\n",
       "<style scoped>\n",
       "    .dataframe tbody tr th:only-of-type {\n",
       "        vertical-align: middle;\n",
       "    }\n",
       "\n",
       "    .dataframe tbody tr th {\n",
       "        vertical-align: top;\n",
       "    }\n",
       "\n",
       "    .dataframe thead th {\n",
       "        text-align: right;\n",
       "    }\n",
       "</style>\n",
       "<table border=\"1\" class=\"dataframe\">\n",
       "  <thead>\n",
       "    <tr style=\"text-align: right;\">\n",
       "      <th></th>\n",
       "      <th>texts</th>\n",
       "      <th>labels</th>\n",
       "    </tr>\n",
       "    <tr>\n",
       "      <th>ID</th>\n",
       "      <th></th>\n",
       "      <th></th>\n",
       "    </tr>\n",
       "  </thead>\n",
       "  <tbody>\n",
       "    <tr>\n",
       "      <th>1686</th>\n",
       "      <td>regalo divertido de la taza del cafe el mejor regalo para los regalos del dia de padre de los papas de su papa mas afortunado de la hijo del mundo absolutely love your order or contact us and we ll make it right your satisfaction is  uaranteed high quality mug makes the perfect gift for everyone printed on only the highest quality mugs the print will never fade no matter how many times it is washed packaged and shipped from the usa dishwasher and microwave safe shipped in a custom made styrofoam package to ensure it arrives perfect guaranteed</td>\n",
       "      <td>0</td>\n",
       "    </tr>\n",
       "    <tr>\n",
       "      <th>4401</th>\n",
       "      <td>neonblond cookie box vi  tkovice ski resort czech republic ski resort christmas metal container description there s no more heartfelt gift this holiday season like the gift of freshly baked christmas cookies give those precious gifts this year in beautiful christmas wreath cookie tin that will be treasured for years to come fill them with home baked or store bought goodies and stand out from the holiday party gifts these christmas cookie tins are certified food safe and just the perfect size to be used long after those yummy goodies are gone beautiful christmas cookie tin for gifts storage more neonblond s stylish stainless steel cookie tins size  with a one of a kind design perfect for gifting homemade cookies and treats during the holidays or at any time of year multiple uses around the home these attractive tins are perfect for food storage craft supplies storage holiday cookie gifts children s activities and much more the nesting design means compact storage when not in use qua...</td>\n",
       "      <td>0</td>\n",
       "    </tr>\n",
       "    <tr>\n",
       "      <th>7340</th>\n",
       "      <td>egg massager remote control vi 10 speed handheld massagers item type massagers brand name xc ushio size   aterial plastic commodity quality certification ce model number 4000004366 suggestive no type picture no material2 plastic abs remote control distance 5m unit type set color purple pink package size    package weight 0   0   egg massager remote control vi 10 speed massager massager massager material plastic abs color purple pink battery aaa battery not included massager 10 speeds egg remote control distance 5m note we will remain anonymous and shipping package without item information please feel free to purchase it package size    size   package weight 0   0   color purple pink material2 plastic abs</td>\n",
       "      <td>1</td>\n",
       "    </tr>\n",
       "    <tr>\n",
       "      <th>3228</th>\n",
       "      <td>massager charging waterproof vi ring massagers handheld item type massagers brand name prettylove commodity quality certification ce powered usb rechargeable material function  function s model number 210152 waterproof 100 waterproof unit type piece suggestive no type function 3 massager package discreet package picture no size as shown noise low noise design color black purple package size    function 2 vi ring package weight 0   0   package size    function 3 massager function  function s function 2 vi ring powered usb rechargeable</td>\n",
       "      <td>1</td>\n",
       "    </tr>\n",
       "    <tr>\n",
       "      <th>2148</th>\n",
       "      <td>art oil painting reproduction size  painting name flight of the turks by diaz de la pena narcissevirgile rtgallery com is a registered australian company so purchases can be made with confidence when art is purchased from rtgallery com an artist is commissioned to paint the artwork to any specified size you are currently looking at a painting called flight of the turks by diaz de la pena narcissevirgile 100 hand painted life time guarantee size 24 by 36 inch arrives with tnt to your door unframed oil paintings fine art oil paintings home decore flight of the turks diaz de la pena narcissevirgile</td>\n",
       "      <td>0</td>\n",
       "    </tr>\n",
       "    <tr>\n",
       "      <th>196</th>\n",
       "      <td>optisex stunning steven vibrating 7 inch cock and balls with suction natural flesh the advanced compact steamer this handheld steamer has more steaming power than you can imagine travel steamer requires only a minute icare menstrual cups and a half to reach the needed temperature and has enough water for up to 10 minutes of non stop steaming iron steamer goes beyond comparison with the conventional ironing the dry steam goes through the fabric and tackles the creases and destroying all bacteria along the way clothes steamer for quicker ironing ironing with this portable garment steamer is a very pleasant activity that now consumes even less time it works equally well with all kinds of clothing and fabric this mini steamer for clothes will change the way you look and the way you feel about your clothing the top notch steamer for traveler s needs whether you are on a holiday or taking a business trip to another part of the world you will look ritzy thanks to this fabric steamer your ...</td>\n",
       "      <td>0</td>\n",
       "    </tr>\n",
       "    <tr>\n",
       "      <th>6383</th>\n",
       "      <td>i love asuncion colorful hearts women t shirt 100 cotton preshrunk t shirt classic fit shirt size for us s m l xl xxl xxxl men s classic short sleeve t shirt 100 cotton preshrunk t shirt classic fit taped neck and shoulders for durability seamless double needle collar double needle sleeve and bottom hem</td>\n",
       "      <td>0</td>\n",
       "    </tr>\n",
       "    <tr>\n",
       "      <th>6857</th>\n",
       "      <td>senoow 10 speed powerful usb rechargeable vi brator gs pot remote control sti mlation mssagerr for women couple color purple blue materials silicone abs waterproof totally water resistant convenient to clean power usb rechargeable quantity 1 set</td>\n",
       "      <td>1</td>\n",
       "    </tr>\n",
       "    <tr>\n",
       "      <th>2182</th>\n",
       "      <td>lqqbstorage celtic decor grommet window curtain head of legend dragon with ethnic african ornate effects on grunge backdrop myth celtic design noise reducing curtain multi multifunction 1 curtains is delicately designed allowing you to decorate your windows with great styles protect your furniture floors and walls from the sun 2 featuring vibrant colored pattern this eye soothing curtain can match interiors of any room 3 soft and durable window curtains has a very soft hand feel and drapery high quality material durable 10 years 4 privacy and relax your family and friends can enjoy movie nights or sports game without worrying about outside light and noise 5 energy efficient innovative triple weave construction insulate your sunny or frozen window give your air conditioner and energy bill a break 6 reduce noise densely woven fabric acts as an additional sound barrier it reduces outside noises and create a quiet and peaceful environment widely use for perfect for window in living roo...</td>\n",
       "      <td>0</td>\n",
       "    </tr>\n",
       "    <tr>\n",
       "      <th>3238</th>\n",
       "      <td>all monsters are human slogan womenos personalized t shirt custom printed tee 100 superior quality soft cotton premium quality dtg printing unique clothing for women by byronz clothing medium the most unique authentic individualized womenos t shirts our womenos t shirt will provide you with unmatched comfort and impeccable style choose a print from our great collection of original designs and enjoy something really unique and authentic that will take your style to the next level 100 soft cotton quality our womenos t shirts are made out of 100 superior quality cotton this premium fabric feels very soft upon touch and will last you for years the sweatshirts are a regular fit and can also be a great cost effective gifting idea the most advanced printing technology when it comes to printing your design we simply cut no corners each of our tees for women is printed with the latest direct to garment technology that ensures your print features all the vivid details and colors of the desig...</td>\n",
       "      <td>0</td>\n",
       "    </tr>\n",
       "    <tr>\n",
       "      <th>5544</th>\n",
       "      <td>ziblt vibradors funny toy for women 7 speed pulse vibradorss magic stick vibradors massager funny toys for women funny products stimulator pink function s timulation material silicone type wand item type vibradorss p enis weight   size  power usb charging commodity quality certification ce brand name ziblt color pinkpurple ther waterproof mute sofe</td>\n",
       "      <td>1</td>\n",
       "    </tr>\n",
       "    <tr>\n",
       "      <th>2453</th>\n",
       "      <td>i love la union cool style v neck t shirt novelty t shirts</td>\n",
       "      <td>0</td>\n",
       "    </tr>\n",
       "    <tr>\n",
       "      <th>4572</th>\n",
       "      <td>14k rose gold wedding or anniversary ring with diamond emerald aeur brilliant infinity twist band 3 loops strands of stones intertwine to create this delicate ring it is handcrafted in your choice of gems and metals other products</td>\n",
       "      <td>0</td>\n",
       "    </tr>\n",
       "    <tr>\n",
       "      <th>5375</th>\n",
       "      <td>forskolin for weight loss 100 pure forskolin extract in concentrated liquid an all natural forskolin max strength and fat burner supplement top appetite suppressant for women and men usa made our pure forskolin extract drops help with many things here is a short list of the main benefits helps suppress appetite cravings decrease body fat the building of lean muscle mass increase energy levels in boosting metabolism healthy hormonal balance how do our ultra forskolin extract drops work studies have shown that forskolin extract coleus forskohlii is highly effective at suppressing appetite and burning fat while at the same time promoting lean muscle mass these effects come from forskolin s ability to increase levels of a specific molecule within the body cyclic adenosine monophosphate or camp that plays a role in several cellular processes and is vital to the mobilization and elimination of fat natural appetite suppressant appetite suppressant for weight loss helps in weight loss for ...</td>\n",
       "      <td>0</td>\n",
       "    </tr>\n",
       "    <tr>\n",
       "      <th>2888</th>\n",
       "      <td>dream catcher stencil template reusable stencil for walls and dicor with multiple sizes available dream catcher stencil on reusable 10 mil mylar laser cut stencil for crafts and diy projects all of our stencils are cut right in the usa and shipped out in 1 business day we use a thick mylar which will last for hundreds of uses when cleaned and stored properly reusable and durable 10 mil mylar stencil dream catcher stencils are washable and easy to use food safe material great for crafts and diy projects sheet has about 75 inch border around the actual dream catcher graphic paper stencils</td>\n",
       "      <td>0</td>\n",
       "    </tr>\n",
       "    <tr>\n",
       "      <th>4666</th>\n",
       "      <td>acrylic mirror wall clock europe quartz watch still life clocks living room decoration diy stickers it is suitable for living room bedroom type wall clocks style brief fashion applicable placement living room model wall stickers stylish and modern clock stickers easy to install not easy to deformation make room more beautiful as living room decoration or in a bedroom enjoy your own happy time with your family</td>\n",
       "      <td>0</td>\n",
       "    </tr>\n",
       "    <tr>\n",
       "      <th>4453</th>\n",
       "      <td>kipling satchel black vfnaa rolled leather handles o detachable adjustable shoulder strap o kipling gunmetal grey monkey keyring charm o handy rear zip pocket zipped main compartment comprising o zipped pocket o mobile phone pouch o pouch o pen holder o secure key clasp o kipling sleek gunmetal grey logo plate o lightweight lasting and always practical</td>\n",
       "      <td>0</td>\n",
       "    </tr>\n",
       "    <tr>\n",
       "      <th>1575</th>\n",
       "      <td>byronz clothing lion slogan womenos personalized t shirt custom printed tee 100 superior quality soft cotton premium quality dtg printing unique clothing for women small the most unique authentic individualized womenos t shirts our womenos t shirt will provide you with unmatched comfort and impeccable style choose a print from our great collection of original designs and enjoy something really unique and authentic that will take your style to the next level 100 soft cotton quality our womenos t shirts are made out of 100 superior quality cotton this premium fabric feels very soft upon touch and will last you for years the sweatshirts are a regular fit and can also be a great cost effective gifting idea the most advanced printing technology when it comes to printing your design we simply cut no corners each of our tees for women is printed with the latest direct to garment technology that ensures your print features all the vivid details and colors of the design you chose plus the d...</td>\n",
       "      <td>0</td>\n",
       "    </tr>\n",
       "    <tr>\n",
       "      <th>1630</th>\n",
       "      <td>perfect day tin sign retro vintage metal plaque pub bar wall decor estano dia perfecto firmar decoracion de la pared bar pub placa de metal retro vintage estano dia perfecto firmar decoracion de la pared bar pub placa de metal retro vintage en comprar moda placas y senales en linea perfect day tin sign retro vintage metal plaque pub bar wall decordescritpion this perfect day tin sign vintage decorative painting is manufactured with folded edges for safety and stability it is suitable for many places such as bar cafe dining room billiard house hotel club wall decoration creating contracted but fashionable atmosphere an ideal gift for your friends specifications material tin metalsize   type it s such a perfect dayfeatures tin material will not rusting manufactured with folded edges for safety and stabilityholes in each corner for hanging four holes contracted and fashionablefit for many places bar cafe dining room billiard house hotel club wall decorationideal thanksgiving day and c...</td>\n",
       "      <td>0</td>\n",
       "    </tr>\n",
       "    <tr>\n",
       "      <th>2107</th>\n",
       "      <td>for men shop electro stimulate chastity conductive arrsing love sou catnds p40197 silicone peniis plug catheter sounding urethral dilator welcome to arrsing love global store all arrsing love products warranty for 30 days any quality can contact us at any time warm tips 1 clean the product before and after each use 2 please wash it before use and after use 3 keep it dry and save in a secret place away from children item type arrsing love sounds global products global soundworld 202948 arrsing love brand protection global high quality worry free after sales service order our arrsing love products guarantee 30 days any quality can contact us at any time only for personal or lover use suitable size to fit your bag convenient to carry to anywhere</td>\n",
       "      <td>1</td>\n",
       "    </tr>\n",
       "    <tr>\n",
       "      <th>3166</th>\n",
       "      <td>men just married aeur beer drinking groom 1c top clothing large customized printed blue material cotton o neck high quality soft comfortable material feels great printedjust married aeur beer drinking groom 1c on front you can ask custom a t shirt by leaving your own logo photo or text washing instructions do not use bleach dry on low heat turn inside out material cotton o neck high quality soft comfortable material feels great printedjust married aeur beer drinking groom 1c on front you can ask custom a t shirt by leaving your own logo photo or text washing instructions do not use bleach dry on low heat turn inside out athletic shirts large personalized bridesmaids shirts just married aeur beer drinking groom 1c plaid shirts for men blue custom military t shirts screen printers blue customize tee shirts</td>\n",
       "      <td>0</td>\n",
       "    </tr>\n",
       "    <tr>\n",
       "      <th>1275</th>\n",
       "      <td>gaming comfortable mouse pad carnival fair stitched edges non slip rubber base mousepad 9 84a 11 81a  es gaming comfortable mouse pad carnival fair stitched edges non slip rubber base mousepad 9 84a 11 81a  es our mouse pad ideal for gamers graphic designers or anyone who uses a mouse for long sessions high quality cloth surface promotes smooth mouse gliding and enhanced precision steady thick rubberized base keeps mouse pad in place machine washable for easy cleaning size   x 12inches black side whipstitch  es 1 please allow the measurement error of  18inches 2 as different computers display colors differently the color of the actual item may vary slightly from the above images the final color with the actual commodity prevail hope you can understand delivery time  days material add fabric and natural rubber premium soft material for your comfort and mouse control durable stitched edges this mouse pad has delicate edges which can prevent wear ensure prolonged use without deformati...</td>\n",
       "      <td>0</td>\n",
       "    </tr>\n",
       "    <tr>\n",
       "      <th>7390</th>\n",
       "      <td>home supplies g spot vib rat ors woman vib rat ing dil do anal vib rat or b u tt p lug adult woman c l itoris stimulator dil do cute and beautiful appearance portable size for travel and you can put it in your bag to anywhere anytime durable and easy cleaning different stimulation orgasms and experience add more fun bring a strong sense of excitement super powerful but quiet vibration modes</td>\n",
       "      <td>1</td>\n",
       "    </tr>\n",
       "    <tr>\n",
       "      <th>7769</th>\n",
       "      <td>erchee quick dry beach board shorts dominoaeurs pizza logo men summer beach loose short pants swim trunk product information swim trunks or board shorts this pair can handle both these dominoaeurs pizza logo swim shorts are made from a unique brushed 100 poly sateen fabric that s quick drying and resists fading fully lined with a comfortable mesh interior front drawstring ties size size s bust  shoulder  sleeve  length  size m bust  shoulder  sleeve  length  size l bust  shoulder  sleeve  length  size xl bust  shoulder  sleeve  length  size 2xl bust  shoulder  sleeve  length  size 3xl bust  shoulder  sleeve  length  size 4xl r nbust  shoulder  sleeve  length  suitable place various beach sports and activities including beach volleyball soccer swimming surfing running walking water park sliding etc note please make sure the seller you choose is erchee before you buy swimwear fabric polyester fiber polyester 100 high quality and brand new oft light weight breathable and comfortable i...</td>\n",
       "      <td>0</td>\n",
       "    </tr>\n",
       "    <tr>\n",
       "      <th>869</th>\n",
       "      <td>10 mode silent remote massagers wireless vi massager shop rechargeable handheld item type massagers brand name safi commodity quality certification ce distance 10m material charge time 3 hours model number smart wireless control wireless remote control suggestive no type speeds multi different picture no size 5v usb charge unit type piece use time  our sound less 40db package size    egg battery usb rechargeable package weight 0   0   remote control wireless vi massagers waterproof mute rechargeable massager massager features arrival massager cute and mini looks nice touch feeling comes with multi different frequency so you can adjust the amount of pressure you want by using the on on the remote control waterproof and mute design made of safe and non toxic wireless design gives you a lot of freedom stimulating s and it can dance in any part of your body and increase the ual it can bring you the most ate enjoy t specifications color pink material gender egg battery rechargeable batt...</td>\n",
       "      <td>1</td>\n",
       "    </tr>\n",
       "    <tr>\n",
       "      <th>729</th>\n",
       "      <td>lifelike silicone di dl s body relax waterproof massage hand free for women beginners total length  es  sert length  es 16 centimeters diameter  es 4 centimeters perimeter  es 12 centimeters made of high quality pvc 100 waterproof soft non poisonous and odourless safe to use strong suction cup allows to play in the bedroom living room or bath hands free to use maximumly satisfy your enjoyment lifelike look vividly textures flexible body easy to insert and make you happy compatible with muti lube compatible with both water based and silicone based lubricants we will also have a dedicated sealed box unmarked packaging confidential delivery express orders without leaving any sensitive words</td>\n",
       "      <td>1</td>\n",
       "    </tr>\n",
       "    <tr>\n",
       "      <th>7396</th>\n",
       "      <td>bidsu vinyl wall statement family diy decor art stickers home decor wall art spanish quote wall decal un dia sin reir es un dia perdido wall sticker for living room bedroom office important note for customized decals please email us thecolor or information you want this is very important or we cannot process yourorder click contact seller in your order history page right afterpurchase to change order from default wall sticker is aperfect way to decorate your room and express yourself please contactus if you have any questions quick and easy to apply our wall decals are hassle free just peel stick decorate create a space in your home office or really anywhere that showcases your personality with our wall sticker works on any smooth and clean surface can be removed without damaging walls particularly hand made and designed precision cut perfect fit make your wall an impressive outward appearance bring you a colorful new feeling life features removable leaving no trace waterproof dura...</td>\n",
       "      <td>0</td>\n",
       "    </tr>\n",
       "    <tr>\n",
       "      <th>5206</th>\n",
       "      <td>reloj de hombre digital electronico a prueba de agua led reloj casual quartz multifuncion  tiempo luz trasera con diseno simple 50m resistente al agua calendario mes fecha di highlights imported digital electronic movement provide precise and accurate time keeping note week day will automatically calculated according to year month date setting auto week day calculated by year month date setting please make sure year setting is correct dual time support two time zone electronic led dial back light stylish minimalism design military time  alendar month date day alarm mode stop watch timer shock resistant suitable for both outdoor and indoor activities sports such as running climbing ect 5 atm waterproof for swim and shower 164 ft 50 m lifetime waterproof not suitable for long time underwater activities such as diving please do not press any buttons underwater stylish minimalismo diseno negro resistente a los golpes super facil de leer confort a la moda la banda del reloj de goma de s...</td>\n",
       "      <td>0</td>\n",
       "    </tr>\n",
       "    <tr>\n",
       "      <th>5565</th>\n",
       "      <td>ququmary usb rechargeable waterproof rabbit vib ra tors g spot dilo 10v i b rator pleasure vibe home wamd mssager toys for women material medical silicone dual motor design size   38 approx power usb magnetic rechargeable vibrantion 10 frequencies max noise package includes 1 x vibrator 1 x usb cable other accessories demo in the picture is not included</td>\n",
       "      <td>1</td>\n",
       "    </tr>\n",
       "    <tr>\n",
       "      <th>1691</th>\n",
       "      <td>valentine s day gift lesbian strapon dil do vi brat or multi speed medical silicone strap on p enis intimate enjoyment products adult novelty funny toys for couples portable size for travel and you can put it in your bag to anywhere anytime will ship to you with discreet gift box packing no worries for individual privacy give you the feeling of super comfortable is the best choice for you and your lover safe non poisonous and odor free easy to wash super powerful but quiet vibration modes</td>\n",
       "      <td>1</td>\n",
       "    </tr>\n",
       "    <tr>\n",
       "      <th>...</th>\n",
       "      <td>...</td>\n",
       "      <td>...</td>\n",
       "    </tr>\n",
       "    <tr>\n",
       "      <th>6947</th>\n",
       "      <td>la ventana movie poster  es  style a antonio larreta maria del carmen jimenez emilse roldan roberto rovira jorge diez carla peterson la ventana poster  es  style a reproduction poster print cast antonio larreta maria del carmen jimenez emilse roldan roberto rovira jorge diez carla peterson directed by carlos sorin producer jose maria morales la ventana poster mini promo  es  style a the amazon image is how the poster will look if you see imperfections they will also be in the poster mini posters are ideal for customizing small spaces same exact image as a full size poster at half the cost size is provided by the manufacturer and may not be exact packaged with care and shipped in sturdy reinforced packing material prints business gifts birthday christmas indoor bedroom movie poster tv poster movie theater room 1 sheet insert lobby card window card photo adult movie sexy sex porn horror x rated drama comedy thriller musical fantasy sci fi film noir crime animation cartoon western</td>\n",
       "      <td>0</td>\n",
       "    </tr>\n",
       "    <tr>\n",
       "      <th>7157</th>\n",
       "      <td>print photo paper museum quality unframed  37 in print rosa sobre negro by victor cruz our museum quality prints use giclee technology considered the best technique in the world for printing copies of original works in combination with a refined technique of color management our digital printing system produces copies from digital files with high accuracy very wide chromatography and extremely fine tonal transitions the maximum conservation period is guaranteed using the inks and papers that benefit from greater durability assurance the museum quality papers were subjected to aging processes by wilhelm imaging research to prove its resistance to fading by light thermal degradation discoloration by air and moisture as well as durability in wet and dry to conclude that the prints will last even hundreds of years virtualgallery com ships internationally and offers 7 days money back guarantee gliclee print cotton based paper museum quality with a minimum of  r m2 with glossy finish pea...</td>\n",
       "      <td>0</td>\n",
       "    </tr>\n",
       "    <tr>\n",
       "      <th>3598</th>\n",
       "      <td>enrich your life  abs slim waterproof vib rating massager traditional vib rator for women multispeed bullet stim ulator waterproof 100 waterproof it can be used in bathroom special design the unique design brings you luxurious enjoyment help alleviate discomfort during exercise or gardening and give your sore knees perfect cushioning and prevent wrist pain by supporting your wrists in a more neutral position materials superior medical grade abs and silicone safe odourless and skin friendly the item size is suitablet and easy to hold the shape and angle are just what a family wants</td>\n",
       "      <td>1</td>\n",
       "    </tr>\n",
       "    <tr>\n",
       "      <th>1806</th>\n",
       "      <td>pvc double head realistic di ld os toys for couples for her overall length  diameter  pvc material safe and non toxic safe to use made of high quality materials soft and comfortable safe and non toxic safe to use discreet package not any product information about the package nobody knows what you get if you have any questions about this product please contact us directly we will help you right away high quality pvc 100 waterproof safe non toxic tasteless it is easy to use suitable for most men s couples and women s toys with its extra powerful shaft and lifelike design you will feel and love every inch of this lifelike boy this perfect manual massager feels real things with detailed textures and veins private packaging no sensitive text or labels perfect after sales service</td>\n",
       "      <td>1</td>\n",
       "    </tr>\n",
       "    <tr>\n",
       "      <th>5167</th>\n",
       "      <td>remote wireless vib rating egg electric female funfoys supplies powerful vib ration massage stick item type vib rators size controler  egg  ommodity quality certification ce model number wireless remote vib rating egg material medical silicone color rose red frequency 5 kinds of vib ration mode powered by aaa 2 not include loudspeaker mute super mute ensure privacy suitable crowd modern women pursue high quality of life remote distance  eter item type vib rators size controler  egg  ommodity quality certification ce model number wireless remote vib rating egg</td>\n",
       "      <td>1</td>\n",
       "    </tr>\n",
       "    <tr>\n",
       "      <th>3459</th>\n",
       "      <td>lg k10 lg premier lte phone cover dia de muertos black slim guard armor phone case for lg k10 lg premier lte basic cell phone carrying cases</td>\n",
       "      <td>0</td>\n",
       "    </tr>\n",
       "    <tr>\n",
       "      <th>1904</th>\n",
       "      <td>2 si ze hollow strap on massager for reali sti c vi be strapon harness massagers faloi mi tator longer cli tors ri ng i tem type massagers color flesh brown si ze strap on massager brand name leadove package wei ght 0   0   si ze l  s uni t type pi ece belt strap for wai stli ne  odel number hc182011 hc182012 materi al si li cone package si ze    2 si ze hollow strap on massager for reali sti c vi be strapon harness massager massagers faloi mi tator longer product for gay materi al si li cone si ze  l  s belt strap for wai stli ne  shi pment there usually have two normal shi ppi ng method for the transportati on as below 1 you can choose shi p by chi na post i ncludi ng ali express standard shi ppi ng e packet 4px si ngarpore post ect these are cheaper but take a li ttle long ti me 2 fast shi ppi ng ways such as tnt dhl fedex are also avai lable for you just the shi ppi ng cost need to take i nto consi derati on deli very ti me chi na post air mai ll usually  days days but someti m...</td>\n",
       "      <td>1</td>\n",
       "    </tr>\n",
       "    <tr>\n",
       "      <th>4681</th>\n",
       "      <td>bullet cuc8795 600tvl al aire libre del ccd de la camara de infrarrojos dia noche w s</td>\n",
       "      <td>0</td>\n",
       "    </tr>\n",
       "    <tr>\n",
       "      <th>2766</th>\n",
       "      <td>cordless dual motor soft sucking wireless 30 speed quiet pleasure usb recharging waterproof rabbit vibrators body aches pains recovery simple and convenient handheld massager product name cordless dual motor soft sucking wireless 30 speed quiet pleasure usb recharging waterproof rabbit vibrators body aches pains recovery simple and convenient handheld massager with 30 modes masager wand help you relax after a long day workout 30x frequency to maximize your pleasure cordless mini masager usb rechargeable masage wand do therapy to your sore and injured muscles whether at home or while you travel 100 water resistant portable size wand that easy to use for your personal masage enjoy your bath time with it fda approved medical grade material 100 safe skin like feel masager that is easy to keep holding when in use and the pressure bendable neck is awesome for working the masager into your joints and muscles powerful yet quiet masage wand powered by a whisper quiet yet powerful motor it s...</td>\n",
       "      <td>1</td>\n",
       "    </tr>\n",
       "    <tr>\n",
       "      <th>1871</th>\n",
       "      <td>oval emerald palladium engagement ring aeur oval cut lisa ring 6mm gem this simple solitaire engagement ring is gorgeous for everyday wear and features a single oval cut gemstone it is carefully handcrafted in your choice of gems and metals other products</td>\n",
       "      <td>0</td>\n",
       "    </tr>\n",
       "    <tr>\n",
       "      <th>1381</th>\n",
       "      <td>12 frequency trociner silicone plug an ales vibration men and women portable personal body massager beads expander fun toy gift pnmgj waterproof it can be used with lubricants for easy cleaning you can enjoy your bath shower or spa time with it the wildest fun length 24cm colour purple pink weight  rams width  frequency vibration 360 degree deformation waterproof design allows the massager to be used in the shower while being easy to clean ergonomic perfect curve design easy to carry and widely used soft elastic tpe the material is fine and smooth the skin feels soft the flexibility is high and the use is more comfortable cautious packaging is specially tailored and transported for personal use</td>\n",
       "      <td>1</td>\n",
       "    </tr>\n",
       "    <tr>\n",
       "      <th>1961</th>\n",
       "      <td>gwzyomcr multi speed tuner sucking simulator raincoat 30 frequency vibration wand tongue vivacious unwritten tongue simulator stimulator pink material superior silky soft silicone 100 raincoat design easy to clean odourless and skin friendly non toxic 5 length  broad on top  oz light weight color white adjustable speed vibration soft and soothing or high intensity the selection is all yours 30 frequency vibratiion powerful speeds to choose from you ll be sure to find the perfect intensity simply for you soft smooth made from the highest quality medical grade silicone the personal wand massager is super soft and will feel awful on your skin before you even turn it on whisper quiet the wand massager has a powerful yet whisper quiet motor so no motivation to worry about loud disturbing noises secret package packaged privately and environmentally with circumspect shipping 2xaaa batteries requisite not included noiseless wireless multi speed 30 frequency vibration mood</td>\n",
       "      <td>1</td>\n",
       "    </tr>\n",
       "    <tr>\n",
       "      <th>4984</th>\n",
       "      <td>hug dealer slogan womenos personalized t shirt custom printed tee 100 superior quality soft cotton premium quality dtg printing unique clothing for women by byronz clothing xx large the most unique authentic individualized womenos t shirts our womenos t shirt will provide you with unmatched comfort and impeccable style choose a print from our great collection of original designs and enjoy something really unique and authentic that will take your style to the next level 100 soft cotton quality our womenos t shirts are made out of 100 superior quality cotton this premium fabric feels very soft upon touch and will last you for years the sweatshirts are a regular fit and can also be a great cost effective gifting idea the most advanced printing technology when it comes to printing your design we simply cut no corners each of our tees for women is printed with the latest direct to garment technology that ensures your print features all the vivid details and colors of the design you chos...</td>\n",
       "      <td>0</td>\n",
       "    </tr>\n",
       "    <tr>\n",
       "      <th>959</th>\n",
       "      <td>light up passion vibrator magic wand speed adjustable clitoris stim ulator waterproof for women av stick for bedroom adult play say goodbye to embarrassing sex it s time you feel like and perform like superman in the bedroom boost your confidence and finally enjoy sex and pleasure the way it was meant to be enjoyed privacy of the product the product has been strictly packaged and shipped confidentially great for player or beginners soft pleasurable</td>\n",
       "      <td>1</td>\n",
       "    </tr>\n",
       "    <tr>\n",
       "      <th>6782</th>\n",
       "      <td>rbp rbp 91006 s m black small medium flex fit hat rolai rbp automotive racing apparel</td>\n",
       "      <td>0</td>\n",
       "    </tr>\n",
       "    <tr>\n",
       "      <th>3578</th>\n",
       "      <td>tt hoodie nobody knows iaeurm pansexual mens outerwears pullover hoodie size s chest circumference  length  est circumference  length  l chest circumference  length  xl chest circumference  length  xxl chest circumference  length  shipment takes  days and delivery takes  days any questions please feel free to contact us all of our emails will get replied in 24 hours sweater material 100 cotton quality graphic printed without pocket ultimate comfort you can t get enough of comfortable clothing it s like you want to wear them all day everyday so our designed their clothes so comfortable that you ll never want to get changed stay stylish just because your relaxing or even when you re working out doesn t mean you shouldn t look good these designs are sure to be flattering and complimentary as well as comfortable trusted durability whether you re at the gym or on the couch our makes clothing that will withstand any activity or non activity you can trust that your clothes will outlast th...</td>\n",
       "      <td>0</td>\n",
       "    </tr>\n",
       "    <tr>\n",
       "      <th>931</th>\n",
       "      <td>yolana cool pumpkin di  or makeup mirror tapestry pocket mirror this round compact mirror is a must have for stylish touch ups while on the go it is crafted with a sturdy metal outer and a double sided glass mirror interior it s a perfect travel accessories for purse pocket and makeup bag come on to choose one perfectly sized this compact mirror is easy to keep in your bag to carry daily or during travel choice of oval heart square and round shapes dimensions  l x  w double internal mirrors design fits perfectly in the purse travel mirrors makeup mirror pocket mirror dressing mirror engraved compact mirror travel makeup mirror portable makeup mirror professional makeup mirror the makeup mirror compact mirror favors wall makeup mirror compact mirrors wholesale diy makeup mirror custom compact mirrors mirrored makeup vanity small makeup mirror vanity makeup mirror hand held mirror personalised mirrors beauty mirror wholesale compact mirrors vanity mirror makeup cosmetic mirror cheap ...</td>\n",
       "      <td>0</td>\n",
       "    </tr>\n",
       "    <tr>\n",
       "      <th>359</th>\n",
       "      <td>wahooart hand painted reproduction  es  gnacio diaz olano women dressed in black with landscape hand painted reproduction ignacio diaz olano women dressed in black with landscape size  es  useum quality hand painted oil painting on canvas worlwide shipping by dhl your painting will be shipped after you approve the painting photo received by email wahooart com have 10 years experience in the oil painting industry we at wahooart com are so secure in the work that we do that we offer 100 money back guarantee hand painted reproduction ignacio diaz olano 100 museum quality from wahooart hand painted oil painting on canvas dhl worlwide shipping 100 satisfaction guarantee rolled in protective tube frame not included size  es  wahooart 8lj47n painting  oil paintings</td>\n",
       "      <td>0</td>\n",
       "    </tr>\n",
       "    <tr>\n",
       "      <th>5221</th>\n",
       "      <td>home supplies 3 kinds flesh realistic dil dos strong suction cup odorless faloimitator flexible p enis super products adult women cute and beautiful appearance portable size for travel and you can put it in your bag to anywhere anytime durable and easy cleaning different stimulation orgasms and experience add more fun bring a strong sense of excitement super powerful but quiet vibration modes</td>\n",
       "      <td>1</td>\n",
       "    </tr>\n",
       "    <tr>\n",
       "      <th>2373</th>\n",
       "      <td>zzzipme saco con 2 vias con cremallera baby velvet manta wearable con mocha trim meses pastel azul</td>\n",
       "      <td>0</td>\n",
       "    </tr>\n",
       "    <tr>\n",
       "      <th>3397</th>\n",
       "      <td>senoow wearable g pot vi brator wireless remote control cl toras vi brat ng di ldo with 8 vi bration rechargeable masturbation adealt sixtoys for couple women color pink hot pink material silicone abs mode 8 power magnetic usb cable quantity 1 set</td>\n",
       "      <td>1</td>\n",
       "    </tr>\n",
       "    <tr>\n",
       "      <th>2124</th>\n",
       "      <td>you call it pale i call it my elsa look funny slogan womenos v neck t shirt custom printed tee 100 ultra soft cotton premium quality dtg printing unique clothing for women by byronz clothing large unique customizable v necked t shirt for women our womenos t shirt feature a classy v neck collar and will provide you with unmatched comfort and style choose a print from our great collection of original designs and enjoy something really unique and authentic that will take your style to the next level soft cotton all the way through our womenos t shirts are made out of 100 superior quality cotton this premium fabric feels very soft upon touch and will last you for years the tees are a regular eu fit please check the size table for the exact size details if you need any help do not hesitate to contact our amazing customer support we will provide you with all the answers you need state of the art odirect to garmento printing technology when it comes to printing your design we simply cut n...</td>\n",
       "      <td>0</td>\n",
       "    </tr>\n",
       "    <tr>\n",
       "      <th>1310</th>\n",
       "      <td>arbol de encargo personalizada cactus desierto acrilico dia de fiesta de ornamento perfecto personalizable recuerdos o regalo de cumpleanos contactar al anunciante para texto personalizacion o dejar un mensaje de regalo al momento del pago este ornamento de acrilico claro de la navidad con el grabado unilateral viene con la personalizacion libre anada su nombre una fecha sus iniciales su nombre de animales domesticos su nombre de los ninos o cualquier cosa que usted puede pensar en por favor deje un mensaje en la seccion anadir opciones de regalo en la caja con sus instrucciones de grabado puede tener hasta tres lineas de texto nota cuanto mas texto por linea mas pequeno sera el texto cuando solicite texto con varias lineas utilice una barra para indicar una linea separada por ejemplo live laugh love se convertiria en tres lineas de texto le enviaremos personalmente un mensaje confirmando que hemos recibido su solicitud compruebe por favor nuestra tienda de amazon para mas imagenes...</td>\n",
       "      <td>0</td>\n",
       "    </tr>\n",
       "    <tr>\n",
       "      <th>3413</th>\n",
       "      <td>pear black onyx 14k rose gold engagement ring aeur pear solitaire ring a single perfect pear shaped gemstone stars in this classic solitaire style other products</td>\n",
       "      <td>0</td>\n",
       "    </tr>\n",
       "    <tr>\n",
       "      <th>4935</th>\n",
       "      <td>round black onyx 18k white gold engagement ring aeur round cut candace ring 7mm gem simply stunning this ring has a brilliant gem perfectly complemented by a delicate and feminine band with gems half way around the finger handcrafted in your choice of gems and metals other products</td>\n",
       "      <td>0</td>\n",
       "    </tr>\n",
       "    <tr>\n",
       "      <th>1439</th>\n",
       "      <td>powerful vibrating massager powerful vaginal balls vibrator vaginal exercise remote control vibrating eggs adult increases happy couples play whisper quiet using this item together enjoy weekends of great fun no one will ever know easy cleaning clean with warm water or toy cleaner everything is designed for your maximum comfort best gift discreet design and luxury package which can be the best birthday gift for male husband boyfriend partner 100 satisfied guaranteed</td>\n",
       "      <td>1</td>\n",
       "    </tr>\n",
       "    <tr>\n",
       "      <th>581</th>\n",
       "      <td>3pack waterproof case universal cellphone dry bag pouch casehq for apple iphone 8 8plus 7 7plus 6s 6 6s plus se 5s samsung galaxy s8 s8plus s7 s6 note  tc lg sony nokia up to  diagonal universal waterproof case ipx8 waterproof ipx8 certificated fully waterproof the water resistant cases provide perfectly protection for your phone from water snow and dust high quality material the case is made of durable pc and transparent pvc materials super thin  aterial makes touch sensitive not any delay easy to use simply to open and seal the pouch by turning the two switches on the top multiple applicable scenes perfect for protecting your phones id credit cards cash and keys from water damage while swimming rafting boating snowing fishing rowing and skiing luminous beautiful at night great for evening sports use note 1 please test its waterproof character with a piece of paper before using it 2 avoid sharp objects avoid using in water temperature over 40 degrees 3 please use the phone button...</td>\n",
       "      <td>0</td>\n",
       "    </tr>\n",
       "    <tr>\n",
       "      <th>862</th>\n",
       "      <td>acrylic fridge magnet di  zvoluy ski resort france ski resort neonblond 2019 acrylic glass block refrigerator magnet  es with stronger and thicker magnets decorate your fridge or file cabinet with fun memories and family trips with our new neonblond magnets stronger than ever before magnets are made from acrylic g 2019 acrylic block refrigerator magnet  es with new stronger magnets magnets are made from metal and hq prints magnets are made from acrylic glass blocks vivid hd photo printed on the back decorate your fridge or file cabinet with fun memories and family trips with our new neonblond magnets these  large magnets are big enough to see high resolution photographs clearly and make perfect gifts for anyone brighten up your kitchen office or classroom with our large magnets made from acrylic made in atlanta ga neonblond magnets are made in atlanta ga</td>\n",
       "      <td>0</td>\n",
       "    </tr>\n",
       "    <tr>\n",
       "      <th>1714</th>\n",
       "      <td>25mj double head back and body massager 10 motor wireless waterproof powerful multi speed vib ration whisper quiet cordless rechargeable massager size  l  d weight   color rose red flesh charging usb charging working mode 10 frequency modes material medical grade silicone abs maximum noise 100 medical grade silicone made from the safest high quality material it is latexfree phthalatefree and hypoallergenic cleaning is very easy with a little warm water and regular soap double header with dual moter vibration for real feel it can be used either alone or with a partner for enjoyment together flexible massager is soft elastic which can bend in any angle without deformation you can easily charge this portable massager via usb from any device powerful yet quiet massage wand powered by a whisper quiet yet powerful motor it s surprisingly quiet compared to others your privacy is ensured feel free to enjoy your luxury relaxation time</td>\n",
       "      <td>1</td>\n",
       "    </tr>\n",
       "    <tr>\n",
       "      <th>5738</th>\n",
       "      <td>ladaidra whisper quiet 10 function dual mini bellets vi brator g pot stimulate jump egg color blue material abs pucoating waterproof totally water resistant convenient to clean privacy boxed in a confidential package and delivered without any sensitive words quantity 1pc</td>\n",
       "      <td>1</td>\n",
       "    </tr>\n",
       "  </tbody>\n",
       "</table>\n",
       "<p>5486 rows × 2 columns</p>\n",
       "</div>"
      ],
      "text/plain": [
       "                                                                                                                                                                                                                                                                                                                                                                                                                                                                                                                                                                                                                                                                                                                                                                                                                                                                                                                                                                                                                                        texts  \\\n",
       "ID                                                                                                                                                                                                                                                                                                                                                                                                                                                                                                                                                                                                                                                                                                                                                                                                                                                                                                                                                                                                                                              \n",
       "1686                                                                                                                                                                                                                                                                                                                                                                                                                                                                    regalo divertido de la taza del cafe el mejor regalo para los regalos del dia de padre de los papas de su papa mas afortunado de la hijo del mundo absolutely love your order or contact us and we ll make it right your satisfaction is  uaranteed high quality mug makes the perfect gift for everyone printed on only the highest quality mugs the print will never fade no matter how many times it is washed packaged and shipped from the usa dishwasher and microwave safe shipped in a custom made styrofoam package to ensure it arrives perfect guaranteed    \n",
       "4401  neonblond cookie box vi  tkovice ski resort czech republic ski resort christmas metal container description there s no more heartfelt gift this holiday season like the gift of freshly baked christmas cookies give those precious gifts this year in beautiful christmas wreath cookie tin that will be treasured for years to come fill them with home baked or store bought goodies and stand out from the holiday party gifts these christmas cookie tins are certified food safe and just the perfect size to be used long after those yummy goodies are gone beautiful christmas cookie tin for gifts storage more neonblond s stylish stainless steel cookie tins size  with a one of a kind design perfect for gifting homemade cookies and treats during the holidays or at any time of year multiple uses around the home these attractive tins are perfect for food storage craft supplies storage holiday cookie gifts children s activities and much more the nesting design means compact storage when not in use qua...   \n",
       "7340                                                                                                                                                                                                                                                                                               egg massager remote control vi 10 speed handheld massagers item type massagers brand name xc ushio size   aterial plastic commodity quality certification ce model number 4000004366 suggestive no type picture no material2 plastic abs remote control distance 5m unit type set color purple pink package size    package weight 0   0   egg massager remote control vi 10 speed massager massager massager material plastic abs color purple pink battery aaa battery not included massager 10 speeds egg remote control distance 5m note we will remain anonymous and shipping package without item information please feel free to purchase it package size    size   package weight 0   0   color purple pink material2 plastic abs    \n",
       "3228                                                                                                                                                                                                                                                                                                                                                                                                                                                                             massager charging waterproof vi ring massagers handheld item type massagers brand name prettylove commodity quality certification ce powered usb rechargeable material function  function s model number 210152 waterproof 100 waterproof unit type piece suggestive no type function 3 massager package discreet package picture no size as shown noise low noise design color black purple package size    function 2 vi ring package weight 0   0   package size    function 3 massager function  function s function 2 vi ring powered usb rechargeable    \n",
       "2148                                                                                                                                                                                                                                                                                                                                                                                                               art oil painting reproduction size  painting name flight of the turks by diaz de la pena narcissevirgile rtgallery com is a registered australian company so purchases can be made with confidence when art is purchased from rtgallery com an artist is commissioned to paint the artwork to any specified size you are currently looking at a painting called flight of the turks by diaz de la pena narcissevirgile 100 hand painted life time guarantee size 24 by 36 inch arrives with tnt to your door unframed oil paintings fine art oil paintings home decore flight of the turks diaz de la pena narcissevirgile   \n",
       "196   optisex stunning steven vibrating 7 inch cock and balls with suction natural flesh the advanced compact steamer this handheld steamer has more steaming power than you can imagine travel steamer requires only a minute icare menstrual cups and a half to reach the needed temperature and has enough water for up to 10 minutes of non stop steaming iron steamer goes beyond comparison with the conventional ironing the dry steam goes through the fabric and tackles the creases and destroying all bacteria along the way clothes steamer for quicker ironing ironing with this portable garment steamer is a very pleasant activity that now consumes even less time it works equally well with all kinds of clothing and fabric this mini steamer for clothes will change the way you look and the way you feel about your clothing the top notch steamer for traveler s needs whether you are on a holiday or taking a business trip to another part of the world you will look ritzy thanks to this fabric steamer your ...   \n",
       "6383                                                                                                                                                                                                                                                                                                                                                                                                                                                                                                                                                                                                                                                                                                                        i love asuncion colorful hearts women t shirt 100 cotton preshrunk t shirt classic fit shirt size for us s m l xl xxl xxxl men s classic short sleeve t shirt 100 cotton preshrunk t shirt classic fit taped neck and shoulders for durability seamless double needle collar double needle sleeve and bottom hem    \n",
       "6857                                                                                                                                                                                                                                                                                                                                                                                                                                                                                                                                                                                                                                                                                                                                                                                   senoow 10 speed powerful usb rechargeable vi brator gs pot remote control sti mlation mssagerr for women couple color purple blue materials silicone abs waterproof totally water resistant convenient to clean power usb rechargeable quantity 1 set    \n",
       "2182  lqqbstorage celtic decor grommet window curtain head of legend dragon with ethnic african ornate effects on grunge backdrop myth celtic design noise reducing curtain multi multifunction 1 curtains is delicately designed allowing you to decorate your windows with great styles protect your furniture floors and walls from the sun 2 featuring vibrant colored pattern this eye soothing curtain can match interiors of any room 3 soft and durable window curtains has a very soft hand feel and drapery high quality material durable 10 years 4 privacy and relax your family and friends can enjoy movie nights or sports game without worrying about outside light and noise 5 energy efficient innovative triple weave construction insulate your sunny or frozen window give your air conditioner and energy bill a break 6 reduce noise densely woven fabric acts as an additional sound barrier it reduces outside noises and create a quiet and peaceful environment widely use for perfect for window in living roo...   \n",
       "3238  all monsters are human slogan womenos personalized t shirt custom printed tee 100 superior quality soft cotton premium quality dtg printing unique clothing for women by byronz clothing medium the most unique authentic individualized womenos t shirts our womenos t shirt will provide you with unmatched comfort and impeccable style choose a print from our great collection of original designs and enjoy something really unique and authentic that will take your style to the next level 100 soft cotton quality our womenos t shirts are made out of 100 superior quality cotton this premium fabric feels very soft upon touch and will last you for years the sweatshirts are a regular fit and can also be a great cost effective gifting idea the most advanced printing technology when it comes to printing your design we simply cut no corners each of our tees for women is printed with the latest direct to garment technology that ensures your print features all the vivid details and colors of the desig...   \n",
       "5544                                                                                                                                                                                                                                                                                                                                                                                                                                                                                                                                                                                                                                                                          ziblt vibradors funny toy for women 7 speed pulse vibradorss magic stick vibradors massager funny toys for women funny products stimulator pink function s timulation material silicone type wand item type vibradorss p enis weight   size  power usb charging commodity quality certification ce brand name ziblt color pinkpurple ther waterproof mute sofe    \n",
       "2453                                                                                                                                                                                                                                                                                                                                                                                                                                                                                                                                                                                                                                                                                                                                                                                                                                                                                                                                                                              i love la union cool style v neck t shirt novelty t shirts    \n",
       "4572                                                                                                                                                                                                                                                                                                                                                                                                                                                                                                                                                                                                                                                                                                                                                                                                  14k rose gold wedding or anniversary ring with diamond emerald aeur brilliant infinity twist band 3 loops strands of stones intertwine to create this delicate ring it is handcrafted in your choice of gems and metals other products    \n",
       "5375  forskolin for weight loss 100 pure forskolin extract in concentrated liquid an all natural forskolin max strength and fat burner supplement top appetite suppressant for women and men usa made our pure forskolin extract drops help with many things here is a short list of the main benefits helps suppress appetite cravings decrease body fat the building of lean muscle mass increase energy levels in boosting metabolism healthy hormonal balance how do our ultra forskolin extract drops work studies have shown that forskolin extract coleus forskohlii is highly effective at suppressing appetite and burning fat while at the same time promoting lean muscle mass these effects come from forskolin s ability to increase levels of a specific molecule within the body cyclic adenosine monophosphate or camp that plays a role in several cellular processes and is vital to the mobilization and elimination of fat natural appetite suppressant appetite suppressant for weight loss helps in weight loss for ...   \n",
       "2888                                                                                                                                                                                                                                                                                                                                                                                                                       dream catcher stencil template reusable stencil for walls and dicor with multiple sizes available dream catcher stencil on reusable 10 mil mylar laser cut stencil for crafts and diy projects all of our stencils are cut right in the usa and shipped out in 1 business day we use a thick mylar which will last for hundreds of uses when cleaned and stored properly reusable and durable 10 mil mylar stencil dream catcher stencils are washable and easy to use food safe material great for crafts and diy projects sheet has about 75 inch border around the actual dream catcher graphic paper stencils    \n",
       "4666                                                                                                                                                                                                                                                                                                                                                                                                                                                                                                                                                                                                            acrylic mirror wall clock europe quartz watch still life clocks living room decoration diy stickers it is suitable for living room bedroom type wall clocks style brief fashion applicable placement living room model wall stickers stylish and modern clock stickers easy to install not easy to deformation make room more beautiful as living room decoration or in a bedroom enjoy your own happy time with your family    \n",
       "4453                                                                                                                                                                                                                                                                                                                                                                                                                                                                                                                                                                                                                                                                      kipling satchel black vfnaa rolled leather handles o detachable adjustable shoulder strap o kipling gunmetal grey monkey keyring charm o handy rear zip pocket zipped main compartment comprising o zipped pocket o mobile phone pouch o pouch o pen holder o secure key clasp o kipling sleek gunmetal grey logo plate o lightweight lasting and always practical    \n",
       "1575  byronz clothing lion slogan womenos personalized t shirt custom printed tee 100 superior quality soft cotton premium quality dtg printing unique clothing for women small the most unique authentic individualized womenos t shirts our womenos t shirt will provide you with unmatched comfort and impeccable style choose a print from our great collection of original designs and enjoy something really unique and authentic that will take your style to the next level 100 soft cotton quality our womenos t shirts are made out of 100 superior quality cotton this premium fabric feels very soft upon touch and will last you for years the sweatshirts are a regular fit and can also be a great cost effective gifting idea the most advanced printing technology when it comes to printing your design we simply cut no corners each of our tees for women is printed with the latest direct to garment technology that ensures your print features all the vivid details and colors of the design you chose plus the d...   \n",
       "1630  perfect day tin sign retro vintage metal plaque pub bar wall decor estano dia perfecto firmar decoracion de la pared bar pub placa de metal retro vintage estano dia perfecto firmar decoracion de la pared bar pub placa de metal retro vintage en comprar moda placas y senales en linea perfect day tin sign retro vintage metal plaque pub bar wall decordescritpion this perfect day tin sign vintage decorative painting is manufactured with folded edges for safety and stability it is suitable for many places such as bar cafe dining room billiard house hotel club wall decoration creating contracted but fashionable atmosphere an ideal gift for your friends specifications material tin metalsize   type it s such a perfect dayfeatures tin material will not rusting manufactured with folded edges for safety and stabilityholes in each corner for hanging four holes contracted and fashionablefit for many places bar cafe dining room billiard house hotel club wall decorationideal thanksgiving day and c...   \n",
       "2107                                                                                                                                                                                                                                                        for men shop electro stimulate chastity conductive arrsing love sou catnds p40197 silicone peniis plug catheter sounding urethral dilator welcome to arrsing love global store all arrsing love products warranty for 30 days any quality can contact us at any time warm tips 1 clean the product before and after each use 2 please wash it before use and after use 3 keep it dry and save in a secret place away from children item type arrsing love sounds global products global soundworld 202948 arrsing love brand protection global high quality worry free after sales service order our arrsing love products guarantee 30 days any quality can contact us at any time only for personal or lover use suitable size to fit your bag convenient to carry to anywhere    \n",
       "3166                                                                                                                                                                                          men just married aeur beer drinking groom 1c top clothing large customized printed blue material cotton o neck high quality soft comfortable material feels great printedjust married aeur beer drinking groom 1c on front you can ask custom a t shirt by leaving your own logo photo or text washing instructions do not use bleach dry on low heat turn inside out material cotton o neck high quality soft comfortable material feels great printedjust married aeur beer drinking groom 1c on front you can ask custom a t shirt by leaving your own logo photo or text washing instructions do not use bleach dry on low heat turn inside out athletic shirts large personalized bridesmaids shirts just married aeur beer drinking groom 1c plaid shirts for men blue custom military t shirts screen printers blue customize tee shirts   \n",
       "1275  gaming comfortable mouse pad carnival fair stitched edges non slip rubber base mousepad 9 84a 11 81a  es gaming comfortable mouse pad carnival fair stitched edges non slip rubber base mousepad 9 84a 11 81a  es our mouse pad ideal for gamers graphic designers or anyone who uses a mouse for long sessions high quality cloth surface promotes smooth mouse gliding and enhanced precision steady thick rubberized base keeps mouse pad in place machine washable for easy cleaning size   x 12inches black side whipstitch  es 1 please allow the measurement error of  18inches 2 as different computers display colors differently the color of the actual item may vary slightly from the above images the final color with the actual commodity prevail hope you can understand delivery time  days material add fabric and natural rubber premium soft material for your comfort and mouse control durable stitched edges this mouse pad has delicate edges which can prevent wear ensure prolonged use without deformati...   \n",
       "7390                                                                                                                                                                                                                                                                                                                                                                                                                                                                                                                                                                                                                               home supplies g spot vib rat ors woman vib rat ing dil do anal vib rat or b u tt p lug adult woman c l itoris stimulator dil do cute and beautiful appearance portable size for travel and you can put it in your bag to anywhere anytime durable and easy cleaning different stimulation orgasms and experience add more fun bring a strong sense of excitement super powerful but quiet vibration modes    \n",
       "7769  erchee quick dry beach board shorts dominoaeurs pizza logo men summer beach loose short pants swim trunk product information swim trunks or board shorts this pair can handle both these dominoaeurs pizza logo swim shorts are made from a unique brushed 100 poly sateen fabric that s quick drying and resists fading fully lined with a comfortable mesh interior front drawstring ties size size s bust  shoulder  sleeve  length  size m bust  shoulder  sleeve  length  size l bust  shoulder  sleeve  length  size xl bust  shoulder  sleeve  length  size 2xl bust  shoulder  sleeve  length  size 3xl bust  shoulder  sleeve  length  size 4xl r nbust  shoulder  sleeve  length  suitable place various beach sports and activities including beach volleyball soccer swimming surfing running walking water park sliding etc note please make sure the seller you choose is erchee before you buy swimwear fabric polyester fiber polyester 100 high quality and brand new oft light weight breathable and comfortable i...   \n",
       "869   10 mode silent remote massagers wireless vi massager shop rechargeable handheld item type massagers brand name safi commodity quality certification ce distance 10m material charge time 3 hours model number smart wireless control wireless remote control suggestive no type speeds multi different picture no size 5v usb charge unit type piece use time  our sound less 40db package size    egg battery usb rechargeable package weight 0   0   remote control wireless vi massagers waterproof mute rechargeable massager massager features arrival massager cute and mini looks nice touch feeling comes with multi different frequency so you can adjust the amount of pressure you want by using the on on the remote control waterproof and mute design made of safe and non toxic wireless design gives you a lot of freedom stimulating s and it can dance in any part of your body and increase the ual it can bring you the most ate enjoy t specifications color pink material gender egg battery rechargeable batt...   \n",
       "729                                                                                                                                                                                                                                                                                                                 lifelike silicone di dl s body relax waterproof massage hand free for women beginners total length  es  sert length  es 16 centimeters diameter  es 4 centimeters perimeter  es 12 centimeters made of high quality pvc 100 waterproof soft non poisonous and odourless safe to use strong suction cup allows to play in the bedroom living room or bath hands free to use maximumly satisfy your enjoyment lifelike look vividly textures flexible body easy to insert and make you happy compatible with muti lube compatible with both water based and silicone based lubricants we will also have a dedicated sealed box unmarked packaging confidential delivery express orders without leaving any sensitive words    \n",
       "7396  bidsu vinyl wall statement family diy decor art stickers home decor wall art spanish quote wall decal un dia sin reir es un dia perdido wall sticker for living room bedroom office important note for customized decals please email us thecolor or information you want this is very important or we cannot process yourorder click contact seller in your order history page right afterpurchase to change order from default wall sticker is aperfect way to decorate your room and express yourself please contactus if you have any questions quick and easy to apply our wall decals are hassle free just peel stick decorate create a space in your home office or really anywhere that showcases your personality with our wall sticker works on any smooth and clean surface can be removed without damaging walls particularly hand made and designed precision cut perfect fit make your wall an impressive outward appearance bring you a colorful new feeling life features removable leaving no trace waterproof dura...   \n",
       "5206  reloj de hombre digital electronico a prueba de agua led reloj casual quartz multifuncion  tiempo luz trasera con diseno simple 50m resistente al agua calendario mes fecha di highlights imported digital electronic movement provide precise and accurate time keeping note week day will automatically calculated according to year month date setting auto week day calculated by year month date setting please make sure year setting is correct dual time support two time zone electronic led dial back light stylish minimalism design military time  alendar month date day alarm mode stop watch timer shock resistant suitable for both outdoor and indoor activities sports such as running climbing ect 5 atm waterproof for swim and shower 164 ft 50 m lifetime waterproof not suitable for long time underwater activities such as diving please do not press any buttons underwater stylish minimalismo diseno negro resistente a los golpes super facil de leer confort a la moda la banda del reloj de goma de s...   \n",
       "5565                                                                                                                                                                                                                                                                                                                                                                                                                                                                                                                                                                                                                                                                     ququmary usb rechargeable waterproof rabbit vib ra tors g spot dilo 10v i b rator pleasure vibe home wamd mssager toys for women material medical silicone dual motor design size   38 approx power usb magnetic rechargeable vibrantion 10 frequencies max noise package includes 1 x vibrator 1 x usb cable other accessories demo in the picture is not included    \n",
       "1691                                                                                                                                                                                                                                                                                                                                                                                                                                                                                                                           valentine s day gift lesbian strapon dil do vi brat or multi speed medical silicone strap on p enis intimate enjoyment products adult novelty funny toys for couples portable size for travel and you can put it in your bag to anywhere anytime will ship to you with discreet gift box packing no worries for individual privacy give you the feeling of super comfortable is the best choice for you and your lover safe non poisonous and odor free easy to wash super powerful but quiet vibration modes    \n",
       "...                                                                                                                                                                                                                                                                                                                                                                                                                                                                                                                                                                                                                                                                                                                                                                                                                                                                                                                                                                                                                                       ...   \n",
       "6947         la ventana movie poster  es  style a antonio larreta maria del carmen jimenez emilse roldan roberto rovira jorge diez carla peterson la ventana poster  es  style a reproduction poster print cast antonio larreta maria del carmen jimenez emilse roldan roberto rovira jorge diez carla peterson directed by carlos sorin producer jose maria morales la ventana poster mini promo  es  style a the amazon image is how the poster will look if you see imperfections they will also be in the poster mini posters are ideal for customizing small spaces same exact image as a full size poster at half the cost size is provided by the manufacturer and may not be exact packaged with care and shipped in sturdy reinforced packing material prints business gifts birthday christmas indoor bedroom movie poster tv poster movie theater room 1 sheet insert lobby card window card photo adult movie sexy sex porn horror x rated drama comedy thriller musical fantasy sci fi film noir crime animation cartoon western   \n",
       "7157  print photo paper museum quality unframed  37 in print rosa sobre negro by victor cruz our museum quality prints use giclee technology considered the best technique in the world for printing copies of original works in combination with a refined technique of color management our digital printing system produces copies from digital files with high accuracy very wide chromatography and extremely fine tonal transitions the maximum conservation period is guaranteed using the inks and papers that benefit from greater durability assurance the museum quality papers were subjected to aging processes by wilhelm imaging research to prove its resistance to fading by light thermal degradation discoloration by air and moisture as well as durability in wet and dry to conclude that the prints will last even hundreds of years virtualgallery com ships internationally and offers 7 days money back guarantee gliclee print cotton based paper museum quality with a minimum of  r m2 with glossy finish pea...   \n",
       "3598                                                                                                                                                                                                                                                                                                                                                                                                                             enrich your life  abs slim waterproof vib rating massager traditional vib rator for women multispeed bullet stim ulator waterproof 100 waterproof it can be used in bathroom special design the unique design brings you luxurious enjoyment help alleviate discomfort during exercise or gardening and give your sore knees perfect cushioning and prevent wrist pain by supporting your wrists in a more neutral position materials superior medical grade abs and silicone safe odourless and skin friendly the item size is suitablet and easy to hold the shape and angle are just what a family wants    \n",
       "1806                                                                                                                                                                                                                        pvc double head realistic di ld os toys for couples for her overall length  diameter  pvc material safe and non toxic safe to use made of high quality materials soft and comfortable safe and non toxic safe to use discreet package not any product information about the package nobody knows what you get if you have any questions about this product please contact us directly we will help you right away high quality pvc 100 waterproof safe non toxic tasteless it is easy to use suitable for most men s couples and women s toys with its extra powerful shaft and lifelike design you will feel and love every inch of this lifelike boy this perfect manual massager feels real things with detailed textures and veins private packaging no sensitive text or labels perfect after sales service    \n",
       "5167                                                                                                                                                                                                                                                                                                                                                                                                                                                   remote wireless vib rating egg electric female funfoys supplies powerful vib ration massage stick item type vib rators size controler  egg  ommodity quality certification ce model number wireless remote vib rating egg material medical silicone color rose red frequency 5 kinds of vib ration mode powered by aaa 2 not include loudspeaker mute super mute ensure privacy suitable crowd modern women pursue high quality of life remote distance  eter item type vib rators size controler  egg  ommodity quality certification ce model number wireless remote vib rating egg    \n",
       "3459                                                                                                                                                                                                                                                                                                                                                                                                                                                                                                                                                                                                                                                                                                                                                                                                                                                                                            lg k10 lg premier lte phone cover dia de muertos black slim guard armor phone case for lg k10 lg premier lte basic cell phone carrying cases    \n",
       "1904  2 si ze hollow strap on massager for reali sti c vi be strapon harness massagers faloi mi tator longer cli tors ri ng i tem type massagers color flesh brown si ze strap on massager brand name leadove package wei ght 0   0   si ze l  s uni t type pi ece belt strap for wai stli ne  odel number hc182011 hc182012 materi al si li cone package si ze    2 si ze hollow strap on massager for reali sti c vi be strapon harness massager massagers faloi mi tator longer product for gay materi al si li cone si ze  l  s belt strap for wai stli ne  shi pment there usually have two normal shi ppi ng method for the transportati on as below 1 you can choose shi p by chi na post i ncludi ng ali express standard shi ppi ng e packet 4px si ngarpore post ect these are cheaper but take a li ttle long ti me 2 fast shi ppi ng ways such as tnt dhl fedex are also avai lable for you just the shi ppi ng cost need to take i nto consi derati on deli very ti me chi na post air mai ll usually  days days but someti m...   \n",
       "4681                                                                                                                                                                                                                                                                                                                                                                                                                                                                                                                                                                                                                                                                                                                                                                                                                                                                                                                                                   bullet cuc8795 600tvl al aire libre del ccd de la camara de infrarrojos dia noche w s    \n",
       "2766  cordless dual motor soft sucking wireless 30 speed quiet pleasure usb recharging waterproof rabbit vibrators body aches pains recovery simple and convenient handheld massager product name cordless dual motor soft sucking wireless 30 speed quiet pleasure usb recharging waterproof rabbit vibrators body aches pains recovery simple and convenient handheld massager with 30 modes masager wand help you relax after a long day workout 30x frequency to maximize your pleasure cordless mini masager usb rechargeable masage wand do therapy to your sore and injured muscles whether at home or while you travel 100 water resistant portable size wand that easy to use for your personal masage enjoy your bath time with it fda approved medical grade material 100 safe skin like feel masager that is easy to keep holding when in use and the pressure bendable neck is awesome for working the masager into your joints and muscles powerful yet quiet masage wand powered by a whisper quiet yet powerful motor it s...   \n",
       "1871                                                                                                                                                                                                                                                                                                                                                                                                                                                                                                                                                                                                                                                                                                                                                                         oval emerald palladium engagement ring aeur oval cut lisa ring 6mm gem this simple solitaire engagement ring is gorgeous for everyday wear and features a single oval cut gemstone it is carefully handcrafted in your choice of gems and metals other products    \n",
       "1381                                                                                                                                                                                                                                                                                                         12 frequency trociner silicone plug an ales vibration men and women portable personal body massager beads expander fun toy gift pnmgj waterproof it can be used with lubricants for easy cleaning you can enjoy your bath shower or spa time with it the wildest fun length 24cm colour purple pink weight  rams width  frequency vibration 360 degree deformation waterproof design allows the massager to be used in the shower while being easy to clean ergonomic perfect curve design easy to carry and widely used soft elastic tpe the material is fine and smooth the skin feels soft the flexibility is high and the use is more comfortable cautious packaging is specially tailored and transported for personal use    \n",
       "1961                      gwzyomcr multi speed tuner sucking simulator raincoat 30 frequency vibration wand tongue vivacious unwritten tongue simulator stimulator pink material superior silky soft silicone 100 raincoat design easy to clean odourless and skin friendly non toxic 5 length  broad on top  oz light weight color white adjustable speed vibration soft and soothing or high intensity the selection is all yours 30 frequency vibratiion powerful speeds to choose from you ll be sure to find the perfect intensity simply for you soft smooth made from the highest quality medical grade silicone the personal wand massager is super soft and will feel awful on your skin before you even turn it on whisper quiet the wand massager has a powerful yet whisper quiet motor so no motivation to worry about loud disturbing noises secret package packaged privately and environmentally with circumspect shipping 2xaaa batteries requisite not included noiseless wireless multi speed 30 frequency vibration mood    \n",
       "4984  hug dealer slogan womenos personalized t shirt custom printed tee 100 superior quality soft cotton premium quality dtg printing unique clothing for women by byronz clothing xx large the most unique authentic individualized womenos t shirts our womenos t shirt will provide you with unmatched comfort and impeccable style choose a print from our great collection of original designs and enjoy something really unique and authentic that will take your style to the next level 100 soft cotton quality our womenos t shirts are made out of 100 superior quality cotton this premium fabric feels very soft upon touch and will last you for years the sweatshirts are a regular fit and can also be a great cost effective gifting idea the most advanced printing technology when it comes to printing your design we simply cut no corners each of our tees for women is printed with the latest direct to garment technology that ensures your print features all the vivid details and colors of the design you chos...   \n",
       "959                                                                                                                                                                                                                                                                                                                                                                                                                                                                                                                                                                     light up passion vibrator magic wand speed adjustable clitoris stim ulator waterproof for women av stick for bedroom adult play say goodbye to embarrassing sex it s time you feel like and perform like superman in the bedroom boost your confidence and finally enjoy sex and pleasure the way it was meant to be enjoyed privacy of the product the product has been strictly packaged and shipped confidentially great for player or beginners soft pleasurable    \n",
       "6782                                                                                                                                                                                                                                                                                                                                                                                                                                                                                                                                                                                                                                                                                                                                                                                                                                                                                                                                                   rbp rbp 91006 s m black small medium flex fit hat rolai rbp automotive racing apparel    \n",
       "3578  tt hoodie nobody knows iaeurm pansexual mens outerwears pullover hoodie size s chest circumference  length  est circumference  length  l chest circumference  length  xl chest circumference  length  xxl chest circumference  length  shipment takes  days and delivery takes  days any questions please feel free to contact us all of our emails will get replied in 24 hours sweater material 100 cotton quality graphic printed without pocket ultimate comfort you can t get enough of comfortable clothing it s like you want to wear them all day everyday so our designed their clothes so comfortable that you ll never want to get changed stay stylish just because your relaxing or even when you re working out doesn t mean you shouldn t look good these designs are sure to be flattering and complimentary as well as comfortable trusted durability whether you re at the gym or on the couch our makes clothing that will withstand any activity or non activity you can trust that your clothes will outlast th...   \n",
       "931   yolana cool pumpkin di  or makeup mirror tapestry pocket mirror this round compact mirror is a must have for stylish touch ups while on the go it is crafted with a sturdy metal outer and a double sided glass mirror interior it s a perfect travel accessories for purse pocket and makeup bag come on to choose one perfectly sized this compact mirror is easy to keep in your bag to carry daily or during travel choice of oval heart square and round shapes dimensions  l x  w double internal mirrors design fits perfectly in the purse travel mirrors makeup mirror pocket mirror dressing mirror engraved compact mirror travel makeup mirror portable makeup mirror professional makeup mirror the makeup mirror compact mirror favors wall makeup mirror compact mirrors wholesale diy makeup mirror custom compact mirrors mirrored makeup vanity small makeup mirror vanity makeup mirror hand held mirror personalised mirrors beauty mirror wholesale compact mirrors vanity mirror makeup cosmetic mirror cheap ...   \n",
       "359                                                                                                                                                                                                                                         wahooart hand painted reproduction  es  gnacio diaz olano women dressed in black with landscape hand painted reproduction ignacio diaz olano women dressed in black with landscape size  es  useum quality hand painted oil painting on canvas worlwide shipping by dhl your painting will be shipped after you approve the painting photo received by email wahooart com have 10 years experience in the oil painting industry we at wahooart com are so secure in the work that we do that we offer 100 money back guarantee hand painted reproduction ignacio diaz olano 100 museum quality from wahooart hand painted oil painting on canvas dhl worlwide shipping 100 satisfaction guarantee rolled in protective tube frame not included size  es  wahooart 8lj47n painting  oil paintings    \n",
       "5221                                                                                                                                                                                                                                                                                                                                                                                                                                                                                                                                                                                                                             home supplies 3 kinds flesh realistic dil dos strong suction cup odorless faloimitator flexible p enis super products adult women cute and beautiful appearance portable size for travel and you can put it in your bag to anywhere anytime durable and easy cleaning different stimulation orgasms and experience add more fun bring a strong sense of excitement super powerful but quiet vibration modes    \n",
       "2373                                                                                                                                                                                                                                                                                                                                                                                                                                                                                                                                                                                                                                                                                                                                                                                                                                                                                                                                     zzzipme saco con 2 vias con cremallera baby velvet manta wearable con mocha trim meses pastel azul     \n",
       "3397                                                                                                                                                                                                                                                                                                                                                                                                                                                                                                                                                                                                                                                                                                                                                                                 senoow wearable g pot vi brator wireless remote control cl toras vi brat ng di ldo with 8 vi bration rechargeable masturbation adealt sixtoys for couple women color pink hot pink material silicone abs mode 8 power magnetic usb cable quantity 1 set    \n",
       "2124  you call it pale i call it my elsa look funny slogan womenos v neck t shirt custom printed tee 100 ultra soft cotton premium quality dtg printing unique clothing for women by byronz clothing large unique customizable v necked t shirt for women our womenos t shirt feature a classy v neck collar and will provide you with unmatched comfort and style choose a print from our great collection of original designs and enjoy something really unique and authentic that will take your style to the next level soft cotton all the way through our womenos t shirts are made out of 100 superior quality cotton this premium fabric feels very soft upon touch and will last you for years the tees are a regular eu fit please check the size table for the exact size details if you need any help do not hesitate to contact our amazing customer support we will provide you with all the answers you need state of the art odirect to garmento printing technology when it comes to printing your design we simply cut n...   \n",
       "1310  arbol de encargo personalizada cactus desierto acrilico dia de fiesta de ornamento perfecto personalizable recuerdos o regalo de cumpleanos contactar al anunciante para texto personalizacion o dejar un mensaje de regalo al momento del pago este ornamento de acrilico claro de la navidad con el grabado unilateral viene con la personalizacion libre anada su nombre una fecha sus iniciales su nombre de animales domesticos su nombre de los ninos o cualquier cosa que usted puede pensar en por favor deje un mensaje en la seccion anadir opciones de regalo en la caja con sus instrucciones de grabado puede tener hasta tres lineas de texto nota cuanto mas texto por linea mas pequeno sera el texto cuando solicite texto con varias lineas utilice una barra para indicar una linea separada por ejemplo live laugh love se convertiria en tres lineas de texto le enviaremos personalmente un mensaje confirmando que hemos recibido su solicitud compruebe por favor nuestra tienda de amazon para mas imagenes...   \n",
       "3413                                                                                                                                                                                                                                                                                                                                                                                                                                                                                                                                                                                                                                                                                                                                                                                                                                                                       pear black onyx 14k rose gold engagement ring aeur pear solitaire ring a single perfect pear shaped gemstone stars in this classic solitaire style other products    \n",
       "4935                                                                                                                                                                                                                                                                                                                                                                                                                                                                                                                                                                                                                                                                                                                                              round black onyx 18k white gold engagement ring aeur round cut candace ring 7mm gem simply stunning this ring has a brilliant gem perfectly complemented by a delicate and feminine band with gems half way around the finger handcrafted in your choice of gems and metals other products    \n",
       "1439                                                                                                                                                                                                                                                                                                                                                                                                                                                                                                                                                  powerful vibrating massager powerful vaginal balls vibrator vaginal exercise remote control vibrating eggs adult increases happy couples play whisper quiet using this item together enjoy weekends of great fun no one will ever know easy cleaning clean with warm water or toy cleaner everything is designed for your maximum comfort best gift discreet design and luxury package which can be the best birthday gift for male husband boyfriend partner 100 satisfied guaranteed    \n",
       "581    3pack waterproof case universal cellphone dry bag pouch casehq for apple iphone 8 8plus 7 7plus 6s 6 6s plus se 5s samsung galaxy s8 s8plus s7 s6 note  tc lg sony nokia up to  diagonal universal waterproof case ipx8 waterproof ipx8 certificated fully waterproof the water resistant cases provide perfectly protection for your phone from water snow and dust high quality material the case is made of durable pc and transparent pvc materials super thin  aterial makes touch sensitive not any delay easy to use simply to open and seal the pouch by turning the two switches on the top multiple applicable scenes perfect for protecting your phones id credit cards cash and keys from water damage while swimming rafting boating snowing fishing rowing and skiing luminous beautiful at night great for evening sports use note 1 please test its waterproof character with a piece of paper before using it 2 avoid sharp objects avoid using in water temperature over 40 degrees 3 please use the phone button...   \n",
       "862                                                                                                                                       acrylic fridge magnet di  zvoluy ski resort france ski resort neonblond 2019 acrylic glass block refrigerator magnet  es with stronger and thicker magnets decorate your fridge or file cabinet with fun memories and family trips with our new neonblond magnets stronger than ever before magnets are made from acrylic g 2019 acrylic block refrigerator magnet  es with new stronger magnets magnets are made from metal and hq prints magnets are made from acrylic glass blocks vivid hd photo printed on the back decorate your fridge or file cabinet with fun memories and family trips with our new neonblond magnets these  large magnets are big enough to see high resolution photographs clearly and make perfect gifts for anyone brighten up your kitchen office or classroom with our large magnets made from acrylic made in atlanta ga neonblond magnets are made in atlanta ga    \n",
       "1714                                                             25mj double head back and body massager 10 motor wireless waterproof powerful multi speed vib ration whisper quiet cordless rechargeable massager size  l  d weight   color rose red flesh charging usb charging working mode 10 frequency modes material medical grade silicone abs maximum noise 100 medical grade silicone made from the safest high quality material it is latexfree phthalatefree and hypoallergenic cleaning is very easy with a little warm water and regular soap double header with dual moter vibration for real feel it can be used either alone or with a partner for enjoyment together flexible massager is soft elastic which can bend in any angle without deformation you can easily charge this portable massager via usb from any device powerful yet quiet massage wand powered by a whisper quiet yet powerful motor it s surprisingly quiet compared to others your privacy is ensured feel free to enjoy your luxury relaxation time    \n",
       "5738                                                                                                                                                                                                                                                                                                                                                                                                                                                                                                                                                                                                                                                                                                                                                         ladaidra whisper quiet 10 function dual mini bellets vi brator g pot stimulate jump egg color blue material abs pucoating waterproof totally water resistant convenient to clean privacy boxed in a confidential package and delivered without any sensitive words quantity 1pc    \n",
       "\n",
       "      labels  \n",
       "ID            \n",
       "1686       0  \n",
       "4401       0  \n",
       "7340       1  \n",
       "3228       1  \n",
       "2148       0  \n",
       "196        0  \n",
       "6383       0  \n",
       "6857       1  \n",
       "2182       0  \n",
       "3238       0  \n",
       "5544       1  \n",
       "2453       0  \n",
       "4572       0  \n",
       "5375       0  \n",
       "2888       0  \n",
       "4666       0  \n",
       "4453       0  \n",
       "1575       0  \n",
       "1630       0  \n",
       "2107       1  \n",
       "3166       0  \n",
       "1275       0  \n",
       "7390       1  \n",
       "7769       0  \n",
       "869        1  \n",
       "729        1  \n",
       "7396       0  \n",
       "5206       0  \n",
       "5565       1  \n",
       "1691       1  \n",
       "...      ...  \n",
       "6947       0  \n",
       "7157       0  \n",
       "3598       1  \n",
       "1806       1  \n",
       "5167       1  \n",
       "3459       0  \n",
       "1904       1  \n",
       "4681       0  \n",
       "2766       1  \n",
       "1871       0  \n",
       "1381       1  \n",
       "1961       1  \n",
       "4984       0  \n",
       "959        1  \n",
       "6782       0  \n",
       "3578       0  \n",
       "931        0  \n",
       "359        0  \n",
       "5221       1  \n",
       "2373       0  \n",
       "3397       1  \n",
       "2124       0  \n",
       "1310       0  \n",
       "3413       0  \n",
       "4935       0  \n",
       "1439       1  \n",
       "581        0  \n",
       "862        0  \n",
       "1714       1  \n",
       "5738       1  \n",
       "\n",
       "[5486 rows x 2 columns]"
      ]
     },
     "execution_count": 6,
     "metadata": {},
     "output_type": "execute_result"
    }
   ],
   "source": [
    "df"
   ]
  },
  {
   "cell_type": "code",
   "execution_count": 7,
   "metadata": {},
   "outputs": [],
   "source": [
    "txt_train, txt_test, lbl_train, lbl_test = train_test_split(\n",
    "    texts, labels, test_size=0.001, random_state=42)"
   ]
  },
  {
   "cell_type": "code",
   "execution_count": 8,
   "metadata": {},
   "outputs": [
    {
     "name": "stdout",
     "output_type": "stream",
     "text": [
      "using vocab file from vocab.txt\n"
     ]
    }
   ],
   "source": [
    "tokenizer = bk.create_tokenizer_from_hub_module(vocab_file='vocab.txt')\n",
    "max_seq_length = 512"
   ]
  },
  {
   "cell_type": "code",
   "execution_count": 9,
   "metadata": {},
   "outputs": [],
   "source": [
    "# Convert data to InputExample format\n",
    "train_examples = bk.convert_text_to_examples(txt_train, lbl_train.values)\n",
    "test_examples = bk.convert_text_to_examples(txt_test, lbl_test.values)"
   ]
  },
  {
   "cell_type": "code",
   "execution_count": 10,
   "metadata": {},
   "outputs": [
    {
     "data": {
      "application/vnd.jupyter.widget-view+json": {
       "model_id": "2c5ba18ed05646378ed5799490473271",
       "version_major": 2,
       "version_minor": 0
      },
      "text/plain": [
       "HBox(children=(IntProgress(value=0, description='Converting examples to features', max=5480, style=ProgressSty…"
      ]
     },
     "metadata": {},
     "output_type": "display_data"
    },
    {
     "name": "stdout",
     "output_type": "stream",
     "text": [
      "\n"
     ]
    },
    {
     "data": {
      "application/vnd.jupyter.widget-view+json": {
       "model_id": "adbe6cf4d4d24913a03af0f5fb20c745",
       "version_major": 2,
       "version_minor": 0
      },
      "text/plain": [
       "HBox(children=(IntProgress(value=0, description='Converting examples to features', max=6, style=ProgressStyle(…"
      ]
     },
     "metadata": {},
     "output_type": "display_data"
    },
    {
     "name": "stdout",
     "output_type": "stream",
     "text": [
      "\n"
     ]
    }
   ],
   "source": [
    "\n",
    "# Convert to features\n",
    "(train_input_ids, train_input_masks, train_segment_ids, train_labels \n",
    ") = bk.convert_examples_to_features(tokenizer, train_examples, max_seq_length=max_seq_length)\n",
    "(test_input_ids, test_input_masks, test_segment_ids, test_labels\n",
    ") = bk.convert_examples_to_features(tokenizer, test_examples, max_seq_length=max_seq_length)"
   ]
  },
  {
   "cell_type": "code",
   "execution_count": 29,
   "metadata": {},
   "outputs": [
    {
     "data": {
      "text/plain": [
       "{'guid': None,\n",
       " 'text_a': 'round emerald 14k rose gold engagement ring aeur rosemary ring a classic basket setting holds an 7mm round cut center stone flanked by two 5mm round cut accent stones in this sparkling ring carefully handcrafted in your choice of gems and metals other products ',\n",
       " 'text_b': None,\n",
       " 'label': 0}"
      ]
     },
     "execution_count": 29,
     "metadata": {},
     "output_type": "execute_result"
    }
   ],
   "source": [
    "train_examples[0].__dict__"
   ]
  },
  {
   "cell_type": "code",
   "execution_count": 30,
   "metadata": {},
   "outputs": [],
   "source": [
    "def build_model(max_seq_length): \n",
    "    in_id = tf.keras.layers.Input(shape=(max_seq_length,), name=\"input_ids\")\n",
    "    in_mask = tf.keras.layers.Input(shape=(max_seq_length,), name=\"input_masks\")\n",
    "    in_segment = tf.keras.layers.Input(shape=(max_seq_length,), name=\"segment_ids\")\n",
    "    bert_inputs = [in_id, in_mask, in_segment]\n",
    "    \n",
    "    bert_output = bk.BertLayer(n_fine_tune_layers=2, pooling=\"first\")(bert_inputs)\n",
    "    dense = tf.keras.layers.Dense(256, activation='relu')(bert_output)\n",
    "    pred = tf.keras.layers.Dense(1, activation='sigmoid')(dense)\n",
    "    \n",
    "    model = tf.keras.models.Model(inputs=bert_inputs, outputs=pred)\n",
    "    model.compile(loss='binary_crossentropy', optimizer='adam', metrics=['accuracy'])\n",
    "    model.summary()\n",
    "    \n",
    "    return model"
   ]
  },
  {
   "cell_type": "code",
   "execution_count": 31,
   "metadata": {},
   "outputs": [],
   "source": [
    "ACCURACY_THRESHOLD = 0.999\n",
    "LOSS_THRESHOLD = 0.04\n",
    "class myCallback(tf.keras.callbacks.Callback): \n",
    "    def on_batch_end(self, batch, logs): \n",
    "        if(logs.get('acc') > ACCURACY_THRESHOLD and logs.get('loss')<LOSS_THRESHOLD):   \n",
    "          print(\"\\nReached %2.2f%% accuracy, so stopping training!!\" %(ACCURACY_THRESHOLD*100)) \n",
    "          self.model.stop_training = True"
   ]
  },
  {
   "cell_type": "code",
   "execution_count": 32,
   "metadata": {},
   "outputs": [
    {
     "name": "stdout",
     "output_type": "stream",
     "text": [
      "__________________________________________________________________________________________________\n",
      "Layer (type)                    Output Shape         Param #     Connected to                     \n",
      "==================================================================================================\n",
      "input_ids (InputLayer)          (None, 512)          0                                            \n",
      "__________________________________________________________________________________________________\n",
      "input_masks (InputLayer)        (None, 512)          0                                            \n",
      "__________________________________________________________________________________________________\n",
      "segment_ids (InputLayer)        (None, 512)          0                                            \n",
      "__________________________________________________________________________________________________\n",
      "bert_layer_1 (BertLayer)        (None, 768)          110104890   input_ids[0][0]                  \n",
      "                                                                 input_masks[0][0]                \n",
      "                                                                 segment_ids[0][0]                \n",
      "__________________________________________________________________________________________________\n",
      "dense_2 (Dense)                 (None, 256)          196864      bert_layer_1[0][0]               \n",
      "__________________________________________________________________________________________________\n",
      "dense_3 (Dense)                 (None, 1)            257         dense_2[0][0]                    \n",
      "==================================================================================================\n",
      "Total params: 110,302,011\n",
      "Trainable params: 14,963,457\n",
      "Non-trainable params: 95,338,554\n",
      "__________________________________________________________________________________________________\n"
     ]
    }
   ],
   "source": [
    "model = build_model(max_seq_length)"
   ]
  },
  {
   "cell_type": "code",
   "execution_count": 33,
   "metadata": {},
   "outputs": [
    {
     "name": "stdout",
     "output_type": "stream",
     "text": [
      "Train on 5480 samples, validate on 6 samples\n",
      "Epoch 1/4\n",
      "5480/5480 [==============================] - 267s 49ms/sample - loss: 0.3856 - acc: 0.8498 - val_loss: 0.0046 - val_acc: 1.0000\n",
      "Epoch 2/4\n",
      "5480/5480 [==============================] - 264s 48ms/sample - loss: 0.2019 - acc: 0.9447 - val_loss: 0.0037 - val_acc: 1.0000\n",
      "Epoch 3/4\n",
      "5480/5480 [==============================] - 264s 48ms/sample - loss: 0.0689 - acc: 0.9827 - val_loss: 8.1456e-04 - val_acc: 1.0000\n",
      "Epoch 4/4\n",
      "5480/5480 [==============================] - 264s 48ms/sample - loss: 0.0499 - acc: 0.9870 - val_loss: 0.0026 - val_acc: 1.0000\n"
     ]
    },
    {
     "data": {
      "text/plain": [
       "<tensorflow.python.keras.callbacks.History at 0x7fbd0c1d82e8>"
      ]
     },
     "execution_count": 33,
     "metadata": {},
     "output_type": "execute_result"
    }
   ],
   "source": [
    "# Initialize session\n",
    "sess = tf.Session()\n",
    "# Instantiate variables\n",
    "bk.initialize_vars(sess)\n",
    "tb = tf.compat.v1.keras.callbacks.TensorBoard(log_dir='./logs', histogram_freq=0, batch_size=24, write_graph=True, write_grads=False, write_images=False, embeddings_freq=0, embeddings_layer_names=None, embeddings_metadata=None, embeddings_data=None, update_freq='batch')\n",
    "stop999 = myCallback()\n",
    "model.fit(\n",
    "    [train_input_ids, train_input_masks, train_segment_ids], \n",
    "    train_labels,\n",
    "    validation_data=([test_input_ids, test_input_masks, test_segment_ids], test_labels),\n",
    "    callbacks = [ tb], #, stop999\n",
    "    epochs=4,\n",
    "    batch_size=24\n",
    ")"
   ]
  },
  {
   "cell_type": "code",
   "execution_count": 34,
   "metadata": {},
   "outputs": [],
   "source": [
    "model.save('restricted.h5')"
   ]
  },
  {
   "cell_type": "code",
   "execution_count": 35,
   "metadata": {},
   "outputs": [],
   "source": [
    "df_subm= pd.read_csv('../dataset/public_test_features.csv', index_col='ID')\n",
    "df_subm = df_subm.drop(columns=[ '﻿ASIN','parent_asin','Product Group Description'])\n",
    "df_subm = df_subm.fillna(\"\")\n",
    "\n",
    "text_subm = df_subm[cols].apply(' '.join, axis=1)\n"
   ]
  },
  {
   "cell_type": "code",
   "execution_count": 36,
   "metadata": {},
   "outputs": [],
   "source": [
    "texts_subm = cleanup(text_subm)"
   ]
  },
  {
   "cell_type": "code",
   "execution_count": 37,
   "metadata": {},
   "outputs": [],
   "source": [
    "subm_examples = bk.convert_text_to_examples(texts_subm, [0]*len(texts_subm))"
   ]
  },
  {
   "cell_type": "code",
   "execution_count": 38,
   "metadata": {},
   "outputs": [
    {
     "data": {
      "application/vnd.jupyter.widget-view+json": {
       "model_id": "8070a96788154d5d95e0954465460e9e",
       "version_major": 2,
       "version_minor": 0
      },
      "text/plain": [
       "HBox(children=(IntProgress(value=0, description='Converting examples to features', max=2352, style=ProgressSty…"
      ]
     },
     "metadata": {},
     "output_type": "display_data"
    },
    {
     "name": "stdout",
     "output_type": "stream",
     "text": [
      "\n"
     ]
    }
   ],
   "source": [
    "(subm_input_ids, subm_input_masks, subm_segment_ids, subm_labels\n",
    ") = bk.convert_examples_to_features(tokenizer, subm_examples, max_seq_length=max_seq_length)"
   ]
  },
  {
   "cell_type": "code",
   "execution_count": 39,
   "metadata": {},
   "outputs": [
    {
     "data": {
      "text/plain": [
       "'vintage mama e hija amor corazon cadena collar mujeres dia de la madre regalo especificaciones disea o de mama e hija colgante con forma de coraza3n hecho de material de aleacia3n de alta calidad con mano de obra fina regalo perfecto para el daa de la madre u otras ocasiones tipo collar ganero mujeres tema estilo vintage material aleacia3n de ocasiones fiesta daa de la madre regalo vida diaria etc caracterasticas colgante de coraza3n patra3n de letras regalo para madre longitud de la cadena  69 pulgadas  pulgadas aprox notas debido a la diferencia de configuracia3n de la luz y la pantalla el color del artaculo puede ser ligeramente diferente al de las ima genes puede haber una ligera diferencia de dimensia3n debido a las diferentes medidas manuales el paquete incluye 1 x collar item specifics fino o de moda moda tipo de articulo collares nombre de la marca bluelans estilo trendy forma patron carta tipo de cadena cadena de eslabones tamano colgante 5cm compatibilidad totalmente compatible genero mujeres se puede personalizar no material metal tipo de metales aleacion de zinc tipo de collar collares pendientes numero de modelo 31147 fino o de moda moda tipo de articulo collares nombre de la marca bluelans estilo trendy forma patron carta '"
      ]
     },
     "execution_count": 39,
     "metadata": {},
     "output_type": "execute_result"
    }
   ],
   "source": [
    "subm_examples[0].text_a"
   ]
  },
  {
   "cell_type": "code",
   "execution_count": 40,
   "metadata": {},
   "outputs": [],
   "source": [
    "testCount = len(subm_input_ids)\n",
    "def pickMax(arr):\n",
    "  m = max(arr)\n",
    "  return [x for x in arr]\n",
    "\n",
    "threshold = 0.5\n",
    "def tolabel(arr):\n",
    "  # return int(max(arr)>=threshold)\n",
    "  return max(arr)\n",
    "    \n"
   ]
  },
  {
   "cell_type": "code",
   "execution_count": 41,
   "metadata": {},
   "outputs": [],
   "source": [
    "predictions = model.predict([subm_input_ids[0:testCount], \n",
    "                                subm_input_masks[0:testCount], \n",
    "                                subm_segment_ids[0:testCount]])"
   ]
  },
  {
   "cell_type": "code",
   "execution_count": 42,
   "metadata": {},
   "outputs": [],
   "source": [
    "pred = [ tolabel(p) for p in predictions]"
   ]
  },
  {
   "cell_type": "code",
   "execution_count": 43,
   "metadata": {},
   "outputs": [],
   "source": [
    "results = pd.DataFrame({\"text\":texts_subm, \"label\":pred})"
   ]
  },
  {
   "cell_type": "code",
   "execution_count": 44,
   "metadata": {},
   "outputs": [
    {
     "name": "stderr",
     "output_type": "stream",
     "text": [
      "/home/drmegavolt/miniconda3/envs/restricted_products/lib/python3.7/site-packages/ipykernel_launcher.py:1: UserWarning: Boolean Series key will be reindexed to match DataFrame index.\n",
      "  \"\"\"Entry point for launching an IPython kernel.\n"
     ]
    },
    {
     "data": {
      "text/html": [
       "<div>\n",
       "<style scoped>\n",
       "    .dataframe tbody tr th:only-of-type {\n",
       "        vertical-align: middle;\n",
       "    }\n",
       "\n",
       "    .dataframe tbody tr th {\n",
       "        vertical-align: top;\n",
       "    }\n",
       "\n",
       "    .dataframe thead th {\n",
       "        text-align: right;\n",
       "    }\n",
       "</style>\n",
       "<table border=\"1\" class=\"dataframe\">\n",
       "  <thead>\n",
       "    <tr style=\"text-align: right;\">\n",
       "      <th></th>\n",
       "      <th>text</th>\n",
       "      <th>label</th>\n",
       "    </tr>\n",
       "    <tr>\n",
       "      <th>ID</th>\n",
       "      <th></th>\n",
       "      <th></th>\n",
       "    </tr>\n",
       "  </thead>\n",
       "  <tbody>\n",
       "    <tr>\n",
       "      <th>1681</th>\n",
       "      <td>mary kay mk signaturei  waterproof mascara black 33 fl oz featuring smart wiper technology body scrubs mary kay mk skin care products for women skin care for women skin care for men body scrubs for women</td>\n",
       "      <td>0.145279</td>\n",
       "    </tr>\n",
       "    <tr>\n",
       "      <th>3488</th>\n",
       "      <td>happy and healthy usb rechargeable 7 speed silicone suction vibration waterproof dual motor material silica gel size  power supply usb charging waterproof yes color pink note you see a portrait or object in some pictures to help understand the function of the product not the accessories of the product ergonomic design with a heating function a maximum temperature of 40 small size easy to hide can be carried at any time usb rechargeable for worldwide play powerful motor provide 7 frequncy modes and 7 speed to choose freely made of soft and flexiable silicone waterproof and durable remote controlled simple one button design easy operation 100 waterproof cleaning is very easy with a little warm water and regular soap</td>\n",
       "      <td>0.610638</td>\n",
       "    </tr>\n",
       "    <tr>\n",
       "      <th>3811</th>\n",
       "      <td>love duck plush doll toy keychain shake and sound love duck plush doll toy keychain shake and sound love duck cute 6 plush doll toy keychain with suction cup fluffy and adorable squeak sound plush doll can be used for your cellphone keychain or for your bag made of high quality microfiber imported from korea size approx  love duck plush doll toy keychain shake and sound love duck cute 6 plush doll toy keychain with suction cup fluffy and adorable squeak sound plush doll can be used for your cellphone keychain or for your bag size approx  plush animal toys yellow duck plush shake and sound cute baby doll</td>\n",
       "      <td>0.712047</td>\n",
       "    </tr>\n",
       "    <tr>\n",
       "      <th>6464</th>\n",
       "      <td>zrb silicone realistic penis panties wearable dildo for female lesbian transvestite women become a male adult sex toys material medical silicone color please refer to the picture weight   size s m l size table s waist circumference  leg circumference 34cm penis length 12cm penis diameter  waist circumference  leg circumference 34cm penis length 15cm penis diameter 4cm l waist circumference  leg circumference 34cm penis length 18cm penis diameter 4cm package contain panties x 1 if you have any requirements for the product please do contact us in time thanks the scrotum and penis parts of this product are solid waist circumference range  upturned penis has 3 sizes s length 12cm diameter  length 15cm diameter 4cm l length 18cm diameter 4cm food grade silicone healthy and highly stretchable can easy reach  times no fading not easy to tear easy to clean and more durable the outside of the dildo is smooth and sleek with a slight curve at the tip which is intended to reach her g spot or r...</td>\n",
       "      <td>0.129066</td>\n",
       "    </tr>\n",
       "    <tr>\n",
       "      <th>4280</th>\n",
       "      <td>comfortabel damen sling schwarz  grosse 36 comfortabel womens sling shoe black made of leather shoes outer material leather inner material leather lining footwear leather leather lining</td>\n",
       "      <td>0.104215</td>\n",
       "    </tr>\n",
       "    <tr>\n",
       "      <th>2921</th>\n",
       "      <td>premium keto pills 3 pack ketogenic for women men keto capsules keto diet weight loss supplements best keto pills premium keto keto slim keto lean keto bhb</td>\n",
       "      <td>0.148745</td>\n",
       "    </tr>\n",
       "    <tr>\n",
       "      <th>5308</th>\n",
       "      <td>decor direct owc2422a056086st area rug  10 beige green dcorz decor direct measurements  aterial polypropylene weave machine woven shape rectangle pile type cut pile pile height inch</td>\n",
       "      <td>0.597867</td>\n",
       "    </tr>\n",
       "    <tr>\n",
       "      <th>1139</th>\n",
       "      <td>steripod clip on toothbrush protector family pack new exclusive colors 8 steripods steripod toothbrush protector uses thymol a safe ingredient found in many mouthwashes and its patented design helps keep your toothbrush fresh and clean for up to three months steripod fits most standard or electric toothbrushes and helps prevent cross contamination between toothbrushes especially important during flu and travel season the steripod toothbrush family pack includes 8 pods a 1 year supply for two people protects we at bonfit believe that your mouth should be clean the steripod keeps cover cleaner the active vapors help keep your toothbrush clean fresh day after day suits the steripod toothbrush protector works on regular electric toothbrushes everywhere the steripod clip on toothbrush protector is perfect for home travel gym camping against hair dirt sand etc easy you don t need any cables or batteries just clip it on and stay clean very easy to use electric toothbrushes bathroom campin...</td>\n",
       "      <td>0.063856</td>\n",
       "    </tr>\n",
       "    <tr>\n",
       "      <th>3601</th>\n",
       "      <td>18cm silicone realistic penis female lesbian wearable dildo fake penis panties lifelike curved penis waistline  adult sex toys with a straight erect penis increase the pleasure material medical silicone color please refer to the picture weight   penis length 18cm penis diameter 4cm waist circumference  leg circumference 40cm package contain panties x 1 if you have any requirements for the product please do contact us in time thanks the scrotum and penis parts of this product are solid the private parts look realistic waist circumference range  urved penis sizes length 18cm diameter 4cm food grade silicone healthy and highly stretchable can easy reach  times no fading not easy to tear easy to clean and more durable the outside of the dildo is smooth and sleek with a slight curve at the tip which is intended to reach her g spot or rub against his prostate realistic appearance design in skin full enjoyments in vision super thin edge design perfectly matching with your body 100 private...</td>\n",
       "      <td>0.807329</td>\n",
       "    </tr>\n",
       "    <tr>\n",
       "      <th>4992</th>\n",
       "      <td>neonblond bicycle bell airport code fmo munster osnabruck country germany bike bells</td>\n",
       "      <td>0.857935</td>\n",
       "    </tr>\n",
       "  </tbody>\n",
       "</table>\n",
       "</div>"
      ],
      "text/plain": [
       "                                                                                                                                                                                                                                                                                                                                                                                                                                                                                                                                                                                                                                                                                                                                                                                                                                                                                                                                                                                                                                         text  \\\n",
       "ID                                                                                                                                                                                                                                                                                                                                                                                                                                                                                                                                                                                                                                                                                                                                                                                                                                                                                                                                                                                                                                              \n",
       "1681                                                                                                                                                                                                                                                                                                                                                                                                                                                                                                                                                                                                                                                                                                                                                                                                                              mary kay mk signaturei  waterproof mascara black 33 fl oz featuring smart wiper technology body scrubs mary kay mk skin care products for women skin care for women skin care for men body scrubs for women   \n",
       "3488                                                                                                                                                                                                                                                                                     happy and healthy usb rechargeable 7 speed silicone suction vibration waterproof dual motor material silica gel size  power supply usb charging waterproof yes color pink note you see a portrait or object in some pictures to help understand the function of the product not the accessories of the product ergonomic design with a heating function a maximum temperature of 40 small size easy to hide can be carried at any time usb rechargeable for worldwide play powerful motor provide 7 frequncy modes and 7 speed to choose freely made of soft and flexiable silicone waterproof and durable remote controlled simple one button design easy operation 100 waterproof cleaning is very easy with a little warm water and regular soap    \n",
       "3811                                                                                                                                                                                                                                                                                                                                                                                                       love duck plush doll toy keychain shake and sound love duck plush doll toy keychain shake and sound love duck cute 6 plush doll toy keychain with suction cup fluffy and adorable squeak sound plush doll can be used for your cellphone keychain or for your bag made of high quality microfiber imported from korea size approx  love duck plush doll toy keychain shake and sound love duck cute 6 plush doll toy keychain with suction cup fluffy and adorable squeak sound plush doll can be used for your cellphone keychain or for your bag size approx  plush animal toys yellow duck plush shake and sound cute baby doll   \n",
       "6464  zrb silicone realistic penis panties wearable dildo for female lesbian transvestite women become a male adult sex toys material medical silicone color please refer to the picture weight   size s m l size table s waist circumference  leg circumference 34cm penis length 12cm penis diameter  waist circumference  leg circumference 34cm penis length 15cm penis diameter 4cm l waist circumference  leg circumference 34cm penis length 18cm penis diameter 4cm package contain panties x 1 if you have any requirements for the product please do contact us in time thanks the scrotum and penis parts of this product are solid waist circumference range  upturned penis has 3 sizes s length 12cm diameter  length 15cm diameter 4cm l length 18cm diameter 4cm food grade silicone healthy and highly stretchable can easy reach  times no fading not easy to tear easy to clean and more durable the outside of the dildo is smooth and sleek with a slight curve at the tip which is intended to reach her g spot or r...   \n",
       "4280                                                                                                                                                                                                                                                                                                                                                                                                                                                                                                                                                                                                                                                                                                                                                                                                                                                comfortabel damen sling schwarz  grosse 36 comfortabel womens sling shoe black made of leather shoes outer material leather inner material leather lining footwear leather leather lining   \n",
       "2921                                                                                                                                                                                                                                                                                                                                                                                                                                                                                                                                                                                                                                                                                                                                                                                                                                                                             premium keto pills 3 pack ketogenic for women men keto capsules keto diet weight loss supplements best keto pills premium keto keto slim keto lean keto bhb    \n",
       "5308                                                                                                                                                                                                                                                                                                                                                                                                                                                                                                                                                                                                                                                                                                                                                                                                                                                  decor direct owc2422a056086st area rug  10 beige green dcorz decor direct measurements  aterial polypropylene weave machine woven shape rectangle pile type cut pile pile height inch     \n",
       "1139  steripod clip on toothbrush protector family pack new exclusive colors 8 steripods steripod toothbrush protector uses thymol a safe ingredient found in many mouthwashes and its patented design helps keep your toothbrush fresh and clean for up to three months steripod fits most standard or electric toothbrushes and helps prevent cross contamination between toothbrushes especially important during flu and travel season the steripod toothbrush family pack includes 8 pods a 1 year supply for two people protects we at bonfit believe that your mouth should be clean the steripod keeps cover cleaner the active vapors help keep your toothbrush clean fresh day after day suits the steripod toothbrush protector works on regular electric toothbrushes everywhere the steripod clip on toothbrush protector is perfect for home travel gym camping against hair dirt sand etc easy you don t need any cables or batteries just clip it on and stay clean very easy to use electric toothbrushes bathroom campin...   \n",
       "3601  18cm silicone realistic penis female lesbian wearable dildo fake penis panties lifelike curved penis waistline  adult sex toys with a straight erect penis increase the pleasure material medical silicone color please refer to the picture weight   penis length 18cm penis diameter 4cm waist circumference  leg circumference 40cm package contain panties x 1 if you have any requirements for the product please do contact us in time thanks the scrotum and penis parts of this product are solid the private parts look realistic waist circumference range  urved penis sizes length 18cm diameter 4cm food grade silicone healthy and highly stretchable can easy reach  times no fading not easy to tear easy to clean and more durable the outside of the dildo is smooth and sleek with a slight curve at the tip which is intended to reach her g spot or rub against his prostate realistic appearance design in skin full enjoyments in vision super thin edge design perfectly matching with your body 100 private...   \n",
       "4992                                                                                                                                                                                                                                                                                                                                                                                                                                                                                                                                                                                                                                                                                                                                                                                                                                                                                                                                                    neonblond bicycle bell airport code fmo munster osnabruck country germany bike bells    \n",
       "\n",
       "         label  \n",
       "ID              \n",
       "1681  0.145279  \n",
       "3488  0.610638  \n",
       "3811  0.712047  \n",
       "6464  0.129066  \n",
       "4280  0.104215  \n",
       "2921  0.148745  \n",
       "5308  0.597867  \n",
       "1139  0.063856  \n",
       "3601  0.807329  \n",
       "4992  0.857935  "
      ]
     },
     "execution_count": 44,
     "metadata": {},
     "output_type": "execute_result"
    }
   ],
   "source": [
    "results[results['label']>0.05][results['label']<0.9]\n"
   ]
  },
  {
   "cell_type": "code",
   "execution_count": 45,
   "metadata": {},
   "outputs": [],
   "source": [
    "results.to_csv('results.csv', columns=[ 'label'])"
   ]
  },
  {
   "cell_type": "code",
   "execution_count": null,
   "metadata": {},
   "outputs": [],
   "source": []
  },
  {
   "cell_type": "code",
   "execution_count": null,
   "metadata": {},
   "outputs": [],
   "source": []
  },
  {
   "cell_type": "code",
   "execution_count": null,
   "metadata": {},
   "outputs": [],
   "source": []
  }
 ],
 "metadata": {
  "kernelspec": {
   "display_name": "Python 3",
   "language": "python",
   "name": "python3"
  },
  "language_info": {
   "codemirror_mode": {
    "name": "ipython",
    "version": 3
   },
   "file_extension": ".py",
   "mimetype": "text/x-python",
   "name": "python",
   "nbconvert_exporter": "python",
   "pygments_lexer": "ipython3",
   "version": "3.7.3"
  }
 },
 "nbformat": 4,
 "nbformat_minor": 2
}
