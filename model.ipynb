{
 "cells": [
  {
   "cell_type": "code",
   "execution_count": 31,
   "metadata": {},
   "outputs": [],
   "source": [
    "import import_ipynb\n",
    "import tensorflow as tf\n",
    "import pandas as pd\n",
    "import tensorflow_hub as hub\n",
    "import os\n",
    "import re\n",
    "from sklearn.metrics import confusion_matrix, accuracy_score\n",
    "import numpy as np\n",
    "from bert.tokenization import FullTokenizer\n",
    "from tqdm import tqdm_notebook\n",
    "from tensorflow.keras import backend as K\n",
    "from sklearn.model_selection import train_test_split\n",
    "import bertkeras as bk\n",
    "import BERTDictionary as bd\n",
    "import matplotlib.pyplot as plt\n",
    "import seaborn as sns\n",
    "from matplotlib import pyplot\n",
    "from unidecode import unidecode\n",
    "from scipy.stats import norm, boxcox\n",
    "pd.options.display.max_colwidth = 1000\n",
    "sns.set()"
   ]
  },
  {
   "cell_type": "code",
   "execution_count": 32,
   "metadata": {},
   "outputs": [],
   "source": [
    "df= pd.read_csv('../dataset/training.csv', index_col='ID')\n",
    "labels = df['label']\n",
    "drop_columns = [ '﻿ASIN','parent_asin','Product Group Description', \n",
    "                      'product_name', 'brand_code', 'brand_name']\n",
    "df = df.drop(columns=drop_columns)\n",
    "df = df.fillna(\"\")\n",
    "\n",
    "cols = df.columns.tolist()\n",
    "cols.remove('label')\n",
    "text = df[cols].apply(' '.join, axis=1)\n"
   ]
  },
  {
   "cell_type": "code",
   "execution_count": 33,
   "metadata": {},
   "outputs": [],
   "source": [
    "html_re = re.compile('<[^>]*>')\n",
    "garbage_re = re.compile('[^0-9a-z,\\'\\.]+') \n",
    "weight_re = re.compile('[\\d.]+[ ]?(kg+|lbs+|g+|lb+)')\n",
    "garbage_threshhold = 0.0003\n",
    "# check if it actually helps, tests https://regex101.com/r/xwnV5l/1\n",
    "size_re = re.compile('[\\d.]+([ cminch]+)?[ x*]+[\\d.]+([ cminch]+)?([ x*]+[\\d.]+)?([ cminch]+)')\n",
    "\n",
    "def html_cleanup(html):\n",
    "    return re.sub(html_re, ' ', html)\n",
    "def lower_case(txt):\n",
    "    return txt.lower()\n",
    "def split_by_garbage(txt):\n",
    "    return re.sub(garbage_re, ' ', txt)\n",
    "def decode_chars(txt):\n",
    "    garbage_fiteted = re.sub(garbage_re, '', txt)\n",
    "    decoded_txt = unidecode(txt)\n",
    "    return decoded_txt if len(garbage_fiteted)/len(txt) < garbage_threshhold \\\n",
    "        else '[NEL] ' + decoded_txt \n",
    "\n",
    "def cleanup_size(txt):\n",
    "    return re.sub(size_re, ' ', txt).replace('size:', '')\n",
    "\n",
    "def cleanup_weight(txt):\n",
    "    return re.sub(weight_re, ' ', txt)\n",
    "    \n",
    "def cleanup(text):\n",
    "    res = text.apply(html_cleanup).apply(decode_chars).apply(lower_case) \\\n",
    "              .apply(split_by_garbage).apply(cleanup_size) \\\n",
    "              .apply(cleanup_weight)\n",
    "    return res"
   ]
  },
  {
   "cell_type": "code",
   "execution_count": 34,
   "metadata": {},
   "outputs": [],
   "source": [
    "texts = cleanup(text)"
   ]
  },
  {
   "cell_type": "code",
   "execution_count": 35,
   "metadata": {},
   "outputs": [],
   "source": [
    "df = pd.DataFrame( {\"texts\" :texts, \"labels\": labels} )"
   ]
  },
  {
   "cell_type": "code",
   "execution_count": 36,
   "metadata": {},
   "outputs": [],
   "source": [
    "# there is error in training dataset\n",
    "df.loc[196,'labels'] =1\n"
   ]
  },
  {
   "cell_type": "code",
   "execution_count": 37,
   "metadata": {},
   "outputs": [],
   "source": [
    "txt_train, txt_test, lbl_train, lbl_test = train_test_split(\n",
    "    texts, labels, test_size=0.2, random_state=42)"
   ]
  },
  {
   "cell_type": "code",
   "execution_count": 38,
   "metadata": {},
   "outputs": [
    {
     "data": {
      "text/plain": [
       "ID\n",
       "398     0\n",
       "5823    0\n",
       "5943    0\n",
       "3822    1\n",
       "6054    0\n",
       "Name: label, dtype: int64"
      ]
     },
     "execution_count": 38,
     "metadata": {},
     "output_type": "execute_result"
    }
   ],
   "source": [
    "lbl_train.tail()"
   ]
  },
  {
   "cell_type": "code",
   "execution_count": 39,
   "metadata": {},
   "outputs": [
    {
     "name": "stdout",
     "output_type": "stream",
     "text": [
      "['[NEL]' 'porn' 'nubby' 'lesbian']\n",
      "['gay' 'transvestite' 'transgender' 'lube']\n",
      "['lubricant' 'sex' 'intercourse' 'fuck']\n",
      "['vibrate' 'suction' 'lick' 'suck']\n",
      "['gag' 'dildo' 'vibrator' 'condom']\n",
      "['anal' 'plug' 'snake']\n",
      "['trembler' 'pulsator' 'lockaid']\n",
      "['strap' 'buzzer' 'rabbit']\n",
      "['egg' 'penetrator' 'dual']\n",
      "['kegel' 'ben' 'wa']\n",
      "['stimulator' 'masturbator' 'lasso']\n",
      "['bondage' 'cuff' 'pasties']\n",
      "['strapon' 'didlo' 'dido']\n",
      "['dilo' 'dlo' 'device']\n",
      "['gadget' 'pleasure' 'intimate']\n",
      "['last' 'aroused' 'climax']\n",
      "['enjoyment' 'orgasm' 'bdsm']\n",
      "['sadism' 'submission' 'masochism']\n",
      "['realistic' 'stimulate' 'squirt']\n",
      "['dick' 'cock' 'penis']\n",
      "['spot' 'butt' 'ass']\n",
      "['nipple' 'clitor' 'pelvic']\n",
      "['vagina' 'pussy' 'anus']\n",
      "['prostate' 'rectum' 'ventral']\n",
      "['scrotum' 'tongue' 'perineum']\n"
     ]
    }
   ],
   "source": [
    "k=10000\n",
    "arr = np.array_split(bd.adult_toys_vocab, 25)\n",
    "for a in arr :\n",
    "    print(a)\n",
    "    w = ' '.join(a)\n",
    "    txt_train = txt_train.append(pd.Series([w], index=[k]))\n",
    "    lbl_train = lbl_train.append(pd.Series([1], index=[k]))\n",
    "    k = k+1\n"
   ]
  },
  {
   "cell_type": "code",
   "execution_count": 40,
   "metadata": {},
   "outputs": [
    {
     "name": "stdout",
     "output_type": "stream",
     "text": [
      "using vocab file from vocab.txt\n"
     ]
    }
   ],
   "source": [
    "tokenizer = bk.create_tokenizer_from_hub_module(vocab_file='vocab.txt')\n",
    "max_seq_length = 512"
   ]
  },
  {
   "cell_type": "code",
   "execution_count": 41,
   "metadata": {},
   "outputs": [],
   "source": [
    "# Convert data to InputExample format\n",
    "train_examples = bk.convert_text_to_examples(txt_train, lbl_train.values)\n",
    "test_examples = bk.convert_text_to_examples(txt_test, lbl_test.values)"
   ]
  },
  {
   "cell_type": "code",
   "execution_count": 42,
   "metadata": {},
   "outputs": [
    {
     "data": {
      "application/vnd.jupyter.widget-view+json": {
       "model_id": "2624c2c99c6a4b4a8d4cbe44416a32d0",
       "version_major": 2,
       "version_minor": 0
      },
      "text/plain": [
       "HBox(children=(IntProgress(value=0, description='Converting examples to features', max=4413, style=ProgressSty…"
      ]
     },
     "metadata": {},
     "output_type": "display_data"
    },
    {
     "name": "stdout",
     "output_type": "stream",
     "text": [
      "\n"
     ]
    },
    {
     "data": {
      "application/vnd.jupyter.widget-view+json": {
       "model_id": "57612eab7cd741f087febe8370f05a9f",
       "version_major": 2,
       "version_minor": 0
      },
      "text/plain": [
       "HBox(children=(IntProgress(value=0, description='Converting examples to features', max=1098, style=ProgressSty…"
      ]
     },
     "metadata": {},
     "output_type": "display_data"
    },
    {
     "name": "stdout",
     "output_type": "stream",
     "text": [
      "\n"
     ]
    }
   ],
   "source": [
    "\n",
    "# Convert to features\n",
    "(train_input_ids, train_input_masks, train_segment_ids, train_labels \n",
    ") = bk.convert_examples_to_features(tokenizer, train_examples, max_seq_length=max_seq_length)\n",
    "(test_input_ids, test_input_masks, test_segment_ids, test_labels\n",
    ") = bk.convert_examples_to_features(tokenizer, test_examples, max_seq_length=max_seq_length)"
   ]
  },
  {
   "cell_type": "code",
   "execution_count": 43,
   "metadata": {},
   "outputs": [
    {
     "data": {
      "text/plain": [
       "{'guid': None,\n",
       " 'text_a': ' nel acqua di parma blu mediterraneo arancia di capri perfume for women 2.5 oz eau de toilette spray a free vial 2.5 oz eau de toilette spray ',\n",
       " 'text_b': None,\n",
       " 'label': 0}"
      ]
     },
     "execution_count": 43,
     "metadata": {},
     "output_type": "execute_result"
    }
   ],
   "source": [
    "train_examples[0].__dict__"
   ]
  },
  {
   "cell_type": "code",
   "execution_count": 44,
   "metadata": {},
   "outputs": [],
   "source": [
    "def build_model(max_seq_length): \n",
    "    in_id = tf.keras.layers.Input(shape=(max_seq_length,), name=\"input_ids\")\n",
    "    in_mask = tf.keras.layers.Input(shape=(max_seq_length,), name=\"input_masks\")\n",
    "    in_segment = tf.keras.layers.Input(shape=(max_seq_length,), name=\"segment_ids\")\n",
    "    bert_inputs = [in_id, in_mask, in_segment]\n",
    "    \n",
    "    bert_output = bk.BertLayer(n_fine_tune_layers=2, pooling=\"mean\")(bert_inputs)\n",
    "    dense = tf.keras.layers.Dense(256, activation='relu')(bert_output)\n",
    "    pred = tf.keras.layers.Dense(1, activation='sigmoid')(dense)\n",
    "    \n",
    "    model = tf.keras.models.Model(inputs=bert_inputs, outputs=pred)\n",
    "    model.compile(loss='binary_crossentropy', optimizer='adam', metrics=['accuracy'])\n",
    "    model.summary()\n",
    "    \n",
    "    return model"
   ]
  },
  {
   "cell_type": "code",
   "execution_count": 45,
   "metadata": {},
   "outputs": [],
   "source": [
    "ACCURACY_THRESHOLD = 0.99\n",
    "LOSS_THRESHOLD = 0.02\n",
    "class myCallback(tf.keras.callbacks.Callback): \n",
    "    def on_batch_end(self, batch, logs): \n",
    "        if(logs.get('acc') > ACCURACY_THRESHOLD and logs.get('loss')<LOSS_THRESHOLD):   \n",
    "          print(\"\\nReached %2.2f%% accuracy, so stopping training!!\" %(ACCURACY_THRESHOLD*100)) \n",
    "          self.model.stop_training = True"
   ]
  },
  {
   "cell_type": "code",
   "execution_count": 46,
   "metadata": {},
   "outputs": [
    {
     "name": "stdout",
     "output_type": "stream",
     "text": [
      "__________________________________________________________________________________________________\n",
      "Layer (type)                    Output Shape         Param #     Connected to                     \n",
      "==================================================================================================\n",
      "input_ids (InputLayer)          (None, 512)          0                                            \n",
      "__________________________________________________________________________________________________\n",
      "input_masks (InputLayer)        (None, 512)          0                                            \n",
      "__________________________________________________________________________________________________\n",
      "segment_ids (InputLayer)        (None, 512)          0                                            \n",
      "__________________________________________________________________________________________________\n",
      "bert_layer_1 (BertLayer)        (None, 768)          110104890   input_ids[0][0]                  \n",
      "                                                                 input_masks[0][0]                \n",
      "                                                                 segment_ids[0][0]                \n",
      "__________________________________________________________________________________________________\n",
      "dense_2 (Dense)                 (None, 256)          196864      bert_layer_1[0][0]               \n",
      "__________________________________________________________________________________________________\n",
      "dense_3 (Dense)                 (None, 1)            257         dense_2[0][0]                    \n",
      "==================================================================================================\n",
      "Total params: 110,302,011\n",
      "Trainable params: 14,372,865\n",
      "Non-trainable params: 95,929,146\n",
      "__________________________________________________________________________________________________\n"
     ]
    }
   ],
   "source": [
    "model = build_model(max_seq_length)"
   ]
  },
  {
   "cell_type": "code",
   "execution_count": 47,
   "metadata": {},
   "outputs": [
    {
     "name": "stdout",
     "output_type": "stream",
     "text": [
      "Train on 4413 samples, validate on 1098 samples\n",
      "Epoch 1/5\n",
      "4413/4413 [==============================] - 260s 59ms/sample - loss: 0.1595 - acc: 0.9637 - val_loss: 0.1954 - val_acc: 0.9672\n",
      "Epoch 2/5\n",
      "4413/4413 [==============================] - 256s 58ms/sample - loss: 0.1069 - acc: 0.9746 - val_loss: 0.0682 - val_acc: 0.9800\n",
      "Epoch 3/5\n",
      "4413/4413 [==============================] - 256s 58ms/sample - loss: 0.0473 - acc: 0.9880 - val_loss: 0.0469 - val_acc: 0.9872\n",
      "Epoch 4/5\n",
      "  24/4413 [..............................] - ETA: 3:34 - loss: 0.0392 - acc: 1.0000\n",
      "Reached 99.00% accuracy, so stopping training!!\n",
      "  48/4413 [..............................] - ETA: 3:32 - loss: 0.0203 - acc: 1.0000"
     ]
    },
    {
     "data": {
      "text/plain": [
       "<tensorflow.python.keras.callbacks.History at 0x7fc892ecb7f0>"
      ]
     },
     "execution_count": 47,
     "metadata": {},
     "output_type": "execute_result"
    }
   ],
   "source": [
    "# Initialize session\n",
    "sess = tf.Session()\n",
    "# Instantiate variables\n",
    "bk.initialize_vars(sess)\n",
    "tb = tf.compat.v1.keras.callbacks.TensorBoard(log_dir='./logs', histogram_freq=0, batch_size=24, write_graph=True, write_grads=False, write_images=False, embeddings_freq=0, embeddings_layer_names=None, embeddings_metadata=None, embeddings_data=None, update_freq='batch')\n",
    "stop98 = myCallback()\n",
    "model.fit(\n",
    "    [train_input_ids, train_input_masks, train_segment_ids], \n",
    "    train_labels,\n",
    "    validation_data=([test_input_ids, test_input_masks, test_segment_ids], test_labels),\n",
    "    callbacks = [ tb, stop98], #, \n",
    "    epochs=5,\n",
    "    batch_size=24\n",
    ")"
   ]
  },
  {
   "cell_type": "code",
   "execution_count": 48,
   "metadata": {},
   "outputs": [],
   "source": [
    "model.save('restricted.h5')"
   ]
  },
  {
   "cell_type": "code",
   "execution_count": 49,
   "metadata": {},
   "outputs": [],
   "source": [
    "df_subm= pd.read_csv('../dataset/public_test_features.csv', index_col='ID')\n",
    "df_subm = df_subm.drop(columns=drop_columns)\n",
    "df_subm = df_subm.fillna(\"\")\n",
    "\n",
    "text_subm = df_subm[cols].apply(' '.join, axis=1)\n"
   ]
  },
  {
   "cell_type": "code",
   "execution_count": 50,
   "metadata": {},
   "outputs": [],
   "source": [
    "texts_subm = cleanup(text_subm)"
   ]
  },
  {
   "cell_type": "code",
   "execution_count": 51,
   "metadata": {},
   "outputs": [],
   "source": [
    "subm_examples = bk.convert_text_to_examples(texts_subm, [0]*len(texts_subm))"
   ]
  },
  {
   "cell_type": "code",
   "execution_count": 52,
   "metadata": {},
   "outputs": [
    {
     "data": {
      "application/vnd.jupyter.widget-view+json": {
       "model_id": "762db437becf4e628192b094c844c0dc",
       "version_major": 2,
       "version_minor": 0
      },
      "text/plain": [
       "HBox(children=(IntProgress(value=0, description='Converting examples to features', max=2352, style=ProgressSty…"
      ]
     },
     "metadata": {},
     "output_type": "display_data"
    },
    {
     "name": "stdout",
     "output_type": "stream",
     "text": [
      "\n"
     ]
    }
   ],
   "source": [
    "(subm_input_ids, subm_input_masks, subm_segment_ids, subm_labels\n",
    ") = bk.convert_examples_to_features(tokenizer, subm_examples, max_seq_length=max_seq_length)"
   ]
  },
  {
   "cell_type": "code",
   "execution_count": 53,
   "metadata": {},
   "outputs": [
    {
     "data": {
      "text/plain": [
       "' nel vintage mama e hija amor corazon cadena collar mujeres dia de la madre regalo especificaciones disea o de mama e hija, colgante con forma de coraza3n. hecho de material de aleacia3n de alta calidad con mano de obra fina. regalo perfecto para el daa de la madre u otras ocasiones. tipo collar ganero mujeres tema estilo vintage material aleacia3n de ocasiones fiesta, daa de la madre, regalo, vida diaria, etc. caracterasticas colgante de coraza3n, patra3n de letras, regalo para madre longitud de la cadena  19,69 pulgadas 1,97 pulgadas aprox. notas debido a la diferencia de configuracia3n de la luz y la pantalla, el color del artaculo puede ser ligeramente diferente al de las ima genes. puede haber una ligera diferencia de dimensia3n debido a las diferentes medidas manuales. el paquete incluye 1 x collar item specifics fino o de moda moda tipo de articulo collares nombre de la marca bluelans estilo trendy forma patron carta tipo de cadena cadena de eslabones tamano colgante 5cm compatibilidad totalmente compatible genero mujeres se puede personalizar no material metal tipo de metales aleacion de zinc tipo de collar collares pendientes numero de modelo 31147 fino o de moda moda tipo de articulo collares nombre de la marca bluelans estilo trendy forma patron carta '"
      ]
     },
     "execution_count": 53,
     "metadata": {},
     "output_type": "execute_result"
    }
   ],
   "source": [
    "subm_examples[0].text_a"
   ]
  },
  {
   "cell_type": "code",
   "execution_count": 54,
   "metadata": {},
   "outputs": [],
   "source": [
    "testCount = len(subm_input_ids)\n",
    "def pickMax(arr):\n",
    "  m = max(arr)\n",
    "  return [x for x in arr]\n",
    "\n",
    "threshold = 0.4\n",
    "def tolabel(arr):\n",
    "  # return int(max(arr)>=threshold)\n",
    "  return max(arr)\n",
    "    \n"
   ]
  },
  {
   "cell_type": "code",
   "execution_count": 55,
   "metadata": {},
   "outputs": [],
   "source": [
    "predictions = model.predict([subm_input_ids[0:testCount], \n",
    "                                subm_input_masks[0:testCount], \n",
    "                                subm_segment_ids[0:testCount]])"
   ]
  },
  {
   "cell_type": "code",
   "execution_count": 56,
   "metadata": {},
   "outputs": [],
   "source": [
    "pred = [ tolabel(p) for p in predictions]"
   ]
  },
  {
   "cell_type": "code",
   "execution_count": 57,
   "metadata": {},
   "outputs": [],
   "source": [
    "results = pd.DataFrame({\"text\":texts_subm, \"label\":pred})"
   ]
  },
  {
   "cell_type": "code",
   "execution_count": 58,
   "metadata": {},
   "outputs": [
    {
     "name": "stderr",
     "output_type": "stream",
     "text": [
      "/home/drmegavolt/miniconda3/envs/restricted_products/lib/python3.7/site-packages/ipykernel_launcher.py:1: UserWarning: Boolean Series key will be reindexed to match DataFrame index.\n",
      "  \"\"\"Entry point for launching an IPython kernel.\n"
     ]
    },
    {
     "data": {
      "text/html": [
       "<div>\n",
       "<style scoped>\n",
       "    .dataframe tbody tr th:only-of-type {\n",
       "        vertical-align: middle;\n",
       "    }\n",
       "\n",
       "    .dataframe tbody tr th {\n",
       "        vertical-align: top;\n",
       "    }\n",
       "\n",
       "    .dataframe thead th {\n",
       "        text-align: right;\n",
       "    }\n",
       "</style>\n",
       "<table border=\"1\" class=\"dataframe\">\n",
       "  <thead>\n",
       "    <tr style=\"text-align: right;\">\n",
       "      <th></th>\n",
       "      <th>text</th>\n",
       "      <th>label</th>\n",
       "    </tr>\n",
       "    <tr>\n",
       "      <th>ID</th>\n",
       "      <th></th>\n",
       "      <th></th>\n",
       "    </tr>\n",
       "  </thead>\n",
       "  <tbody>\n",
       "    <tr>\n",
       "      <th>6842</th>\n",
       "      <td>nel constructan tm 3d  size silicone male masturbator love doll realistic women breast with vigina features material medical silicone color flesh size  , design. full silicone sex doll,sex torso vagina breast sex,3d dual passage. realistic touching feeling many sex gesture could be done, you will enjoy you sex package content 1 x sex toys love doll material medical silicone color flesh size  , design. full silicone sex doll,sex torso vagina breast sex,3d dual passage. cradle sheets high quality doll band,china doll voice suppliers,cheap doll collection for sale,sex products,nail tools</td>\n",
       "      <td>0.160410</td>\n",
       "    </tr>\n",
       "    <tr>\n",
       "      <th>3039</th>\n",
       "      <td>nel hismith premium sex machine, fucking machine with remote control, 8 silicone dildo including hismith focus on manufacturing sex machine, we produce machine series and matched accessories.we choose the best long life and mute motor as the core of the machine,ensure the power of our products,30 n cm driving force,never stop when encounter resistance.our power supply can support wide voltage 110 250v ,power switch with precise dial. as your wish,the thrust depth can be changed through change the postion of the torsion bar.besides,you can change the masburation postion,by change the postion of support connector.the body of the machine are aluminium alloy material,with high density anodizing technology.every component is produced by precision high precision cnc,sla laser series machine,and mirageblack painted surfaces,bright in color and durable,surfaces look fresh as a new one after long time use.solid stainless chromium plated iron rod support strength is over  .working life  yea...</td>\n",
       "      <td>0.411209</td>\n",
       "    </tr>\n",
       "    <tr>\n",
       "      <th>4607</th>\n",
       "      <td>nel dadou blue pens double ended did lo amal male female dong pens dadou functions promotes healthy ro tate function head designed for ultimate pleasure and ro tate st mul ti n made with the highest quality material available easy to clean and store super stretchy and silky smooth to the touch ergonomically designed to perfectly rest on the ro tate make all of your aial fantasies come true tips 1. please allow slight measurement deviation for the data lean before and after each use recommended to use with lubricants ompatible with all lubricant types wash with toy cleaner or warm water. do not shy away from this great aial as it can be used by both men and women. the silky smooth texture helps glide the bitt plug right in. featur ing a re listic tip, you are guaranteed to hit all the right pleasure points. aial plug has nice size and comfortable shape, made of medical silicone, safty, nontoxic and odorless. apply to both beginners and advanced users for explosive g p r gasm and ai...</td>\n",
       "      <td>0.522809</td>\n",
       "    </tr>\n",
       "    <tr>\n",
       "      <th>4246</th>\n",
       "      <td>nel k anger vocc wire c o i l 1.5ohm 5pcs 5 x kanger vocc coil 1.5ohm</td>\n",
       "      <td>0.191715</td>\n",
       "    </tr>\n",
       "    <tr>\n",
       "      <th>6006</th>\n",
       "      <td>nel vaginalnel vibrator silicone ben wa balls kegel weights vaginalne tighten exercise trainer dumbbell bead toy bladder control devices for women why ladies need to do kegel exercise 1.heavy kegel balls exercise can contract the vaginalne and make female be more confident. 2.after childbirth,pelvic floor muscle exercises could strengthen the muscles that support the bladder, uterus and large intestine, avoid the leakage of urine. specification material medical silicone size  weight   color purple , rosy ,black waterproof yes tips for clean store please clean it with warm and wet towel before and after you use it. dry it with your towel for convenient. it should be placed and stored at clean places and please avoid sunlight directly . safety concern do not use boiled water to clean it and rinse it under the tap directly . it is recommended that you use it with water based lubricant, instead of silicone based lubricant. tips for pregnant women please keep in mind that you must cons...</td>\n",
       "      <td>0.916461</td>\n",
       "    </tr>\n",
       "    <tr>\n",
       "      <th>1225</th>\n",
       "      <td>nel miquelrius school agenda  bound dia pagina floral</td>\n",
       "      <td>0.234443</td>\n",
       "    </tr>\n",
       "    <tr>\n",
       "      <th>6634</th>\n",
       "      <td>nel koungyun soft di dlos for beginner, snake with strong suction cup, lifilike snake for hands free material pvc strong suction cup total lenght app waterproof package includes 1 x pc</td>\n",
       "      <td>0.057268</td>\n",
       "    </tr>\n",
       "    <tr>\n",
       "      <th>4967</th>\n",
       "      <td>nel one god women's dx153 ddegnx2c6 ddeg d, dx153 dud'd2dud'nx152 fan art t shirt m</td>\n",
       "      <td>0.554682</td>\n",
       "    </tr>\n",
       "    <tr>\n",
       "      <th>5918</th>\n",
       "      <td>nel gotrtl1 metal dildo cock dong chastity cage xage stainless steel lock locking underwear ring ball metal belt device master accessories product information ring inner diameter 40mm, 45mm, 50mm material stainless steel dear friends we have a very good quality for our product, please buy our product with confidence if you want to know any more features about this item, please kindly let us know by leaving messages or sending emails, and we will write you back immediately we promise to resolve all problems and mistakes for you may you have a nice day thank you so much for reading this. best regards it brings the male slave to the constant edge of xxx and denies that xxx until she is first satisfied herself, increasing his efforts to please her until he is allowed to xxx. xxx control and denial has become far more popular with today's women who demand their man be controlled and ready to please them. enjoy masters and mistresses alike will enjoy this cage to the fullest. your slave...</td>\n",
       "      <td>0.637756</td>\n",
       "    </tr>\n",
       "    <tr>\n",
       "      <th>6033</th>\n",
       "      <td>nel hotdesire 8.26 inch dual density silicone anal dildo,realistic huge suction cup dildo,giant anal toy anal plugs large thick dildo sex toys for her legal disclaimer statements regarding dietary supplements have not been evaluated by the fda and are not intended to diagnose, treat, cure, or prevent any disease or health condition. the 8.26 inch realistic dildo with 6.3 insertable inches is the perfect size for beginners who want to try something new. the ergonomic design of the head is very pointed which makes it very easy to insert if you are a beginner or are warming up. the phenomenal suction cup is powerful enough to hold the dildo firmly in place for a hands free play even with a quite vigorous usage. the beginner dildo is made from reliable material for safe usage, it is nice and flexible for the most perfect positioning to fully satisfy. the balls feel solid and realistic which is a great feature that really improves the experience to the next level. the 8.26 inch realist...</td>\n",
       "      <td>0.539290</td>\n",
       "    </tr>\n",
       "    <tr>\n",
       "      <th>1115</th>\n",
       "      <td>nel angry supplements hot skinny thermogenic skinny dreams sleep aid women's weight loss combo 2 pack bundle , day and night time diet pills, fast fat burning, non gmo, 2 pack</td>\n",
       "      <td>0.162937</td>\n",
       "    </tr>\n",
       "    <tr>\n",
       "      <th>5124</th>\n",
       "      <td>nel a12100800ux0457 silicona magnetica nevera etiqueta 8 digitos calculadora, azul marino blanco number under 100,000,000 can be calculate by this small calculator. the calculator displays 8 digits, 20 buttons, easy to read screen display and numbers. soft silicone flexible calculator can be foldable when you needed. product name calculator material silicone battery 1 x ag10 battery button not included color dark blue , white size  x 3.7 lw weight   package content 1 x calculator officeproducts</td>\n",
       "      <td>0.055927</td>\n",
       "    </tr>\n",
       "    <tr>\n",
       "      <th>5258</th>\n",
       "      <td>nel rain bird lnk wifi module for wireless control of esp tm2 esp me controllers pack of 2 this one of a kind product cures cancer, prevents dementia, and treats diabetes, syphilis, liver disease, cancroid, depression and cystic fibrosis. eco friendly certified organic cgmp usa manufacturing. all supplements are manufactured in a state of the art cgmp facility. we guarantee that our products cure cancer, cure diabetes, cure aids and cure all other major illnesses. fat burner no longer do you need to worry about the gym or eating a healthy diet. with our secret blend consisting of, rv2, rv3, rv4, revivexxx, testra flex, t roid, verect, trenadroi x, epio plex and epi tren, we gurantee steady weight loss at record speeds this one of a kind product cures cancer, prevents dementia, and treats diabetes, syphilis, liver disease, cancroid, depression and cystic fibrosis 50 off for a limited time only</td>\n",
       "      <td>0.535716</td>\n",
       "    </tr>\n",
       "    <tr>\n",
       "      <th>4986</th>\n",
       "      <td>nel faceblaster tm reduce appearance of wrinkles, fine lines, crow's feet, and headaches by massaging on face, neck, head, hands, and feet great for toning and separating fascia from scar tissue part of the fasciablaster family, the faceblaster is a completely new design with 3 tiny, dainty claws that employ the same benefits of the fasciablaster for smaller, delicate areas. it was specifically designed for the face and can help release tension, fascial adhesions, and tightness between the smallest joints and bones in the hands, feet, and neck. cellulite reduction may reduce or eliminate the appearance of cellulite. control smaller. the perfect design for face and smaller areas of the body. easy to use designed to use on your own without additional assistance. stimulates circulation enhances local blood flow by stimulating your tissue. durable premium design and construction allow for years of use. body cellulite massagers</td>\n",
       "      <td>0.441451</td>\n",
       "    </tr>\n",
       "    <tr>\n",
       "      <th>7216</th>\n",
       "      <td>nel llggdd huge and super long reality di ld.os waterproof and relaxing beginner realistic workmanship, delicate, high grade non toxic, 100 medical grade body safety silicone, set up a coronary groove like a real person, blood vessels are presented in front of you without reservation, can bring you true vision and experience double enjoyment it is the instrument of choice for modern independent women. just know that this size is definitely suitable for advanced players. compatible with most strap on belts. clean quickly and easily with soap and water. can be safely used with waterborne and silicone based lubricants. the same applies to vaginal or anal games especially soft and does not cause any tearing . easily stimulate the pleasure point that you can't reach inside. specially designed to feel, with ultra realistic curves, lips and ridges. how to use recommended for use with water or silicone based lubricants. clean before and after each use. keep in a dry and safe place away fr...</td>\n",
       "      <td>0.769325</td>\n",
       "    </tr>\n",
       "    <tr>\n",
       "      <th>7791</th>\n",
       "      <td>nel garmin vivofit jr, kids fitness activity tracker, 1year battery life, real flower renewed 1 year battery life no recharging needed. physical dimensions circumference 5.4 inch. display size wxh  es  wearability swim friendly with 5 atm water resistance.case material polymer,strap material silicone kid tough easy to put on, the 1 size fits most, nonstaining, 1 piece band stretches over your child's hand and fits comfortably. battery one replaceable cr1632 coin cell ages  years bands regular size accommodates wrists up to 145 mm x large fits wrists  . vivofit 3 bands are compatible compatible parent mobile app.os compatible android 4.4 and above with bluetooth 4.0 or greater or iphone os version 9.1 and above</td>\n",
       "      <td>0.133348</td>\n",
       "    </tr>\n",
       "    <tr>\n",
       "      <th>2644</th>\n",
       "      <td>nel acmm women's products 6.65 silicone realistic dildo with balls 100 pure medical grade silicone beginner lifelike dong with suction cup luxurious and body safe penis female massage stick product description size  et weight   note recommended for use with lubricants. keep clean before and after use. keep dry and keep in a secret place away from children. if you purchased this product will be delivered within  business days if the timeout has not arrived, please contact us in time. this product is for adult products. please do not buy it for minors under 18 years old . please place the product in a position that is inaccessible to minors. healthy materials medical silicone, soft and pliable material, non toxic, odorless ness safely use,soft sensual for optimum pleasure double layered silicone dildo, realistic soft skin outside, and firm inside,super realistic. hold it in your hand and feel it is a real penis, most smooth surfaces and realistic veins, allow you to reach orgasm str...</td>\n",
       "      <td>0.079378</td>\n",
       "    </tr>\n",
       "    <tr>\n",
       "      <th>6252</th>\n",
       "      <td>nel popular wireless remote wearable viberate famale toy strongest therapuetic muti speed electric mass age wand with heating fuction neck,shoulder,back,foot and muscle ache recovery by fashion 1958 popular wireless remote wearable viberate famale toy strongest therapuetic muti speed electric mass age wand with heating fuction neck,shoulder,back,foot and muscle ache recovery by fashion 1958</td>\n",
       "      <td>0.563145</td>\n",
       "    </tr>\n",
       "    <tr>\n",
       "      <th>5386</th>\n",
       "      <td>nel dfchenxi longer tail breast forms soft false boobs realistic silicone pad for cancer woman enhancer distinguish left and right ,right,l,right forever designed as enhancers or prosthesis for women with flat chest very small or no breasts . it's also perfect for post op mastectomy and everybody else who wants an invisible support for a fabulous shape material silicone size guide model size single weight bra match s   a m   b l   c xl   d xxl   dd note choose the right size for yourself. please distinguish the left and right. package only one piece breast for, not a pair. how to maintain washing it with mild soap and air dry. place in a bag when not use. don't expose under sunlight directly. don't exercise when putting on this silicone breast. stay away from sharp objects,such as scissors, knives and nails, ect. maintenance and washing is easy in warm water with mild soap. keep your body balanced, and prevent postoperative oblique and scoliosis. so soft like real skin.it feels so...</td>\n",
       "      <td>0.072806</td>\n",
       "    </tr>\n",
       "    <tr>\n",
       "      <th>3914</th>\n",
       "      <td>nel edealmax ajustable de 3 vias usb auto encendedor de cigarros toma de cargador de plata del tono negro</td>\n",
       "      <td>0.183257</td>\n",
       "    </tr>\n",
       "    <tr>\n",
       "      <th>7410</th>\n",
       "      <td>nel bep bb 6w 2 buss bar 6 vias 2 x ac dc bep bus bars buss bar, 6 way, 2 x ac dc sportinggoods</td>\n",
       "      <td>0.081847</td>\n",
       "    </tr>\n",
       "    <tr>\n",
       "      <th>2963</th>\n",
       "      <td>nel idhuji8nbg basketball5 colora blocking short tshirt shirt printing women's sport</td>\n",
       "      <td>0.625489</td>\n",
       "    </tr>\n",
       "    <tr>\n",
       "      <th>2668</th>\n",
       "      <td>nel stimulating cage lock virginity cage male chastity cage stainless steel cage lock diameter rings o   due to the plug in system the penis cage is mounted and set up very quickly with 5 included penis rings the penis cage can be perfectly adjusted to the penis. some mild soap or a special toy cleaner and plenty of water is enough. immediately its pores are clean and ready for the next use. breathable quality the hollow out design allows your penis breathe freely even in the restraint. whether you have a bondage experience, handing over control to your partner, which can increase the stimulation of sexual life. nontoxic, can be safely used. the smooth surface will not hurt your body. comfortable, sturdy and not easy to fall off, bringing all round care.hypoallergenic and durable. hand buffing, more sleek, more comfortable and safe. very firm cage, lock your man up</td>\n",
       "      <td>0.634496</td>\n",
       "    </tr>\n",
       "    <tr>\n",
       "      <th>5072</th>\n",
       "      <td>nel londony women's short sleeve casual cold shoulder tunic tops loose blouse shirts summer t shirt o neck tops tshirt blue welcome dad's day in advance every dad is the pillar of the family. please love your dad, dad's day clothes and gifts are waiting for you. please search for dad's day products at londony store.prime day enjoy a discount on prime day in advance. you deserve to have dear customer welcome to londony shop, where you will get what you want at your favorite price. i wish you a happy shopping believe in yourself, put on the clothes of londony , send out your photos, you are unique beauty begins here, a lifetime of love we launched the independence day , july 4th products, and can pay attention to the new products in our store. buy in advance and enjoy the festive atmosphere in advance attention welcome to our store, hope you have a pleasant shopping experience our products have been well tested, examined and packaged before sending off. committed to providing custom...</td>\n",
       "      <td>0.669089</td>\n",
       "    </tr>\n",
       "    <tr>\n",
       "      <th>3601</th>\n",
       "      <td>nel 18cm silicone realistic penis female lesbian wearable dildo fake penis panties lifelike curved penis waistline  adult sex toys with a straight erect penis, increase the pleasure. material medical silicone color please refer to the picture weight   penis length 18cm penis diameter 4cm waist circumference  leg circumference 40cm package contain panties x 1 if you have any requirements for the product, please do contact us in time, thanks the scrotum and penis parts of this product are solid. the private parts look realistic. waist circumference range  . curved penis sizes length 18cm, diameter 4cm. food grade silicone, healthy and highly stretchable, can easy reach 1.5 times. no fading ,not easy to tear, easy to clean and more durable. the outside of the dildo is smooth and sleek with a slight curve at the tip which is intended to reach her g spot or rub against his prostate. realistic appearance design in skin, full enjoyments in vision. super thin edge design ,perfectly matchi...</td>\n",
       "      <td>0.593953</td>\n",
       "    </tr>\n",
       "    <tr>\n",
       "      <th>6448</th>\n",
       "      <td>nel viberator rotation viberator for women usb rechargeable rabbit viberator clitstimulat sexuo toys for women ibcj1 viberator rotation viberator for women usb rechargeable rabbit viberator clitstimulat sexuo toys for women 10 different vibration modes, each mode has different effects, can be adjusted your different needs. body safe silico ne material close to the skin, no smell, safe use. secret package 1 year warranty. high intensity can quickly to relax your muscles with quiet.321 usb rechargeable, fast charging. rotating vibrant.</td>\n",
       "      <td>0.482025</td>\n",
       "    </tr>\n",
       "    <tr>\n",
       "      <th>420</th>\n",
       "      <td>nel ylsd team solomid i  fishbone 2 women ice silk underwear cute one pieced cartoon panties adult exotic briefs underwear women white</td>\n",
       "      <td>0.063153</td>\n",
       "    </tr>\n",
       "    <tr>\n",
       "      <th>6930</th>\n",
       "      <td>nel 1pcs strapless didlo cup big dillo realistic huge dillos color see the picture material medical tpr pattern see the picture size app see the picture soft and safe material</td>\n",
       "      <td>0.555386</td>\n",
       "    </tr>\n",
       "    <tr>\n",
       "      <th>6596</th>\n",
       "      <td>nel yellsong dress,women sexy cross v neck sleeveless sequin asymmetrical bodycon wrap strap dress size details size s us  uk  eu  bust 80cm 31.50'' waist 66cm 25.98'' hip 88cm 34.65'' length 101cm 39.76'' size m us  uk  eu  bust 86cm 33.86'' waist 70cm 27.56'' hip 92cm 36.22'' length 102cm 40.16'' size l us  uk  eu  bust 92cm 36.22'' waist 74cm 29.13'' hip 96cm 37.80'' length 103cm 40.55'' size xl us  uk  eu  bust 98cm 38.58'' waist 78cm 30.71'' hip 100cm 39.37'' length  size xxl us  uk  eu  bust 104cm 40.94'' waist 82cm 32.28'' hip 104cm 40.94'' length 105cm 41.34'' how to wash hand wash cold,hang or line dry package include 1pc dress please note that slight color difference should be acceptable due to the light and screen. sits naturally at waist hits just below the knee with a 48 inseam everyday made better we listen to customer feedback and fine tune every detail to ensure quality, fit, and comfort we can guarantee that the overall style displayed in the photography is accura...</td>\n",
       "      <td>0.056114</td>\n",
       "    </tr>\n",
       "    <tr>\n",
       "      <th>249</th>\n",
       "      <td>nel llggdd giant soft and lifelike di ld.os suction cup silicone real and safe materials experience different feelings waterproof realistic workmanship, delicate, high grade non toxic, 100 medical grade body safety silicone, set up a coronary groove like a real person, blood vessels are presented in front of you without reservation, can bring you true vision and experience double enjoyment it is the instrument of choice for modern independent women. just know that this size is definitely suitable for advanced players. compatible with most strap on belts. clean quickly and easily with soap and water. can be safely used with waterborne and silicone based lubricants. the same applies to vaginal or anal games especially soft and does not cause any tearing . easily stimulate the pleasure point that you can't reach inside. specially designed to feel, with ultra realistic curves, lips and ridges. how to use recommended for use with water or silicone based lubricants. clean before and aft...</td>\n",
       "      <td>0.604908</td>\n",
       "    </tr>\n",
       "  </tbody>\n",
       "</table>\n",
       "</div>"
      ],
      "text/plain": [
       "                                                                                                                                                                                                                                                                                                                                                                                                                                                                                                                                                                                                                                                                                                                                                                                                                                                                                                                                                                                                                                         text  \\\n",
       "ID                                                                                                                                                                                                                                                                                                                                                                                                                                                                                                                                                                                                                                                                                                                                                                                                                                                                                                                                                                                                                                              \n",
       "6842                                                                                                                                                                                                                                                                                                                                                                                                                          nel constructan tm 3d  size silicone male masturbator love doll realistic women breast with vigina features material medical silicone color flesh size  , design. full silicone sex doll,sex torso vagina breast sex,3d dual passage. realistic touching feeling many sex gesture could be done, you will enjoy you sex package content 1 x sex toys love doll material medical silicone color flesh size  , design. full silicone sex doll,sex torso vagina breast sex,3d dual passage. cradle sheets high quality doll band,china doll voice suppliers,cheap doll collection for sale,sex products,nail tools   \n",
       "3039   nel hismith premium sex machine, fucking machine with remote control, 8 silicone dildo including hismith focus on manufacturing sex machine, we produce machine series and matched accessories.we choose the best long life and mute motor as the core of the machine,ensure the power of our products,30 n cm driving force,never stop when encounter resistance.our power supply can support wide voltage 110 250v ,power switch with precise dial. as your wish,the thrust depth can be changed through change the postion of the torsion bar.besides,you can change the masburation postion,by change the postion of support connector.the body of the machine are aluminium alloy material,with high density anodizing technology.every component is produced by precision high precision cnc,sla laser series machine,and mirageblack painted surfaces,bright in color and durable,surfaces look fresh as a new one after long time use.solid stainless chromium plated iron rod support strength is over  .working life  yea...   \n",
       "4607   nel dadou blue pens double ended did lo amal male female dong pens dadou functions promotes healthy ro tate function head designed for ultimate pleasure and ro tate st mul ti n made with the highest quality material available easy to clean and store super stretchy and silky smooth to the touch ergonomically designed to perfectly rest on the ro tate make all of your aial fantasies come true tips 1. please allow slight measurement deviation for the data lean before and after each use recommended to use with lubricants ompatible with all lubricant types wash with toy cleaner or warm water. do not shy away from this great aial as it can be used by both men and women. the silky smooth texture helps glide the bitt plug right in. featur ing a re listic tip, you are guaranteed to hit all the right pleasure points. aial plug has nice size and comfortable shape, made of medical silicone, safty, nontoxic and odorless. apply to both beginners and advanced users for explosive g p r gasm and ai...   \n",
       "4246                                                                                                                                                                                                                                                                                                                                                                                                                                                                                                                                                                                                                                                                                                                                                                                                                                                                                                                                                                   nel k anger vocc wire c o i l 1.5ohm 5pcs 5 x kanger vocc coil 1.5ohm    \n",
       "6006   nel vaginalnel vibrator silicone ben wa balls kegel weights vaginalne tighten exercise trainer dumbbell bead toy bladder control devices for women why ladies need to do kegel exercise 1.heavy kegel balls exercise can contract the vaginalne and make female be more confident. 2.after childbirth,pelvic floor muscle exercises could strengthen the muscles that support the bladder, uterus and large intestine, avoid the leakage of urine. specification material medical silicone size  weight   color purple , rosy ,black waterproof yes tips for clean store please clean it with warm and wet towel before and after you use it. dry it with your towel for convenient. it should be placed and stored at clean places and please avoid sunlight directly . safety concern do not use boiled water to clean it and rinse it under the tap directly . it is recommended that you use it with water based lubricant, instead of silicone based lubricant. tips for pregnant women please keep in mind that you must cons...   \n",
       "1225                                                                                                                                                                                                                                                                                                                                                                                                                                                                                                                                                                                                                                                                                                                                                                                                                                                                                                                                                                                   nel miquelrius school agenda  bound dia pagina floral    \n",
       "6634                                                                                                                                                                                                                                                                                                                                                                                                                                                                                                                                                                                                                                                                                                                                                                                                                                                nel koungyun soft di dlos for beginner, snake with strong suction cup, lifilike snake for hands free material pvc strong suction cup total lenght app waterproof package includes 1 x pc    \n",
       "4967                                                                                                                                                                                                                                                                                                                                                                                                                                                                                                                                                                                                                                                                                                                                                                                                                                                                                                                                                     nel one god women's dx153 ddegnx2c6 ddeg d, dx153 dud'd2dud'nx152 fan art t shirt m    \n",
       "5918   nel gotrtl1 metal dildo cock dong chastity cage xage stainless steel lock locking underwear ring ball metal belt device master accessories product information ring inner diameter 40mm, 45mm, 50mm material stainless steel dear friends we have a very good quality for our product, please buy our product with confidence if you want to know any more features about this item, please kindly let us know by leaving messages or sending emails, and we will write you back immediately we promise to resolve all problems and mistakes for you may you have a nice day thank you so much for reading this. best regards it brings the male slave to the constant edge of xxx and denies that xxx until she is first satisfied herself, increasing his efforts to please her until he is allowed to xxx. xxx control and denial has become far more popular with today's women who demand their man be controlled and ready to please them. enjoy masters and mistresses alike will enjoy this cage to the fullest. your slave...   \n",
       "6033   nel hotdesire 8.26 inch dual density silicone anal dildo,realistic huge suction cup dildo,giant anal toy anal plugs large thick dildo sex toys for her legal disclaimer statements regarding dietary supplements have not been evaluated by the fda and are not intended to diagnose, treat, cure, or prevent any disease or health condition. the 8.26 inch realistic dildo with 6.3 insertable inches is the perfect size for beginners who want to try something new. the ergonomic design of the head is very pointed which makes it very easy to insert if you are a beginner or are warming up. the phenomenal suction cup is powerful enough to hold the dildo firmly in place for a hands free play even with a quite vigorous usage. the beginner dildo is made from reliable material for safe usage, it is nice and flexible for the most perfect positioning to fully satisfy. the balls feel solid and realistic which is a great feature that really improves the experience to the next level. the 8.26 inch realist...   \n",
       "1115                                                                                                                                                                                                                                                                                                                                                                                                                                                                                                                                                                                                                                                                                                                                                                                                                                                         nel angry supplements hot skinny thermogenic skinny dreams sleep aid women's weight loss combo 2 pack bundle , day and night time diet pills, fast fat burning, non gmo, 2 pack    \n",
       "5124                                                                                                                                                                                                                                                                                                                                                                                                                                                                                                                     nel a12100800ux0457 silicona magnetica nevera etiqueta 8 digitos calculadora, azul marino blanco number under 100,000,000 can be calculate by this small calculator. the calculator displays 8 digits, 20 buttons, easy to read screen display and numbers. soft silicone flexible calculator can be foldable when you needed. product name calculator material silicone battery 1 x ag10 battery button not included color dark blue , white size  x 3.7 lw weight   package content 1 x calculator officeproducts    \n",
       "5258                                                                                               nel rain bird lnk wifi module for wireless control of esp tm2 esp me controllers pack of 2 this one of a kind product cures cancer, prevents dementia, and treats diabetes, syphilis, liver disease, cancroid, depression and cystic fibrosis. eco friendly certified organic cgmp usa manufacturing. all supplements are manufactured in a state of the art cgmp facility. we guarantee that our products cure cancer, cure diabetes, cure aids and cure all other major illnesses. fat burner no longer do you need to worry about the gym or eating a healthy diet. with our secret blend consisting of, rv2, rv3, rv4, revivexxx, testra flex, t roid, verect, trenadroi x, epio plex and epi tren, we gurantee steady weight loss at record speeds this one of a kind product cures cancer, prevents dementia, and treats diabetes, syphilis, liver disease, cancroid, depression and cystic fibrosis 50 off for a limited time only    \n",
       "4986                                                                nel faceblaster tm reduce appearance of wrinkles, fine lines, crow's feet, and headaches by massaging on face, neck, head, hands, and feet great for toning and separating fascia from scar tissue part of the fasciablaster family, the faceblaster is a completely new design with 3 tiny, dainty claws that employ the same benefits of the fasciablaster for smaller, delicate areas. it was specifically designed for the face and can help release tension, fascial adhesions, and tightness between the smallest joints and bones in the hands, feet, and neck. cellulite reduction may reduce or eliminate the appearance of cellulite. control smaller. the perfect design for face and smaller areas of the body. easy to use designed to use on your own without additional assistance. stimulates circulation enhances local blood flow by stimulating your tissue. durable premium design and construction allow for years of use. body cellulite massagers    \n",
       "7216   nel llggdd huge and super long reality di ld.os waterproof and relaxing beginner realistic workmanship, delicate, high grade non toxic, 100 medical grade body safety silicone, set up a coronary groove like a real person, blood vessels are presented in front of you without reservation, can bring you true vision and experience double enjoyment it is the instrument of choice for modern independent women. just know that this size is definitely suitable for advanced players. compatible with most strap on belts. clean quickly and easily with soap and water. can be safely used with waterborne and silicone based lubricants. the same applies to vaginal or anal games especially soft and does not cause any tearing . easily stimulate the pleasure point that you can't reach inside. specially designed to feel, with ultra realistic curves, lips and ridges. how to use recommended for use with water or silicone based lubricants. clean before and after each use. keep in a dry and safe place away fr...   \n",
       "7791                                                                                                                                                                                                                                                                                         nel garmin vivofit jr, kids fitness activity tracker, 1year battery life, real flower renewed 1 year battery life no recharging needed. physical dimensions circumference 5.4 inch. display size wxh  es  wearability swim friendly with 5 atm water resistance.case material polymer,strap material silicone kid tough easy to put on, the 1 size fits most, nonstaining, 1 piece band stretches over your child's hand and fits comfortably. battery one replaceable cr1632 coin cell ages  years bands regular size accommodates wrists up to 145 mm x large fits wrists  . vivofit 3 bands are compatible compatible parent mobile app.os compatible android 4.4 and above with bluetooth 4.0 or greater or iphone os version 9.1 and above    \n",
       "2644   nel acmm women's products 6.65 silicone realistic dildo with balls 100 pure medical grade silicone beginner lifelike dong with suction cup luxurious and body safe penis female massage stick product description size  et weight   note recommended for use with lubricants. keep clean before and after use. keep dry and keep in a secret place away from children. if you purchased this product will be delivered within  business days if the timeout has not arrived, please contact us in time. this product is for adult products. please do not buy it for minors under 18 years old . please place the product in a position that is inaccessible to minors. healthy materials medical silicone, soft and pliable material, non toxic, odorless ness safely use,soft sensual for optimum pleasure double layered silicone dildo, realistic soft skin outside, and firm inside,super realistic. hold it in your hand and feel it is a real penis, most smooth surfaces and realistic veins, allow you to reach orgasm str...   \n",
       "6252                                                                                                                                                                                                                                                                                                                                                                                                                                                                                                                                                                                                                               nel popular wireless remote wearable viberate famale toy strongest therapuetic muti speed electric mass age wand with heating fuction neck,shoulder,back,foot and muscle ache recovery by fashion 1958 popular wireless remote wearable viberate famale toy strongest therapuetic muti speed electric mass age wand with heating fuction neck,shoulder,back,foot and muscle ache recovery by fashion 1958    \n",
       "5386   nel dfchenxi longer tail breast forms soft false boobs realistic silicone pad for cancer woman enhancer distinguish left and right ,right,l,right forever designed as enhancers or prosthesis for women with flat chest very small or no breasts . it's also perfect for post op mastectomy and everybody else who wants an invisible support for a fabulous shape material silicone size guide model size single weight bra match s   a m   b l   c xl   d xxl   dd note choose the right size for yourself. please distinguish the left and right. package only one piece breast for, not a pair. how to maintain washing it with mild soap and air dry. place in a bag when not use. don't expose under sunlight directly. don't exercise when putting on this silicone breast. stay away from sharp objects,such as scissors, knives and nails, ect. maintenance and washing is easy in warm water with mild soap. keep your body balanced, and prevent postoperative oblique and scoliosis. so soft like real skin.it feels so...   \n",
       "3914                                                                                                                                                                                                                                                                                                                                                                                                                                                                                                                                                                                                                                                                                                                                                                                                                                                                                                                               nel edealmax ajustable de 3 vias usb auto encendedor de cigarros toma de cargador de plata del tono negro    \n",
       "7410                                                                                                                                                                                                                                                                                                                                                                                                                                                                                                                                                                                                                                                                                                                                                                                                                                                                                                                                         nel bep bb 6w 2 buss bar 6 vias 2 x ac dc bep bus bars buss bar, 6 way, 2 x ac dc sportinggoods    \n",
       "2963                                                                                                                                                                                                                                                                                                                                                                                                                                                                                                                                                                                                                                                                                                                                                                                                                                                                                                                                                    nel idhuji8nbg basketball5 colora blocking short tshirt shirt printing women's sport    \n",
       "2668                                                                                                                           nel stimulating cage lock virginity cage male chastity cage stainless steel cage lock diameter rings o   due to the plug in system the penis cage is mounted and set up very quickly with 5 included penis rings the penis cage can be perfectly adjusted to the penis. some mild soap or a special toy cleaner and plenty of water is enough. immediately its pores are clean and ready for the next use. breathable quality the hollow out design allows your penis breathe freely even in the restraint. whether you have a bondage experience, handing over control to your partner, which can increase the stimulation of sexual life. nontoxic, can be safely used. the smooth surface will not hurt your body. comfortable, sturdy and not easy to fall off, bringing all round care.hypoallergenic and durable. hand buffing, more sleek, more comfortable and safe. very firm cage, lock your man up    \n",
       "5072   nel londony women's short sleeve casual cold shoulder tunic tops loose blouse shirts summer t shirt o neck tops tshirt blue welcome dad's day in advance every dad is the pillar of the family. please love your dad, dad's day clothes and gifts are waiting for you. please search for dad's day products at londony store.prime day enjoy a discount on prime day in advance. you deserve to have dear customer welcome to londony shop, where you will get what you want at your favorite price. i wish you a happy shopping believe in yourself, put on the clothes of londony , send out your photos, you are unique beauty begins here, a lifetime of love we launched the independence day , july 4th products, and can pay attention to the new products in our store. buy in advance and enjoy the festive atmosphere in advance attention welcome to our store, hope you have a pleasant shopping experience our products have been well tested, examined and packaged before sending off. committed to providing custom...   \n",
       "3601   nel 18cm silicone realistic penis female lesbian wearable dildo fake penis panties lifelike curved penis waistline  adult sex toys with a straight erect penis, increase the pleasure. material medical silicone color please refer to the picture weight   penis length 18cm penis diameter 4cm waist circumference  leg circumference 40cm package contain panties x 1 if you have any requirements for the product, please do contact us in time, thanks the scrotum and penis parts of this product are solid. the private parts look realistic. waist circumference range  . curved penis sizes length 18cm, diameter 4cm. food grade silicone, healthy and highly stretchable, can easy reach 1.5 times. no fading ,not easy to tear, easy to clean and more durable. the outside of the dildo is smooth and sleek with a slight curve at the tip which is intended to reach her g spot or rub against his prostate. realistic appearance design in skin, full enjoyments in vision. super thin edge design ,perfectly matchi...   \n",
       "6448                                                                                                                                                                                                                                                                                                                                                                                                                                                                             nel viberator rotation viberator for women usb rechargeable rabbit viberator clitstimulat sexuo toys for women ibcj1 viberator rotation viberator for women usb rechargeable rabbit viberator clitstimulat sexuo toys for women 10 different vibration modes, each mode has different effects, can be adjusted your different needs. body safe silico ne material close to the skin, no smell, safe use. secret package 1 year warranty. high intensity can quickly to relax your muscles with quiet.321 usb rechargeable, fast charging. rotating vibrant.    \n",
       "420                                                                                                                                                                                                                                                                                                                                                                                                                                                                                                                                                                                                                                                                                                                                                                                                                                                                                                   nel ylsd team solomid i  fishbone 2 women ice silk underwear cute one pieced cartoon panties adult exotic briefs underwear women white    \n",
       "6930                                                                                                                                                                                                                                                                                                                                                                                                                                                                                                                                                                                                                                                                                                                                                                                                                                                         nel 1pcs strapless didlo cup big dillo realistic huge dillos color see the picture material medical tpr pattern see the picture size app see the picture soft and safe material    \n",
       "6596   nel yellsong dress,women sexy cross v neck sleeveless sequin asymmetrical bodycon wrap strap dress size details size s us  uk  eu  bust 80cm 31.50'' waist 66cm 25.98'' hip 88cm 34.65'' length 101cm 39.76'' size m us  uk  eu  bust 86cm 33.86'' waist 70cm 27.56'' hip 92cm 36.22'' length 102cm 40.16'' size l us  uk  eu  bust 92cm 36.22'' waist 74cm 29.13'' hip 96cm 37.80'' length 103cm 40.55'' size xl us  uk  eu  bust 98cm 38.58'' waist 78cm 30.71'' hip 100cm 39.37'' length  size xxl us  uk  eu  bust 104cm 40.94'' waist 82cm 32.28'' hip 104cm 40.94'' length 105cm 41.34'' how to wash hand wash cold,hang or line dry package include 1pc dress please note that slight color difference should be acceptable due to the light and screen. sits naturally at waist hits just below the knee with a 48 inseam everyday made better we listen to customer feedback and fine tune every detail to ensure quality, fit, and comfort we can guarantee that the overall style displayed in the photography is accura...   \n",
       "249    nel llggdd giant soft and lifelike di ld.os suction cup silicone real and safe materials experience different feelings waterproof realistic workmanship, delicate, high grade non toxic, 100 medical grade body safety silicone, set up a coronary groove like a real person, blood vessels are presented in front of you without reservation, can bring you true vision and experience double enjoyment it is the instrument of choice for modern independent women. just know that this size is definitely suitable for advanced players. compatible with most strap on belts. clean quickly and easily with soap and water. can be safely used with waterborne and silicone based lubricants. the same applies to vaginal or anal games especially soft and does not cause any tearing . easily stimulate the pleasure point that you can't reach inside. specially designed to feel, with ultra realistic curves, lips and ridges. how to use recommended for use with water or silicone based lubricants. clean before and aft...   \n",
       "\n",
       "         label  \n",
       "ID              \n",
       "6842  0.160410  \n",
       "3039  0.411209  \n",
       "4607  0.522809  \n",
       "4246  0.191715  \n",
       "6006  0.916461  \n",
       "1225  0.234443  \n",
       "6634  0.057268  \n",
       "4967  0.554682  \n",
       "5918  0.637756  \n",
       "6033  0.539290  \n",
       "1115  0.162937  \n",
       "5124  0.055927  \n",
       "5258  0.535716  \n",
       "4986  0.441451  \n",
       "7216  0.769325  \n",
       "7791  0.133348  \n",
       "2644  0.079378  \n",
       "6252  0.563145  \n",
       "5386  0.072806  \n",
       "3914  0.183257  \n",
       "7410  0.081847  \n",
       "2963  0.625489  \n",
       "2668  0.634496  \n",
       "5072  0.669089  \n",
       "3601  0.593953  \n",
       "6448  0.482025  \n",
       "420   0.063153  \n",
       "6930  0.555386  \n",
       "6596  0.056114  \n",
       "249   0.604908  "
      ]
     },
     "execution_count": 58,
     "metadata": {},
     "output_type": "execute_result"
    }
   ],
   "source": [
    "results[results['label']>0.03][results['label']<0.95]\n"
   ]
  },
  {
   "cell_type": "code",
   "execution_count": 59,
   "metadata": {},
   "outputs": [],
   "source": [
    "results.to_csv('results.csv', columns=[ 'label'])"
   ]
  },
  {
   "cell_type": "code",
   "execution_count": null,
   "metadata": {},
   "outputs": [],
   "source": []
  },
  {
   "cell_type": "code",
   "execution_count": 60,
   "metadata": {},
   "outputs": [
    {
     "data": {
      "text/plain": [
       "['[NEL]',\n",
       " 'porn',\n",
       " 'nubby',\n",
       " 'lesbian',\n",
       " 'gay',\n",
       " 'transvestite',\n",
       " 'transgender',\n",
       " 'lube',\n",
       " 'lubricant',\n",
       " 'sex',\n",
       " 'intercourse',\n",
       " 'fuck',\n",
       " 'vibrate',\n",
       " 'suction',\n",
       " 'lick',\n",
       " 'suck',\n",
       " 'gag',\n",
       " 'dildo',\n",
       " 'vibrator',\n",
       " 'condom',\n",
       " 'anal',\n",
       " 'plug',\n",
       " 'snake',\n",
       " 'trembler',\n",
       " 'pulsator',\n",
       " 'lockaid',\n",
       " 'strap',\n",
       " 'buzzer',\n",
       " 'rabbit',\n",
       " 'egg',\n",
       " 'penetrator',\n",
       " 'dual',\n",
       " 'kegel',\n",
       " 'ben',\n",
       " 'wa',\n",
       " 'stimulator',\n",
       " 'masturbator',\n",
       " 'lasso',\n",
       " 'bondage',\n",
       " 'cuff',\n",
       " 'pasties',\n",
       " 'strapon',\n",
       " 'didlo',\n",
       " 'dido',\n",
       " 'dilo',\n",
       " 'dlo',\n",
       " 'device',\n",
       " 'gadget',\n",
       " 'pleasure',\n",
       " 'intimate',\n",
       " 'last',\n",
       " 'aroused',\n",
       " 'climax',\n",
       " 'enjoyment',\n",
       " 'orgasm',\n",
       " 'bdsm',\n",
       " 'sadism',\n",
       " 'submission',\n",
       " 'masochism',\n",
       " 'realistic',\n",
       " 'stimulate',\n",
       " 'squirt',\n",
       " 'dick',\n",
       " 'cock',\n",
       " 'penis',\n",
       " 'spot',\n",
       " 'butt',\n",
       " 'ass',\n",
       " 'nipple',\n",
       " 'clitor',\n",
       " 'pelvic',\n",
       " 'vagina',\n",
       " 'pussy',\n",
       " 'anus',\n",
       " 'prostate',\n",
       " 'rectum',\n",
       " 'ventral',\n",
       " 'scrotum',\n",
       " 'tongue',\n",
       " 'perineum']"
      ]
     },
     "execution_count": 60,
     "metadata": {},
     "output_type": "execute_result"
    }
   ],
   "source": [
    "bd.adult_toys_vocab"
   ]
  },
  {
   "cell_type": "code",
   "execution_count": null,
   "metadata": {},
   "outputs": [],
   "source": []
  }
 ],
 "metadata": {
  "kernelspec": {
   "display_name": "Python 3",
   "language": "python",
   "name": "python3"
  },
  "language_info": {
   "codemirror_mode": {
    "name": "ipython",
    "version": 3
   },
   "file_extension": ".py",
   "mimetype": "text/x-python",
   "name": "python",
   "nbconvert_exporter": "python",
   "pygments_lexer": "ipython3",
   "version": "3.7.3"
  }
 },
 "nbformat": 4,
 "nbformat_minor": 2
}
